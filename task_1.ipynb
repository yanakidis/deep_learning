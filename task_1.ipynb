{
  "cells": [
    {
      "cell_type": "markdown",
      "metadata": {
        "id": "fT84uWqf3otc"
      },
      "source": [
        "# 1 практическое задание. Полносвязная нейронная сеть на `numpy`.\n",
        "\n",
        "## Практикум на ЭВМ для 317 группы, весна 2021\n",
        "\n",
        "#### Фамилия, имя: Янаков Дмитрий\n",
        "\n",
        "Дата выдачи: <span style=\"color:red\">__17 февраля 03:00__</span>.\n",
        "\n",
        "Мягкий дедлайн: <span style=\"color:red\">__10 марта 23:59__</span>.\n",
        "\n",
        "Стоимость: __10 баллов__ (основная часть заданий) + __3 балла__ (дополнительные задания).\n",
        "\n",
        "<span style=\"color:red\">__В ноутбуке все клетки должны выполняться без ошибок при последовательном их выполнении.__</span>"
      ]
    },
    {
      "cell_type": "code",
      "execution_count": 1,
      "metadata": {
        "ExecuteTime": {
          "end_time": "2021-03-03T14:44:48.909044Z",
          "start_time": "2021-03-03T14:44:48.683650Z"
        },
        "id": "tcuAjjBR3otf"
      },
      "outputs": [],
      "source": [
        "import numpy as np"
      ]
    },
    {
      "cell_type": "markdown",
      "metadata": {
        "id": "Mex4gPJ33otg"
      },
      "source": [
        "## Теоретическая часть (3 балла)"
      ]
    },
    {
      "cell_type": "markdown",
      "metadata": {
        "id": "psumAEtE3oth"
      },
      "source": [
        "В этом блоке вам нужно решить 3 задания."
      ]
    },
    {
      "cell_type": "markdown",
      "metadata": {
        "id": "BKE2Tgua3oth"
      },
      "source": [
        "### Задание 1. Градиенты для слоя Batch normalization (1.5 балла)\n",
        "\n",
        "Рассмотрим слой Batch normalization. Пусть на вход этого слоя был подан батч из $n$ объектов, при этом у всех объектов по 1 признаку. Представим вход BN слоя в виде $X \\in \\mathbb{R}^{n \\times 1}$.\n",
        "\n",
        "Тогда в этом слое производятся следующие вычисления:\n",
        "\n",
        "$$ \\mu = \\frac1n \\sum_{i=1}^{n} X_i $$\n",
        "\n",
        "$$ \\sigma^2 = \\frac1n \\sum_{i=1}^{n} \\left( X_i - \\mu \\right) ^2 $$\n",
        "\n",
        "$$ \\tilde{y_i} = \\frac{X_i - \\mu}{\\sqrt{\\sigma^2 + \\varepsilon}} $$\n",
        "\n",
        "$$ y_i = \\gamma \\tilde{y_i} + \\delta $$\n",
        "\n",
        "Выходом BN слоя является $y_i$, а $\\gamma$ и $\\delta$ в нем — параметры, которые подбираются во время обучения вместе с другими параметрами нейронной сети (наряду, например, с весами линейного слоя).\n",
        "\n",
        "Рассмотрим нейронную сеть, в которой есть BN слой. Предположим, что вычисления в нейронной завершаются подсчетом функции потерь $\\mathcal{L}$. Пусть мы выполнили прямой проход по нейронной сети и сейчас делаем обратный проход с помощью метода обратного распространения ошибки. Пусть BN слою пришел градиент функции потерь по выходу BN слоя ($\\nabla_{y} \\mathcal{L}$).\n",
        "\n",
        "В этом задании вам нужно записать вычисление градиента функции потерь по параметрам слоя BN $\\gamma$ и $\\delta$ ($\\nabla_{\\gamma} \\mathcal{L}$, $\\nabla_{\\delta} \\mathcal{L}$) через $\\nabla_{y} \\mathcal{L}$, а также вам нужно записать вычисление градиента функции потерь по входу слоя BN $X$ ($\\nabla_{X} \\mathcal{L}$) через $\\nabla_{y} \\mathcal{L}$.\n",
        "\n",
        "Хочу заметить, в данном задании мы рассматриваем объекты всего с 1 признаком, чтобы упростить выкладки."
      ]
    },
    {
      "cell_type": "markdown",
      "metadata": {
        "id": "Xb6n_wC_3oti"
      },
      "source": [
        "__Ваше решение:__\n",
        "\n",
        "Введём обозначения: $y = \\left(y_1,y_2,...,y_n\\right)^T, \\tilde{y} = \\left(\\tilde{y_1},\\tilde{y_2},...,\\tilde{y_n}\\right)^T, I = \\left(1,1,...,1\\right)^T   \\in \\mathbb{R}^{n \\times 1}$\n",
        "\n",
        "Заметим, что \n",
        "$$ \\mu = \\frac{1}{n}X^TI $$ \n",
        "\n",
        "$$\\sigma^2 = \\frac{1}{n}\\left(X - I\\mu)^T(X-I\\mu\\right) $$\n",
        "\n",
        "$$\\tilde{y} = \\frac{X -  I\\mu}{\\sqrt{\\sigma^2 + \\varepsilon}} $$\n",
        "\n",
        "$$y = \\gamma\\tilde{y} + \\delta I $$\n",
        "\n",
        "Тогда, $d\\mathcal{L} = \\nabla_y \\mathcal{L}^T dy = \\nabla_y \\mathcal{L}^T \\left(\\tilde{y}d\\gamma + \\gamma d\\tilde{y} + Id\\delta\\right)$\n",
        "\n",
        "Учитывая, что $ d\\mathcal{L} = \\nabla_\\gamma \\mathcal{L}^T d\\gamma +  \\nabla_\\delta \\mathcal{L}^T d\\delta + \\nabla_X \\mathcal{L}^T dX $ , получаем\n",
        "\n",
        "$$ \\nabla_\\delta \\mathcal{L} = I^T \\nabla_y \\mathcal{L}$$\n",
        "\n",
        "$$ \\nabla_\\gamma \\mathcal{L} = \\tilde{y}^T \\nabla_y \\mathcal{L} $$\n",
        "\n",
        "Для того, чтобы найти $\\nabla_X \\mathcal{L}$ нужно найти $d\\tilde{y}$.\n",
        "Предварительно посчитаем $d\\mu$ и $d\\sigma^2$.\n",
        "\n",
        "$ d\\mu = \\frac{1}{n}d\\left(X^T\\right)I = \\frac{1}{n} \\underbrace{\\left(dX\\right)^TI}_{число} = \\frac{1}{n}I^T dX $\n",
        "\n",
        "$ d\\sigma^2 = \\frac{1}{n}\\left(\\underbrace{d\\left(X-I\\mu\\right)^T \\left(X-I\\mu\\right)}_{число} + \\left(X-I\\mu\\right)^Td\\left(X-I\\mu\\right)\\right) = \\frac{2}{n}\\left(X-I\\mu\\right)^Td\\left(X-I\\mu\\right) = \\frac{2}{n}\\left(X-I\\mu\\right)^T\\left(dX - \\\\ - Id\\mu\\right)= \\frac{2}{n}\\left(X-I\\mu\\right)^T\\left(dX-\\frac{1}{n}II^TdX\\right) = \\frac{2}{n}\\left(X-I\\mu\\right)^T\\left(E-\\frac{1}{n}II^T\\right)dX $\n",
        "\n",
        "Теперь найдём $d\\tilde{y}$:\n",
        "\n",
        "$$ d\\tilde{y} = \\frac{d\\left(X-I\\mu\\right)\\sqrt{\\sigma^2 + \\varepsilon} - \\left(X-I\\mu\\right)d\\sqrt{\\sigma^2+\\varepsilon}}{\\sigma^2 + \\varepsilon} = \\\\ = \\frac{\\left(dX-Id\\mu\\right)\\sqrt{\\sigma^2 + \\varepsilon} - \\left(X-I\\mu\\right)\\frac{1}{2\\sqrt{\\sigma^2 + \\varepsilon}}d\\left(\\sigma^2 + \\varepsilon\\right)}{\\sigma^2 + \\varepsilon} = \\\\ = \\frac{\\left[\\left(E-\\frac{1}{n}II^T\\right)\\sqrt{\\sigma^2 + \\varepsilon} - \\frac{2}{n}\\frac{1}{2\\sqrt{\\sigma^2 + \\varepsilon}}\\left(X-I\\mu\\right)\\left(X-I\\mu\\right)^T\\left(E-\\frac{1}{n}II^T\\right)\\right]dX}{\\sigma^2 + \\varepsilon} = \\\\ = \\frac{\\left[\\left(\\sigma^2 + \\varepsilon\\right)E - \\frac{1}{n}\\left(X-I\\mu\\right)\\left(X-I\\mu\\right)^T\\right]\\left(E-\\frac{1}{n}II^T\\right)}{\\left(\\sigma^2 + \\varepsilon\\right)^{3/2}}dX, $$\n",
        "\n",
        "где $E$ - единичная матрица порядка n.\n",
        "\n",
        "Следовательно,\n",
        "\n",
        "$$ \\nabla_X \\mathcal{L} = \\gamma\\left(E-\\frac{1}{n}II^T\\right)\\left(\\frac{E}{\\sqrt{\\sigma^2 + \\varepsilon}} - \\frac{\\left(X-I\\mu\\right)\\left(X-I\\mu\\right)^T}{n\\left(\\sigma^2 + \\varepsilon\\right)^{3/2}}\\right)\\nabla_y \\mathcal{L}$$"
      ]
    },
    {
      "cell_type": "markdown",
      "metadata": {
        "id": "EibyVP9Y3oti"
      },
      "source": [
        "### Задание 2. Вывод инициализации весов линейного слоя при использовании ReLU в качестве функции активации (1 балл)\n",
        "\n",
        "Рассмотрим полносвязную нейронную сеть с функцией активации $g(y)$. Пусть сеть состоит из $L$ слоев и размер входа слоя $l$ равен $n_l\\ \\ (l = \\overline{1, L})$.\n",
        "\n",
        "Обозначим за $x^l \\in \\mathbb{R}^{n_{l}}$ вход слоя $l$, за $y^l \\in \\mathbb{R}^{n_{l+1}}$ — выход слоя $l$, за $W^l \\in \\mathbb{R}^{n_{l+1} \\times n_{l}}$ — веса слоя $l$, за $b^l \\in \\mathbb{R}^{n_{l+1}}$ — вектор сдвига слоя $l$.\n",
        "\n",
        "Тогда\n",
        "$$y^l = W^l x^l + b^l,$$\n",
        "$$x^{l+1} = g(y^l).$$\n",
        "\n",
        "На паре вы выводили хорошую инициализацию для линейного слоя в случае, когда в качестве функции активации $g(y)$ в нейронной сети используется гиперболический тангенс $g(y) = \\tanh(y)$. Сейчас вам нужно сделать подобный вывод для случая, когда в сети в качестве функций активации используется $g(y) = ReLU(y) = \\max(0, y)$.\n",
        "\n",
        "Сделаем следующие предположения насчет того, как распределены веса $W^l$, вектор сдвига $b^l$, входной вектор $x^l$, выходной вектор $y^l$ линейного слоя и градиенты функции потерь $\\frac{\\partial L}{\\partial y^{l}}$ $(l = \\overline{1, L}$):\n",
        "\n",
        "1. Все компоненты в $W^l$ распределены одинаково и независимо друг от друга;\n",
        "2. Все компоненты в $y^l$ распределены одинаково и независимо друг от друга;\n",
        "3. Все компоненты в $x^l$ распределены одинаково и независимо друг от друга;\n",
        "4. Все компоненты в $\\frac{\\partial L}{\\partial y^{l}}$ распределены одинаково и независимо друг от друга;\n",
        "5. Все компоненты в $W^l$ и все компоненты в $x^l$ независимы друг от друга;\n",
        "6. Все компоненты в $W^l$ имеют четную плотность распределения (то есть симметричную относительно нуля: $p_{W^l}(-x) = p_{W^l}(x)$);\n",
        "7. Все компоненты в $W^l$ имеют конечное матожидание;\n",
        "8. Вектор $b^l$ инициализирован нулями.\n",
        "\n",
        "\n",
        "Подсказки:\n",
        "1. Из пунктов 6 и 7 следует, что все компоненты в $W^l$ имеют нулевое среднее ($\\mathbb{E} W^l_{ij} = 0\\ \\ \\forall i = \\overline{1, n_{l+1}}, j = \\overline{1, n_{l}}$) (докажите);\n",
        "2. Из пунктов 6 и 7 следует, что все компоненты в $y^l$ имеют нулевое среднее и четную плотность распределения (докажите)."
      ]
    },
    {
      "cell_type": "markdown",
      "metadata": {
        "id": "rF1xJsce3otj"
      },
      "source": [
        "__Ваше решение:__\n",
        "\n",
        "1. Докажем, что все компоненты в $W^l$ имеют нулевое среднее:\n",
        "\n",
        "$$ \\mathbb{E} W^l_{ij} = \\left \\{  1\\right \\} =\\int_{-\\infty}^{+\\infty} xp_{W_{ij}^l}(x) = \\left \\{6,7\\right \\} = 0 \\quad \\forall i = \\overline{1, n_{l+1}}, j = \\overline{1, n_{l}}$$\n",
        "\n",
        "2. Докажем, что все компоненты в $y^l$ имеют нулевое среднее:\n",
        "\n",
        "$$ \\mathbb{E} y^l_{i} = \\mathbb{E} \\sum_{j=1}^{n_l}W_{ij} x_j^l= \\left \\{  5\\right \\} =\\sum_{j=1}^{n_l}\\underbrace{\\mathbb{E}W_{ij}}_{0} \\mathbb{E}x_j^l=0 \\quad \\forall i = \\overline{1, n_{l+1}}$$\n",
        "\n",
        "3. Докажем, что все компоненты в $y^l$ имеют четную плотность распределения. Для этого воспользуемся следующей <a href=https://en.wikipedia.org/wiki/Distribution_of_the_product_of_two_random_variables> формулой плотности распределения вероятности</a> для произведения $(Z = XY)$ двух независимых случайных величин:\n",
        "<center><img src=\"https://wikimedia.org/api/rest_v1/media/math/render/svg/018a567baba6a2dbc2e757a5c553e28917b14d54\" style=\"width: 500px\"></center>\n",
        "\n",
        "$$ p_{y^l}(z) = \\int_{-\\infty}^{+\\infty}p_{W^l}\\left(\\frac{z}{t}\\right)p_{x^l}\\left(t\\right)\\frac{1}{|t|}dt = \\left \\{  6\\right \\}= \\int_{-\\infty}^{+\\infty}p_{W^l}\\left(-\\frac{z}{t}\\right)p_{x^l}\\left(t\\right)\\frac{1}{|t|}dt = p_{y^l}(-z)$$\n",
        "\n",
        "####<center>Прямой проход.</center>\n",
        "$$\\mathbb{D}y^{l} = \\mathbb{D}y^l_i= \\mathbb{D} \\left(\\sum_{j=1}^{n_l} W_{ij}^l x_j^l\\right) = \\sum_{j=1}^{n_l} \\mathbb{D} \\left(W_{ij}^l x_j^l\\right) = \\sum_{j=1}^{n_l}\\left(\\mathbb{D} W_{ij}^l \\mathbb{D} x_j^l + \\mathbb{D} W_{ij}^l \\left(\\mathbb{E} x_j^l\\right)^2+ \\left( \\underbrace{\\mathbb{E}W_{ij}^l}_{0}\\right)^2 \\mathbb{D} x_j^l\\right) = \\\\ = \\sum_{j=1}^{n_l}\\left(\\mathbb{D} W_{ij}^l \\left(\\underbrace{\\mathbb{D} x_j^l + \\left(\\mathbb{E} x_j^l\\right)^2}_{\\mathbb{E} \\left(x_j^l\\right)^2}\\right)\\right) = n_l\\mathbb{D} W^l\\mathbb{E} \\left(x^l\\right)^2 $$\n",
        "\n",
        "Проведём некоторые дополнительные вычисления:\n",
        "$$\\mathbb{E} \\left(x^l\\right)^2 = \\mathbb{E} \\left(g^2\\left(y^{l-1}\\right)\\right)^2 = \\int_{-\\infty}^{+\\infty} g^2\\left(t\\right)p_{y^{l-1}}\\left(t\\right)dt = \\int_{0}^{+\\infty} t^2p_{y^{l-1}}\\left(t\\right)dt + \\int_{-\\infty}^{0} 0\\cdot p_{y^{l-1}}\\left(t\\right)dt = \\int_{0}^{+\\infty} t^2p_{y^{l-1}}\\left(t\\right)dt = \\\\ = \\left\\{p_{y^{l-1}}\\left(t\\right) = p_{y^{l-1}}\\left(-t\\right) \\right\\}  =\\int_{0}^{+\\infty} t^2p_{y^{l-1}}\\left(-t\\right)dt = \\left\\{t = -u \\right\\} =\\int_{-\\infty}^{0} u^2p_{y^{l-1}}\\left(u\\right)du $$\n",
        "\n",
        "$$\\Rightarrow \\begin{cases}\n",
        "   \\mathbb{E} \\left(g^2\\left(y^{l-1}\\right)\\right)^2 = \\int_{0}^{+\\infty} t^2p_{y^{l-1}}\\left(t\\right)dt\\\\\n",
        "   \\mathbb{E} \\left(g^2\\left(y^{l-1}\\right)\\right)^2 = \\int_{-\\infty}^{0} t^2p_{y^{l-1}}\\left(t\\right)dt\n",
        " \\end{cases} $$\n",
        "\n",
        "Сложим строки системы:\n",
        "\n",
        "$$2\\mathbb{E} \\left(g^2\\left(y^{l-1}\\right)\\right)^2 = \\int_{-\\infty}^{+\\infty} t^2p_{y^{l-1}}\\left(t\\right)dt = \\mathbb{E} \\left(y^{l-1}\\right)^2 = \\mathbb{E} \\left(y^{l-1}\\right)^2 - \\left(\\underbrace{\\mathbb{E} y^{l-1}}_{0}\\right)^2 = \\mathbb{D}y^{l-1}$$\n",
        "\n",
        "$$\\Rightarrow \\mathbb{E} \\left(x^l\\right)^2 = \\frac{1}{2}\\mathbb{D}y^{l-1}$$\n",
        "\n",
        "Тогда получаем: $$\\mathbb{D}y^{l} = \\frac{n_l}{2}\\mathbb{D} W^l\\mathbb{D}y^{l-1} $$\n",
        "\n",
        "Мы хотим, чтобы слой сохранял дисперсию, то есть:\n",
        "$$\\mathbb{D}y^{l} = \\mathbb{D}y^{l-1} $$\n",
        "\n",
        "Это будет тогда и только тогда, когда:\n",
        "$$\\mathbb{D} W^l = \\frac{2}{n_l} \\quad (1)$$\n",
        "\n",
        "####<center>Обратный проход.</center>\n",
        "Обозначим: $$ \\delta_i^l = \\frac{\\partial \\mathcal{L}}{\\partial{y_i^l}} $$\n",
        "\n",
        "Аналогично выкладкам семинара:\n",
        "$$ \\delta^l = \\delta_i^l =\n",
        " \\sum_{k=1}^{n_{l+2}} \\delta_k^{l+1} W_{ki}^{l+1} g^{\\prime}(y_i^l)=\n",
        "\\left[y_i^l>0\\right]\\sum_{k=1}^{n_{l+2}} \\delta_k^{l+1} W_{ki}^{l+1} $$\n",
        "\n",
        "Мат. ожидание:\n",
        "$$ \\mathbb{E}\\delta^l = \\mathbb{E}\\delta_i^l = \\mathbb{E}\\left[y_i^l>0\\right]\n",
        "\\sum_{k=1}^{n_{l+2}} \\mathbb{E}\\delta_k^{l+1} \\underbrace{\\mathbb{E}W_{ki}^{l+1}}_{0} = 0 $$\n",
        "\n",
        "Дисперсия:\n",
        "$$ \\mathbb{D}\\delta^l = \\mathbb{D}\\delta_i^l = \\mathbb{D}\\left(\\left[y_i^l>0\\right]\\sum_{k=1}^{n_{l+2}} \\delta_k^{l+1} W_{ki}^{l+1}\\right) =  \\mathbb{D}\\left[y_i^l>0\\right]\\mathbb{D}\\left(\\sum_{k=1}^{n_{l+2}} \\delta_k^{l+1} W_{ki}^{l+1}\\right) +  \\left(\\mathbb{E}\\left[y_i^l>0\\right]\\right)^2\\mathbb{D}\\left(\\sum_{k=1}^{n_{l+2}} \\delta_k^{l+1} W_{ki}^{l+1}\\right) + \\\\ + \\left(\\mathbb{E}\\sum_{k=1}^{n_{l+2}} \\delta_k^{l+1} \\underbrace{\\mathbb{E}W_{ki}^{l+1}}_{0}\\right)^2\\mathbb{D}\\left[y_i^l>0\\right] $$\n",
        "\n",
        "Проведём некоторые дополнительные вычисления:\n",
        "$$\\mathbb{E}\\left[y_i^l>0\\right] = \\mathbb{P}\\left(y_i^l>0\\right) = \\int_{0}^{+\\infty}p_{y_i^{l}}\\left(t\\right)dt = \\int_{0}^{+\\infty}p_{y_i^{l}}\\left(-t\\right)dt = \\int_{-\\infty}^{0}p_{y_i^{l}}\\left(t\\right)dt$$\n",
        "\n",
        "$$\\Rightarrow 2\\mathbb{E}\\left[y_i^l>0\\right] = \\int_{-\\infty}^{+\\infty}p_{y_i^{l}}\\left(t\\right)dt = 1 \\Rightarrow \\mathbb{E}\\left[y_i^l>0\\right] = \\frac{1}{2}$$\n",
        "\n",
        "$$\\mathbb{D}\\left[y_i^l>0\\right] =  \\mathbb{E}\\left[y_i^l>0\\right]^2 - \\left(\\mathbb{E}\\left[y_i^l>0\\right]\\right)^2 = \\left\\{\\left[y_i^l>0\\right]^2 = \\left[y_i^l>0\\right] \\right\\} = \\mathbb{E}\\left[y_i^l>0\\right] - \\left(\\mathbb{E}\\left[y_i^l>0\\right]\\right)^2 = \\frac{1}{2} - \\frac{1}{4} = \\frac{1}{4}$$\n",
        "\n",
        "Тогда: \n",
        "$$ \\mathbb{D}\\delta^l = \\frac{1}{4}\\mathbb{D}\\left(\\sum_{k=1}^{n_{l+2}} \\delta_k^{l+1} W_{ki}^{l+1}\\right) + \\frac{1}{4}\\mathbb{D}\\left(\\sum_{k=1}^{n_{l+2}} \\delta_k^{l+1} W_{ki}^{l+1}\\right) = \\frac{1}{2}\\mathbb{D}\\left(\\sum_{k=1}^{n_{l+2}} \\delta_k^{l+1} W_{ki}^{l+1}\\right) = \\frac{1}{2}\\sum_{k=1}^{n_{l+2}} \\mathbb{D}\\left(\\delta_k^{l+1} W_{ki}^{l+1}\\right) = \\\\ = \\frac{n_{l+2}}{2}\\left( \\mathbb{D}\\delta^{l+1}\\mathbb{D}W^{l+1} + \\left(\\underbrace{\\mathbb{E}\\delta^{l+1}}_{0}\\right)^2\\mathbb{D}W^{l+1} + \\left(\\underbrace{\\mathbb{E}W^{l+1}}_{0}\\right)^2 \\mathbb{D}\\delta^{l+1} \\right) = \\frac{n_{l+2}}{2}\\mathbb{D}\\delta^{l+1}\\mathbb{D}W^{l+1}$$\n",
        "\n",
        "Мы так же хотим, чтобы слой сохранял дисперсию, то есть:\n",
        "$$\\mathbb{D}\\delta^l = \\mathbb{D}\\delta^{l-1} $$\n",
        "\n",
        "Это будет тогда и только тогда, когда:\n",
        "$$\\mathbb{D} W^l = \\frac{2}{n_{l+1}} \\quad (2)$$\n",
        "\n",
        "(1) и (2) могут выполняться одновременно тогда и только тогда, когда $n_l = n_{l+1} \\ \\forall l$, то есть когда ширина MLP остаётся постоянной.\n",
        "\n",
        "В ином случае, на паре (для гиперболического тангенса) предлагалось брать среднее гармоническое полученных оценок."
      ]
    },
    {
      "cell_type": "markdown",
      "metadata": {
        "heading_collapsed": true,
        "id": "buIuRTAF3otk"
      },
      "source": [
        "### Задание 3. Почему функция активации $ReLU(y) = \\max(0, y)$ предпочтительней сигмоиды $\\sigma(y) = \\frac{1}{1 + \\exp(-y)}$ в нейронных сетях? (0.5 балла)\n",
        "\n",
        "Дайте развернутый ответ на вопрос \"Почему функция активации $ReLU(y) = \\max(0, y)$ предпочтительней сигмоиды $\\sigma(y) = \\frac{1}{1 + \\exp(-y)}$ в нейронных сетях?\""
      ]
    },
    {
      "cell_type": "markdown",
      "metadata": {
        "hidden": true,
        "id": "bs7fjW2B3otk"
      },
      "source": [
        "__Ваш ответ:__\n",
        "\n",
        "<img src=\"https://sun9-87.userapi.com/impg/SFfewA-RIvr__Ket7qcLDG96ZpV8ESpxRzGhKA/oQkRwQtFB6Q.jpg?size=1134x430&quality=96&sign=1fc13589d141b2101ee1fa10f5c1f701&type=album\" width=\"500px\" >\n",
        "\n",
        "1) Так как вне некого диапазона производная сигмоиды близка к нулю, то произведение производных сигмоид (в методе обратного распространения градиента) будет очень мало (может и вовсе дать ноль) => в методе стохастистического градиентного спуска изменение весов будет происходить на очень маленькую величину => не получиться хорошо исправить веса. Иначе говоря, сигмоида может приводить к затуханию градиента. ReLU в свою очередь имеет производную на положительной полуоси равной 1.\n",
        "\n",
        "2) Также сигмоида может привести к \"параличу\" сети, то есть в процессе обучения, значения весов могут принять очень большие значения.\n",
        "\n",
        "3) Производная ReLU (индикатор) вычисляется гораздо легче, чем производная сигмоиды (там есть экспоненты).\n",
        "\n",
        "4) <a href=https://wandb.ai/ayush-thakur/dl-question-bank/reports/ReLU-vs-Sigmoid-Function-in-Deep-Neural-Networks-Why-ReLU-is-so-Prevalent--VmlldzoyMDk0MzI>Эксперименты</a> показывают, что одно и то же значение функции потерь ReLU достигает за меньшее количество итераций, чем сигмоида.\n"
      ]
    },
    {
      "cell_type": "markdown",
      "metadata": {
        "id": "DMYvNXxn3otl"
      },
      "source": [
        "## Практическая часть (7 баллов)"
      ]
    },
    {
      "cell_type": "markdown",
      "metadata": {
        "heading_collapsed": true,
        "id": "6UhMMiWv3otl"
      },
      "source": [
        "### Реализация нейронной сети (3 балла)"
      ]
    },
    {
      "cell_type": "markdown",
      "metadata": {
        "hidden": true,
        "id": "neiauf4a3otm"
      },
      "source": [
        "В этом задании вы обучите полносвязную нейронную сеть распознавать рукописные цифры (а что же еще, если не их :), [почти] самостоятельно реализовав все составляющие алгоритма обучения и предсказания.\n",
        "\n",
        "Для начала нам понадобится реализовать прямой и обратный проход через слои. Наши слои будут соответствовать следующему интерфейсу (на примере \"тождественного\" слоя):"
      ]
    },
    {
      "cell_type": "code",
      "execution_count": 2,
      "metadata": {
        "ExecuteTime": {
          "end_time": "2021-03-03T14:44:48.924967Z",
          "start_time": "2021-03-03T14:44:48.912996Z"
        },
        "hidden": true,
        "id": "QhJo2ZXF3oto"
      },
      "outputs": [],
      "source": [
        "class IdentityLayer:\n",
        "    \"\"\"\n",
        "    A building block. Each layer is capable of performing two things:\n",
        "\n",
        "    - Process input to get output:           \n",
        "    output = layer.forward(input)\n",
        "\n",
        "    - Propagate gradients through itself:    \n",
        "    grad_input = layer.backward(input, grad_output)\n",
        "\n",
        "    Some layers also have learnable parameters.\n",
        "\n",
        "    Modified code from cs.hse DL course *\n",
        "    \"\"\"\n",
        "    def __init__(self):\n",
        "        \"\"\"\n",
        "        Here you can initialize layer parameters (if any) \n",
        "        and auxiliary stuff. You should enumerate all parameters\n",
        "        in self.params\n",
        "        \"\"\"\n",
        "        # An identity layer does nothing\n",
        "        self.params = []\n",
        "        pass\n",
        "\n",
        "    def forward(self, input):\n",
        "        \"\"\"\n",
        "        Takes input data of shape [batch, input_units], \n",
        "        returns output data [batch, output_units]\n",
        "        \"\"\"\n",
        "        # An identity layer just returns whatever it gets as input.\n",
        "        self.input = input\n",
        "        return input\n",
        "\n",
        "    def backward(self, grad_output): \n",
        "        \"\"\"\n",
        "        Performs a backpropagation step through the layer, \n",
        "        with respect to the given input.\n",
        "\n",
        "        To compute loss gradients w.r.t input, \n",
        "        you need to apply chain rule (backprop):\n",
        "\n",
        "        d `loss` / d `input` = (d `loss` / d `layer`) * (d `layer` / d `input`)\n",
        "\n",
        "        Luckily, you already receive d `loss` / d `layer` in argument, \n",
        "        so you only need to multiply it by d `layer` / d `input`.\n",
        "\n",
        "        NB: Sometimes d `layer` / d `input` can be a 3D or even 4D tensor.\n",
        "        So it's better to write down the `loss` differential and extract\n",
        "        d `layer` / d `input` from it so that only 2D tensors were present.\n",
        "\n",
        "        The method returns:\n",
        "        * gradient w.r.t input (will be passed to \n",
        "          previous layer's backward method)\n",
        "        * flattened gradient w.r.t. parameters (with .ravel() \n",
        "          applied to each gradient). \n",
        "          If there are no params, return []\n",
        "        \"\"\"\n",
        "        # The gradient of an identity layer is precisely grad_output\n",
        "        input_dim = self.input.shape[1]\n",
        "\n",
        "        d_layer_d_input = np.eye(input_dim)\n",
        "\n",
        "        return np.dot(grad_output, d_layer_d_input), [] # chain rule"
      ]
    },
    {
      "cell_type": "markdown",
      "metadata": {
        "id": "aZQRffwi3otp"
      },
      "source": [
        "### Слой нелинейности ReLU\n",
        "\n",
        "Для начала реализуем слой нелинейности $ReLU(y) = \\max(0, y)$. Параметров у слоя нет. Метод `forward` должен вернуть результат поэлементного применения $ReLU$ к входному массиву, метод `backward` — градиент функции потерь по входу слоя. В нуле будем считать производную равной 0. Обратите внимание, что при обратном проходе могут понадобиться величины, посчитанные во время прямого прохода, поэтому их стоит сохранить как атрибут класса."
      ]
    },
    {
      "cell_type": "code",
      "execution_count": 3,
      "metadata": {
        "ExecuteTime": {
          "end_time": "2021-03-03T14:44:48.939926Z",
          "start_time": "2021-03-03T14:44:48.928957Z"
        },
        "id": "_BuMt0w73otp"
      },
      "outputs": [],
      "source": [
        "class ReLU:\n",
        "    \"\"\"\n",
        "    Modified code from cs.hse DL course *\n",
        "    \"\"\"\n",
        "    def __init__(self):\n",
        "        \"\"\"ReLU layer simply applies elementwise rectified linear unit to all inputs\"\"\"\n",
        "        self.params = [] # ReLU has no parameters\n",
        "\n",
        "    def forward(self, input):\n",
        "        \"\"\"Apply elementwise ReLU to [batch, num_units] matrix\"\"\"\n",
        "        self.output = np.maximum(input,0)\n",
        "        return self.output\n",
        "        \n",
        "    def backward(self, grad_output):\n",
        "        \"\"\"Compute gradient of loss w.r.t. ReLU input\n",
        "        grad_output shape: [batch, num_units]\n",
        "        output 1 shape: [batch, num_units]\n",
        "        output 2: []\n",
        "        \"\"\"\n",
        "        grad = self.output > 0\n",
        "        return grad_output * grad, []\n",
        "    \n",
        "    def __repr__(self):\n",
        "        return 'Relu()'"
      ]
    },
    {
      "cell_type": "markdown",
      "metadata": {
        "id": "2u0pc-qY3otp"
      },
      "source": [
        "### Полносвязный слой\n",
        "Далее реализуем полносвязный слой без нелинейности. У слоя два параметра: матрица весов и вектор сдвига.\n",
        "\n",
        "Обратите внимание на второй аргумент: в нем надо возвращать градиент по всем параметрам в одномерном виде. Для этого надо сначала применить `.ravel()` ко всем градиентам, а затем воспользоваться `np.r_`:"
      ]
    },
    {
      "cell_type": "code",
      "execution_count": 4,
      "metadata": {
        "ExecuteTime": {
          "end_time": "2021-03-03T14:44:48.971838Z",
          "start_time": "2021-03-03T14:44:48.943913Z"
        },
        "colab": {
          "base_uri": "https://localhost:8080/"
        },
        "id": "-uO9WMHX3otq",
        "outputId": "a1d97402-651c-46b4-b297-8b426bec5e32"
      },
      "outputs": [
        {
          "output_type": "execute_result",
          "data": {
            "text/plain": [
              "array([1., 0., 0., 0., 1., 0., 0., 0., 1., 0., 1., 2., 3.])"
            ]
          },
          "metadata": {},
          "execution_count": 4
        }
      ],
      "source": [
        "# example\n",
        "np.r_[np.eye(3).ravel(), np.arange(4)]"
      ]
    },
    {
      "cell_type": "code",
      "execution_count": 5,
      "metadata": {
        "ExecuteTime": {
          "end_time": "2021-03-03T14:44:48.987794Z",
          "start_time": "2021-03-03T14:44:48.975827Z"
        },
        "id": "AIaRSYzA3otr"
      },
      "outputs": [],
      "source": [
        "class Dense:\n",
        "    \"\"\"\n",
        "    Modified code from cs.hse DL course *\n",
        "    \"\"\"\n",
        "    def __init__(self, input_units, output_units):\n",
        "        \"\"\"\n",
        "        A dense layer is a layer which performs a learned affine transformation:\n",
        "        f(x) = x W + b\n",
        "        \"\"\"\n",
        "        # initialize weights with small random numbers from normal distribution\n",
        "        self.weights = np.random.randn(input_units, output_units) * 0.01\n",
        "        self.biases = np.zeros(output_units)\n",
        "        self.params = [self.weights, self.biases]\n",
        "\n",
        "    def forward(self,input):\n",
        "        \"\"\"\n",
        "        Perform an affine transformation:\n",
        "        f(x) = x W + b\n",
        "        \n",
        "        input shape: [batch, input_units]\n",
        "        output shape: [batch, output units]\n",
        "        \"\"\"\n",
        "        self.output = np.dot(input,self.weights) + self.biases\n",
        "        self.input = input\n",
        "        #print(input.shape,self.weights.shape)\n",
        "        return self.output\n",
        "\n",
        "    def backward(self, grad_output):\n",
        "        \"\"\"\n",
        "        compute gradients\n",
        "        grad_output shape: [batch, output_units]\n",
        "        output shapes: [batch, input_units], [num_params]\n",
        "        \n",
        "        hint: use function np.r_\n",
        "        np.r_[np.arange(3), np.arange(3)] = [0, 1, 2, 0, 1, 2]\n",
        "        \"\"\"\n",
        "        grad_W = np.dot(self.input.T,grad_output)\n",
        "        grad_b = np.sum(grad_output, axis=0)\n",
        "        return np.dot(grad_output,self.weights.T), np.r_[grad_W.ravel(), grad_b.ravel()]\n",
        "    \n",
        "    def __repr__(self):\n",
        "        return f'Dense({self.weights.shape[0]}, {self.weights.shape[1]})'"
      ]
    },
    {
      "cell_type": "markdown",
      "metadata": {
        "id": "Ws9zLNvw3otr"
      },
      "source": [
        "### Проверка градиента\n",
        "\n",
        "Проверим правильность реализации с помощью функции численной проверки градиента. Функция `eval_numerical_gradient` принимает на вход callable объект `f` (функцию от одного аргумента-матрицы) и аргумент `x` и вычисляет приближенный градиент функции `f` в точке `x`."
      ]
    },
    {
      "cell_type": "code",
      "execution_count": 6,
      "metadata": {
        "ExecuteTime": {
          "end_time": "2021-03-03T14:44:49.003751Z",
          "start_time": "2021-03-03T14:44:48.990787Z"
        },
        "id": "eLfVHBiX3otr"
      },
      "outputs": [],
      "source": [
        "def eval_numerical_gradient(f, x, verbose=False, h=0.00001):\n",
        "    \"\"\"\n",
        "    Evaluates gradient df/dx via finite differences:\n",
        "    df/dx ~ (f(x+h) - f(x-h)) / 2h\n",
        "    Adopted from https://github.com/ddtm/dl-course/\n",
        "    \"\"\"\n",
        "    fx = f(x) # evaluate function value at original point\n",
        "    grad = np.zeros_like(x)\n",
        "    # iterate over all indexes in x\n",
        "    it = np.nditer(x, flags=['multi_index'], op_flags=['readwrite'])\n",
        "    while not it.finished:\n",
        "\n",
        "        # evaluate function at x+h\n",
        "        ix = it.multi_index\n",
        "        oldval = x[ix]\n",
        "        x[ix] = oldval + h # increment by h\n",
        "        fxph = f(x) # evalute f(x + h)\n",
        "        x[ix] = oldval - h\n",
        "        fxmh = f(x) # evaluate f(x - h)\n",
        "        x[ix] = oldval # restore\n",
        "\n",
        "        # compute the partial derivative with centered formula\n",
        "        grad[ix] = (fxph - fxmh) / (2 * h) # the slope\n",
        "        if verbose:\n",
        "            print (ix, grad[ix])\n",
        "        it.iternext() # step to next dimension\n",
        "\n",
        "    return grad"
      ]
    },
    {
      "cell_type": "markdown",
      "metadata": {
        "id": "2DCWujiK3ots"
      },
      "source": [
        "Вычислите аналитический и численный градиенты по входу слоя ReLU от функции\n",
        "$$ f(y) = \\sum_i y_i, \\quad y = ReLU(x) $$\n",
        "\n",
        "Выпишите аналитический градиент в этой ячейке:\n",
        "\n",
        "$ f(y) = I^T y$\n",
        "\n",
        "$ df = I^Tdy = I^Tdiag([x_1>0],[x_2>0],...,[x_n>0])dx = [x>0]^Tdx \\Rightarrow \\nabla_x f = [x>0],$ \n",
        "\n",
        "где $[x>0] = ([x_1>0],[x_2>0],...,[x_n>0])^T$"
      ]
    },
    {
      "cell_type": "markdown",
      "metadata": {
        "id": "QaiUwPYR3ots"
      },
      "source": [
        "Следующая ячейка после заполнения должна не выдавать ошибку :)"
      ]
    },
    {
      "cell_type": "code",
      "execution_count": 7,
      "metadata": {
        "ExecuteTime": {
          "end_time": "2021-03-03T14:44:49.034673Z",
          "start_time": "2021-03-03T14:44:49.006744Z"
        },
        "id": "egcQyQny3ots"
      },
      "outputs": [],
      "source": [
        "relu = ReLU()\n",
        "points = np.linspace(-1, 1, 10*12).reshape([10, 12])\n",
        "\n",
        "relu.forward(points)\n",
        "M = np.ones(relu.output.shape)\n",
        "grads = relu.backward(M)[0]\n",
        "numeric_grads = eval_numerical_gradient(lambda x: relu.forward(x).sum(), points)\n",
        "\n",
        "assert np.allclose(grads, numeric_grads, rtol=1e-3, atol=0)"
      ]
    },
    {
      "cell_type": "markdown",
      "metadata": {
        "id": "Tlxzan2V3ots"
      },
      "source": [
        "Вычислите аналитический и численный градиенты по входу полносвязного слоя от функции\n",
        "$$ f(y) = \\sum_i y_i, \\quad y = W x + b $$\n",
        "\n",
        "Выпишите аналитический градиент в этой ячейке (советуем выписать градиент через дифференциал функции $f$):\n",
        "\n",
        "$ f(y) = I^T y$\n",
        "\n",
        "$ df = I^Tdy = I^Td(Wx+b)= I^TWdx \\Rightarrow \\nabla_x f = W^TI $"
      ]
    },
    {
      "cell_type": "markdown",
      "metadata": {
        "id": "uq69p2yX3ots"
      },
      "source": [
        "Следующая ячейка после заполнения должна не выдавать ошибку :)"
      ]
    },
    {
      "cell_type": "code",
      "execution_count": 8,
      "metadata": {
        "ExecuteTime": {
          "end_time": "2021-03-03T14:44:49.066624Z",
          "start_time": "2021-03-03T14:44:49.041651Z"
        },
        "id": "k86BBK5M3ots"
      },
      "outputs": [],
      "source": [
        "linear = Dense(12, 32)\n",
        "points = np.linspace(-1, 1, 10*12).reshape([10, 12])\n",
        "\n",
        "linear.forward(points)\n",
        "M = np.ones(linear.output.shape)\n",
        "grads = linear.backward(M)[0]\n",
        "numeric_grads = eval_numerical_gradient(lambda x: linear.forward(x).sum(), points)\n",
        "\n",
        "assert np.allclose(grads, numeric_grads, rtol=1e-3, atol=0)"
      ]
    },
    {
      "cell_type": "markdown",
      "metadata": {
        "id": "mhK5vUTP3ott"
      },
      "source": [
        "### Реализация softmax-слоя и функции потерь"
      ]
    },
    {
      "cell_type": "markdown",
      "metadata": {
        "id": "jsNvtlGd3ott"
      },
      "source": [
        "Для решения задачи многоклассовой классификации обычно используют $softmax$ в качестве нелинейности на последнем слое, чтобы получить вероятности классов для каждого объекта:\n",
        "$$\\hat y = softmax(x)  = \\left \\{\\frac {\\exp(x^i)}{\\sum_{j=1}^K \\exp(x^j)} \\right \\}_{i=1}^K, \\quad K - \\text{число классов.}$$\n",
        "\n",
        "Здесь за $x^i$ мы обозначаем $i$-ый признак объекта $x$.\n",
        "\n",
        "В качестве функции потерь выберем отрицательный логарифм правдоподобия (по английски: negative log likelihood или NLL)\n",
        "$$L(y, \\hat y) = -\\sum_{i=1}^K y^i \\log \\hat y^i,$$\n",
        "где $y^i = 1$, если объект принадлежит $i$-му классу, и $y^i = 0$ иначе.\n",
        "\n",
        "NLL совпадает с выражением для [кросс-энтропии](https://ru.wikipedia.org/wiki/Перекрёстная_энтропия) (в качестве первого распределения берем вырожденное распределение $y$, в качестве второго — предсказанное распределение $\\hat y$). Очевидно, что эту функцию потерь также можно переписать через индексацию, если через $y$ обозначить класс данного объекта:\n",
        "$$L(y, \\hat y) = - \\log \\hat y_{y}$$\n",
        "\n",
        "В таком виде ее удобно реализовывать."
      ]
    },
    {
      "cell_type": "markdown",
      "metadata": {
        "ExecuteTime": {
          "end_time": "2021-03-03T13:13:02.970075Z",
          "start_time": "2021-03-03T13:13:02.961134Z"
        },
        "id": "_YA-Q69D3ott"
      },
      "source": [
        "Для обучения нейронной сети будем оптимизировать эту функцию потерь по параметрам нейронной сети:\n",
        "\n",
        "$$ \\frac1N \\sum_{i=1}^N L(y_i, \\hat y_i) = \\frac1N \\sum_{i=1}^N L(y_i, \\text{NN}(x_i)) \\rightarrow \\min_{w}\\,,$$\n",
        "где за $x_i$ и $y_i$ мы обозначили признаки и таргет $i$-ого объекта обучающей выборки, за $\\text{NN}$ мы обозначили нейронную сеть, которая по признакам объекта $x_i$ выдает распределение вероятностей $\\hat y_i$, за $w$ мы обозначили все веса нейронной сети, а $N$ — это число объектов в обучающей выборке."
      ]
    },
    {
      "cell_type": "markdown",
      "metadata": {
        "id": "ok43z1XC3ott"
      },
      "source": [
        "Реализуйте слой `LogSoftmax` (у этого слоя нет параметров). Метод `forward` должен вычислять логарифм от $softmax$, а метод `backward` — пропускать градиенты. В общем случае в промежуточных вычислениях `backward` получится трехмерный тензор, однако для нашей конкретной функции потерь все вычисления можно реализовать в матричном виде.  Поэтому мы будем предполагать, что аргумент `grad_output` — это матрица, у которой в каждой строке только одно ненулевое значение (не обязательно единица)."
      ]
    },
    {
      "cell_type": "code",
      "execution_count": 9,
      "metadata": {
        "ExecuteTime": {
          "end_time": "2021-03-03T14:44:49.272035Z",
          "start_time": "2021-03-03T14:44:49.070612Z"
        },
        "id": "Za9KFzLc3ott"
      },
      "outputs": [],
      "source": [
        "from scipy.special import logsumexp\n",
        "# use this function instead of np.log(np.sum(np.exp(...))) because it is more stable"
      ]
    },
    {
      "cell_type": "code",
      "execution_count": 10,
      "metadata": {
        "ExecuteTime": {
          "end_time": "2021-03-03T14:44:49.288035Z",
          "start_time": "2021-03-03T14:44:49.275031Z"
        },
        "id": "WZGDWsqs3ott"
      },
      "outputs": [],
      "source": [
        "class LogSoftmax:\n",
        "    def __init__(self):\n",
        "        self.params = []\n",
        "\n",
        "    def forward(self, input):\n",
        "        \"\"\"\n",
        "        Applies softmax to each row and then applies component-wise log\n",
        "        Input shape: [batch, num_units]\n",
        "        Output shape: [batch, num_units]\n",
        "        \"\"\"\n",
        "        self.output = input - logsumexp(input, keepdims=True, axis=1)\n",
        "        #print(self.output)\n",
        "        return self.output\n",
        "        \n",
        "    def backward(self, grad_output):\n",
        "        \"\"\"\n",
        "        Propagartes gradients.\n",
        "        Assumes that each row of grad_output contains only 1 \n",
        "        non-zero element\n",
        "        Input shape: [batch, num_units]\n",
        "        Output shape: [batch, num_units]\n",
        "        Do not forget to return [] as second value (grad w.r.t. params)\n",
        "        \"\"\"\n",
        "        grad = grad_output - np.sum(grad_output, keepdims=True, axis=1)*np.exp(self.output)\n",
        "        #print(grad)\n",
        "        return grad, []\n",
        "    \n",
        "    def __repr__(self):\n",
        "        return 'LogSoftmax()'"
      ]
    },
    {
      "cell_type": "markdown",
      "metadata": {
        "id": "63OsU3Sl3otu"
      },
      "source": [
        "Реализуйте функцию потерь и градиенты функции потерь. Во время вычисления NLL усредняйте (а не суммируйте) значения функции потерь по батчу. Обычно так делают для того, чтобы при двух запусках обучения нейронной сети с разными размерами батча получаемые значения функции потерь у этих сетей были сравнимы."
      ]
    },
    {
      "cell_type": "code",
      "execution_count": 11,
      "metadata": {
        "ExecuteTime": {
          "end_time": "2021-03-03T14:44:49.302990Z",
          "start_time": "2021-03-03T14:44:49.290985Z"
        },
        "id": "IVaxSY-T3otu"
      },
      "outputs": [],
      "source": [
        "def NLL(activations, target):\n",
        "    \"\"\"\n",
        "    Returns negative log-likelihood of target under model represented by\n",
        "    activations (log probabilities of classes, it's just output of LogSoftmax layer).\n",
        "    `activations` has shape [batch, num_classes], `target` has shape [batch]\n",
        "    Output shape: 1 (scalar).\n",
        "    \"\"\"\n",
        "    x = [i for i in range(0,target.shape[0])]\n",
        "    return (-1)*activations[x,target].mean()\n",
        "\n",
        "\n",
        "def grad_NLL(activations, target):\n",
        "    \"\"\"\n",
        "    Returns gradient of negative log-likelihood w.r.t. activations.\n",
        "    each arg has shape [batch, num_classes]\n",
        "    output shape: [batch, num-classes]\n",
        "    \"\"\"\n",
        "    grad = np.zeros(activations.shape)\n",
        "    x = [i for i in range(0,target.shape[0])]\n",
        "    grad[x,target] = (-1) * 1/target.shape[0]\n",
        "    return grad"
      ]
    },
    {
      "cell_type": "markdown",
      "metadata": {
        "id": "mII9B_1L3otu"
      },
      "source": [
        "Наконец, выполните проверку `LogSoftmax`-слоя, используя функцию потерь и ее градиент:"
      ]
    },
    {
      "cell_type": "code",
      "execution_count": 12,
      "metadata": {
        "ExecuteTime": {
          "end_time": "2021-03-03T14:44:49.350863Z",
          "start_time": "2021-03-03T14:44:49.305945Z"
        },
        "id": "8iThY0Xx3otu"
      },
      "outputs": [],
      "source": [
        "lsm = LogSoftmax()\n",
        "target = np.arange(10)\n",
        "points = np.linspace(-1, 1, 10 * 12).reshape([10, 12])\n",
        "\n",
        "x = grad_NLL(lsm.forward(points), target)\n",
        "grads = lsm.backward(x)[0]\n",
        "numeric_grads = eval_numerical_gradient(lambda x: NLL(lsm.forward(x), target), points)\n",
        "\n",
        "assert np.allclose(grads, numeric_grads, rtol=1e-3, atol=0)"
      ]
    },
    {
      "cell_type": "markdown",
      "metadata": {
        "id": "_MWNcpk93otu"
      },
      "source": [
        "## Загрузка данных\n",
        "\n",
        "Мы реализаовали все архитектурные составляющие нашей нейронной сети. Осталось загрузить данные и обучить модель. Мы будем работать с датасетом `digits`, каждый объект в котором — это 8x8 изображение рукописной цифры."
      ]
    },
    {
      "cell_type": "code",
      "execution_count": 13,
      "metadata": {
        "ExecuteTime": {
          "end_time": "2021-03-03T14:44:49.872521Z",
          "start_time": "2021-03-03T14:44:49.354818Z"
        },
        "id": "WC7KIQ6I3otv"
      },
      "outputs": [],
      "source": [
        "import matplotlib.pyplot as plt\n",
        "%matplotlib inline"
      ]
    },
    {
      "cell_type": "code",
      "execution_count": 14,
      "metadata": {
        "ExecuteTime": {
          "end_time": "2021-03-03T14:44:51.700670Z",
          "start_time": "2021-03-03T14:44:49.876510Z"
        },
        "id": "qnX5TH-p3otv"
      },
      "outputs": [],
      "source": [
        "from sklearn.datasets import load_digits"
      ]
    },
    {
      "cell_type": "code",
      "execution_count": 15,
      "metadata": {
        "ExecuteTime": {
          "end_time": "2021-03-03T14:44:51.873771Z",
          "start_time": "2021-03-03T14:44:51.703667Z"
        },
        "id": "a3Jg8OTX3otv"
      },
      "outputs": [],
      "source": [
        "X, y = load_digits(return_X_y=True)"
      ]
    },
    {
      "cell_type": "code",
      "execution_count": 16,
      "metadata": {
        "ExecuteTime": {
          "end_time": "2021-03-03T14:44:51.889252Z",
          "start_time": "2021-03-03T14:44:51.877326Z"
        },
        "colab": {
          "base_uri": "https://localhost:8080/"
        },
        "id": "a2buXjo53otv",
        "outputId": "4732adbf-ce38-47a9-b412-3411fd1f382f"
      },
      "outputs": [
        {
          "output_type": "execute_result",
          "data": {
            "text/plain": [
              "((1797, 64), (1797,))"
            ]
          },
          "metadata": {},
          "execution_count": 16
        }
      ],
      "source": [
        "X.shape, y.shape"
      ]
    },
    {
      "cell_type": "markdown",
      "metadata": {
        "id": "Cm9nJ2Xy3otv"
      },
      "source": [
        "Разделим данные на обучение и контроль:"
      ]
    },
    {
      "cell_type": "code",
      "execution_count": 17,
      "metadata": {
        "ExecuteTime": {
          "end_time": "2021-03-03T14:44:51.952606Z",
          "start_time": "2021-03-03T14:44:51.892280Z"
        },
        "id": "q0KWt2Tw3otv"
      },
      "outputs": [],
      "source": [
        "from sklearn.model_selection import train_test_split"
      ]
    },
    {
      "cell_type": "code",
      "execution_count": 18,
      "metadata": {
        "ExecuteTime": {
          "end_time": "2021-03-03T14:44:51.968609Z",
          "start_time": "2021-03-03T14:44:51.955642Z"
        },
        "id": "nTga5RCf3otv"
      },
      "outputs": [],
      "source": [
        "X_train, X_test, y_train, y_test = train_test_split(X, y, random_state=0)"
      ]
    },
    {
      "cell_type": "code",
      "execution_count": 19,
      "metadata": {
        "ExecuteTime": {
          "end_time": "2021-03-03T14:44:52.000485Z",
          "start_time": "2021-03-03T14:44:51.971599Z"
        },
        "colab": {
          "base_uri": "https://localhost:8080/"
        },
        "id": "1mcyH0A93otw",
        "outputId": "aead474b-fad7-42f6-9a5a-7172a0555ddc"
      },
      "outputs": [
        {
          "output_type": "execute_result",
          "data": {
            "text/plain": [
              "((1347, 64), (450, 64))"
            ]
          },
          "metadata": {},
          "execution_count": 19
        }
      ],
      "source": [
        "X_train.shape, X_test.shape"
      ]
    },
    {
      "cell_type": "markdown",
      "metadata": {
        "id": "DzKFaL2Z3otw"
      },
      "source": [
        "## Сборка и обучение нейронной сети (1 балл)"
      ]
    },
    {
      "cell_type": "markdown",
      "metadata": {
        "id": "E5PZ9OGd3otw"
      },
      "source": [
        "В нашей реализации мы представляем нейронную сеть в виде списка ее слоев. Например, следующая функция конструирует нейронную сеть заданной ширины (то есть с заданным размером скрытых слоев) и глубины (то есть с заданным количеством слоев) с заданным размером входа и выхода, а также с заданной функцией активации между линейными слоями."
      ]
    },
    {
      "cell_type": "code",
      "execution_count": 20,
      "metadata": {
        "ExecuteTime": {
          "end_time": "2021-03-03T14:44:52.016442Z",
          "start_time": "2021-03-03T14:44:52.003513Z"
        },
        "id": "XK1SSp143otw"
      },
      "outputs": [],
      "source": [
        "def make_network(input_size, hidden_layers_size, output_size, n_layers=3, activation_class=ReLU):\n",
        "    network = []\n",
        "\n",
        "    for layer_idx in range(n_layers):\n",
        "        # Compute sizes of current linear layer\n",
        "        layer_in = input_size if layer_idx == 0 else hidden_layers_size\n",
        "        layer_out = output_size if layer_idx == n_layers - 1 else hidden_layers_size\n",
        "        \n",
        "        # Add linear layer to the network\n",
        "        network.append(Dense(layer_in, layer_out))\n",
        "\n",
        "        # Add activation after each layer except the last one\n",
        "        if layer_idx != n_layers - 1:\n",
        "            network.append(activation_class())\n",
        "\n",
        "    # Add LogSoftmax layer to the network\n",
        "    network.append(LogSoftmax())\n",
        "\n",
        "    return network"
      ]
    },
    {
      "cell_type": "code",
      "execution_count": 21,
      "metadata": {
        "ExecuteTime": {
          "end_time": "2021-03-03T14:44:52.048395Z",
          "start_time": "2021-03-03T14:44:52.020431Z"
        },
        "colab": {
          "base_uri": "https://localhost:8080/"
        },
        "id": "gkiJ7s0P3otw",
        "outputId": "246c9781-2f33-4ecc-9b43-c280fc5ab9b2"
      },
      "outputs": [
        {
          "output_type": "execute_result",
          "data": {
            "text/plain": [
              "[Dense(64, 32), Relu(), Dense(32, 32), Relu(), Dense(32, 10), LogSoftmax()]"
            ]
          },
          "metadata": {},
          "execution_count": 21
        }
      ],
      "source": [
        "input_size = X_train.shape[1]\n",
        "hidden_layers_size = 32\n",
        "output_size = 10\n",
        "\n",
        "network = make_network(input_size, hidden_layers_size, output_size, 3, ReLU)\n",
        "network"
      ]
    },
    {
      "cell_type": "markdown",
      "metadata": {
        "id": "wkTDPXwQ3otw"
      },
      "source": [
        "Реализуйте функцию, которая выполнет прямой проход по нейронной сети:"
      ]
    },
    {
      "cell_type": "code",
      "execution_count": 22,
      "metadata": {
        "ExecuteTime": {
          "end_time": "2021-03-03T14:44:52.063319Z",
          "start_time": "2021-03-03T14:44:52.051386Z"
        },
        "id": "OixCU8bD3otw"
      },
      "outputs": [],
      "source": [
        "def forward(network, X):\n",
        "    \"\"\"\n",
        "    Perform forward pass through the network.\n",
        "    \n",
        "    network: list of layers\n",
        "    X: raw data\n",
        "    X shape: [batch, features_num]\n",
        "\n",
        "    output: \n",
        "    output shape: [batch, out_features_num]\n",
        "    \"\"\"\n",
        "    data = X\n",
        "    for layer in network:\n",
        "      data = layer.forward(data)\n",
        "    return data"
      ]
    },
    {
      "cell_type": "markdown",
      "metadata": {
        "id": "Gumk01pt3otx"
      },
      "source": [
        "Для проверки, хорошо ли сеть обучилась, нам понадобится вычислять долю правильных ответов (accuracy) на данной выборке. Для этого реализуйте функцию, которая делает предсказания на каждом объекте (логично в качестве предсказания на очередном объекте выдавать тот класс, для которого предсказанный логарифм вероятности максимален):"
      ]
    },
    {
      "cell_type": "code",
      "execution_count": 23,
      "metadata": {
        "ExecuteTime": {
          "end_time": "2021-03-03T14:44:52.063319Z",
          "start_time": "2021-03-03T14:44:52.051386Z"
        },
        "id": "MId5cWGq3otx"
      },
      "outputs": [],
      "source": [
        "def predict(network, X):\n",
        "    \"\"\"\n",
        "    Returns predictions for each object in X.\n",
        "    \n",
        "    network: list of layers\n",
        "    X: raw data\n",
        "    X shape: [batch, features_num]\n",
        "\n",
        "    output: array of classes, each from 0 to 9\n",
        "    output shape: [batch]\n",
        "    \"\"\"\n",
        "    res = forward(network,X)\n",
        "    return np.argmax(res, axis=1)"
      ]
    },
    {
      "cell_type": "markdown",
      "metadata": {
        "id": "ErTCfFOJ3otx"
      },
      "source": [
        "Мы будем обучать параметры нейросети с помощью готовой функции оптимизации из модуля `scipy`:"
      ]
    },
    {
      "cell_type": "code",
      "execution_count": 24,
      "metadata": {
        "ExecuteTime": {
          "end_time": "2021-03-03T14:44:52.079311Z",
          "start_time": "2021-03-03T14:44:52.070308Z"
        },
        "id": "z1dD5uLm3otx"
      },
      "outputs": [],
      "source": [
        "from scipy.optimize import minimize"
      ]
    },
    {
      "cell_type": "code",
      "execution_count": null,
      "metadata": {
        "ExecuteTime": {
          "end_time": "2021-03-03T14:44:52.111226Z",
          "start_time": "2021-03-03T14:44:52.085292Z"
        },
        "scrolled": true,
        "id": "zutUOXs83otx"
      },
      "outputs": [],
      "source": [
        "help(minimize)"
      ]
    },
    {
      "cell_type": "markdown",
      "metadata": {
        "id": "qaK3eq2X3otx"
      },
      "source": [
        "Эта функция имеет стандартный интерфейс: нужно передать callable объект, который вычисляет значение и градиент целевой функции, а также точку старта оптимизации — начальное приближение (одномерный `numpy`-массив). Поэтому нам понадобятся функции для сбора и задания всех весов нашей нейросети (именно для них мы всегда записывали параметры слоя в список `layer.params`)"
      ]
    },
    {
      "cell_type": "code",
      "execution_count": 25,
      "metadata": {
        "ExecuteTime": {
          "end_time": "2021-03-03T14:44:52.127145Z",
          "start_time": "2021-03-03T14:44:52.114180Z"
        },
        "id": "lPZI7xXr3oty"
      },
      "outputs": [],
      "source": [
        "def get_weights(network):\n",
        "    weights = []\n",
        "    for layer in network:\n",
        "        for param in layer.params:\n",
        "            weights += param.ravel().tolist()\n",
        "    return np.array(weights)\n",
        "\n",
        "\n",
        "def set_weights(weights, network):\n",
        "    i = 0\n",
        "    for layer in network:\n",
        "        for param in layer.params:\n",
        "            l = param.size\n",
        "            param[:] = weights[i:i+l].reshape(param.shape)\n",
        "            i += l"
      ]
    },
    {
      "cell_type": "markdown",
      "metadata": {
        "id": "135434uq3oty"
      },
      "source": [
        "Вам нужно реализовать ту самую функцию, которую мы будем передавать в `minimize`. Эта функция должна брать на вход текущую точку (вектор всех параметров), а также список дополнительных параметров (мы будем передавать через них нашу сеть и обучающие данные) и возвращать значение критерия качества (NLL) и его градиент по параметрам модели."
      ]
    },
    {
      "cell_type": "code",
      "execution_count": 26,
      "metadata": {
        "ExecuteTime": {
          "end_time": "2021-03-03T14:44:52.143103Z",
          "start_time": "2021-03-03T14:44:52.131134Z"
        },
        "id": "GyjJILnY3ot0"
      },
      "outputs": [],
      "source": [
        "def compute_loss_grad(weights, args):\n",
        "    \"\"\"\n",
        "    takes current weights and computes cross-entropy and gradients\n",
        "    weights shape: [num_parameters]\n",
        "    output 1: loss (scalar)\n",
        "    output 2: gradint w.r.t. weights, shape: [num_parameters]\n",
        "    \n",
        "    hint: firstly perform forward pass through the whole network\n",
        "    then compute loss and its gradients\n",
        "    then perform backward pass, transmitting first baskward output\n",
        "    to the previos layer and saving second baskward output in a list\n",
        "    finally flatten all the gradients in this list\n",
        "    (in the order from the first to the last layer)\n",
        "    \n",
        "    Do not forget to set weights of the network!\n",
        "    \"\"\"\n",
        "    network, X, y = args\n",
        "    set_weights(weights, network)\n",
        "    res = forward(network , X)\n",
        "    NLL_loss = NLL(res, y)\n",
        "    NLL_grad = grad_NLL(res, y)\n",
        "    grad_params = list()\n",
        "    for i in range(len(network)-1,-1,-1):\n",
        "      NLL_grad, params = network[i].backward(NLL_grad)\n",
        "      grad_params.append(params)\n",
        "    return NLL_loss, np.concatenate(grad_params[::-1], axis=0)"
      ]
    },
    {
      "cell_type": "markdown",
      "metadata": {
        "id": "x3Ng9-aF3ot0"
      },
      "source": [
        "Теперь мы готовы обучать нашу нейросеть. "
      ]
    },
    {
      "cell_type": "code",
      "execution_count": 27,
      "metadata": {
        "ExecuteTime": {
          "end_time": "2021-03-03T14:44:52.175017Z",
          "start_time": "2021-03-03T14:44:52.148090Z"
        },
        "id": "jzD8u_cF3ot0"
      },
      "outputs": [],
      "source": [
        "weights = get_weights(network)"
      ]
    },
    {
      "cell_type": "code",
      "execution_count": 28,
      "metadata": {
        "ExecuteTime": {
          "end_time": "2021-03-03T14:44:53.078366Z",
          "start_time": "2021-03-03T14:44:52.179006Z"
        },
        "id": "UWe9jB_w3ot0"
      },
      "outputs": [],
      "source": [
        "res = minimize(\n",
        "    compute_loss_grad, weights,       # fun and start point\n",
        "    args=[network, X_train, y_train], # args passed to fun\n",
        "    method=\"L-BFGS-B\",                # optimization method\n",
        "    jac=True                          # says that gradient is computed in fun\n",
        ")"
      ]
    },
    {
      "cell_type": "code",
      "execution_count": 29,
      "metadata": {
        "ExecuteTime": {
          "end_time": "2021-03-03T14:44:53.093332Z",
          "start_time": "2021-03-03T14:44:53.081402Z"
        },
        "colab": {
          "base_uri": "https://localhost:8080/"
        },
        "id": "PlvTxKJu3ot0",
        "outputId": "de8440d0-23b2-47e8-a8ae-adef8ab7527e"
      },
      "outputs": [
        {
          "output_type": "execute_result",
          "data": {
            "text/plain": [
              "dict_keys(['fun', 'jac', 'nfev', 'nit', 'status', 'message', 'x', 'success', 'hess_inv'])"
            ]
          },
          "metadata": {},
          "execution_count": 29
        }
      ],
      "source": [
        "res.keys()"
      ]
    },
    {
      "cell_type": "code",
      "execution_count": 30,
      "metadata": {
        "ExecuteTime": {
          "end_time": "2021-03-03T14:44:53.109290Z",
          "start_time": "2021-03-03T14:44:53.096325Z"
        },
        "scrolled": true,
        "colab": {
          "base_uri": "https://localhost:8080/"
        },
        "id": "Pzx_aqxb3ot3",
        "outputId": "cd618959-c534-40a2-e6be-906e73f865bf"
      },
      "outputs": [
        {
          "output_type": "execute_result",
          "data": {
            "text/plain": [
              "145"
            ]
          },
          "metadata": {},
          "execution_count": 30
        }
      ],
      "source": [
        "res[\"nit\"] # number of iterations (should be >> 10)"
      ]
    },
    {
      "cell_type": "code",
      "execution_count": 31,
      "metadata": {
        "ExecuteTime": {
          "end_time": "2021-03-03T14:44:53.125246Z",
          "start_time": "2021-03-03T14:44:53.112286Z"
        },
        "colab": {
          "base_uri": "https://localhost:8080/"
        },
        "id": "FrbPn2ip3ot3",
        "outputId": "420964b4-d091-4242-aa5e-3dc765560476"
      },
      "outputs": [
        {
          "output_type": "execute_result",
          "data": {
            "text/plain": [
              "True"
            ]
          },
          "metadata": {},
          "execution_count": 31
        }
      ],
      "source": [
        "res[\"success\"] # should be True"
      ]
    },
    {
      "cell_type": "code",
      "execution_count": 32,
      "metadata": {
        "ExecuteTime": {
          "end_time": "2021-03-03T14:44:53.140244Z",
          "start_time": "2021-03-03T14:44:53.128239Z"
        },
        "colab": {
          "base_uri": "https://localhost:8080/"
        },
        "id": "LKV7y_nb3ot3",
        "outputId": "0d7a9322-5d37-4a6f-e1dd-6e94bfec769a"
      },
      "outputs": [
        {
          "output_type": "execute_result",
          "data": {
            "text/plain": [
              "array([-0.00860134,  0.01098774,  0.00586913, ..., -0.85351471,\n",
              "       -1.76814956, -0.33803175])"
            ]
          },
          "metadata": {},
          "execution_count": 32
        }
      ],
      "source": [
        "res[\"x\"] # leraned weights"
      ]
    },
    {
      "cell_type": "markdown",
      "metadata": {
        "id": "pXUScBT63ot3"
      },
      "source": [
        "Выведите качество на обучении (`X_train`, `y_train`) и на контроле (`X_test`, `y_test`). Не забудьте установить веса!"
      ]
    },
    {
      "cell_type": "code",
      "execution_count": 33,
      "metadata": {
        "ExecuteTime": {
          "end_time": "2021-03-03T14:44:53.172124Z",
          "start_time": "2021-03-03T14:44:53.144212Z"
        },
        "colab": {
          "base_uri": "https://localhost:8080/"
        },
        "id": "URqbDHFy3ot3",
        "outputId": "f1f2c04d-0a74-45d7-c667-f1f7eb68c3e8"
      },
      "outputs": [
        {
          "output_type": "stream",
          "name": "stdout",
          "text": [
            "Accuracy на трейне: 1.000\n",
            "Accuracy на тесте: 0.951\n"
          ]
        }
      ],
      "source": [
        "### Accuracy (Train / Test): 1.000 / 0.947\n",
        "set_weights(res['x'],network)\n",
        "print('Accuracy на трейне: {0:1.3f}' .format(np.sum(predict(network, X_train) == y_train)/y_train.shape[0]))\n",
        "print('Accuracy на тесте: {0:1.3f}' .format(np.sum(predict(network, X_test) == y_test)/y_test.shape[0]))"
      ]
    },
    {
      "cell_type": "markdown",
      "metadata": {
        "id": "FZq2a0Cg3ot4"
      },
      "source": [
        "У `minimize` есть также аргумент `callback` — в нее можно передать функцию, которая будет вызываться после каждой итерации оптимизации. Такую функцию удобно оформить в виде метода класса, который будет сохранять качество на обучении контроле после каждой итерации. Реализуйте этот метод в классе `Callback`:"
      ]
    },
    {
      "cell_type": "code",
      "execution_count": 34,
      "metadata": {
        "ExecuteTime": {
          "end_time": "2021-03-03T14:44:53.188082Z",
          "start_time": "2021-03-03T14:44:53.175117Z"
        },
        "id": "Owu6-aW33ot4"
      },
      "outputs": [],
      "source": [
        "class Callback:\n",
        "    def __init__(self, network, X_train, y_train, X_test, y_test, print=False):\n",
        "        self.network = network\n",
        "        self.X_train = X_train\n",
        "        self.X_test = X_test\n",
        "        self.y_train = y_train\n",
        "        self.y_test = y_test\n",
        "        self.print = print\n",
        "        self.train_acc = []\n",
        "        self.test_acc = []\n",
        "        \n",
        "    def call(self, weights):\n",
        "        \"\"\"\n",
        "        Computes quality on train and test set with given weights\n",
        "        and saves to self.train_acc and self.test_acc.\n",
        "        If self.print is True, also prints these 2 values\n",
        "        \"\"\"\n",
        "        self.test_acc.append(np.sum(predict(self.network, self.X_test) == self.y_test)/self.y_test.shape[0])\n",
        "        self.train_acc.append(np.sum(predict(self.network, self.X_train) == self.y_train)/self.y_train.shape[0])\n",
        "        if self.print is True:\n",
        "          print('Accuracy (Train / Test): {0:1.3f}' .format(self.train_acc[-1]) , '/ {0:1.3f}' .format(self.test_acc[-1]))"
      ]
    },
    {
      "cell_type": "code",
      "execution_count": 35,
      "metadata": {
        "ExecuteTime": {
          "end_time": "2021-03-03T14:44:54.497924Z",
          "start_time": "2021-03-03T14:44:53.191074Z"
        },
        "colab": {
          "base_uri": "https://localhost:8080/"
        },
        "id": "ONwKILRF3ot4",
        "outputId": "69cffb08-07c4-414d-d278-1a1ee84c1ae9"
      },
      "outputs": [
        {
          "output_type": "stream",
          "name": "stdout",
          "text": [
            "Accuracy (Train / Test): 0.106 / 0.084\n",
            "Accuracy (Train / Test): 0.202 / 0.178\n",
            "Accuracy (Train / Test): 0.202 / 0.178\n",
            "Accuracy (Train / Test): 0.252 / 0.227\n",
            "Accuracy (Train / Test): 0.293 / 0.271\n",
            "Accuracy (Train / Test): 0.269 / 0.258\n",
            "Accuracy (Train / Test): 0.427 / 0.413\n",
            "Accuracy (Train / Test): 0.530 / 0.520\n",
            "Accuracy (Train / Test): 0.673 / 0.636\n",
            "Accuracy (Train / Test): 0.702 / 0.680\n",
            "Accuracy (Train / Test): 0.716 / 0.671\n",
            "Accuracy (Train / Test): 0.732 / 0.711\n",
            "Accuracy (Train / Test): 0.762 / 0.722\n",
            "Accuracy (Train / Test): 0.774 / 0.751\n",
            "Accuracy (Train / Test): 0.772 / 0.722\n",
            "Accuracy (Train / Test): 0.791 / 0.742\n",
            "Accuracy (Train / Test): 0.794 / 0.760\n",
            "Accuracy (Train / Test): 0.794 / 0.778\n",
            "Accuracy (Train / Test): 0.794 / 0.776\n",
            "Accuracy (Train / Test): 0.808 / 0.778\n",
            "Accuracy (Train / Test): 0.811 / 0.787\n",
            "Accuracy (Train / Test): 0.826 / 0.784\n",
            "Accuracy (Train / Test): 0.838 / 0.787\n",
            "Accuracy (Train / Test): 0.840 / 0.824\n",
            "Accuracy (Train / Test): 0.839 / 0.818\n",
            "Accuracy (Train / Test): 0.847 / 0.816\n",
            "Accuracy (Train / Test): 0.854 / 0.836\n",
            "Accuracy (Train / Test): 0.870 / 0.856\n",
            "Accuracy (Train / Test): 0.877 / 0.856\n",
            "Accuracy (Train / Test): 0.877 / 0.853\n",
            "Accuracy (Train / Test): 0.882 / 0.849\n",
            "Accuracy (Train / Test): 0.886 / 0.842\n",
            "Accuracy (Train / Test): 0.879 / 0.849\n",
            "Accuracy (Train / Test): 0.895 / 0.871\n",
            "Accuracy (Train / Test): 0.896 / 0.873\n",
            "Accuracy (Train / Test): 0.901 / 0.871\n",
            "Accuracy (Train / Test): 0.902 / 0.878\n",
            "Accuracy (Train / Test): 0.902 / 0.878\n",
            "Accuracy (Train / Test): 0.909 / 0.887\n",
            "Accuracy (Train / Test): 0.918 / 0.907\n",
            "Accuracy (Train / Test): 0.925 / 0.911\n",
            "Accuracy (Train / Test): 0.927 / 0.909\n",
            "Accuracy (Train / Test): 0.932 / 0.922\n",
            "Accuracy (Train / Test): 0.929 / 0.918\n",
            "Accuracy (Train / Test): 0.931 / 0.918\n",
            "Accuracy (Train / Test): 0.933 / 0.913\n",
            "Accuracy (Train / Test): 0.939 / 0.920\n",
            "Accuracy (Train / Test): 0.941 / 0.931\n",
            "Accuracy (Train / Test): 0.942 / 0.931\n",
            "Accuracy (Train / Test): 0.945 / 0.929\n",
            "Accuracy (Train / Test): 0.947 / 0.924\n",
            "Accuracy (Train / Test): 0.950 / 0.933\n",
            "Accuracy (Train / Test): 0.949 / 0.929\n",
            "Accuracy (Train / Test): 0.957 / 0.936\n",
            "Accuracy (Train / Test): 0.952 / 0.933\n",
            "Accuracy (Train / Test): 0.955 / 0.936\n",
            "Accuracy (Train / Test): 0.958 / 0.936\n",
            "Accuracy (Train / Test): 0.958 / 0.936\n",
            "Accuracy (Train / Test): 0.959 / 0.931\n",
            "Accuracy (Train / Test): 0.964 / 0.931\n",
            "Accuracy (Train / Test): 0.961 / 0.938\n",
            "Accuracy (Train / Test): 0.962 / 0.940\n",
            "Accuracy (Train / Test): 0.965 / 0.940\n",
            "Accuracy (Train / Test): 0.967 / 0.942\n",
            "Accuracy (Train / Test): 0.967 / 0.944\n",
            "Accuracy (Train / Test): 0.966 / 0.938\n",
            "Accuracy (Train / Test): 0.971 / 0.938\n",
            "Accuracy (Train / Test): 0.970 / 0.940\n",
            "Accuracy (Train / Test): 0.971 / 0.940\n",
            "Accuracy (Train / Test): 0.971 / 0.938\n",
            "Accuracy (Train / Test): 0.973 / 0.944\n",
            "Accuracy (Train / Test): 0.976 / 0.947\n",
            "Accuracy (Train / Test): 0.978 / 0.942\n",
            "Accuracy (Train / Test): 0.978 / 0.940\n",
            "Accuracy (Train / Test): 0.978 / 0.942\n",
            "Accuracy (Train / Test): 0.978 / 0.936\n",
            "Accuracy (Train / Test): 0.982 / 0.938\n",
            "Accuracy (Train / Test): 0.986 / 0.942\n",
            "Accuracy (Train / Test): 0.988 / 0.944\n",
            "Accuracy (Train / Test): 0.987 / 0.951\n",
            "Accuracy (Train / Test): 0.989 / 0.944\n",
            "Accuracy (Train / Test): 0.990 / 0.947\n",
            "Accuracy (Train / Test): 0.987 / 0.949\n",
            "Accuracy (Train / Test): 0.989 / 0.947\n",
            "Accuracy (Train / Test): 0.988 / 0.940\n",
            "Accuracy (Train / Test): 0.990 / 0.942\n",
            "Accuracy (Train / Test): 0.990 / 0.944\n",
            "Accuracy (Train / Test): 0.991 / 0.942\n",
            "Accuracy (Train / Test): 0.990 / 0.944\n",
            "Accuracy (Train / Test): 0.992 / 0.947\n",
            "Accuracy (Train / Test): 0.992 / 0.944\n",
            "Accuracy (Train / Test): 0.993 / 0.942\n",
            "Accuracy (Train / Test): 0.991 / 0.936\n",
            "Accuracy (Train / Test): 0.990 / 0.944\n",
            "Accuracy (Train / Test): 0.993 / 0.938\n",
            "Accuracy (Train / Test): 0.993 / 0.938\n",
            "Accuracy (Train / Test): 0.992 / 0.942\n",
            "Accuracy (Train / Test): 0.995 / 0.940\n",
            "Accuracy (Train / Test): 0.995 / 0.942\n",
            "Accuracy (Train / Test): 0.995 / 0.942\n",
            "Accuracy (Train / Test): 0.998 / 0.940\n",
            "Accuracy (Train / Test): 0.997 / 0.940\n",
            "Accuracy (Train / Test): 0.997 / 0.940\n",
            "Accuracy (Train / Test): 0.999 / 0.944\n",
            "Accuracy (Train / Test): 0.999 / 0.956\n",
            "Accuracy (Train / Test): 1.000 / 0.958\n",
            "Accuracy (Train / Test): 1.000 / 0.956\n",
            "Accuracy (Train / Test): 1.000 / 0.953\n",
            "Accuracy (Train / Test): 1.000 / 0.953\n",
            "Accuracy (Train / Test): 1.000 / 0.953\n",
            "Accuracy (Train / Test): 1.000 / 0.956\n",
            "Accuracy (Train / Test): 1.000 / 0.958\n",
            "Accuracy (Train / Test): 1.000 / 0.958\n",
            "Accuracy (Train / Test): 1.000 / 0.953\n",
            "Accuracy (Train / Test): 1.000 / 0.956\n",
            "Accuracy (Train / Test): 1.000 / 0.953\n",
            "Accuracy (Train / Test): 1.000 / 0.953\n",
            "Accuracy (Train / Test): 1.000 / 0.958\n",
            "Accuracy (Train / Test): 1.000 / 0.958\n",
            "Accuracy (Train / Test): 1.000 / 0.956\n",
            "Accuracy (Train / Test): 1.000 / 0.956\n",
            "Accuracy (Train / Test): 1.000 / 0.953\n",
            "Accuracy (Train / Test): 1.000 / 0.958\n",
            "Accuracy (Train / Test): 1.000 / 0.958\n",
            "Accuracy (Train / Test): 1.000 / 0.956\n",
            "Accuracy (Train / Test): 1.000 / 0.951\n",
            "Accuracy (Train / Test): 1.000 / 0.949\n",
            "Accuracy (Train / Test): 1.000 / 0.951\n",
            "Accuracy (Train / Test): 1.000 / 0.951\n",
            "Accuracy (Train / Test): 1.000 / 0.951\n",
            "Accuracy (Train / Test): 1.000 / 0.951\n",
            "Accuracy (Train / Test): 1.000 / 0.951\n",
            "Accuracy (Train / Test): 1.000 / 0.951\n",
            "Accuracy (Train / Test): 1.000 / 0.951\n",
            "Accuracy (Train / Test): 1.000 / 0.951\n",
            "Accuracy (Train / Test): 1.000 / 0.953\n",
            "Accuracy (Train / Test): 1.000 / 0.956\n",
            "Accuracy (Train / Test): 1.000 / 0.956\n",
            "Accuracy (Train / Test): 1.000 / 0.956\n",
            "Accuracy (Train / Test): 1.000 / 0.953\n",
            "Accuracy (Train / Test): 1.000 / 0.953\n",
            "Accuracy (Train / Test): 1.000 / 0.953\n",
            "Accuracy (Train / Test): 1.000 / 0.953\n",
            "Accuracy (Train / Test): 1.000 / 0.953\n",
            "Accuracy (Train / Test): 1.000 / 0.951\n"
          ]
        }
      ],
      "source": [
        "cb = Callback(network, X_train, y_train, X_test, y_test, print=True)\n",
        "\n",
        "res = minimize(\n",
        "    compute_loss_grad, weights,  \n",
        "    args=[network, X_train, y_train], \n",
        "    method=\"L-BFGS-B\",\n",
        "    jac=True,\n",
        "    callback=cb.call\n",
        ")"
      ]
    },
    {
      "cell_type": "markdown",
      "metadata": {
        "id": "72MjWy003ot4"
      },
      "source": [
        "Изобразите на графике кривую качества на обучени и контроле по итерациям:"
      ]
    },
    {
      "cell_type": "code",
      "execution_count": 36,
      "metadata": {
        "ExecuteTime": {
          "end_time": "2021-03-03T14:44:54.816117Z",
          "start_time": "2021-03-03T14:44:54.500922Z"
        },
        "colab": {
          "base_uri": "https://localhost:8080/",
          "height": 369
        },
        "id": "ueX-yjIO3ot4",
        "outputId": "34164429-d589-4769-927a-bbcf6e5a8225"
      },
      "outputs": [
        {
          "output_type": "display_data",
          "data": {
            "image/png": "[encoded data removed]",
            "text/plain": [
              "<Figure size 720x360 with 1 Axes>"
            ]
          },
          "metadata": {
            "needs_background": "light"
          }
        }
      ],
      "source": [
        "fig, ax = plt.subplots(1, 1, figsize=(10, 5))\n",
        "ax.plot(cb.train_acc, label=\"train acc\")\n",
        "ax.plot(cb.test_acc, label=\"test acc\")\n",
        "ax.set_xlabel(\"Iteration\")\n",
        "ax.set_ylabel(\"Accuracy\")\n",
        "ax.grid(True)\n",
        "ax.legend()\n",
        "\n",
        "fig.tight_layout()\n",
        "plt.show()"
      ]
    },
    {
      "cell_type": "markdown",
      "metadata": {
        "id": "JD5yRsXW3ot4"
      },
      "source": [
        "## Эксперименты с числом слоев (1 балл)"
      ]
    },
    {
      "cell_type": "markdown",
      "metadata": {
        "id": "Vy_1mxFR3ot4"
      },
      "source": [
        "Ясно, что из-за случайного начального приближения с каждым запуском обучения мы будем получать различное качество. Попробуем обучить нашу нейросеть с разным числом слоев несколько раз.\n",
        "\n",
        "Заполните матрицы `accs_train` и `accs_test`. В позиции `[i, j]` должна стоять величина доли правильных ответов сети с $i+1$ полносвязными слоями при $j$-м запуске (все запуски идентичны)."
      ]
    },
    {
      "cell_type": "code",
      "execution_count": 37,
      "metadata": {
        "ExecuteTime": {
          "end_time": "2021-03-03T14:44:54.832074Z",
          "start_time": "2021-03-03T14:44:54.819071Z"
        },
        "id": "y5inhfJv3ot5"
      },
      "outputs": [],
      "source": [
        "accs_train = np.zeros((5, 5))\n",
        "accs_test = np.zeros((5, 5))"
      ]
    },
    {
      "cell_type": "code",
      "execution_count": 38,
      "metadata": {
        "ExecuteTime": {
          "end_time": "2021-03-03T14:45:56.444624Z",
          "start_time": "2021-03-03T14:44:54.836024Z"
        },
        "id": "3jaTztty3ot5"
      },
      "outputs": [],
      "source": [
        "for i in range(5):\n",
        "  for j in range(5):\n",
        "     net = make_network(input_size, hidden_layers_size, output_size, n_layers= i+1, activation_class=ReLU)\n",
        "     res = minimize(\n",
        "      compute_loss_grad, get_weights(net),       \n",
        "      args=[net, X_train, y_train], \n",
        "      method=\"L-BFGS-B\",                \n",
        "      jac=True                          \n",
        "     )\n",
        "     accs_test[i, j] = np.sum(predict(net, X_test) == y_test)/y_test.shape[0]\n",
        "     accs_train[i, j] = np.sum(predict(net, X_train) == y_train)/y_train.shape[0]"
      ]
    },
    {
      "cell_type": "markdown",
      "metadata": {
        "id": "BLv1PmX93ot5"
      },
      "source": [
        "Построим боксплоты полученного качества (горизонтальная линия в каждом столбце — среднее, прямоугольник показывает разброс)."
      ]
    },
    {
      "cell_type": "code",
      "execution_count": 39,
      "metadata": {
        "ExecuteTime": {
          "end_time": "2021-03-03T14:45:57.060827Z",
          "start_time": "2021-03-03T14:45:56.447467Z"
        },
        "colab": {
          "base_uri": "https://localhost:8080/",
          "height": 585
        },
        "id": "EXBMi_Gh3ot5",
        "outputId": "02f28016-2d7e-48a2-9945-0fd31b620e28"
      },
      "outputs": [
        {
          "output_type": "display_data",
          "data": {
            "image/png": "[encoded data removed]",
            "text/plain": [
              "<Figure size 720x576 with 2 Axes>"
            ]
          },
          "metadata": {
            "needs_background": "light"
          }
        }
      ],
      "source": [
        "fig, axes = plt.subplots(2, 1, figsize=(10, 8))\n",
        "\n",
        "axes[0].boxplot(accs_train.T, showfliers=False)\n",
        "axes[1].boxplot(accs_test.T, showfliers=False)\n",
        "\n",
        "axes[0].set_xlabel(\"Number of layers\")\n",
        "axes[1].set_xlabel(\"Number of layers\")\n",
        "\n",
        "axes[0].set_ylabel(\"Train accuracy\")\n",
        "axes[1].set_ylabel(\"Test accuracy\")\n",
        "\n",
        "axes[0].set_title(\"Train quality in 5 runs\")\n",
        "axes[1].set_title(\"Test quality in 5 runs\")\n",
        "\n",
        "axes[0].grid(True)\n",
        "axes[1].grid(True)\n",
        "\n",
        "fig.tight_layout()\n",
        "plt.show()"
      ]
    },
    {
      "cell_type": "markdown",
      "metadata": {
        "id": "CcCJVy_Z3ot5"
      },
      "source": [
        "Дайте развёрнутый ответ на вопросы (в этой же ячейке):\n",
        "* Как изменяются качество на обучении и контроле и устойчивость процесса обучения при увеличении числа слоев?\n",
        "* Можно ли сказать, что логистическая регрессия (линейная модель) дает качество хуже, чем нелинейная модель?\n",
        "\n",
        "__Ответы:__\n",
        "\n",
        "1) При увеличении числа слоев качество на обучении постоянно и равно 1.0 (то есть модели переобучаются).\n",
        "\n",
        "2) При увеличении числа слоев до 3-х качество на контроле растет, затем начинает уменьшаться (но были и эксперименты, где пик качества достигался на 2-х или 4-х слойной сети). Также можно заметить, что растет и разброс при увеличении числа слоев (с 3-х до 5-ти). Возможно, это связано с тем, что модель усложняется.\n",
        "\n",
        "3) Что касается логистической регресии, то она показывает не самое худшее качество в нашем эксперименте. Качество на ней выше, чем в 5-ти слойной модели, а разброс меньше (в силу простоты модели). Были и эксперименты, где линейная модель показывала качество лучше, чем и 4-х слойная сеть."
      ]
    },
    {
      "cell_type": "markdown",
      "metadata": {
        "id": "tExNcvdT3ot5"
      },
      "source": [
        "## Эксперименты c различными инициализациями весов (1 балл)"
      ]
    },
    {
      "cell_type": "markdown",
      "metadata": {
        "id": "h86A_0r73ot5"
      },
      "source": [
        "Как уже было сказано, начальная инициализация весов нейронной сети может сильно влиять на процесс ее обучения и, как следствие, на ее качество.\n",
        "\n",
        "В этом пункте вам предлагается попробовать обучить несколько нейронных сетей с различными инициализациями слоев.\n",
        "\n",
        "Для этого необходимо реализовать функцию, инициализирующую веса линейных слоёв нашей нейронной сети. Добавьте в функционал данного метода возможность инициализировать его веса с помощью инициализации Kaiming (используется, если в нейронной сети в качестве функций активации используется ReLU) и инициализации Xavier (используется, если в нейронной сети в качестве функций активации используется Tanh или Sigmoid):"
      ]
    },
    {
      "cell_type": "code",
      "execution_count": 53,
      "metadata": {
        "ExecuteTime": {
          "end_time": "2021-03-03T14:45:57.075786Z",
          "start_time": "2021-03-03T14:45:57.063819Z"
        },
        "code_folding": [],
        "id": "HByag-4s3ot6"
      },
      "outputs": [],
      "source": [
        "def initialize_network(network, initialization):\n",
        "    for layer in network:\n",
        "        if isinstance(layer, Dense):\n",
        "            input_units, output_units = layer.weights.shape\n",
        "            if initialization == 'Kaiming':\n",
        "                layer.weights = np.random.normal(0, np.sqrt(2/input_units), (input_units, output_units))\n",
        "            elif initialization == 'Xavier':\n",
        "                layer.weights = np.random.normal(0, np.sqrt(2/(input_units + output_units)), (input_units, output_units))\n",
        "            else:\n",
        "                # Initialize weights with small random numbers from normal distribution.\n",
        "                # In this case `initialization` represents a standard deviation\n",
        "                # for normal distribution.\n",
        "                layer.weights = np.random.randn(input_units, output_units) * initialization\n",
        "            layer.biases = np.zeros_like(layer.biases)\n",
        "            \n",
        "            layer.params = [layer.weights, layer.biases]"
      ]
    },
    {
      "cell_type": "markdown",
      "metadata": {
        "id": "zCaYOaqt3ot6"
      },
      "source": [
        "Теперь попробуйте для каждой из 3 инициализаций обучить нейронную сеть несколько раз. Попробуйте проделать данную операцию при зафиксированном числе слоев равным 3, 4 и 5."
      ]
    },
    {
      "cell_type": "markdown",
      "metadata": {
        "id": "L_Zwl2vT3ot6"
      },
      "source": [
        "### 3 слоя\n",
        "\n",
        "Зафиксируйте в сети число слоев равное трем."
      ]
    },
    {
      "cell_type": "markdown",
      "metadata": {
        "id": "otxxHyH33ot6"
      },
      "source": [
        "Заполните матрицы `accs_train` и `accs_test`. В позиции `[i, j]` должна стоять величина доли правильных ответов сети при $j$-м запуске (все запуски идентичны) с инициализацией Kaiming при $i = 3$, с инициализацией Xavier при $i = 4$ и с инициализацией из нормального распределения с фиксированными параметрами при $0 \\leqslant i \\leqslant 2$ (попробуйте здесь 3 разных параметра для стандартного отклонения для нормального распределения, например: `1e-3`, `1e-2`, `1e-1`). Заметьте, что при большом числе слоев слишком низкое стандартное отклонение может не давать нейронной сети нормально обучиться."
      ]
    },
    {
      "cell_type": "code",
      "execution_count": 54,
      "metadata": {
        "ExecuteTime": {
          "end_time": "2021-03-03T14:45:57.091744Z",
          "start_time": "2021-03-03T14:45:57.079777Z"
        },
        "id": "SGxPDer23ot6"
      },
      "outputs": [],
      "source": [
        "init_vars = [1e-3, 1e-2, 1e-1, 'Kaiming', 'Xavier']"
      ]
    },
    {
      "cell_type": "code",
      "execution_count": 55,
      "metadata": {
        "ExecuteTime": {
          "end_time": "2021-03-03T14:45:57.107701Z",
          "start_time": "2021-03-03T14:45:57.094737Z"
        },
        "id": "8IQ4VVrJ3ot6"
      },
      "outputs": [],
      "source": [
        "accs_train = np.zeros((5, 5))\n",
        "accs_test = np.zeros((5, 5))"
      ]
    },
    {
      "cell_type": "code",
      "execution_count": 56,
      "metadata": {
        "ExecuteTime": {
          "end_time": "2021-03-03T14:46:27.904407Z",
          "start_time": "2021-03-03T14:45:57.111690Z"
        },
        "id": "lECKPbLp3ot6"
      },
      "outputs": [],
      "source": [
        "for i in range(5):\n",
        "  for j in range(5):\n",
        "    net = make_network(input_size, hidden_layers_size, output_size, n_layers=3, activation_class=ReLU)\n",
        "    initialize_network(net,init_vars[i])\n",
        "    res = minimize(\n",
        "      compute_loss_grad, get_weights(net),       \n",
        "      args=[net, X_train, y_train], \n",
        "      method=\"L-BFGS-B\",                \n",
        "      jac=True                          \n",
        "    )\n",
        "    accs_test[i, j] = np.sum(predict(net, X_test) == y_test)/y_test.shape[0]\n",
        "    accs_train[i, j] = np.sum(predict(net, X_train) == y_train)/y_train.shape[0]"
      ]
    },
    {
      "cell_type": "markdown",
      "metadata": {
        "id": "6B5EnP0t3ot6"
      },
      "source": [
        "Построим боксплоты полученного качества (горизонтальная линия в каждом столбце — среднее, прямоугольник показывает разброс)."
      ]
    },
    {
      "cell_type": "code",
      "execution_count": 57,
      "metadata": {
        "ExecuteTime": {
          "end_time": "2021-03-03T14:46:28.632502Z",
          "start_time": "2021-03-03T14:46:27.907401Z"
        },
        "scrolled": false,
        "colab": {
          "base_uri": "https://localhost:8080/",
          "height": 513
        },
        "id": "4jYNOtR63ot6",
        "outputId": "683e1b9c-89a6-46e4-bce7-1c5f4a59aa5e"
      },
      "outputs": [
        {
          "output_type": "display_data",
          "data": {
            "image/png": "[encoded data removed]",
            "text/plain": [
              "<Figure size 720x504 with 2 Axes>"
            ]
          },
          "metadata": {
            "needs_background": "light"
          }
        }
      ],
      "source": [
        "#P.S.: я добавил выводы боксплотов для обучения, так как дальше есть соответствующие вопросы по ним\n",
        "init_vars_for_plot = [(x if isinstance(x, str) else fr\"$\\sigma = {x}$\") for x in init_vars]\n",
        "\n",
        "fig, ax = plt.subplots(2, 1, figsize=(10, 7))\n",
        "\n",
        "ax[0].boxplot(accs_train.T, labels=init_vars_for_plot, showfliers=False)\n",
        "ax[0].set_title(\"Train quality in 5 runs\")\n",
        "ax[0].set_xlabel(\"Initialization\")\n",
        "ax[0].set_ylabel(\"Train accuracy\")\n",
        "ax[0].grid(True)\n",
        "\n",
        "ax[1].boxplot(accs_test.T, labels=init_vars_for_plot, showfliers=False)\n",
        "ax[1].set_title(\"Test quality in 5 runs\")\n",
        "ax[1].set_xlabel(\"Initialization\")\n",
        "ax[1].set_ylabel(\"Test accuracy\")\n",
        "ax[1].grid(True)\n",
        "\n",
        "fig.tight_layout()\n",
        "plt.show()"
      ]
    },
    {
      "cell_type": "markdown",
      "metadata": {
        "id": "XTuZH2Ui3ot7"
      },
      "source": [
        "### 4 слоя\n",
        "\n",
        "Выполните тут тот же код, что и в предыдущем пункте, но только уже с 4 слоями в сети."
      ]
    },
    {
      "cell_type": "code",
      "execution_count": 58,
      "metadata": {
        "ExecuteTime": {
          "end_time": "2021-03-03T14:45:57.091744Z",
          "start_time": "2021-03-03T14:45:57.079777Z"
        },
        "id": "J9--tMiv3ot7"
      },
      "outputs": [],
      "source": [
        "init_vars = [5e-3, 1e-2, 1e-1, 'Kaiming', 'Xavier']"
      ]
    },
    {
      "cell_type": "code",
      "execution_count": 59,
      "metadata": {
        "ExecuteTime": {
          "end_time": "2021-03-03T14:45:57.107701Z",
          "start_time": "2021-03-03T14:45:57.094737Z"
        },
        "id": "5R8cNe-e3ot7"
      },
      "outputs": [],
      "source": [
        "accs_train = np.zeros((5, 5))\n",
        "accs_test = np.zeros((5, 5))"
      ]
    },
    {
      "cell_type": "code",
      "execution_count": 60,
      "metadata": {
        "ExecuteTime": {
          "end_time": "2021-03-03T14:46:27.904407Z",
          "start_time": "2021-03-03T14:45:57.111690Z"
        },
        "id": "9B445oTL3ot7"
      },
      "outputs": [],
      "source": [
        "for i in range(5):\n",
        "  for j in range(5):\n",
        "    net = make_network(input_size, hidden_layers_size, output_size, n_layers=4, activation_class=ReLU)\n",
        "    initialize_network(net,init_vars[i])\n",
        "    res = minimize(\n",
        "      compute_loss_grad, get_weights(net),       \n",
        "      args=[net, X_train, y_train], \n",
        "      method=\"L-BFGS-B\",                \n",
        "      jac=True                          \n",
        "    )\n",
        "    accs_test[i, j] = np.sum(predict(net, X_test) == y_test)/y_test.shape[0]\n",
        "    accs_train[i, j] = np.sum(predict(net, X_train) == y_train)/y_train.shape[0]"
      ]
    },
    {
      "cell_type": "markdown",
      "metadata": {
        "id": "Y04jHFC53ot7"
      },
      "source": [
        "Построим боксплоты полученного качества (горизонтальная линия в каждом столбце — среднее, прямоугольник показывает разброс)."
      ]
    },
    {
      "cell_type": "code",
      "execution_count": 61,
      "metadata": {
        "ExecuteTime": {
          "end_time": "2021-03-03T14:46:28.632502Z",
          "start_time": "2021-03-03T14:46:27.907401Z"
        },
        "scrolled": false,
        "colab": {
          "base_uri": "https://localhost:8080/",
          "height": 513
        },
        "id": "2twqLqR63ot7",
        "outputId": "b86daba2-608d-48ee-8e80-0098371ddf06"
      },
      "outputs": [
        {
          "output_type": "display_data",
          "data": {
            "image/png": "[encoded data removed]",
            "text/plain": [
              "<Figure size 720x504 with 2 Axes>"
            ]
          },
          "metadata": {
            "needs_background": "light"
          }
        }
      ],
      "source": [
        "#P.S.: я добавил выводы боксплотов для обучения, так как дальше есть соответствующие вопросы по ним\n",
        "init_vars_for_plot = [(x if isinstance(x, str) else fr\"$\\sigma = {x}$\") for x in init_vars]\n",
        "\n",
        "fig, ax = plt.subplots(2, 1, figsize=(10, 7))\n",
        "\n",
        "ax[0].boxplot(accs_train.T, labels=init_vars_for_plot, showfliers=False)\n",
        "ax[0].set_title(\"Train quality in 5 runs\")\n",
        "ax[0].set_xlabel(\"Initialization\")\n",
        "ax[0].set_ylabel(\"Train accuracy\")\n",
        "ax[0].grid(True)\n",
        "\n",
        "ax[1].boxplot(accs_test.T, labels=init_vars_for_plot, showfliers=False)\n",
        "ax[1].set_title(\"Test quality in 5 runs\")\n",
        "ax[1].set_xlabel(\"Initialization\")\n",
        "ax[1].set_ylabel(\"Test accuracy\")\n",
        "ax[1].grid(True)\n",
        "\n",
        "fig.tight_layout()\n",
        "plt.show()"
      ]
    },
    {
      "cell_type": "markdown",
      "metadata": {
        "id": "eUTCI8SF3ot8"
      },
      "source": [
        "### 5 слоев\n",
        "\n",
        "Выполните тут тот же код, что и в предыдущем пункте, но только уже с 5 слоями в сети."
      ]
    },
    {
      "cell_type": "code",
      "execution_count": 62,
      "metadata": {
        "ExecuteTime": {
          "end_time": "2021-03-03T14:45:57.091744Z",
          "start_time": "2021-03-03T14:45:57.079777Z"
        },
        "id": "0sfvaglc3ot8"
      },
      "outputs": [],
      "source": [
        "init_vars = [1e-2, 1e-1, 1e0, 'Kaiming', 'Xavier']"
      ]
    },
    {
      "cell_type": "code",
      "execution_count": 63,
      "metadata": {
        "ExecuteTime": {
          "end_time": "2021-03-03T14:45:57.107701Z",
          "start_time": "2021-03-03T14:45:57.094737Z"
        },
        "id": "JlacUwwJ3ot8"
      },
      "outputs": [],
      "source": [
        "accs_train = np.zeros((5, 5))\n",
        "accs_test = np.zeros((5, 5))"
      ]
    },
    {
      "cell_type": "code",
      "execution_count": 66,
      "metadata": {
        "ExecuteTime": {
          "end_time": "2021-03-03T14:46:27.904407Z",
          "start_time": "2021-03-03T14:45:57.111690Z"
        },
        "id": "dRxeSQKv3ot8"
      },
      "outputs": [],
      "source": [
        "for i in range(5):\n",
        "  for j in range(5):\n",
        "    net = make_network(input_size, hidden_layers_size, output_size, n_layers=5, activation_class=ReLU)\n",
        "    initialize_network(net,init_vars[i])\n",
        "    res = minimize(\n",
        "      compute_loss_grad, get_weights(net),       \n",
        "      args=[net, X_train, y_train], \n",
        "      method=\"L-BFGS-B\",                \n",
        "      jac=True                          \n",
        "    )\n",
        "    accs_test[i, j] = np.sum(predict(net, X_test) == y_test)/y_test.shape[0]\n",
        "    accs_train[i, j] = np.sum(predict(net, X_train) == y_train)/y_train.shape[0]"
      ]
    },
    {
      "cell_type": "markdown",
      "metadata": {
        "id": "NoqwaNdF3ot8"
      },
      "source": [
        "Построим боксплоты полученного качества (горизонтальная линия в каждом столбце — среднее, прямоугольник показывает разброс)."
      ]
    },
    {
      "cell_type": "code",
      "execution_count": 67,
      "metadata": {
        "ExecuteTime": {
          "end_time": "2021-03-03T14:46:28.632502Z",
          "start_time": "2021-03-03T14:46:27.907401Z"
        },
        "scrolled": false,
        "colab": {
          "base_uri": "https://localhost:8080/",
          "height": 729
        },
        "id": "E1HByWYr3ot8",
        "outputId": "29aff415-1deb-4584-8f62-2fb394c02c50"
      },
      "outputs": [
        {
          "output_type": "display_data",
          "data": {
            "image/png": "[encoded data removed]",
            "text/plain": [
              "<Figure size 720x720 with 3 Axes>"
            ]
          },
          "metadata": {
            "needs_background": "light"
          }
        }
      ],
      "source": [
        "#P.S.: я добавил выводы боксплотов для обучения, так как дальше есть соответствующие вопросы по ним\n",
        "#а также дополнительные повтор боксплотов на тесте без сигмы = 1 (так как на ней сильно проседает качество)\n",
        "init_vars_for_plot = [(x if isinstance(x, str) else fr\"$\\sigma = {x}$\") for x in init_vars]\n",
        "\n",
        "fig, ax = plt.subplots(3, 1, figsize=(10, 10))\n",
        "\n",
        "ax[0].boxplot(accs_train.T, labels=init_vars_for_plot, showfliers=False)\n",
        "ax[0].set_title(\"Train quality in 5 runs\")\n",
        "ax[0].set_xlabel(\"Initialization\")\n",
        "ax[0].set_ylabel(\"Train accuracy\")\n",
        "ax[0].grid(True)\n",
        "\n",
        "ax[1].boxplot(accs_test.T, labels=init_vars_for_plot, showfliers=False)\n",
        "ax[1].set_title(\"Test quality in 5 runs\")\n",
        "ax[1].set_xlabel(\"Initialization\")\n",
        "ax[1].set_ylabel(\"Test accuracy\")\n",
        "ax[1].grid(True)\n",
        "\n",
        "new_init_vars = [1e-2, 1e-1, 'Kaiming', 'Xavier']\n",
        "new_init_vars_for_plot = [(x if isinstance(x, str) else fr\"$\\sigma = {x}$\") for x in new_init_vars]\n",
        "ax[2].boxplot(np.delete(accs_test, 2, 0).T, labels=new_init_vars_for_plot, showfliers=False)\n",
        "ax[2].set_title(\"Test quality in 4 runs\")\n",
        "ax[2].set_xlabel(\"Initialization\")\n",
        "ax[2].set_ylabel(\"Test accuracy\")\n",
        "ax[2].grid(True)\n",
        "\n",
        "\n",
        "fig.tight_layout()\n",
        "plt.show()"
      ]
    },
    {
      "cell_type": "markdown",
      "metadata": {
        "id": "1SJ5SiYM3ot8"
      },
      "source": [
        "Дайте развёрнутый ответ на вопросы (в этой же ячейке):\n",
        "* Как отличаются качество на обучении и контроле и устойчивость процесса обучения при различных инициализациях?\n",
        "* Какие инициализации помогают обучать более глубокие сети?\n",
        "\n",
        "__Ответы:__\n",
        "\n",
        "1) Качество на обучении практически везде одинаковое и равно 1.0, кроме случая 5-слойной сети и инициализации с $\\sigma = 1.0$ (бывало и с $\\sigma = 0.01$), где качество заметно проседает, по сравнению с другими инициализациями (то есть в данном случае, инициализация подобрана неудачно). К тому же, разброс с такими сигмами был тоже не мал.\n",
        "\n",
        "2) Качество на тесте лучше всего у Xavier и Kaiming, поэтому для обучения более глубоких сетей лучше использовать их (причем при разных запусках Xavier может показывать качество лучше, чем Kaiming, и наоборот). Но в большинстве случаев (особенно, если количество слоев 4-5) качество было выше всё-таки на Kaiming (в принципе, что ожидаемо, так как функция активации у нас - ReLU)."
      ]
    },
    {
      "cell_type": "markdown",
      "metadata": {
        "id": "n_TdiVCE3ot8"
      },
      "source": [
        "Теперь сравним скорость обучения при различных инициализациях. Создайте два списка списков `accs_test_on_iterations`, `accs_train_on_iterations` в каждом из которых в позиции `[i]` (см. описание `i` в предыдущем пункте) будет лежать список из значений `accuracy` на тестовой и обучающей выборках соотвественно, полученных во время обучения модели. Количество слоев в сети зафиксируйте равным 4."
      ]
    },
    {
      "cell_type": "code",
      "execution_count": 68,
      "metadata": {
        "ExecuteTime": {
          "end_time": "2021-03-03T14:45:57.091744Z",
          "start_time": "2021-03-03T14:45:57.079777Z"
        },
        "id": "XEfHifHe3ot9"
      },
      "outputs": [],
      "source": [
        "init_vars = [1e-3, 1e-2, 1e-1, 'Kaiming', 'Xavier']\n",
        "init_vars_for_plot = [(x if isinstance(x, str) else fr\"$\\sigma = {x}$\") for x in init_vars]"
      ]
    },
    {
      "cell_type": "code",
      "execution_count": 69,
      "metadata": {
        "ExecuteTime": {
          "end_time": "2021-03-03T14:46:28.647453Z",
          "start_time": "2021-03-03T14:46:28.635495Z"
        },
        "id": "9UrwDcJA3ot9"
      },
      "outputs": [],
      "source": [
        "accs_test_on_iterations = []\n",
        "accs_train_on_iterations = []"
      ]
    },
    {
      "cell_type": "code",
      "execution_count": 70,
      "metadata": {
        "ExecuteTime": {
          "end_time": "2021-03-03T14:46:34.433662Z",
          "start_time": "2021-03-03T14:46:28.650417Z"
        },
        "id": "o_ZVGweg3ot9"
      },
      "outputs": [],
      "source": [
        "for i in range(len(init_vars)):\n",
        "  net = make_network(input_size, hidden_layers_size, output_size, n_layers=4, activation_class=ReLU)\n",
        "  initialize_network(net,init_vars[i])\n",
        "  cb = Callback(net, X_train, y_train, X_test, y_test, print=False)\n",
        "  res = minimize(\n",
        "    compute_loss_grad, get_weights(net),       \n",
        "    args=[net, X_train, y_train], \n",
        "    method=\"L-BFGS-B\",                \n",
        "    jac=True,   \n",
        "    callback=cb.call                    \n",
        "  )\n",
        "  accs_test_on_iterations.append(cb.test_acc)\n",
        "  accs_train_on_iterations.append(cb.train_acc)"
      ]
    },
    {
      "cell_type": "code",
      "execution_count": 71,
      "metadata": {
        "ExecuteTime": {
          "end_time": "2021-03-03T14:46:34.875348Z",
          "start_time": "2021-03-03T14:46:34.436663Z"
        },
        "colab": {
          "base_uri": "https://localhost:8080/",
          "height": 369
        },
        "id": "emuTv_xh3ot9",
        "outputId": "e0ae1680-3294-46c6-9cd1-b4395c2dccd6"
      },
      "outputs": [
        {
          "output_type": "display_data",
          "data": {
            "image/png": "[encoded data removed]",
            "text/plain": [
              "<Figure size 720x360 with 1 Axes>"
            ]
          },
          "metadata": {
            "needs_background": "light"
          }
        }
      ],
      "source": [
        "fig, ax = plt.subplots(1, 1, figsize=(10, 5))\n",
        "\n",
        "for idx, label in enumerate(init_vars_for_plot):\n",
        "    ax.plot(accs_test_on_iterations[idx], label=label)\n",
        "\n",
        "ax.set_title(\"Test quality for different initializations\")\n",
        "ax.set_xlabel(\"Epoch number\")\n",
        "ax.set_ylabel(\"Test accuracy\")\n",
        "ax.grid(True)\n",
        "ax.legend()\n",
        "\n",
        "fig.tight_layout()\n",
        "plt.show()"
      ]
    },
    {
      "cell_type": "markdown",
      "metadata": {
        "ExecuteTime": {
          "end_time": "2021-03-03T14:37:15.087902Z",
          "start_time": "2021-03-03T14:37:15.065996Z"
        },
        "id": "aPqGcDHQ3ot9"
      },
      "source": [
        "Дайте развёрнутый ответ на вопросы (в этой же ячейке):\n",
        "* Как меняется скорость обучения в зависимости от выбранной инициализации?\n",
        "\n",
        "__Ответы:__\n",
        "\n",
        "При использовании инициализации Kaiming скорость обучения самая быстрая, далее идет Xavier. Если использовать нормальное распределение с разными сигмами, то можно заметить, что при слишком малых (0.001) модель попросту не может нормально обучиться. Увеличив до 0.01 модели понадобится гораздо больше итераций, нежели чем Kaiming. Однако увеличив еще немного (до 0.1) \n",
        "модель может сходиться со скоростью в пределах от скорости сходимости Xavier до скорости сходимости с $\\sigma = 0.1$ (на разных запусках разное значение)."
      ]
    },
    {
      "cell_type": "markdown",
      "metadata": {
        "id": "GP9DKPjj3ot9"
      },
      "source": [
        "## Эксперименты c различными функциями активации (1 балл)"
      ]
    },
    {
      "cell_type": "markdown",
      "metadata": {
        "id": "RjxCQax23ot9"
      },
      "source": [
        "Проверим теперь, с какой функцией активации нейронная сеть будет обучаться лучше.\n",
        "\n",
        "В этом пункте вам предлагается попробовать обучить несколько нейронных сетей с различными функциями активации.\n",
        "\n",
        "Для этого нам нужно реализовать еще 2 слоя: для функций активации `Tanh` и `Sigmoid`."
      ]
    },
    {
      "cell_type": "code",
      "execution_count": 72,
      "metadata": {
        "ExecuteTime": {
          "end_time": "2021-03-03T14:46:34.891308Z",
          "start_time": "2021-03-03T14:46:34.878379Z"
        },
        "id": "tKkP-SyL3ot9"
      },
      "outputs": [],
      "source": [
        "class Tanh:\n",
        "    \"\"\"\n",
        "    tanh(y) = (e^y - e^(-y)) / (e^y + e^(-y))\n",
        "    Используйте функцию np.tanh для подсчета гиперболического тангенса.\n",
        "    Вы можете сами реализовать подсчет tanh, но тогда вам нужно устойчиво его вычислять.\n",
        "    \"\"\"\n",
        "    def __init__(self):\n",
        "        self.params = [] # Tanh has no parameters\n",
        "\n",
        "    def forward(self, input):\n",
        "        \"\"\"\n",
        "        Apply elementwise Tanh to [batch, num_units] matrix\n",
        "        \"\"\"\n",
        "        self.output = np.tanh(input)\n",
        "        return self.output\n",
        "\n",
        "    def backward(self, grad_output):\n",
        "        \"\"\"\n",
        "        Compute gradient of loss w.r.t. Tanh input\n",
        "        grad_output shape: [batch, num_units]\n",
        "        output 1 shape: [batch, num_units]\n",
        "        output 2: []\n",
        "        \"\"\"\n",
        "        #(tanh(y))' = 1 - (tanh(y))^2\n",
        "        return grad_output*(1 - self.output ** 2), []\n",
        "\n",
        "    def __repr__(self):\n",
        "        return 'Tanh()'"
      ]
    },
    {
      "cell_type": "code",
      "execution_count": 73,
      "metadata": {
        "ExecuteTime": {
          "end_time": "2021-03-03T14:46:34.907337Z",
          "start_time": "2021-03-03T14:46:34.894300Z"
        },
        "id": "cDmRqu7l3ot-"
      },
      "outputs": [],
      "source": [
        "from scipy.special import expit\n",
        "    \n",
        "class Sigmoid:\n",
        "    \"\"\"\n",
        "    sigmoid(y) = 1 / (1 + e^(-y))\n",
        "    Используйте функцию expit для подсчета сигмоиды.\n",
        "    Вы можете сами реализовать подсчет сигмоиды, но тогда вам нужно устойчиво ее вычислять.\n",
        "    \"\"\"\n",
        "    def __init__(self):\n",
        "        self.params = [] # Sigmoid has no parameters\n",
        "\n",
        "    def forward(self, input):\n",
        "        \"\"\"\n",
        "        Apply elementwise Sigmoid to [batch, num_units] matrix\n",
        "        \"\"\"\n",
        "        self.output = expit(input)\n",
        "        return self.output\n",
        "\n",
        "    def backward(self, grad_output):\n",
        "        \"\"\"\n",
        "        Compute gradient of loss w.r.t. Sigmoid input\n",
        "        grad_output shape: [batch, num_units]\n",
        "        output 1 shape: [batch, num_units]\n",
        "        output 2: []\n",
        "        \"\"\"\n",
        "        # sigmoid'(y) = sigmoid(y)*(1 - sigmoid(y))\n",
        "        return grad_output * self.output*(1 - self.output), []\n",
        "\n",
        "    def __repr__(self):\n",
        "        return 'Sigmoid()'"
      ]
    },
    {
      "cell_type": "markdown",
      "metadata": {
        "id": "JprNOwcz3ot-"
      },
      "source": [
        "Теперь попробуйте для каждой из 3 функций активации обучить нейронную сеть несколько раз. Число слоев зафиксируйте равным 3. В случае `Tanh` и `Sigmoid` используйте инициализацию `Xavier`, а в случае `ReLU` используйте инициализацию `Kaiming`."
      ]
    },
    {
      "cell_type": "markdown",
      "metadata": {
        "id": "jk0DZYcR3ot-"
      },
      "source": [
        "Заполните матрицы `accs_train` и `accs_test`. В позиции `[i, j]` должна стоять величина доли правильных ответов сети при $j$-м запуске (все запуски идентичны) с функцией активации $ReLU$ при $i = 0$, с функцией активации $Tanh$ при $i = 1$ и с функцией активации $Sigmoid$ при $i = 2$."
      ]
    },
    {
      "cell_type": "code",
      "execution_count": 74,
      "metadata": {
        "ExecuteTime": {
          "end_time": "2021-03-03T14:46:34.922732Z",
          "start_time": "2021-03-03T14:46:34.910271Z"
        },
        "id": "qz3oLOzO3ot-"
      },
      "outputs": [],
      "source": [
        "act_func_vars = ['Tanh', 'Sigmoid', 'ReLU']\n",
        "init_for_act_funcs = ['Xavier', 'Xavier', 'Kaiming']"
      ]
    },
    {
      "cell_type": "code",
      "execution_count": 75,
      "metadata": {
        "ExecuteTime": {
          "end_time": "2021-03-03T14:46:34.938935Z",
          "start_time": "2021-03-03T14:46:34.925724Z"
        },
        "id": "gQTxgj5D3ot-"
      },
      "outputs": [],
      "source": [
        "accs_train = np.zeros((3, 5))\n",
        "accs_test = np.zeros((3, 5))"
      ]
    },
    {
      "cell_type": "code",
      "source": [
        "import sys\n",
        "\n",
        "def str_to_class(classname):\n",
        "    return getattr(sys.modules[__name__], classname)\n",
        "#код отсюда - https://stackoverflow.com/questions/1176136/convert-string-to-python-class-object\n",
        "#это для того, чтобы строку перевести в класс"
      ],
      "metadata": {
        "id": "uU1SSWUBEH-P"
      },
      "execution_count": 77,
      "outputs": []
    },
    {
      "cell_type": "code",
      "execution_count": 81,
      "metadata": {
        "ExecuteTime": {
          "end_time": "2021-03-03T14:47:04.514986Z",
          "start_time": "2021-03-03T14:46:34.941104Z"
        },
        "id": "ccwOiG-a3ot_"
      },
      "outputs": [],
      "source": [
        "for i in range(len(act_func_vars)):\n",
        "  for j in range(5):\n",
        "    net = make_network(input_size, hidden_layers_size, output_size, n_layers=3, activation_class=str_to_class(act_func_vars[i]))\n",
        "    initialize_network(net,init_for_act_funcs[i])\n",
        "    res = minimize(\n",
        "      compute_loss_grad, get_weights(net),       \n",
        "      args=[net, X_train, y_train], \n",
        "      method=\"L-BFGS-B\",                \n",
        "      jac=True,                      \n",
        "    )\n",
        "    accs_test[i, j] = np.sum(predict(net, X_test) == y_test)/y_test.shape[0]\n",
        "    accs_train[i, j] = np.sum(predict(net, X_train) == y_train)/y_train.shape[0]"
      ]
    },
    {
      "cell_type": "markdown",
      "metadata": {
        "id": "LbfjFyNj3ot_"
      },
      "source": [
        "Построим боксплоты полученного качества (горизонтальная линия в каждом столбце — среднее, прямоугольник показывает разброс)."
      ]
    },
    {
      "cell_type": "code",
      "execution_count": 82,
      "metadata": {
        "ExecuteTime": {
          "end_time": "2021-03-03T14:47:04.783320Z",
          "start_time": "2021-03-03T14:47:04.517701Z"
        },
        "colab": {
          "base_uri": "https://localhost:8080/",
          "height": 585
        },
        "id": "mOFbITHa3ot_",
        "outputId": "7b518fb5-4bdf-4f70-abb6-eef057bdecca"
      },
      "outputs": [
        {
          "output_type": "display_data",
          "data": {
            "image/png": "[encoded data removed]",
            "text/plain": [
              "<Figure size 720x576 with 2 Axes>"
            ]
          },
          "metadata": {
            "needs_background": "light"
          }
        }
      ],
      "source": [
        "# опять же добавил боксплот для трейна, так как есть вопрос по нему\n",
        "fig, ax = plt.subplots(2, 1, figsize=(10, 8))\n",
        "\n",
        "ax[0].boxplot(accs_train.T, labels=act_func_vars, showfliers=False)\n",
        "ax[0].set_title(\"Train quality in 5 runs\")\n",
        "ax[0].set_xlabel(\"Activation function\")\n",
        "ax[0].set_ylabel(\"Train accuracy\")\n",
        "ax[0].grid(True)\n",
        "\n",
        "ax[1].boxplot(accs_test.T, labels=act_func_vars, showfliers=False)\n",
        "ax[1].set_title(\"Test quality in 5 runs\")\n",
        "ax[1].set_xlabel(\"Activation function\")\n",
        "ax[1].set_ylabel(\"Test accuracy\")\n",
        "ax[1].grid(True)\n",
        "\n",
        "fig.tight_layout()\n",
        "plt.show()"
      ]
    },
    {
      "cell_type": "markdown",
      "metadata": {
        "id": "-yBHOOov3ot_"
      },
      "source": [
        "Дайте развёрнутый ответ на вопросы (в этой же ячейке):\n",
        "* Как отличаются качество на обучении и контроле и устойчивость процесса обучения при различных функциях активации?\n",
        "\n",
        "__Ответы:__\n",
        "\n",
        "1) Качество на обучении для всех трех моделей одинаково и равно 1.0 (то есть модели переобучаются). Правда сигмоида моментами может выдавать совсем небольшой разброс на обучении.\n",
        "\n",
        "2) Как видно, качество при использовании функции активации ReLU наивысшее + по устойчивости она в большинстве случаев лучше, чем сигмоида и тангенс (ее разброс не меняется так сильно, как это происходит у двух других функций).\n",
        "\n",
        "3) По качеству тангенс и сигмоида показывали в основном примерно одинаковые значения (возможно, тангенс все-таки чаще показывал лучше качество). Разброс был больше чаще у сигмоиды."
      ]
    },
    {
      "cell_type": "markdown",
      "metadata": {
        "id": "A6znxfiH3ot_"
      },
      "source": [
        "\\* Несколько фрагментов кода в задании написаны на основе материалов [курса по глубинному обучению на ФКН НИУ ВШЭ](https://www.hse.ru/ba/ami/courses/205504078.html)"
      ]
    },
    {
      "cell_type": "markdown",
      "metadata": {
        "id": "e1odKl-13ot_"
      },
      "source": [
        "## Бонусная часть"
      ]
    },
    {
      "cell_type": "markdown",
      "metadata": {
        "id": "3ejENwzD3ouA"
      },
      "source": [
        "## Реализация метода оптимизации (1 балл)\n",
        "\n",
        "Реализуйте сами метод оптимизации (аналог функции `minimize`) для рассмотренной выше архитектуры. В качестве метода оптимизации используйте SGD + momentum. Продемонстрируйте правильную работу метода оптимизации, сравните его работу с LBFGS-B. Сделайте выводы."
      ]
    },
    {
      "cell_type": "markdown",
      "metadata": {
        "id": "p4l1qtMM3ouA"
      },
      "source": [
        "## Dropout (1 балл) \n",
        "\n",
        "Реализуйте слой Dropout. Сравните обучение сети из большого числа слоёв при использовании Dropout и без его использования (предварительно подберите адекватный параметр $p$). Сделайте выводы."
      ]
    },
    {
      "cell_type": "code",
      "source": [
        "class Dropout:\n",
        "  def __init__(self, p=0.5):\n",
        "    self.p = p\n",
        "    self.params = []\n",
        "  def forward(self, input):\n",
        "    X = np.random.binomial(1, 1 - self.p, input.shape)\n",
        "    self.drop = X / (1 - self.p) # inverted dropout\n",
        "    return input * self.drop\n",
        "  def backward(self, grad_output):\n",
        "    return self.drop * grad_output, []\n",
        "  def __repr__(self):\n",
        "    return 'Dropout()'\n",
        "# дальше не успел("
      ],
      "metadata": {
        "id": "6Tdbe0KqBsoK"
      },
      "execution_count": 83,
      "outputs": []
    },
    {
      "cell_type": "markdown",
      "metadata": {
        "id": "iYNCaGvW3ouA"
      },
      "source": [
        "## BatchNormalization (1 балл)\n",
        "\n",
        "Реализуйте слой `BatchNormalization`. Сравните обучение сети из большого числа слоёв при использовании `BatchNormalization` и без его использования. Сделайте выводы."
      ]
    }
  ],
  "metadata": {
    "kernelspec": {
      "display_name": "Python 3",
      "language": "python",
      "name": "python3"
    },
    "language_info": {
      "codemirror_mode": {
        "name": "ipython",
        "version": 3
      },
      "file_extension": ".py",
      "mimetype": "text/x-python",
      "name": "python",
      "nbconvert_exporter": "python",
      "pygments_lexer": "ipython3",
      "version": "3.8.8"
    },
    "colab": {
      "name": "lab_01.ipynb",
      "provenance": [],
      "collapsed_sections": [
        "e1odKl-13ot_",
        "3ejENwzD3ouA",
        "iYNCaGvW3ouA"
      ]
    }
  },
  "nbformat": 4,
  "nbformat_minor": 0
}
