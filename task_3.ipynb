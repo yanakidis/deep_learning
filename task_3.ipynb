{
  "cells": [
    {
      "cell_type": "markdown",
      "metadata": {
        "id": "yCPLiCnirYPx"
      },
      "source": [
        "# Третье практическое задание. Реализация дропаута в рекуррентных нейронных сетях\n",
        "Практикум на ЭВМ для 317 группы, весна 2022\n",
        "\n",
        "#### Фамилия, имя: Янаков Дмитрий\n",
        "\n",
        "Дата выдачи: 3 апреля 18:00\n",
        "\n",
        "Мягкий дедлайн: 17 апреля 23:59"
      ]
    },
    {
      "cell_type": "markdown",
      "metadata": {
        "id": "CXalQoXhrYPy"
      },
      "source": [
        "Данное задание будет состоять из двух частей:\n",
        "1. Применение рекуррентной сети для решения задачи классификации текста. Более конкретно -- предсказания рейтинга отзыва фильма.\n",
        "2. Простейшая лингвистическая модель для генерации текста на основе LSTM."
      ]
    },
    {
      "cell_type": "markdown",
      "metadata": {
        "id": "YNvLZ0OdrYPz"
      },
      "source": [
        "При выполнении задания вы обучите LSTM с разным уровнем \"коробочности\", а также познакомитесь с различными способами применения DropOut к рекуррентным архитектурам. В рекуррентных архитектурах вариантов, куда можно наложить бинарную маску шума, гораздо больше, чем в нейросетях прямого прохода.\n",
        "\n",
        "Во второй части вы попробуете реализовать простейший рекуррентный декодер для генерации текстов.\n",
        "\n",
        "Задание сделано так, чтобы его можно было выполнять на CPU, однако RNN - это ресурсоёмкая вещь, поэтому на GPU с ними работать приятнее. Можете попробовать использовать [https://colab.research.google.com](https://colab.research.google.com) - бесплатное облако с GPU."
      ]
    },
    {
      "cell_type": "markdown",
      "metadata": {
        "id": "wLxjq1L-rYPz"
      },
      "source": [
        "**Для корректного отображения картинок, вам может понадобится сделать ноутбук доверенным (Trusted) в правом верхнем углу**"
      ]
    },
    {
      "cell_type": "markdown",
      "metadata": {
        "id": "K9fGbD78rYPz"
      },
      "source": [
        "# Часть 0. Загрузка и предобработка данных. (1 балл)"
      ]
    },
    {
      "cell_type": "markdown",
      "metadata": {
        "id": "Jm_JbztFrYPz"
      },
      "source": [
        "## Рекомендуемые гиперпараметры"
      ]
    },
    {
      "cell_type": "code",
      "execution_count": 1,
      "metadata": {
        "ExecuteTime": {
          "end_time": "2021-04-02T00:04:28.454122Z",
          "start_time": "2021-04-02T00:04:28.438278Z"
        },
        "id": "TUv7t289rYP0"
      },
      "outputs": [],
      "source": [
        "max_length = 200\n",
        "top_n_words = 5000\n",
        "\n",
        "hidden_dim = 128\n",
        "embedding_dim = 32\n",
        "\n",
        "num_epochs = 15\n",
        "batch_size = 64\n",
        "learning_rate = 1e-3"
      ]
    },
    {
      "cell_type": "markdown",
      "metadata": {
        "id": "sPzGs5FOrYP0"
      },
      "source": [
        "Первое, что нужно сделать -- скачать, предобработать данные и организовать их таким образом, чтобы их можно было подавать в нейронную сеть.\n",
        "\n",
        "Для обеих частей задания мы будем использовать [**Large Movie Review Dataset**](https://ai.stanford.edu/~amaas/data/sentiment/)."
      ]
    },
    {
      "cell_type": "markdown",
      "metadata": {
        "id": "CR-ImlcSrYP1"
      },
      "source": [
        "## Загрузка и предобработка данных"
      ]
    },
    {
      "cell_type": "markdown",
      "metadata": {
        "id": "a5yyQL0trYP1"
      },
      "source": [
        "Загрузите данные по ссылке выше. (**tip**: используйте `wget`)"
      ]
    },
    {
      "cell_type": "code",
      "execution_count": null,
      "metadata": {
        "ExecuteTime": {
          "end_time": "2021-03-30T18:34:47.261797Z",
          "start_time": "2021-03-30T18:34:33.768597Z"
        },
        "id": "HQiqel38rYP1"
      },
      "outputs": [],
      "source": [
        "!wget https://ai.stanford.edu/~amaas/data/sentiment/aclImdb_v1.tar.gz"
      ]
    },
    {
      "cell_type": "markdown",
      "metadata": {
        "id": "3WrhaVVurYP1"
      },
      "source": [
        "Распакуйте скачанные данные в папку `aclImdb` (**tip:** используйте `tar`)"
      ]
    },
    {
      "cell_type": "code",
      "execution_count": null,
      "metadata": {
        "ExecuteTime": {
          "end_time": "2021-03-30T17:48:59.763990Z",
          "start_time": "2021-03-30T17:48:56.998383Z"
        },
        "id": "NIs6TDKirYP2"
      },
      "outputs": [],
      "source": [
        "!tar -xvzf aclImdb_v1.tar.gz"
      ]
    },
    {
      "cell_type": "markdown",
      "metadata": {
        "id": "yNsQN8AZrYP2"
      },
      "source": [
        "Посмотрите в файле `./aclImdb/README` как организованы данные"
      ]
    },
    {
      "cell_type": "code",
      "execution_count": null,
      "metadata": {
        "ExecuteTime": {
          "end_time": "2021-04-01T23:55:43.946032Z",
          "start_time": "2021-04-01T23:55:43.814779Z"
        },
        "id": "wvHK8p59rYP2",
        "outputId": "f27fcdb0-b2f4-434c-f059-3d3c9273581b",
        "colab": {
          "base_uri": "https://localhost:8080/"
        }
      },
      "outputs": [
        {
          "output_type": "stream",
          "name": "stdout",
          "text": [
            "This is not the typical Mel Brooks film. It was much less slapstick than most of his movies and actually had a plot that was followable. Leslie Ann Warren made the movie, she is such a fantastic, under-rated actress. There were some moments that could have been fleshed out a bit more, and some scenes that could probably have been cut to make the room to do so, but all in all, this is worth the price to rent and see it. The acting was good overall, Brooks himself did a good job without his characteristic speaking to directly to the audience. Again, Warren was the best actor in the movie, but \"Fume\" and \"Sailor\" both played their parts well."
          ]
        }
      ],
      "source": [
        "! cat ./aclImdb/train/pos/10003_8.txt"
      ]
    },
    {
      "cell_type": "code",
      "execution_count": 4,
      "metadata": {
        "ExecuteTime": {
          "end_time": "2021-04-02T00:04:33.729663Z",
          "start_time": "2021-04-02T00:04:33.710871Z"
        },
        "id": "Ljv8WGwArYP3"
      },
      "outputs": [],
      "source": [
        "test_data_path = './aclImdb/test/'\n",
        "train_data_path = './aclImdb/train/'"
      ]
    },
    {
      "cell_type": "code",
      "execution_count": 5,
      "metadata": {
        "ExecuteTime": {
          "end_time": "2021-04-02T00:04:33.709378Z",
          "start_time": "2021-04-02T00:04:32.220580Z"
        },
        "id": "tN5CsRghrYP3",
        "outputId": "102f5cc0-9055-464b-b0ff-6eb3bec51bd8",
        "colab": {
          "base_uri": "https://localhost:8080/"
        }
      },
      "outputs": [
        {
          "output_type": "stream",
          "name": "stdout",
          "text": [
            "[nltk_data] Downloading package stopwords to /root/nltk_data...\n",
            "[nltk_data]   Unzipping corpora/stopwords.zip.\n"
          ]
        }
      ],
      "source": [
        "import os\n",
        "from functools import partial\n",
        "from collections import defaultdict\n",
        "\n",
        "import nltk\n",
        "nltk.download('stopwords')\n",
        "\n",
        "import regex\n",
        "import numpy as np\n",
        "\n",
        "import torch\n",
        "import torchtext\n",
        "from torch.utils.data import Dataset, DataLoader"
      ]
    },
    {
      "cell_type": "markdown",
      "metadata": {
        "id": "BK-CCpJcrYP3"
      },
      "source": [
        "Стандартной предобработкой данных является токенизация текстов. Полученные токены можно будет закодировать и затем подавать на вход нейронной сети. Ключевым моментом, который влияет на скорость работы нейросети и её размер в памяти -- размер словаря, используемого при токенизации. Для задачи классификации мы можем убрать часть слов (стоп слова, редкие слова), ускорив обучение без потери в качестве."
      ]
    },
    {
      "cell_type": "code",
      "execution_count": 8,
      "metadata": {
        "ExecuteTime": {
          "end_time": "2021-04-02T00:04:35.270825Z",
          "start_time": "2021-04-02T00:04:35.250283Z"
        },
        "id": "MMpDcL9rrYP4"
      },
      "outputs": [],
      "source": [
        "STOPWORDS = nltk.corpus.stopwords.words('english')"
      ]
    },
    {
      "cell_type": "markdown",
      "metadata": {
        "id": "0Dy-q6iIrYP4"
      },
      "source": [
        "Реализуйте функцию для токенизации текста. Выполнять токенизацию можно по-разному, но в данном задании предлагается это делать следующим образом:\n",
        "1. Привести текст к нижнему регистру\n",
        "2. Убрать html разметку из текстов (`<br />`)\n",
        "3. Убрать все символы кроме латинских букв\n",
        "4. Разбить строку по пробелам\n",
        "5. Убрать стоп слова"
      ]
    },
    {
      "cell_type": "code",
      "execution_count": 6,
      "metadata": {
        "ExecuteTime": {
          "end_time": "2021-04-02T00:04:36.003194Z",
          "start_time": "2021-04-02T00:04:35.980408Z"
        },
        "id": "kYU8Tar_rYP4"
      },
      "outputs": [],
      "source": [
        "def tokenize(text):\n",
        "    \"\"\"\n",
        "    :param str text: Input text \n",
        "    :return List[str]: List of words\n",
        "    \"\"\"\n",
        "    new_text = text.lower()\n",
        "    new_text = regex.sub('<br />', '', new_text)\n",
        "    new_text = ''.join(x for x in new_text if x.isalpha() or x == ' ')\n",
        "    new_text = new_text.split()\n",
        "    words_list = []\n",
        "    for word in new_text:\n",
        "      if word not in STOPWORDS:\n",
        "        words_list.append(word)\n",
        "    return words_list"
      ]
    },
    {
      "cell_type": "code",
      "execution_count": null,
      "metadata": {
        "ExecuteTime": {
          "end_time": "2021-04-01T21:27:12.428149Z",
          "start_time": "2021-04-01T21:27:12.402448Z"
        },
        "id": "xH9cnVEcrYP4",
        "outputId": "e3c0f551-3dd9-4575-8ee9-635df34e1ed4",
        "colab": {
          "base_uri": "https://localhost:8080/"
        }
      },
      "outputs": [
        {
          "output_type": "execute_result",
          "data": {
            "text/plain": [
              "['hello', 'words']"
            ]
          },
          "metadata": {},
          "execution_count": 9
        }
      ],
      "source": [
        "tokenize('1. Hello <br /> words!! <br />')"
      ]
    },
    {
      "cell_type": "markdown",
      "metadata": {
        "id": "IIbrXb1WrYP5"
      },
      "source": [
        "Теперь мы можем создать словарь, с помощью которого мы будем численно кодировать токены из текста и наоборот.\n",
        "\n",
        "Удобной обёрткой для создания словарей является класс `torchtext.vocab.Vocab`."
      ]
    },
    {
      "cell_type": "code",
      "execution_count": null,
      "metadata": {
        "ExecuteTime": {
          "end_time": "2021-04-01T21:27:21.466887Z",
          "start_time": "2021-04-01T21:27:21.352085Z"
        },
        "scrolled": false,
        "id": "K8HG4AzwrYP5"
      },
      "outputs": [],
      "source": [
        "torchtext.vocab.Vocab??"
      ]
    },
    {
      "cell_type": "markdown",
      "metadata": {
        "ExecuteTime": {
          "end_time": "2021-04-01T19:51:55.300753Z",
          "start_time": "2021-04-01T19:51:55.275188Z"
        },
        "id": "amR3F0EorYP5"
      },
      "source": [
        "Чтобы создать такой словарь, сначала нужно создать словарь со всеми токенами в тексте и их частотами встречаемости:"
      ]
    },
    {
      "cell_type": "code",
      "execution_count": 9,
      "metadata": {
        "ExecuteTime": {
          "end_time": "2021-04-02T00:05:13.547038Z",
          "start_time": "2021-04-02T00:04:38.190688Z"
        },
        "id": "jf4ypTOqrYP5"
      },
      "outputs": [],
      "source": [
        "counter = defaultdict(int)\n",
        "\n",
        "for path in ['./aclImdb/test/neg', './aclImdb/test/pos', './aclImdb/train/neg', './aclImdb/train/pos']:\n",
        "    for file_path in os.listdir(path):\n",
        "        text = open(os.path.join(path, file_path), 'r', encoding='utf-8', errors='ignore').read().strip()\n",
        "        for token in tokenize(text):\n",
        "            counter[token] += 1"
      ]
    },
    {
      "cell_type": "markdown",
      "metadata": {
        "id": "9G8ZvlyqrYP5"
      },
      "source": [
        "Для работы с текстами нам необходимо зарезервировать два специальных токена:\n",
        "1. `<pad>` для токена означающего паддинг\n",
        "2. `<unk>` для токенов, которые отсутствуют в словаре"
      ]
    },
    {
      "cell_type": "code",
      "execution_count": 10,
      "metadata": {
        "ExecuteTime": {
          "end_time": "2021-04-01T21:28:18.239274Z",
          "start_time": "2021-04-01T21:28:18.214979Z"
        },
        "id": "Y26xHJ7grYP6"
      },
      "outputs": [],
      "source": [
        "specials = ['<pad>', '<unk>']\n",
        "for special in specials:\n",
        "    counter[special] = 0"
      ]
    },
    {
      "cell_type": "markdown",
      "metadata": {
        "id": "UJFzTOO6rYP6"
      },
      "source": [
        "Создайте словарь из словаря частот `counter`. Наименьшие id отдайте под специальные токены. Отбросьте низкочастотные слова, оставив только `top_n_words` слов"
      ]
    },
    {
      "cell_type": "code",
      "execution_count": 11,
      "metadata": {
        "ExecuteTime": {
          "end_time": "2021-04-01T21:28:23.041153Z",
          "start_time": "2021-04-01T21:28:22.899444Z"
        },
        "id": "i0cGNBQ3rYP6"
      },
      "outputs": [],
      "source": [
        "from torchtext.vocab import vocab\n",
        "\n",
        "#выбран следующий подход - 2) Подобрать параметр min_freq, чтобы оставшееся число слов было близко к необходимому порогу\n",
        "vocab = vocab(counter, min_freq=146)"
      ]
    },
    {
      "cell_type": "code",
      "source": [
        "len(vocab) # == top_n_words (= 5000)"
      ],
      "metadata": {
        "colab": {
          "base_uri": "https://localhost:8080/"
        },
        "id": "tQpH8HnDR1bv",
        "outputId": "b4c9d5f7-3ee0-438f-e5d7-51cb626670af"
      },
      "execution_count": 12,
      "outputs": [
        {
          "output_type": "execute_result",
          "data": {
            "text/plain": [
              "5000"
            ]
          },
          "metadata": {},
          "execution_count": 12
        }
      ]
    },
    {
      "cell_type": "code",
      "source": [
        "vocab.insert_token('<pad>', 0)\n",
        "vocab.insert_token('<unk>', 1)"
      ],
      "metadata": {
        "id": "Z8vbEQFzS5YF"
      },
      "execution_count": 13,
      "outputs": []
    },
    {
      "cell_type": "code",
      "source": [
        "vocab.set_default_index(vocab['<unk>'])"
      ],
      "metadata": {
        "id": "LrEjvPQkTDKC"
      },
      "execution_count": 14,
      "outputs": []
    },
    {
      "cell_type": "code",
      "source": [
        "vocab.lookup_indices(['<pad>', '<unk>'])"
      ],
      "metadata": {
        "colab": {
          "base_uri": "https://localhost:8080/"
        },
        "id": "bHvaOyeiRLkJ",
        "outputId": "78b9f4b8-4e1b-4b47-d3c5-16c560b645f2"
      },
      "execution_count": null,
      "outputs": [
        {
          "output_type": "execute_result",
          "data": {
            "text/plain": [
              "[0, 1]"
            ]
          },
          "metadata": {},
          "execution_count": 15
        }
      ]
    },
    {
      "cell_type": "code",
      "source": [
        "vocab.lookup_indices(['this', 'film', 'was', 'awful'])\n",
        "# индексы отличаются от тех, которые должны быть - [1, 3, 1, 254]\n",
        "# так как поменялся способ назначения индексов токенам"
      ],
      "metadata": {
        "colab": {
          "base_uri": "https://localhost:8080/"
        },
        "id": "bb0a8J0zsq4E",
        "outputId": "b691f5c9-d1fa-4850-ea50-2cc595eff867"
      },
      "execution_count": null,
      "outputs": [
        {
          "output_type": "execute_result",
          "data": {
            "text/plain": [
              "[1, 88, 1, 765]"
            ]
          },
          "metadata": {},
          "execution_count": 16
        }
      ]
    },
    {
      "cell_type": "markdown",
      "metadata": {
        "id": "NV0mez8nrYQE"
      },
      "source": [
        "Теперь мы готовы создать обёртку-датасет для наших данных. \n",
        "\n",
        "Необходимо добавить несколько опции, которые понадобятся во второй части задания:\n",
        "1. Ограничение на максимальную длину текста в токенах. Если текст оказывается длиннее, то последние токены отбрасываются\n",
        "2. Возможность добавить в специальные токены `<sos>`, `<eos>` в начало и конец токенизированного текста\n",
        "    \n",
        "**tips:**\n",
        "1. Обратите особое внимание, что у длинных текстов не должен обрезаться паддинг\n",
        "2. В исходных данных рейтинг закодирован в названии файла в виде числа от 1 до 10. Для удобства, вычтите 1, чтобы рейтинг был от 0 до 9"
      ]
    },
    {
      "cell_type": "code",
      "execution_count": 15,
      "metadata": {
        "ExecuteTime": {
          "end_time": "2021-04-02T00:05:13.573249Z",
          "start_time": "2021-04-02T00:05:13.548593Z"
        },
        "id": "lkVPOfKprYQE"
      },
      "outputs": [],
      "source": [
        "class LargeMovieReviewDataset(Dataset):\n",
        "    def __init__(self, data_path, vocab, max_len, pad_sos=False, pad_eos=False):\n",
        "        \"\"\"\n",
        "        :param str data_path: Path to folder with one of the data splits (train or test)\n",
        "        :param torchtext.vocab.Vocab vocab: dictionary with lookup_indices method\n",
        "        :param int max_len: Maximum length of tokenized text\n",
        "        :param bool pad_sos: If True pad sequence at the beginning with <sos> \n",
        "        :param bool pad_eos: If True pad sequence at the end with <eos>         \n",
        "        \"\"\"\n",
        "        super().__init__()\n",
        "        \n",
        "        self.pad_sos = pad_sos\n",
        "        if self.pad_sos:\n",
        "            self.sos_id = vocab.lookup_indices(['<sos>'])[0]\n",
        "        self.pad_eos = pad_eos\n",
        "        if self.pad_eos:\n",
        "            self.eos_id = vocab.lookup_indices(['<eos>'])[0]\n",
        "\n",
        "        self.vocab = vocab\n",
        "        self.max_len = max_len\n",
        "        self.data_path = data_path\n",
        "        self.negative_path = os.path.join(data_path, 'neg')\n",
        "        self.positive_path = os.path.join(data_path, 'pos')\n",
        "        \n",
        "        self.negative_paths = []\n",
        "        self.positive_paths = []\n",
        "\n",
        "        for file_path in os.listdir(self.negative_path):\n",
        "            self.negative_paths.append(os.path.join(self.negative_path, file_path))\n",
        "\n",
        "        for file_path in os.listdir(self.positive_path):\n",
        "            self.positive_paths.append(os.path.join(self.positive_path, file_path))\n",
        "        \n",
        "        self.texts = []\n",
        "        self.tokens = []\n",
        "        self.ratings = []\n",
        "        self.labels = [0] * len(self.negative_paths) + [1] * len(self.positive_paths)\n",
        "        \n",
        "        # Read each file in data_path, tokenize it, get tokens ids, its rating and store\n",
        "        for path in self.negative_paths + self.positive_paths:\n",
        "          f = open(path, 'r')\n",
        "          text = f.read()\n",
        "          self.texts.append(text)\n",
        "          ids = vocab.lookup_indices(tokenize(text))\n",
        "          self.tokens.append(ids)\n",
        "          rating = int(path[-5])\n",
        "          rating = (rating - 1) if rating != 0 else 9\n",
        "          self.ratings.append(rating)\n",
        "        \n",
        "    def __getitem__(self, idx):\n",
        "        \"\"\"\n",
        "        :param int idx: index of object in dataset\n",
        "        :return dict: Dictionary with all useful object data \n",
        "            {\n",
        "                'text' str: unprocessed text,\n",
        "                'label' torch.tensor(dtype=torch.long): sentiment of the text (0 for negative, 1 for positive)\n",
        "                'rating' torch.tensor(dtype=torch.long): rating of the text\n",
        "                'tokens' torch.tensor(dtype=torch.long): tensor of tokens ids for the text\n",
        "                'tokens_len' torch.tensor(dtype=torch.long): number of tokens\n",
        "            }\n",
        "        \"\"\"\n",
        "        d = dict()\n",
        "        d['text'] = self.texts[idx]\n",
        "        d['label'] = torch.tensor(self.labels[idx], dtype=torch.long)\n",
        "        d['rating'] = torch.tensor(self.ratings[idx], dtype=torch.long)\n",
        "\n",
        "        tokens = self.tokens[idx][:self.max_len]\n",
        "        sos, eos = 0, 0\n",
        "        if self.pad_sos:\n",
        "          tokens.insert(0, self.sos_id)\n",
        "          sos = 1\n",
        "        if self.pad_eos:\n",
        "          tokens.append(self.eos_id)\n",
        "          eos = 1\n",
        "        d['tokens'] = torch.tensor(tokens, dtype=torch.long)\n",
        "\n",
        "        d['tokens_len'] = torch.tensor(len(tokens) - sos - eos, dtype=torch.long) \n",
        "\n",
        "        return d\n",
        "    \n",
        "    def __len__(self):\n",
        "        \"\"\"\n",
        "        :return int: number of objects in dataset \n",
        "        \"\"\"\n",
        "        return len(self.texts)"
      ]
    },
    {
      "cell_type": "markdown",
      "metadata": {
        "id": "61aXHuDgrYQF"
      },
      "source": [
        "Создайте датасеты для тестовой и обучающей выборки. \n",
        "\n",
        "Обратите внимание, что для задачи классификации нам не потребуется паддинг с помощью `<sos>`, `<eos>`. \n",
        "\n",
        "Не забудьте обрезать длинные тексты, передав параметр `max_length`."
      ]
    },
    {
      "cell_type": "code",
      "execution_count": null,
      "metadata": {
        "ExecuteTime": {
          "end_time": "2021-04-01T21:31:32.123618Z",
          "start_time": "2021-04-01T21:30:54.950259Z"
        },
        "id": "_dXMFAkRrYQF"
      },
      "outputs": [],
      "source": [
        "test_dataset = LargeMovieReviewDataset(train_data_path, vocab, max_length, pad_sos=False, pad_eos=False)\n",
        "train_dataset = LargeMovieReviewDataset(test_data_path, vocab, max_length, pad_sos=False, pad_eos=False)"
      ]
    },
    {
      "cell_type": "markdown",
      "metadata": {
        "id": "AOjDVt3nrYQF"
      },
      "source": [
        "Посмотрим, как выглядит объект в датасете:"
      ]
    },
    {
      "cell_type": "code",
      "source": [
        "test_dataset[0]"
      ],
      "metadata": {
        "colab": {
          "base_uri": "https://localhost:8080/"
        },
        "id": "jvpSoyTldEWP",
        "outputId": "7f656dd0-2924-4f9c-f6d4-b0808f395175"
      },
      "execution_count": null,
      "outputs": [
        {
          "output_type": "execute_result",
          "data": {
            "text/plain": [
              "{'label': tensor(0),\n",
              " 'rating': tensor(3),\n",
              " 'text': \"I dunno what the hype around this is... This is really a bad movie...it did nothing to me, the only descent scene is where everyone comes together at the party, and a nice song is playing, uplifting beat and nice cinematic shots that make you move....that was the best part of the movie... Otherwise this film lacks everything to suck the viewer in There's no story, there's nothing to think about like some people say, there's no cohesion between the different stories...it was more of an attempt to re-do Anderson's 'Magnolia' which was brilliant, but it fails blatantly... Okay it's light and easy to watch, but that are movieclips too. Maybe first write a story before you make a movie... 4/10 One of the worst Belgian movies I've seen\",\n",
              " 'tokens': tensor([   1, 3798,  160,  209,  325,    1,  136, 1858,  382,  681, 1265,  420,\n",
              "           48, 1531, 1355,  104, 4751,   24, 1531, 2417,  388,  193,    1,  674,\n",
              "          650,   65,  788,  251, 2060, 1390, 2784,  735,  692,   34,  692,  136,\n",
              "           52,   60,  389,   27,  692,    1,  252,    1,  421,    1,    1,    1,\n",
              "         1704,  223,    1,  720,  885, 3234,   99,    1,  328,  410,  550,   34,\n",
              "          193,   65,    7,  814,    1,  409,  189,   44]),\n",
              " 'tokens_len': tensor(68)}"
            ]
          },
          "metadata": {},
          "execution_count": 16
        }
      ]
    },
    {
      "cell_type": "markdown",
      "metadata": {
        "id": "qPNjCZalrYQG"
      },
      "source": [
        "Теперь нам нужно создать `DataLoader` для наших данных. `DataLoader` умеет из коробки объединять список объектов из датасета в один батч, даже когда датасет возвращает словарь тензоров. Однако, это работает только в случае когда все эти тензоры имеют один и тот же размер во всех батчах. В нашем случае, это не так, так как разные тексты могут иметь разную длину.\n",
        "\n",
        "Чтобы обойти эту проблему у `DataLoader` есть параметр `collate_fn`, который позволяет задать функцию для объединения списка объектов в один батч."
      ]
    },
    {
      "cell_type": "markdown",
      "metadata": {
        "id": "5nEg-sYPrYQG"
      },
      "source": [
        "Чтобы объединить несколько тензоров разной длины в один можно использовать функцию `torch.nn.utils.rnn.pad_sequence`\n",
        "\n",
        "Обратите внимание на её аргументы:\n",
        "1. `batch_first` определяет по какой оси \"складывать\" тензоры. Предпочтительнее использовать `batch_first=False` так как это может упростить выполнение задания в дальнейшем \n",
        "2. `padding_value` -- число, которое будет использоваться в качестве паддинга, чтобы сделать все тензоры одинаковой длины"
      ]
    },
    {
      "cell_type": "code",
      "execution_count": null,
      "metadata": {
        "ExecuteTime": {
          "end_time": "2021-04-01T21:33:06.372403Z",
          "start_time": "2021-04-01T21:33:06.344559Z"
        },
        "id": "2v28mL8WrYQG",
        "outputId": "264c6381-803e-40e2-ecfe-ee2742e948c8",
        "colab": {
          "base_uri": "https://localhost:8080/"
        }
      },
      "outputs": [
        {
          "output_type": "execute_result",
          "data": {
            "text/plain": [
              "tensor([[ 1,  4,  6],\n",
              "        [ 2,  5,  7],\n",
              "        [ 3, -1,  8],\n",
              "        [-1, -1,  9]])"
            ]
          },
          "metadata": {},
          "execution_count": 68
        }
      ],
      "source": [
        "torch.nn.utils.rnn.pad_sequence([\n",
        "    torch.tensor([1, 2, 3]),\n",
        "    torch.tensor([4, 5]),\n",
        "    torch.tensor([6, 7, 8, 9])\n",
        "], batch_first=False, padding_value=-1)"
      ]
    },
    {
      "cell_type": "code",
      "execution_count": 16,
      "metadata": {
        "ExecuteTime": {
          "end_time": "2021-04-02T00:05:13.709466Z",
          "start_time": "2021-04-02T00:05:13.575053Z"
        },
        "id": "omSbtyqQrYQG"
      },
      "outputs": [],
      "source": [
        "def collate_fn(batch, padding_value, batch_first=False):\n",
        "    \"\"\"\n",
        "    :param List[Dict] batch: List of objects from dataset\n",
        "    :param int padding_value: Value that will be used to pad tokens\n",
        "    :param bool batch_first: If True resulting tensor with tokens must have shape [B, T] otherwise [T, B]\n",
        "    :return dict: Dictionary with all data collated\n",
        "        {\n",
        "            'ratings' torch.tensor(dtype=torch.long): rating of the text for each object in batch\n",
        "            'labels' torch.tensor(dtype=torch.long): sentiment of the text for each object in batch\n",
        "            \n",
        "            'texts' List[str]: All texts in one list\n",
        "            'tokens' torch.tensor(dtype=torch.long): tensor of tokens ids padded with @padding_value\n",
        "            'tokens_lens' torch.tensor(dtype=torch.long): number of tokens for each object in batch\n",
        "        }\n",
        "    \"\"\"\n",
        "    collate = defaultdict(list)\n",
        "\n",
        "    for elem in batch:\n",
        "      for key, value in elem.items():\n",
        "        collate[key].append(value)\n",
        "\n",
        "    new_collate = dict()\n",
        "    new_collate['ratings'] = torch.stack(collate['rating'])\n",
        "    new_collate['labels'] = torch.stack(collate['label'])\n",
        "    new_collate['texts'] = collate['text']\n",
        "    new_collate['tokens'] = torch.nn.utils.rnn.pad_sequence(collate['tokens'], batch_first, padding_value)\n",
        "    new_collate['tokens_lens'] = torch.stack(collate['tokens_len'])\n",
        "\n",
        "    return new_collate"
      ]
    },
    {
      "cell_type": "markdown",
      "metadata": {
        "id": "LwHxXilRrYQH"
      },
      "source": [
        "Создайте даталоадеры с использованием `collate_fn`.\n",
        "\n",
        "**tips**:\n",
        "1. Передать в `collate_fn` правильное значение паддинга можно, например, с помощью `functools.partial`\n",
        "2. Если вы работаете в Google Colab, то, возможно, вам будет необходимо установить `num_workers=0` во избежание падения ноутбука."
      ]
    },
    {
      "cell_type": "code",
      "source": [
        "from functools import partial"
      ],
      "metadata": {
        "id": "QKhp9tRYjlHq"
      },
      "execution_count": 17,
      "outputs": []
    },
    {
      "cell_type": "code",
      "execution_count": null,
      "metadata": {
        "ExecuteTime": {
          "end_time": "2021-04-01T21:33:37.872760Z",
          "start_time": "2021-04-01T21:33:37.847071Z"
        },
        "id": "7WxhasWPrYQH"
      },
      "outputs": [],
      "source": [
        "collate_fn = partial(collate_fn, padding_value=vocab.lookup_indices(['<pad>'])[0])\n",
        "\n",
        "test_dataloader = DataLoader(dataset=test_dataset, batch_size=batch_size,\n",
        "                             collate_fn=collate_fn, num_workers=0)\n",
        "\n",
        "train_dataloader = DataLoader(dataset=train_dataset, batch_size=batch_size,\n",
        "                              collate_fn=collate_fn, num_workers=0,\n",
        "                              shuffle=True)"
      ]
    },
    {
      "cell_type": "markdown",
      "metadata": {
        "id": "S7by0BGqrYQH"
      },
      "source": [
        "Посмотрим на какой-нибудь батч:"
      ]
    },
    {
      "cell_type": "code",
      "source": [
        "batch = next(iter(test_dataloader))\n",
        "batch.keys(), batch['labels'], batch['ratings'], batch['tokens'], batch['tokens_lens']"
      ],
      "metadata": {
        "colab": {
          "base_uri": "https://localhost:8080/"
        },
        "id": "xtUK-pKOlIZP",
        "outputId": "b98e37f1-244c-47fa-e9c8-1f23953f8ec7"
      },
      "execution_count": null,
      "outputs": [
        {
          "output_type": "execute_result",
          "data": {
            "text/plain": [
              "(dict_keys(['ratings', 'labels', 'texts', 'tokens', 'tokens_lens']),\n",
              " tensor([0, 0, 0, 0, 0, 0, 0, 0, 0, 0, 0, 0, 0, 0, 0, 0, 0, 0, 0, 0, 0, 0, 0, 0,\n",
              "         0, 0, 0, 0, 0, 0, 0, 0, 0, 0, 0, 0, 0, 0, 0, 0, 0, 0, 0, 0, 0, 0, 0, 0,\n",
              "         0, 0, 0, 0, 0, 0, 0, 0, 0, 0, 0, 0, 0, 0, 0, 0]),\n",
              " tensor([3, 0, 0, 3, 0, 2, 1, 3, 0, 0, 0, 0, 2, 0, 0, 0, 3, 3, 0, 2, 0, 0, 2, 0,\n",
              "         1, 0, 3, 1, 1, 3, 1, 3, 2, 3, 3, 3, 0, 3, 0, 3, 0, 0, 2, 2, 0, 3, 2, 3,\n",
              "         2, 2, 1, 3, 1, 0, 2, 2, 2, 2, 0, 2, 0, 2, 0, 1]),\n",
              " tensor([[   1, 1092,    7,  ...,  972,  315,  191],\n",
              "         [3798,   65,  232,  ...,    1, 2487,  864],\n",
              "         [ 160, 4081,  264,  ...,  747,  411,    1],\n",
              "         ...,\n",
              "         [   0,    0, 1225,  ...,    0,    0,    0],\n",
              "         [   0,    0, 3157,  ...,    0,    0,    0],\n",
              "         [   0,    0, 3158,  ...,    0,    0,    0]]),\n",
              " tensor([ 68, 164, 200, 200,  26, 200,  61,  87,  63, 106,  60,  70, 200,  43,\n",
              "          71, 138,  86, 167,  68,  66,  75, 135, 110,  75,  66,  59, 200,  76,\n",
              "         200, 200,  82, 200, 200, 154, 136,  80,  79,  93,  65,  75, 103, 200,\n",
              "          87, 197, 139,  63,  39, 109, 200, 194, 130, 134, 177, 104, 187,  84,\n",
              "         200,  61, 167, 193,  68, 148,  67,  94]))"
            ]
          },
          "metadata": {},
          "execution_count": 19
        }
      ]
    },
    {
      "cell_type": "markdown",
      "metadata": {
        "id": "aWHMx1J1rYQH"
      },
      "source": [
        "# Часть 1. Классификация текстов. (6 баллов)"
      ]
    },
    {
      "cell_type": "markdown",
      "metadata": {
        "id": "WGMyF4uvrYQI"
      },
      "source": [
        "## Сборка и обучение RNN в pytorch (2 балла)"
      ]
    },
    {
      "cell_type": "markdown",
      "metadata": {
        "id": "B6qxr-vOrYQI"
      },
      "source": [
        "Создадим переменные для device-agnostic кода:"
      ]
    },
    {
      "cell_type": "code",
      "execution_count": 18,
      "metadata": {
        "ExecuteTime": {
          "end_time": "2021-04-02T00:05:13.809416Z",
          "start_time": "2021-04-02T00:05:13.711383Z"
        },
        "id": "b1i-TJVErYQI",
        "outputId": "bb086e7d-0866-4e1d-db94-a375e57b84b9",
        "colab": {
          "base_uri": "https://localhost:8080/"
        }
      },
      "outputs": [
        {
          "output_type": "stream",
          "name": "stdout",
          "text": [
            "Using device: cuda:0, dtype: torch.float32\n"
          ]
        }
      ],
      "source": [
        "dtype, device, cuda_device_id = torch.float32, None, 0\n",
        "os.environ[\"CUDA_VISIBLE_DEVICES\"] = '{0}'.format(str(cuda_device_id) if cuda_device_id is not None else '')\n",
        "if cuda_device_id is not None and torch.cuda.is_available():\n",
        "    device = 'cuda:{0:d}'.format(0)\n",
        "else:\n",
        "    device = torch.device('cpu')\n",
        "print(f'Using device: {device}, dtype: {dtype}')"
      ]
    },
    {
      "cell_type": "markdown",
      "metadata": {
        "id": "oK1IYG3SrYQI"
      },
      "source": [
        "Наша нейросеть будет обрабатывать входную последовательность по словам (word level). Мы будем использовать простую и стандартную рекуррентную архитектуру для классификации:\n",
        "1. Слой представлений, превращающий id токена в вектор-ембеддинг этого слова\n",
        "2. Слой LSTM\n",
        "3. Полносвязный слой, предсказывающий выход по последнему скрытому состоянию\n",
        "\n",
        "Ниже дан код для сборки и обучения нашей нейросети."
      ]
    },
    {
      "cell_type": "markdown",
      "metadata": {
        "id": "zYAiDHhsrYQI"
      },
      "source": [
        "Допишите класс-обёртку над LSTM для задачи классификации. \n",
        "**Не используйте циклы.**"
      ]
    },
    {
      "cell_type": "markdown",
      "metadata": {
        "ExecuteTime": {
          "end_time": "2021-04-01T20:59:16.467178Z",
          "start_time": "2021-04-01T20:59:16.441112Z"
        },
        "id": "mIwj_vdhrYQI"
      },
      "source": [
        "**Для каждого тензора в функции `forward` подпишите в комментарии его размеры**"
      ]
    },
    {
      "cell_type": "code",
      "execution_count": 19,
      "metadata": {
        "ExecuteTime": {
          "end_time": "2021-04-02T00:05:13.873713Z",
          "start_time": "2021-04-02T00:05:13.810690Z"
        },
        "id": "9QDIEchBrYQJ"
      },
      "outputs": [],
      "source": [
        "class RNNClassifier(torch.nn.Module):\n",
        "    def __init__(\n",
        "        self, embedding_dim, hidden_dim, output_size, vocab,\n",
        "        rec_layer=torch.nn.LSTM, dropout=None, **kwargs\n",
        "    ):\n",
        "        super().__init__()\n",
        "\n",
        "        self.dropout = dropout\n",
        "        \n",
        "        self.vocab = vocab\n",
        "        self.hidden_dim = hidden_dim\n",
        "        self.output_size = output_size\n",
        "        self.embedding_dim = embedding_dim\n",
        "        \n",
        "        # Create a simple lookup table that stores embeddings of a fixed dictionary and size.\n",
        "        #    Use torch.nn.Embedding. Do not forget specify padding_idx!\n",
        "        self.word_embeddings = torch.nn.Embedding (num_embeddings=len(self.vocab),\n",
        "                                                   embedding_dim=self.embedding_dim,\n",
        "                                                   padding_idx=self.vocab.lookup_indices(['<pad>'])[0])\n",
        "        \n",
        "        if dropout is not None:\n",
        "            self.rnn = rec_layer(self.embedding_dim, self.hidden_dim, dropout=self.dropout, **kwargs)\n",
        "        else:\n",
        "            self.rnn = rec_layer(self.embedding_dim, self.hidden_dim, **kwargs)\n",
        "        \n",
        "        # Create linear layer for classification\n",
        "        self.output = torch.nn.Linear(self.hidden_dim, self.output_size)\n",
        "    \n",
        "    def forward(self, tokens, tokens_lens):\n",
        "        \"\"\"\n",
        "        :param torch.tensor(dtype=torch.long) tokens: Batch of texts represented with tokens.\n",
        "        :param torch.tensor(dtype=torch.long) tokens_lens: Number of non-padding tokens for each object in batch.\n",
        "        :return torch.tensor(dtype=torch.long): Vector representation for each sequence in batch\n",
        "        \"\"\"\n",
        "        # Evaluate embeddings\n",
        "        # batch_size = amount of objects in batch\n",
        "        embeddings = self.word_embeddings(tokens) # embeddings.shape = (obj_len, batch_size, embedding_dim)\n",
        "        \n",
        "        # Make forward pass through recurrent network\n",
        "        rnn_output = self.rnn(embeddings)[0]  # rnn_output.shape = (obj_len, batch_size, hidden_dim)\n",
        "        \n",
        "        # Pass output from rnn to linear layer \n",
        "        # Note: each object in batch has its own length \n",
        "        #     so we must take rnn hidden state after the last token for each text in batch\n",
        "        rnn_output = rnn_output[tokens_lens - 1, torch.arange(len(tokens_lens))] # rnn_output.shape = (batch_size, hidden_dim)\n",
        "        output = self.output(rnn_output) # output.size = (batch_size, output_size)\n",
        "        return output"
      ]
    },
    {
      "cell_type": "markdown",
      "metadata": {
        "id": "RuZamIkKrYQJ"
      },
      "source": [
        "[Исходный код LSTM](http://pytorch.org/docs/master/_modules/torch/nn/modules/rnn.html#LSTM)"
      ]
    },
    {
      "cell_type": "markdown",
      "metadata": {
        "id": "SIKKTRKJrYQJ"
      },
      "source": [
        "Допишите функции для обучения и оценки модели:\n",
        "\n",
        "**tip:**\n",
        "1. В функции `evaluate` при подсчёте метрик учитывайте, что батчи могут иметь разный размер. (в частности последний батч)"
      ]
    },
    {
      "cell_type": "code",
      "execution_count": null,
      "metadata": {
        "ExecuteTime": {
          "end_time": "2021-04-02T00:05:13.969665Z",
          "start_time": "2021-04-02T00:05:13.875379Z"
        },
        "id": "1siWQKW-rYQJ"
      },
      "outputs": [],
      "source": [
        "def train_epoch(dataloader, model, loss_fn, optimizer, device):\n",
        "    model.train()\n",
        "    for idx, data in enumerate(dataloader):\n",
        "        # 1. Take data from batch\n",
        "        ratings = data['ratings'].to(device)\n",
        "        tokens = data['tokens'].to(device)\n",
        "        tokens_lens = data['tokens_lens'].to(device)\n",
        "        # 2. Perform forward pass\n",
        "        model.zero_grad()\n",
        "        outputs = model(tokens, tokens_lens)\n",
        "        # 3. Evaluate loss\n",
        "        loss = loss_fn(outputs, ratings)\n",
        "        loss.backward()\n",
        "        # 4. Make optimizer step\n",
        "        optimizer.step()\n",
        "    \n",
        "def evaluate(dataloader, model, loss_fn, device):\n",
        "    model.eval()\n",
        "    \n",
        "    total_loss = 0.0\n",
        "    total_accuracy = 0.0\n",
        "    with torch.no_grad():\n",
        "        for idx, data in enumerate(dataloader):\n",
        "            # 1. Take data from batch\n",
        "            ratings = data['ratings'].to(device)\n",
        "            tokens = data['tokens'].to(device)\n",
        "            tokens_lens = data['tokens_lens'].to(device)\n",
        "            # 2. Perform forward pass\n",
        "            outputs = model(tokens, tokens_lens)\n",
        "            # 3. Evaluate loss\n",
        "            loss = len(ratings) * loss_fn(outputs, ratings)\n",
        "            total_loss += loss\n",
        "            # 4. Evaluate accuracy\n",
        "            accuracy = torch.sum(torch.argmax(outputs, dim=1) == ratings)\n",
        "            total_accuracy += accuracy.item()\n",
        "        \n",
        "    return total_loss / len(dataloader.dataset), total_accuracy / len(dataloader.dataset)\n",
        "    \n",
        "\n",
        "def train(\n",
        "    train_loader, test_loader, model, loss_fn, optimizer, device, num_epochs\n",
        "):\n",
        "    test_losses = []\n",
        "    train_losses = []\n",
        "    test_accuracies = []\n",
        "    train_accuracies = []\n",
        "    for epoch in range(num_epochs):\n",
        "        train_epoch(train_loader, model, loss_fn, optimizer, device)\n",
        "        \n",
        "        train_loss, train_acc = evaluate(train_loader, model, loss_fn, device)\n",
        "        train_accuracies.append(train_acc)\n",
        "        train_losses.append(train_loss)\n",
        "        \n",
        "        test_loss, test_acc = evaluate(test_loader, model, loss_fn, device)\n",
        "        test_accuracies.append(test_acc)\n",
        "        test_losses.append(test_loss)\n",
        "        \n",
        "        print(\n",
        "            'Epoch: {0:d}/{1:d}. Loss (Train/Test): {2:.3f}/{3:.3f}. Accuracy (Train/Test): {4:.3f}/{5:.3f}'.format(\n",
        "                epoch + 1, num_epochs, train_losses[-1], test_losses[-1], train_accuracies[-1], test_accuracies[-1]\n",
        "            )\n",
        "        )\n",
        "    return train_losses, train_accuracies, test_losses, test_accuracies"
      ]
    },
    {
      "cell_type": "markdown",
      "metadata": {
        "id": "VitDFG0IrYQK"
      },
      "source": [
        "Создадим модель:"
      ]
    },
    {
      "cell_type": "code",
      "execution_count": null,
      "metadata": {
        "ExecuteTime": {
          "end_time": "2021-04-01T21:39:36.315652Z",
          "start_time": "2021-04-01T21:39:33.667776Z"
        },
        "id": "Fsp2jbHWrYQK"
      },
      "outputs": [],
      "source": [
        "model = RNNClassifier(\n",
        "    embedding_dim=embedding_dim, hidden_dim=hidden_dim, output_size=10, vocab=vocab,\n",
        "    rec_layer=torch.nn.LSTM, dropout=None\n",
        ").to(device)"
      ]
    },
    {
      "cell_type": "markdown",
      "metadata": {
        "id": "sWbsc80UrYQK"
      },
      "source": [
        "Создадим класс для подсчёта функции потерь и оптимизатор:"
      ]
    },
    {
      "cell_type": "code",
      "execution_count": null,
      "metadata": {
        "ExecuteTime": {
          "end_time": "2021-04-01T21:39:38.737281Z",
          "start_time": "2021-04-01T21:39:38.711948Z"
        },
        "id": "MpFbKMYErYQK"
      },
      "outputs": [],
      "source": [
        "loss_fn = torch.nn.CrossEntropyLoss(reduction='mean')\n",
        "optimizer = torch.optim.Adam(model.parameters(), lr=learning_rate)"
      ]
    },
    {
      "cell_type": "markdown",
      "metadata": {
        "id": "4b1XW_zOrYQK"
      },
      "source": [
        "Попробуем обучить модель:"
      ]
    },
    {
      "cell_type": "markdown",
      "metadata": {
        "id": "JC_yqMYyrYQL"
      },
      "source": [
        "**Сохраните все метрики и время работы модели. Это потребуется в конце первой части для построения графиков обучения и сравнения времени работы для всех моделей в этой секции**"
      ]
    },
    {
      "cell_type": "code",
      "source": [
        "import time"
      ],
      "metadata": {
        "id": "6gmdA3pjwfVK"
      },
      "execution_count": 38,
      "outputs": []
    },
    {
      "cell_type": "code",
      "source": [
        "start = time.time()\n",
        "LSTM_metrics = train(train_dataloader, test_dataloader, model, loss_fn, optimizer, device, num_epochs)\n",
        "LSTM_time = time.time() - start"
      ],
      "metadata": {
        "colab": {
          "base_uri": "https://localhost:8080/"
        },
        "id": "E_rIKb7ZvW8P",
        "outputId": "500690af-dea0-4507-a017-7f8bfa1bd82a"
      },
      "execution_count": null,
      "outputs": [
        {
          "output_type": "stream",
          "name": "stdout",
          "text": [
            "Epoch: 1/15. Loss (Train/Test): 1.998/2.011. Accuracy (Train/Test): 0.237/0.231\n",
            "Epoch: 2/15. Loss (Train/Test): 1.733/1.780. Accuracy (Train/Test): 0.347/0.328\n",
            "Epoch: 3/15. Loss (Train/Test): 1.613/1.690. Accuracy (Train/Test): 0.373/0.348\n",
            "Epoch: 4/15. Loss (Train/Test): 1.527/1.643. Accuracy (Train/Test): 0.400/0.365\n",
            "Epoch: 5/15. Loss (Train/Test): 1.449/1.605. Accuracy (Train/Test): 0.429/0.381\n",
            "Epoch: 6/15. Loss (Train/Test): 1.390/1.578. Accuracy (Train/Test): 0.453/0.388\n",
            "Epoch: 7/15. Loss (Train/Test): 1.337/1.595. Accuracy (Train/Test): 0.465/0.390\n",
            "Epoch: 8/15. Loss (Train/Test): 1.295/1.587. Accuracy (Train/Test): 0.487/0.389\n",
            "Epoch: 9/15. Loss (Train/Test): 1.229/1.621. Accuracy (Train/Test): 0.509/0.393\n",
            "Epoch: 10/15. Loss (Train/Test): 1.171/1.625. Accuracy (Train/Test): 0.542/0.386\n",
            "Epoch: 11/15. Loss (Train/Test): 1.108/1.678. Accuracy (Train/Test): 0.564/0.381\n",
            "Epoch: 12/15. Loss (Train/Test): 1.041/1.758. Accuracy (Train/Test): 0.601/0.370\n",
            "Epoch: 13/15. Loss (Train/Test): 0.968/1.818. Accuracy (Train/Test): 0.629/0.364\n",
            "Epoch: 14/15. Loss (Train/Test): 0.862/1.912. Accuracy (Train/Test): 0.681/0.364\n",
            "Epoch: 15/15. Loss (Train/Test): 0.786/1.978. Accuracy (Train/Test): 0.709/0.364\n"
          ]
        }
      ]
    },
    {
      "cell_type": "markdown",
      "metadata": {
        "id": "EZGM8-ArrYQL"
      },
      "source": [
        "Нерегуляризованные LSTM часто быстро переобучаются (и мы это видим по точности на контроле). Чтобы с этим бороться, часто используют L2-регуляризацию и дропаут.\n",
        "Однако способов накладывать дропаут на рекуррентный слой достаточно много, и далеко не все хорошо работают. По [ссылке](https://medium.com/@bingobee01/a-review-of-dropout-as-applied-to-rnns-72e79ecd5b7b) доступен хороший обзор дропаутов для RNN.\n",
        "\n",
        "Мы реализуем два варианта DropOut для RNN (и третий дополнительно). Заодно увидим, что для реализации различных усовершенствований рекуррентной архитектуры приходится \"вскрывать\" слой до различной \"глубины\"."
      ]
    },
    {
      "cell_type": "markdown",
      "metadata": {
        "id": "5P0ch1kprYQL"
      },
      "source": [
        "## Реализация дропаута по статье Гала и Гарамани. Variational Dropout. (1 балл)"
      ]
    },
    {
      "cell_type": "markdown",
      "metadata": {
        "id": "ytoV8RnSrYQL"
      },
      "source": [
        "Начнем с дропаута, описанного в [статье Гала и Гарамани](https://arxiv.org/abs/1512.05287).\n",
        "Для этого нам потребуется перейти от использования слоя `torch.nn.LSTM`, полностью скрывающего от нас рекуррентную логику, к использованию слоя `torch.nn.LSTMCell`, обрабатывающего лишь один временной шаг нашей последовательности (а всю логику вокруг придется реализовать самостоятельно). \n",
        "\n",
        "Допишите класс `RNNLayer`. При `dropout=0` ваш класс должен работать как обычный слой LSTM, а при `dropout > 0` накладывать бинарную маску на входной и скрытый вектор на каждом временном шаге, причем эта маска должна быть одинаковой во все моменты времени.\n",
        "\n",
        "Дропаут Гала и Гарамани в виде формул (m обозначает маску дропаута):\n",
        "\n",
        "$$\n",
        "h_{t-1} = h_{t-1}*m_h, \\, x_t = x_t * m_x\n",
        "$$\n",
        "\n",
        "Далее обычный шаг рекуррентной архитектуры, например, LSTM:\n",
        "\n",
        "$$\n",
        "i = \\sigma(h_{t-1}W^i + x_t U^i+b_i) \\quad\n",
        "o = \\sigma(h_{t-1}W^o + x_t U^o+b_o) \n",
        "$$\n",
        "$$\n",
        "f = \\sigma(h_{t-1}W^f + x_t U^f+b_f) \\quad \n",
        "g = tanh(h_{t-1} W^g + x_t U^g+b_g) \n",
        "$$\n",
        "$$\n",
        "c_t = f \\odot c_{t-1} +  i \\odot  g \\quad\n",
        "h_t =  o \\odot tanh(c_t) \\nonumber\n",
        "$$"
      ]
    },
    {
      "cell_type": "code",
      "execution_count": 39,
      "metadata": {
        "ExecuteTime": {
          "end_time": "2021-04-02T00:05:14.068954Z",
          "start_time": "2021-04-02T00:05:13.971286Z"
        },
        "id": "_Ey5sVN1rYQM"
      },
      "outputs": [],
      "source": [
        "def init_h0_c0(num_objects, hidden_size, some_existing_tensor):\n",
        "    \"\"\"\n",
        "    return h0 and c0, use some_existing_tensor.new_zeros() to gen them\n",
        "    h0 shape: num_objects x hidden_size\n",
        "    c0 shape: num_objects x hidden_size\n",
        "    \"\"\"\n",
        "    h0 = some_existing_tensor.new_zeros((num_objects, hidden_size))\n",
        "    c0 = some_existing_tensor.new_zeros((num_objects, hidden_size))\n",
        "    return h0, c0"
      ]
    },
    {
      "cell_type": "code",
      "execution_count": 40,
      "metadata": {
        "ExecuteTime": {
          "end_time": "2021-04-02T00:05:14.131347Z",
          "start_time": "2021-04-02T00:05:14.071577Z"
        },
        "id": "TybrbNVArYQM"
      },
      "outputs": [],
      "source": [
        "def gen_dropout_mask(input_size, hidden_size, is_training, p, some_existing_tensor):\n",
        "    \"\"\"\n",
        "    is_training: if True, gen masks from Bernoulli\n",
        "                 if False, gen masks consisting of (1-p)\n",
        "    \n",
        "    return dropout masks of size input_size, hidden_size if p is not None\n",
        "    return one masks if p is None\n",
        "    \"\"\"\n",
        "    if p is None:\n",
        "      m_h = some_existing_tensor.new_ones(hidden_size)\n",
        "      m_x = some_existing_tensor.new_ones(input_size)\n",
        "    else:\n",
        "      if is_training:\n",
        "        m_h = some_existing_tensor.new_zeros(hidden_size).bernoulli_(1-p)\n",
        "        m_x = some_existing_tensor.new_empty(input_size).bernoulli_(1-p)\n",
        "      else:\n",
        "        m_h = some_existing_tensor.new_full((hidden_size,), 1-p)\n",
        "        m_x = some_existing_tensor.new_full((input_size,), 1-p)\n",
        "    return m_h, m_x"
      ]
    },
    {
      "cell_type": "markdown",
      "metadata": {
        "ExecuteTime": {
          "end_time": "2021-04-01T21:09:12.282613Z",
          "start_time": "2021-04-01T21:09:12.256019Z"
        },
        "id": "bPnXohCtrYQM"
      },
      "source": [
        "Допишите класс-обёртку над LSTMCell для реализации Variational Dropout. **Используйте только цикл по времени**"
      ]
    },
    {
      "cell_type": "markdown",
      "metadata": {
        "id": "G0mc7hZgrYQM"
      },
      "source": [
        "**Для каждого тензора в функции `forward` подпишите в комментарии его размеры**"
      ]
    },
    {
      "cell_type": "code",
      "execution_count": null,
      "metadata": {
        "ExecuteTime": {
          "end_time": "2021-04-02T00:05:14.190066Z",
          "start_time": "2021-04-02T00:05:14.132804Z"
        },
        "id": "bz56ou3jrYQM"
      },
      "outputs": [],
      "source": [
        "class RNNLayer(torch.nn.Module):\n",
        "    def __init__(self, input_size, hidden_size, dropout=None):\n",
        "        super().__init__()\n",
        "\n",
        "        self.dropout = dropout\n",
        "        self.input_size = input_size\n",
        "        self.hidden_size = hidden_size\n",
        "        \n",
        "        self.rnn_cell = torch.nn.LSTMCell(self.input_size, self.hidden_size)\n",
        "        \n",
        "    def forward(self, x):\n",
        "        # Initialize h_0, c_0\n",
        "        h_0, c_0 = init_h0_c0(x.size()[1], self.hidden_size, x)\n",
        "        # batch_size = amount of objects in batch\n",
        "        # h_o.shape = (batch_size, hidden_size)\n",
        "        # c_o.shape = (batch_size, hidden_size)\n",
        "\n",
        "        # Gen masks for input and hidden state\n",
        "        if self.dropout > 0:\n",
        "          m_h, m_x = gen_dropout_mask(self.input_size,\n",
        "                                      self.hidden_size,\n",
        "                                      self.training, # self.training is from torch.nn.Module\n",
        "                                      self.dropout,\n",
        "                                      x)\n",
        "          # m_h.shape = (hidden_size)\n",
        "          # m_x.shape = (input_size)\n",
        "        \n",
        "        # Implement recurrent logic and return what nn.LSTM returns\n",
        "        # Do not forget to apply generated dropout masks!\n",
        "        if self.dropout == 0:\n",
        "          mask_x = x # mask_x.shape = (obj_len, batch_size, input_size)\n",
        "          flag = False\n",
        "        elif self.dropout > 0:\n",
        "          mask_x = x * m_x # mask_x.shape = (obj_len, batch_size, input_size)\n",
        "          flag = True\n",
        "        else:\n",
        "          raise Exception(\"Dropout value should be >= 0\")\n",
        "        \n",
        "        output = []\n",
        "        h = h_0 # h.shape = (batch_size, hidden_size)\n",
        "        c = c_0 # c.shape = (batch_size, hidden_size)\n",
        "        for i in range(mask_x.size()[0]):\n",
        "          h, c = self.rnn_cell(mask_x[i], (h, c))\n",
        "          if flag:\n",
        "            h = h * m_h\n",
        "          output.append(h)\n",
        "        output = torch.stack(output)\n",
        "        return output, (h, c)"
      ]
    },
    {
      "cell_type": "markdown",
      "metadata": {
        "id": "2RiXIv4brYQN"
      },
      "source": [
        "Протестируйте реализованную модель с выключенным дропаутом (слой `RNNLayer` надо передать в `RNNClassifier` в качестве `rec_layer`). Замерьте время обучения. Сильно ли оно увеличилось по сравнению с `torch.nn.LSTM` (LSTM \"из коробки\")?"
      ]
    },
    {
      "cell_type": "markdown",
      "metadata": {
        "id": "3owJMircrYQN"
      },
      "source": [
        "**Сохраните все метрики и время работы модели. Это потребуется в конце первой части для построения графиков обучения и сравнения времени работы для всех моделей в этой секции**"
      ]
    },
    {
      "cell_type": "code",
      "source": [
        "model = RNNClassifier(\n",
        "    embedding_dim=embedding_dim, hidden_dim=hidden_dim, output_size=10, vocab=vocab,\n",
        "    rec_layer=RNNLayer, dropout=0\n",
        ").to(device)\n",
        "optimizer = torch.optim.Adam(model.parameters(), lr=learning_rate)"
      ],
      "metadata": {
        "id": "V5k8DUP5Jzse"
      },
      "execution_count": null,
      "outputs": []
    },
    {
      "cell_type": "code",
      "source": [
        "start = time.time()\n",
        "RNNLayer_metrics = train(train_dataloader, test_dataloader, model, loss_fn, optimizer, device, num_epochs)\n",
        "RNNLayer_time = time.time() - start"
      ],
      "metadata": {
        "colab": {
          "base_uri": "https://localhost:8080/"
        },
        "id": "Aekhqb4jKCnd",
        "outputId": "931791fc-94fc-43dc-a2b6-bfd6d25ccaae"
      },
      "execution_count": null,
      "outputs": [
        {
          "output_type": "stream",
          "name": "stdout",
          "text": [
            "Epoch: 1/15. Loss (Train/Test): 1.952/1.975. Accuracy (Train/Test): 0.277/0.265\n",
            "Epoch: 2/15. Loss (Train/Test): 1.762/1.814. Accuracy (Train/Test): 0.343/0.325\n",
            "Epoch: 3/15. Loss (Train/Test): 1.613/1.700. Accuracy (Train/Test): 0.380/0.355\n",
            "Epoch: 4/15. Loss (Train/Test): 1.512/1.632. Accuracy (Train/Test): 0.414/0.372\n",
            "Epoch: 5/15. Loss (Train/Test): 1.480/1.623. Accuracy (Train/Test): 0.428/0.374\n",
            "Epoch: 6/15. Loss (Train/Test): 1.388/1.585. Accuracy (Train/Test): 0.454/0.389\n",
            "Epoch: 7/15. Loss (Train/Test): 1.375/1.649. Accuracy (Train/Test): 0.458/0.383\n",
            "Epoch: 8/15. Loss (Train/Test): 1.279/1.616. Accuracy (Train/Test): 0.495/0.384\n",
            "Epoch: 9/15. Loss (Train/Test): 1.229/1.626. Accuracy (Train/Test): 0.512/0.392\n",
            "Epoch: 10/15. Loss (Train/Test): 1.166/1.633. Accuracy (Train/Test): 0.544/0.389\n",
            "Epoch: 11/15. Loss (Train/Test): 1.100/1.696. Accuracy (Train/Test): 0.569/0.383\n",
            "Epoch: 12/15. Loss (Train/Test): 1.031/1.732. Accuracy (Train/Test): 0.607/0.379\n",
            "Epoch: 13/15. Loss (Train/Test): 0.965/1.829. Accuracy (Train/Test): 0.638/0.362\n",
            "Epoch: 14/15. Loss (Train/Test): 0.872/1.887. Accuracy (Train/Test): 0.675/0.368\n",
            "Epoch: 15/15. Loss (Train/Test): 0.786/1.976. Accuracy (Train/Test): 0.717/0.364\n"
          ]
        }
      ]
    },
    {
      "cell_type": "code",
      "source": [
        "print('Время работы при использовании RNNLayer без дропаута увеличилось по сравнению с torch.nn.LSTM в ', RNNLayer_time/LSTM_time, 'раз')"
      ],
      "metadata": {
        "colab": {
          "base_uri": "https://localhost:8080/"
        },
        "id": "-AyO2QhDO1AU",
        "outputId": "13d61d07-4613-4da4-ba55-30099c007dbd"
      },
      "execution_count": null,
      "outputs": [
        {
          "output_type": "stream",
          "name": "stdout",
          "text": [
            "Время работы при использовании RNNLayer без дропаута увеличилось по сравнению с torch.nn.LSTM в  1.8763065319138177 раз\n"
          ]
        }
      ]
    },
    {
      "cell_type": "markdown",
      "metadata": {
        "id": "h_8vo1UtrYQR"
      },
      "source": [
        "Протестируйте полученную модель с `dropout=0.25`, вновь замерив время обучения. Получилось ли побороть переобучение? Сильно ли дольше обучается данная модель по сравнению с предыдущей? (доп. время тратится на генерацию масок дропаута)."
      ]
    },
    {
      "cell_type": "code",
      "source": [
        "model = RNNClassifier(\n",
        "    embedding_dim=embedding_dim, hidden_dim=hidden_dim, output_size=10, vocab=vocab,\n",
        "    rec_layer=RNNLayer, dropout=0.25\n",
        ").to(device)\n",
        "optimizer = torch.optim.Adam(model.parameters(), lr=learning_rate)"
      ],
      "metadata": {
        "id": "F5vfciGIQCm_"
      },
      "execution_count": null,
      "outputs": []
    },
    {
      "cell_type": "code",
      "source": [
        "start = time.time()\n",
        "RNNLayer_DO_metrics = train(train_dataloader, test_dataloader, model, loss_fn, optimizer, device, num_epochs)\n",
        "RNNLayer_DO_time = time.time() - start"
      ],
      "metadata": {
        "colab": {
          "base_uri": "https://localhost:8080/"
        },
        "id": "Q_Wn0rtvQKYa",
        "outputId": "c9fbdcf6-f61a-439b-a4d6-9cf81ce8187b"
      },
      "execution_count": null,
      "outputs": [
        {
          "output_type": "stream",
          "name": "stdout",
          "text": [
            "Epoch: 1/15. Loss (Train/Test): 2.010/2.020. Accuracy (Train/Test): 0.241/0.229\n",
            "Epoch: 2/15. Loss (Train/Test): 1.870/1.896. Accuracy (Train/Test): 0.313/0.302\n",
            "Epoch: 3/15. Loss (Train/Test): 1.732/1.779. Accuracy (Train/Test): 0.347/0.332\n",
            "Epoch: 4/15. Loss (Train/Test): 1.641/1.709. Accuracy (Train/Test): 0.363/0.346\n",
            "Epoch: 5/15. Loss (Train/Test): 1.593/1.667. Accuracy (Train/Test): 0.378/0.354\n",
            "Epoch: 6/15. Loss (Train/Test): 1.547/1.633. Accuracy (Train/Test): 0.395/0.364\n",
            "Epoch: 7/15. Loss (Train/Test): 1.517/1.620. Accuracy (Train/Test): 0.395/0.366\n",
            "Epoch: 8/15. Loss (Train/Test): 1.484/1.598. Accuracy (Train/Test): 0.410/0.375\n",
            "Epoch: 9/15. Loss (Train/Test): 1.460/1.588. Accuracy (Train/Test): 0.418/0.384\n",
            "Epoch: 10/15. Loss (Train/Test): 1.430/1.568. Accuracy (Train/Test): 0.439/0.388\n",
            "Epoch: 11/15. Loss (Train/Test): 1.405/1.554. Accuracy (Train/Test): 0.446/0.394\n",
            "Epoch: 12/15. Loss (Train/Test): 1.384/1.544. Accuracy (Train/Test): 0.451/0.397\n",
            "Epoch: 13/15. Loss (Train/Test): 1.378/1.557. Accuracy (Train/Test): 0.451/0.396\n",
            "Epoch: 14/15. Loss (Train/Test): 1.349/1.537. Accuracy (Train/Test): 0.464/0.402\n",
            "Epoch: 15/15. Loss (Train/Test): 1.330/1.543. Accuracy (Train/Test): 0.467/0.404\n"
          ]
        }
      ]
    },
    {
      "cell_type": "code",
      "source": [
        "print('Время работы при использовании RNNLayer с дропаутом увеличилось по сравнению с RNNLayer без дропаута в ', RNNLayer_DO_time/RNNLayer_time, 'раз')"
      ],
      "metadata": {
        "colab": {
          "base_uri": "https://localhost:8080/"
        },
        "id": "LarlG8bdNl5_",
        "outputId": "e100aa10-139a-4140-bbdc-9a732ff06600"
      },
      "execution_count": null,
      "outputs": [
        {
          "output_type": "stream",
          "name": "stdout",
          "text": [
            "Время работы при использовании RNNLayer с дропаутом увеличилось по сравнению с RNNLayer без дропаута в  1.1796039218946548 раз\n"
          ]
        }
      ]
    },
    {
      "cell_type": "markdown",
      "source": [
        "Переобучение получилось побороть, хоть модель и обучается чуть дольше, чем без дропаута."
      ],
      "metadata": {
        "id": "ABkmMLpDTKEp"
      }
    },
    {
      "cell_type": "markdown",
      "metadata": {
        "id": "ly5vpKsSrYQR"
      },
      "source": [
        "## Реализация дропаута по статье Гала и Гарамани. Дубль 2 (1 балл)"
      ]
    },
    {
      "cell_type": "markdown",
      "metadata": {
        "id": "si6a02nKrYQR"
      },
      "source": [
        "<начало взлома pytorch>"
      ]
    },
    {
      "cell_type": "markdown",
      "metadata": {
        "id": "pTyXPJ87rYQR"
      },
      "source": [
        "При разворачивании цикла по времени средствами python обучение рекуррентной нейросети сильно замедляется. Однако для реализации дропаута Гала и Гарамани необязательно явно задавать в коде домножение нейронов на маски. Можно схитрить и обойтись использованием слоя `torch.nn.LSTM`: перед вызовом `forward` слоя `torch.nn.LSTM` подменять его веса на веса, домноженные по строкам на маски. А обучаемые веса хранить отдельно. Именно так этот дропаут реализован в библиотеке `fastai`, код из которой использован в ячейке ниже.\n",
        "\n",
        "Такой слой реализуется в виде обертки над `torch.nn.LSTM`. Допишите класс:"
      ]
    },
    {
      "cell_type": "code",
      "execution_count": null,
      "metadata": {
        "ExecuteTime": {
          "end_time": "2021-04-02T00:05:14.286206Z",
          "start_time": "2021-04-02T00:05:14.191730Z"
        },
        "id": "Ew1Jv1x9rYQR"
      },
      "outputs": [],
      "source": [
        "import warnings"
      ]
    },
    {
      "cell_type": "code",
      "execution_count": 32,
      "metadata": {
        "ExecuteTime": {
          "end_time": "2021-04-02T02:06:54.953123Z",
          "start_time": "2021-04-02T02:06:54.917017Z"
        },
        "id": "MKqD56isrYQR"
      },
      "outputs": [],
      "source": [
        "class FastRNNLayer(torch.nn.Module):\n",
        "    def __init__(self, input_size, hidden_size, dropout=0.0, layers_dropout=0.0, num_layers=1):\n",
        "        super().__init__()\n",
        "\n",
        "        self.input_size = input_size\n",
        "        self.hidden_size = hidden_size\n",
        "\n",
        "        self.num_layers = num_layers\n",
        "\n",
        "        self.dropout = dropout\n",
        "        self.layers_dropout = layers_dropout\n",
        "        self.module = torch.nn.LSTM(input_size, hidden_size, dropout=layers_dropout, num_layers=num_layers)\n",
        "\n",
        "        self.layer_names = []\n",
        "        for layer_n in range(self.num_layers):\n",
        "            self.layer_names += [f'weight_hh_l{layer_n}', f'weight_ih_l{layer_n}']\n",
        "\n",
        "        for layer in self.layer_names:\n",
        "            # Get torch.nn.Parameter with weights from torch.nn.LSTM instance\n",
        "            w = getattr(self.module, layer)\n",
        "\n",
        "            # Remove it from model\n",
        "            delattr(self.module, layer)\n",
        "\n",
        "            # And create new torch.nn.Parameter with the same data but different name\n",
        "            self.register_parameter(f'{layer}_raw', torch.nn.Parameter(w.data))\n",
        "\n",
        "            # Note. In torch.nn.LSTM.forward parameter with name `layer` will be used\n",
        "            #     so we must initialize it using `layer_raw` before forward pass\n",
        "\n",
        "    def _setweights(self, x):\n",
        "        \"\"\"\n",
        "            Apply dropout to the raw weights.\n",
        "        \"\"\"\n",
        "        for layer in self.layer_names:\n",
        "            # Get torch.nn.Parameter with weights\n",
        "            raw_w = getattr(self, f'{layer}_raw')\n",
        "\n",
        "            # Generate mask (use function gen_dropout_mask)\n",
        "            if self.dropout > 0:\n",
        "              m_h, m_x = gen_dropout_mask(raw_w.size()[1], \n",
        "                                          self.hidden_size, \n",
        "                                          self.training, \n",
        "                                          self.dropout, \n",
        "                                          raw_w)\n",
        "\n",
        "            # Apply dropout mask\n",
        "            if self.dropout == 0:\n",
        "              masked_raw_w = raw_w\n",
        "            elif self.dropout > 0:\n",
        "              masked_raw_w = raw_w * m_x\n",
        "            else:\n",
        "              raise Exception(\"Dropout value should be >= 0\")\n",
        "\n",
        "            # Set modified weights in its place\n",
        "            setattr(self.module, layer, masked_raw_w)\n",
        "\n",
        "    def forward(self, x, h_c=None):\n",
        "        \"\"\"\n",
        "        :param x: tensor containing the features of the input sequence.\n",
        "        :param Optional[Tuple[torch.tensor, torch.tensor]] h_c: initial hidden state and initial cell state\n",
        "        \"\"\"\n",
        "        with warnings.catch_warnings():\n",
        "            # To avoid the warning that comes because the weights aren't flattened.\n",
        "            warnings.simplefilter(\"ignore\")\n",
        "\n",
        "            # Set new weights of self.module and call its forward\n",
        "            # Pass h_c with x if it is not None. Otherwise pass only x\n",
        "            self._setweights(x)\n",
        "            if h_c is not None:\n",
        "              outputs = self.module(x, h_c)\n",
        "            else:\n",
        "              outputs = self.module(x)\n",
        "        \n",
        "        return outputs\n",
        "            \n",
        "    def reset(self):\n",
        "        if hasattr(self.module, 'reset'):\n",
        "            self.module.reset()"
      ]
    },
    {
      "cell_type": "markdown",
      "metadata": {
        "id": "ab1zibKkrYQS"
      },
      "source": [
        "Протестируйте реализованную модель с выключенным дропаутом (слой `FastRNNLayer` надо передать в `RNNClassifier` в качестве `rec_layer`). Замерьте время обучения. Убедитесь, что модель выдаёт такое же качество, как и оригинальная реализация LSTM."
      ]
    },
    {
      "cell_type": "markdown",
      "metadata": {
        "id": "zjj4zfZQrYQS"
      },
      "source": [
        "**Сохраните все метрики и время работы модели. Это потребуется в конце первой части для построения графиков обучения и сравнения времени работы для всех моделей в этой секции**"
      ]
    },
    {
      "cell_type": "code",
      "source": [
        "model = RNNClassifier(\n",
        "    embedding_dim=embedding_dim, hidden_dim=hidden_dim, output_size=10, vocab=vocab,\n",
        "    rec_layer=FastRNNLayer, dropout=0\n",
        ").to(device)\n",
        "optimizer = torch.optim.Adam(model.parameters(), lr=learning_rate)"
      ],
      "metadata": {
        "id": "oWyvY_fghXVo"
      },
      "execution_count": null,
      "outputs": []
    },
    {
      "cell_type": "code",
      "source": [
        "start = time.time()\n",
        "FastRNNLayer_metrics = train(train_dataloader, test_dataloader, model, loss_fn, optimizer, device, num_epochs)\n",
        "FastRNNLayer_time = time.time() - start"
      ],
      "metadata": {
        "colab": {
          "base_uri": "https://localhost:8080/"
        },
        "id": "p1DG6k_ChdSE",
        "outputId": "2630bf9d-d9df-4d7f-be8a-36de8f91c490"
      },
      "execution_count": null,
      "outputs": [
        {
          "output_type": "stream",
          "name": "stdout",
          "text": [
            "Epoch: 1/15. Loss (Train/Test): 1.937/1.957. Accuracy (Train/Test): 0.286/0.275\n",
            "Epoch: 2/15. Loss (Train/Test): 1.667/1.731. Accuracy (Train/Test): 0.361/0.343\n",
            "Epoch: 3/15. Loss (Train/Test): 1.560/1.648. Accuracy (Train/Test): 0.393/0.366\n",
            "Epoch: 4/15. Loss (Train/Test): 1.471/1.602. Accuracy (Train/Test): 0.422/0.378\n",
            "Epoch: 5/15. Loss (Train/Test): 1.412/1.588. Accuracy (Train/Test): 0.441/0.389\n",
            "Epoch: 6/15. Loss (Train/Test): 1.365/1.588. Accuracy (Train/Test): 0.457/0.389\n",
            "Epoch: 7/15. Loss (Train/Test): 1.308/1.588. Accuracy (Train/Test): 0.484/0.389\n",
            "Epoch: 8/15. Loss (Train/Test): 1.250/1.599. Accuracy (Train/Test): 0.501/0.385\n",
            "Epoch: 9/15. Loss (Train/Test): 1.199/1.644. Accuracy (Train/Test): 0.517/0.389\n",
            "Epoch: 10/15. Loss (Train/Test): 1.127/1.675. Accuracy (Train/Test): 0.555/0.388\n",
            "Epoch: 11/15. Loss (Train/Test): 1.078/1.725. Accuracy (Train/Test): 0.578/0.376\n",
            "Epoch: 12/15. Loss (Train/Test): 1.007/1.809. Accuracy (Train/Test): 0.598/0.387\n",
            "Epoch: 13/15. Loss (Train/Test): 0.918/1.892. Accuracy (Train/Test): 0.648/0.371\n",
            "Epoch: 14/15. Loss (Train/Test): 0.846/1.942. Accuracy (Train/Test): 0.686/0.359\n",
            "Epoch: 15/15. Loss (Train/Test): 0.771/2.106. Accuracy (Train/Test): 0.717/0.358\n"
          ]
        }
      ]
    },
    {
      "cell_type": "markdown",
      "metadata": {
        "id": "6GlcBEBDrYQS"
      },
      "source": [
        "Протестируйте полученный слой (вновь подставив его в `RNNClassifier` в качестве `rec_layer`) с `dropout=0.25`. Сравните время обучения с предыдущими моделями. Проследите, чтобы качество получилось такое же, как при первой реализации этого дропаута."
      ]
    },
    {
      "cell_type": "code",
      "execution_count": null,
      "metadata": {
        "ExecuteTime": {
          "end_time": "2021-04-01T22:28:38.168777Z",
          "start_time": "2021-04-01T22:25:56.717326Z"
        },
        "id": "DJf3q0mWrYQS"
      },
      "outputs": [],
      "source": [
        "model = RNNClassifier(\n",
        "    embedding_dim=embedding_dim, hidden_dim=hidden_dim, output_size=10, vocab=vocab,\n",
        "    rec_layer=FastRNNLayer, dropout=0.25\n",
        ").to(device)\n",
        "optimizer = torch.optim.Adam(model.parameters(), lr=learning_rate)"
      ]
    },
    {
      "cell_type": "code",
      "source": [
        "start = time.time()\n",
        "FastRNNLayer_DO_metrics = train(train_dataloader, test_dataloader, model, loss_fn, optimizer, device, num_epochs)\n",
        "FastRNNLayer_DO_time = time.time() - start"
      ],
      "metadata": {
        "colab": {
          "base_uri": "https://localhost:8080/"
        },
        "id": "kmqjCTbNiyqo",
        "outputId": "d56eb5f2-b031-41fe-98b7-df0c820654e9"
      },
      "execution_count": null,
      "outputs": [
        {
          "output_type": "stream",
          "name": "stdout",
          "text": [
            "Epoch: 1/15. Loss (Train/Test): 2.004/2.014. Accuracy (Train/Test): 0.224/0.221\n",
            "Epoch: 2/15. Loss (Train/Test): 1.832/1.867. Accuracy (Train/Test): 0.325/0.311\n",
            "Epoch: 3/15. Loss (Train/Test): 1.665/1.715. Accuracy (Train/Test): 0.369/0.345\n",
            "Epoch: 4/15. Loss (Train/Test): 1.582/1.655. Accuracy (Train/Test): 0.388/0.362\n",
            "Epoch: 5/15. Loss (Train/Test): 1.537/1.621. Accuracy (Train/Test): 0.408/0.374\n",
            "Epoch: 6/15. Loss (Train/Test): 1.482/1.589. Accuracy (Train/Test): 0.423/0.384\n",
            "Epoch: 7/15. Loss (Train/Test): 1.457/1.588. Accuracy (Train/Test): 0.431/0.386\n",
            "Epoch: 8/15. Loss (Train/Test): 1.424/1.563. Accuracy (Train/Test): 0.439/0.395\n",
            "Epoch: 9/15. Loss (Train/Test): 1.392/1.550. Accuracy (Train/Test): 0.453/0.398\n",
            "Epoch: 10/15. Loss (Train/Test): 1.357/1.540. Accuracy (Train/Test): 0.465/0.401\n",
            "Epoch: 11/15. Loss (Train/Test): 1.342/1.544. Accuracy (Train/Test): 0.468/0.405\n",
            "Epoch: 12/15. Loss (Train/Test): 1.312/1.533. Accuracy (Train/Test): 0.481/0.405\n",
            "Epoch: 13/15. Loss (Train/Test): 1.292/1.536. Accuracy (Train/Test): 0.490/0.403\n",
            "Epoch: 14/15. Loss (Train/Test): 1.273/1.534. Accuracy (Train/Test): 0.496/0.408\n",
            "Epoch: 15/15. Loss (Train/Test): 1.255/1.535. Accuracy (Train/Test): 0.501/0.407\n"
          ]
        }
      ]
    },
    {
      "cell_type": "code",
      "source": [
        "print('Время работы при использовании torch.nn.LSTM - ', LSTM_time)\n",
        "print('Время работы при использовании RNNLayer - ', RNNLayer_time)\n",
        "print('Время работы при использовании RNNLayer + DropOut - ', RNNLayer_DO_time)\n",
        "print('Время работы при использовании FastRNNLayer - ', FastRNNLayer_time)\n",
        "print('Время работы при использовании FastRNNLayer + DropOut - ', FastRNNLayer_DO_time)"
      ],
      "metadata": {
        "colab": {
          "base_uri": "https://localhost:8080/"
        },
        "id": "3zz4ry0ljev5",
        "outputId": "178fda64-bcb6-498a-fbb8-9c03f257421c"
      },
      "execution_count": null,
      "outputs": [
        {
          "output_type": "stream",
          "name": "stdout",
          "text": [
            "Время работы при использовании torch.nn.LSTM -  345.17474913597107\n",
            "Время работы при использовании RNNLayer -  647.6536364555359\n",
            "Время работы при использовании RNNLayer + DropOut -  763.9747695922852\n",
            "Время работы при использовании FastRNNLayer -  345.927458524704\n",
            "Время работы при использовании FastRNNLayer + DropOut -  351.5625014305115\n"
          ]
        }
      ]
    },
    {
      "cell_type": "markdown",
      "source": [
        "Видно, что время работы при использовалии FastRNNLayer близко к изначальному torch.nn.LSTM. Что касается качества - оно практически не поменялось по сравнению с первой реализацией этого дропаута."
      ],
      "metadata": {
        "id": "g9ASnvRJkxhz"
      }
    },
    {
      "cell_type": "markdown",
      "metadata": {
        "id": "jtKbjvwzrYQS"
      },
      "source": [
        "</конец взлома pytorch>"
      ]
    },
    {
      "cell_type": "markdown",
      "metadata": {
        "id": "iba_MzzorYQT"
      },
      "source": [
        "## Реализация дропаута по статье Семениуты и др. (1 балл)"
      ]
    },
    {
      "cell_type": "markdown",
      "metadata": {
        "id": "V0TxQFSkrYQT"
      },
      "source": [
        "Перейдем к реализации дропаута для LSTM по статье [Semeniuta et al](http://www.aclweb.org/anthology/C16-1165). \n",
        "\n",
        "Этот метод применения дропаута не менее популярен, чем предыдущий. Его особенность состоит в том, что он придуман специально для гейтовых архитектур. В контексте LSTM этот дропаут накладывается только на информационный поток (m_h - маска дропаута):\n",
        "$$\n",
        "i = \\sigma(h_{t-1}W^i + x_t U^i+b_i) \\quad\n",
        "o = \\sigma(h_{t-1}W^o + x_t U^o+b_o) \n",
        "$$\n",
        "$$\n",
        "f = \\sigma(h_{t-1}W^f + x_t U^f+b_f) \\quad \n",
        "g = tanh(h_{t-1} W^g + x_t U^g+b_g) \n",
        "$$\n",
        "$$\n",
        "c_t = f \\odot c_{t-1} +  i \\odot g \\odot {\\bf m_h} \\quad\n",
        "h_t =  o \\odot tanh(c_t) \\nonumber\n",
        "$$\n",
        "На входы $x_t$ маска накладывается как в предыдущем дропауте. Впрочем, на входы маску можно наложить вообще до вызова рекуррентного слоя.\n",
        "\n",
        "Согласно статье, маска дропаута может быть как одинаковая, так и разная для всех моментов времени. Мы сделаем одинаковую для всех моментов времени.\n",
        "\n",
        "Для реализации этого дропаута можно: \n",
        "1. самостоятельно реализовать LSTM (интерфейса LSTMCell не хватит) \n",
        "2. снова воспользоваться трюком с установкой весов (но тут мы опираемся на свойство $tanh(0)=0$, к тому же, трюк в данном случае выглядит менее тривиально, чем с дропаутом Гала). \n",
        "\n",
        "Предлагается реализовать дропаут по сценарию 1. Допишите класс:"
      ]
    },
    {
      "cell_type": "markdown",
      "metadata": {
        "id": "oG0JdutFrYQT"
      },
      "source": [
        "**Для каждого тензора в функции `forward` подпишите в комментарии его размеры**"
      ]
    },
    {
      "cell_type": "code",
      "execution_count": null,
      "metadata": {
        "ExecuteTime": {
          "end_time": "2021-04-02T00:05:14.447201Z",
          "start_time": "2021-04-02T00:05:14.350457Z"
        },
        "id": "srHdQBtvrYQT"
      },
      "outputs": [],
      "source": [
        "class HandmadeLSTM(torch.nn.Module):\n",
        "    def __init__(self, input_size, hidden_size, dropout=0.0):\n",
        "        super().__init__()\n",
        "        \n",
        "        self.dropout = dropout\n",
        "        self.input_size = input_size\n",
        "        self.hidden_size = hidden_size\n",
        "        \n",
        "        self.input_weights = torch.nn.Linear(input_size, 4 * hidden_size)\n",
        "        self.hidden_weights = torch.nn.Linear(hidden_size, 4 * hidden_size)\n",
        "        \n",
        "        self.reset_params()\n",
        "\n",
        "    def reset_params(self):\n",
        "        \"\"\"\n",
        "        Initialization as in Pytorch. \n",
        "        Do not forget to call this method!\n",
        "        https://pytorch.org/docs/stable/_modules/torch/nn/modules/rnn.html#LSTM\n",
        "        \"\"\"\n",
        "        stdv = 1.0 / np.sqrt(self.hidden_size)\n",
        "        for weight in self.parameters():\n",
        "            torch.nn.init.uniform_(weight, -stdv, stdv)\n",
        "\n",
        "    def forward(self, x):\n",
        "        # Use functions init_h0_c0 and gen_dropout_masks defined above\n",
        "        h_0, c_0 = init_h0_c0(x.size()[1], self.hidden_size, x)\n",
        "        # batch_size = amount of objects in batch\n",
        "        # h_o.shape = (batch_size, hidden_size)\n",
        "        # c_o.shape = (batch_size, hidden_size)\n",
        "\n",
        "        if self.dropout > 0:\n",
        "          m_h, m_x = gen_dropout_mask(self.input_size,\n",
        "                                      self.hidden_size,\n",
        "                                      self.training, # self.training is from torch.nn.Module\n",
        "                                      self.dropout,\n",
        "                                      x)\n",
        "          # m_h.shape = (hidden_size)\n",
        "          # m_x.shape = (input_size)\n",
        "        \n",
        "        # Implement recurrent logic to mimic torch.nn.LSTM\n",
        "        # Do not forget to apply dropout mask\n",
        "        if self.dropout == 0:\n",
        "          mask_x = x # mask_x.shape = (obj_len, batch_size, input_size)\n",
        "          flag = False\n",
        "        elif self.dropout > 0:\n",
        "          mask_x = x * m_x # mask_x.shape = (obj_len, batch_size, input_size)\n",
        "          flag = True\n",
        "        else:\n",
        "          raise Exception(\"Dropout value should be >= 0\")\n",
        "        \n",
        "        output = []\n",
        "        h = h_0 # h.shape = (batch_size, hidden_size)\n",
        "        c = c_0 # c.shape = (batch_size, hidden_size)\n",
        "        for i in range(mask_x.size()[0]):\n",
        "          arg = self.hidden_weights(h) + self.input_weights(mask_x[i])\n",
        "          # arg.shape = (batch_size, 4*hidden_size)\n",
        "          i, o, f, g = torch.split(arg, 4*[self.hidden_size], dim=1)\n",
        "          # i.shape, o.shape, f.shape, g.shape = (batch, hidden_size)\n",
        "          i = torch.sigmoid(i)\n",
        "          o = torch.sigmoid(o)\n",
        "          f = torch.sigmoid(f)\n",
        "          g = torch.tanh(g)\n",
        "          if flag:\n",
        "            c = f*c + i*g*m_h\n",
        "          else:\n",
        "            c = f*c + i*g\n",
        "          h = o * torch.tanh(c)\n",
        "          output.append(h)\n",
        "        output = torch.stack(output)\n",
        "        return output, (h, c)"
      ]
    },
    {
      "cell_type": "markdown",
      "metadata": {
        "id": "5gHlSXRCrYQT"
      },
      "source": [
        "Протестируйте вашу реализацию без дропаута (проконтролируйте качество и сравните время обучения с временем обучения `torch.nn.LSTM` и `RNNLayer`), а также с `dropout=0.25`. Сравните качество модели с таким дропаутом с качеством модели с дропаутом Гала и Гарамани."
      ]
    },
    {
      "cell_type": "markdown",
      "metadata": {
        "id": "_W6ft_o0rYQW"
      },
      "source": [
        "**Сохраните все метрики и время работы модели. Это потребуется в конце первой части для построения графиков обучения и сравнения времени работы для всех моделей в этой секции**"
      ]
    },
    {
      "cell_type": "code",
      "execution_count": null,
      "metadata": {
        "ExecuteTime": {
          "end_time": "2021-04-01T23:01:53.046622Z",
          "start_time": "2021-04-01T22:30:08.733475Z"
        },
        "id": "nnnQlIOfrYQW"
      },
      "outputs": [],
      "source": [
        "model = RNNClassifier(\n",
        "    embedding_dim=embedding_dim, hidden_dim=hidden_dim, output_size=10, vocab=vocab,\n",
        "    rec_layer=HandmadeLSTM, dropout=0\n",
        ").to(device)\n",
        "optimizer = torch.optim.Adam(model.parameters(), lr=learning_rate)"
      ]
    },
    {
      "cell_type": "code",
      "source": [
        "start = time.time()\n",
        "HandmadeLSTM_metrics = train(train_dataloader, test_dataloader, model, loss_fn, optimizer, device, num_epochs)\n",
        "HandmadeLSTM_time = time.time() - start"
      ],
      "metadata": {
        "colab": {
          "base_uri": "https://localhost:8080/"
        },
        "id": "uHQZd2g8ZD_s",
        "outputId": "3b2a1c56-3bd9-43e3-b823-9a9172c92616"
      },
      "execution_count": null,
      "outputs": [
        {
          "output_type": "stream",
          "name": "stdout",
          "text": [
            "Epoch: 1/15. Loss (Train/Test): 1.947/1.961. Accuracy (Train/Test): 0.277/0.268\n",
            "Epoch: 2/15. Loss (Train/Test): 1.695/1.746. Accuracy (Train/Test): 0.355/0.338\n",
            "Epoch: 3/15. Loss (Train/Test): 1.571/1.652. Accuracy (Train/Test): 0.385/0.362\n",
            "Epoch: 4/15. Loss (Train/Test): 1.480/1.598. Accuracy (Train/Test): 0.423/0.385\n",
            "Epoch: 5/15. Loss (Train/Test): 1.446/1.597. Accuracy (Train/Test): 0.437/0.387\n",
            "Epoch: 6/15. Loss (Train/Test): 1.365/1.573. Accuracy (Train/Test): 0.463/0.397\n",
            "Epoch: 7/15. Loss (Train/Test): 1.314/1.565. Accuracy (Train/Test): 0.483/0.397\n",
            "Epoch: 8/15. Loss (Train/Test): 1.262/1.585. Accuracy (Train/Test): 0.512/0.386\n",
            "Epoch: 9/15. Loss (Train/Test): 1.193/1.636. Accuracy (Train/Test): 0.527/0.398\n",
            "Epoch: 10/15. Loss (Train/Test): 1.119/1.659. Accuracy (Train/Test): 0.566/0.390\n",
            "Epoch: 11/15. Loss (Train/Test): 1.058/1.718. Accuracy (Train/Test): 0.591/0.385\n",
            "Epoch: 12/15. Loss (Train/Test): 0.973/1.781. Accuracy (Train/Test): 0.634/0.375\n",
            "Epoch: 13/15. Loss (Train/Test): 0.887/1.887. Accuracy (Train/Test): 0.674/0.364\n",
            "Epoch: 14/15. Loss (Train/Test): 0.799/1.996. Accuracy (Train/Test): 0.706/0.365\n",
            "Epoch: 15/15. Loss (Train/Test): 0.714/2.090. Accuracy (Train/Test): 0.750/0.362\n"
          ]
        }
      ]
    },
    {
      "cell_type": "code",
      "source": [
        "print('Время работы при использовании torch.nn.LSTM - ', LSTM_time)\n",
        "print('Время работы при использовании RNNLayer - ', RNNLayer_time)\n",
        "print('Время работы при использовании HandmadeLSTM - ', HandmadeLSTM_time)"
      ],
      "metadata": {
        "colab": {
          "base_uri": "https://localhost:8080/"
        },
        "id": "Fps-d11AeJoV",
        "outputId": "38e7546b-c7ad-4d11-dd04-7748a00fbd1e"
      },
      "execution_count": null,
      "outputs": [
        {
          "output_type": "stream",
          "name": "stdout",
          "text": [
            "Время работы при использовании torch.nn.LSTM -  345.17474913597107\n",
            "Время работы при использовании RNNLayer -  647.6536364555359\n",
            "Время работы при использовании HandmadeLSTM -  1508.2726075649261\n"
          ]
        }
      ]
    },
    {
      "cell_type": "code",
      "execution_count": null,
      "metadata": {
        "ExecuteTime": {
          "end_time": "2021-04-01T23:33:28.808063Z",
          "start_time": "2021-04-01T23:01:53.049547Z"
        },
        "id": "undHrsKMrYQY"
      },
      "outputs": [],
      "source": [
        "model = RNNClassifier(\n",
        "    embedding_dim=embedding_dim, hidden_dim=hidden_dim, output_size=10, vocab=vocab,\n",
        "    rec_layer=HandmadeLSTM, dropout=0.25\n",
        ").to(device)\n",
        "optimizer = torch.optim.Adam(model.parameters(), lr=learning_rate)"
      ]
    },
    {
      "cell_type": "code",
      "source": [
        "start = time.time()\n",
        "HandmadeLSTM_DO_metrics = train(train_dataloader, test_dataloader, model, loss_fn, optimizer, device, num_epochs)\n",
        "HandmadeLSTM_DO_time = time.time() - start"
      ],
      "metadata": {
        "colab": {
          "base_uri": "https://localhost:8080/"
        },
        "id": "loQwVbshfseQ",
        "outputId": "a23a23e7-64ba-4c50-d80c-7eb752215546"
      },
      "execution_count": null,
      "outputs": [
        {
          "output_type": "stream",
          "name": "stdout",
          "text": [
            "Epoch: 1/15. Loss (Train/Test): 2.013/2.021. Accuracy (Train/Test): 0.241/0.229\n",
            "Epoch: 2/15. Loss (Train/Test): 1.874/1.908. Accuracy (Train/Test): 0.310/0.297\n",
            "Epoch: 3/15. Loss (Train/Test): 1.771/1.822. Accuracy (Train/Test): 0.331/0.314\n",
            "Epoch: 4/15. Loss (Train/Test): 1.645/1.703. Accuracy (Train/Test): 0.366/0.346\n",
            "Epoch: 5/15. Loss (Train/Test): 1.585/1.659. Accuracy (Train/Test): 0.386/0.362\n",
            "Epoch: 6/15. Loss (Train/Test): 1.547/1.643. Accuracy (Train/Test): 0.394/0.368\n",
            "Epoch: 7/15. Loss (Train/Test): 1.493/1.593. Accuracy (Train/Test): 0.409/0.380\n",
            "Epoch: 8/15. Loss (Train/Test): 1.470/1.590. Accuracy (Train/Test): 0.421/0.383\n",
            "Epoch: 9/15. Loss (Train/Test): 1.449/1.578. Accuracy (Train/Test): 0.427/0.385\n",
            "Epoch: 10/15. Loss (Train/Test): 1.420/1.570. Accuracy (Train/Test): 0.432/0.389\n",
            "Epoch: 11/15. Loss (Train/Test): 1.407/1.570. Accuracy (Train/Test): 0.446/0.393\n",
            "Epoch: 12/15. Loss (Train/Test): 1.378/1.545. Accuracy (Train/Test): 0.455/0.400\n",
            "Epoch: 13/15. Loss (Train/Test): 1.351/1.553. Accuracy (Train/Test): 0.463/0.403\n",
            "Epoch: 14/15. Loss (Train/Test): 1.328/1.536. Accuracy (Train/Test): 0.471/0.405\n",
            "Epoch: 15/15. Loss (Train/Test): 1.317/1.556. Accuracy (Train/Test): 0.472/0.408\n"
          ]
        }
      ]
    },
    {
      "cell_type": "markdown",
      "source": [
        "Качество на данной модели с использованием дропаута приблзительно равно качеству модели с дропаутом Гала и Гарамани."
      ],
      "metadata": {
        "id": "dAZKLQQ7lLAV"
      }
    },
    {
      "cell_type": "markdown",
      "metadata": {
        "ExecuteTime": {
          "end_time": "2021-04-01T23:33:28.831346Z",
          "start_time": "2021-04-01T23:33:28.810453Z"
        },
        "id": "snhAouZSrYQZ"
      },
      "source": [
        "## Сравнение всех предложенных моделей. (1 балл)"
      ]
    },
    {
      "cell_type": "markdown",
      "metadata": {
        "ExecuteTime": {
          "end_time": "2021-04-01T23:48:05.361634Z",
          "start_time": "2021-04-01T23:48:05.333901Z"
        },
        "id": "Uq5haIb3rYQZ"
      },
      "source": [
        "Используя замеры времени заполните табличку с временем работы четырёх реализованных моделей в следующей ячейке:"
      ]
    },
    {
      "cell_type": "markdown",
      "metadata": {
        "id": "m_uHeviYrYQZ"
      },
      "source": [
        "| torch.nn.LSTM | RNNLayer | FastRNNLayer | HandmadeLSTM |\n",
        "|---------------|----------|--------------|--------------|\n",
        "| 5m 45s        | 10m 47s  | 5m 45s       | 25m 8s      |"
      ]
    },
    {
      "cell_type": "code",
      "execution_count": null,
      "metadata": {
        "ExecuteTime": {
          "end_time": "2021-04-02T00:05:14.722913Z",
          "start_time": "2021-04-02T00:05:14.448857Z"
        },
        "id": "TC5U421CrYQZ"
      },
      "outputs": [],
      "source": [
        "import matplotlib.pyplot as plt"
      ]
    },
    {
      "cell_type": "markdown",
      "metadata": {
        "id": "g9FL3PDErYQZ"
      },
      "source": [
        "Крайне желательно рисовать графики в векторном формате. \n",
        "\n",
        "Если по каким-то причинам, отрисовка не будет работать, закомментируйте следующую ячейку."
      ]
    },
    {
      "cell_type": "code",
      "execution_count": null,
      "metadata": {
        "ExecuteTime": {
          "end_time": "2021-04-02T00:05:14.745238Z",
          "start_time": "2021-04-02T00:05:14.724188Z"
        },
        "id": "uAOSSjROrYQZ"
      },
      "outputs": [],
      "source": [
        "%matplotlib inline\n",
        "\n",
        "from IPython.display import set_matplotlib_formats\n",
        "\n",
        "set_matplotlib_formats('pdf', 'svg')"
      ]
    },
    {
      "cell_type": "markdown",
      "metadata": {
        "id": "8zivk0F6rYQZ"
      },
      "source": [
        "Нарисуйте два графика -- функция потерь и качество на обучающей и тестовой выборке для всех 7 моделей обученных выше."
      ]
    },
    {
      "cell_type": "code",
      "source": [
        "colors = ['k', 'r', 'b', 'g', 'orange', 'm', 'cyan']"
      ],
      "metadata": {
        "id": "lOqOGkOkmV_m"
      },
      "execution_count": null,
      "outputs": []
    },
    {
      "cell_type": "code",
      "source": [
        "titles = ['Base', 'VarDropCheck', 'VarDrop', 'FastVarDropCheck', 'FastVarDrop', 'HandmadeCheck', 'Handmade']"
      ],
      "metadata": {
        "id": "FJepTv1wmw0B"
      },
      "execution_count": null,
      "outputs": []
    },
    {
      "cell_type": "code",
      "source": [
        "metrics = [LSTM_metrics,\n",
        "           RNNLayer_metrics, RNNLayer_DO_metrics,\n",
        "           FastRNNLayer_metrics, FastRNNLayer_DO_metrics,\n",
        "           HandmadeLSTM_metrics, HandmadeLSTM_DO_metrics]"
      ],
      "metadata": {
        "id": "0tlSK7nfnBgM"
      },
      "execution_count": null,
      "outputs": []
    },
    {
      "cell_type": "code",
      "execution_count": null,
      "metadata": {
        "ExecuteTime": {
          "end_time": "2021-04-01T23:40:37.809057Z",
          "start_time": "2021-04-01T23:40:36.694896Z"
        },
        "id": "CrvkPIaIrYQZ",
        "outputId": "3a0c85ff-4a5b-46e5-ce58-955589ea48b7",
        "colab": {
          "base_uri": "https://localhost:8080/",
          "height": 969
        }
      },
      "outputs": [
        {
          "output_type": "display_data",
          "data": {
            "text/plain": [
              "<Figure size 720x720 with 2 Axes>"
            ],
            "image/svg+xml": "<?xml version=\"1.0\" encoding=\"utf-8\" standalone=\"no\"?>\n<!DOCTYPE svg PUBLIC \"-//W3C//DTD SVG 1.1//EN\"\n  \"http://www.w3.org/Graphics/SVG/1.1/DTD/svg11.dtd\">\n<!-- Created with matplotlib (https://matplotlib.org/) -->\n<svg height=\"711.274375pt\" version=\"1.1\" viewBox=\"0 0 712.703125 711.274375\" width=\"712.703125pt\" xmlns=\"http://www.w3.org/2000/svg\" xmlns:xlink=\"http://www.w3.org/1999/xlink\">\n <defs>\n  <style type=\"text/css\">\n*{stroke-linecap:butt;stroke-linejoin:round;}\n  </style>\n </defs>\n <g id=\"figure_1\">\n  <g id=\"patch_1\">\n   <path d=\"M 0 711.274375 \nL 712.703125 711.274375 \nL 712.703125 0 \nL 0 0 \nz\n\" style=\"fill:none;\"/>\n  </g>\n  <g id=\"axes_1\">\n   <g id=\"patch_2\">\n    <path d=\"M 30.103125 319.118125 \nL 705.503125 319.118125 \nL 705.503125 22.318125 \nL 30.103125 22.318125 \nz\n\" style=\"fill:#ffffff;\"/>\n   </g>\n   <g id=\"matplotlib.axis_1\">\n    <g id=\"xtick_1\">\n     <g id=\"line2d_1\">\n      <path clip-path=\"url(#pd15dd0e28c)\" d=\"M 60.803125 319.118125 \nL 60.803125 22.318125 \n\" style=\"fill:none;stroke:#b0b0b0;stroke-linecap:square;stroke-width:0.8;\"/>\n     </g>\n     <g id=\"line2d_2\">\n      <defs>\n       <path d=\"M 0 0 \nL 0 3.5 \n\" id=\"md6832575a5\" style=\"stroke:#000000;stroke-width:0.8;\"/>\n      </defs>\n      <g>\n       <use style=\"stroke:#000000;stroke-width:0.8;\" x=\"60.803125\" xlink:href=\"#md6832575a5\" y=\"319.118125\"/>\n      </g>\n     </g>\n     <g id=\"text_1\">\n      <!-- 0 -->\n      <defs>\n       <path d=\"M 31.78125 66.40625 \nQ 24.171875 66.40625 20.328125 58.90625 \nQ 16.5 51.421875 16.5 36.375 \nQ 16.5 21.390625 20.328125 13.890625 \nQ 24.171875 6.390625 31.78125 6.390625 \nQ 39.453125 6.390625 43.28125 13.890625 \nQ 47.125 21.390625 47.125 36.375 \nQ 47.125 51.421875 43.28125 58.90625 \nQ 39.453125 66.40625 31.78125 66.40625 \nz\nM 31.78125 74.21875 \nQ 44.046875 74.21875 50.515625 64.515625 \nQ 56.984375 54.828125 56.984375 36.375 \nQ 56.984375 17.96875 50.515625 8.265625 \nQ 44.046875 -1.421875 31.78125 -1.421875 \nQ 19.53125 -1.421875 13.0625 8.265625 \nQ 6.59375 17.96875 6.59375 36.375 \nQ 6.59375 54.828125 13.0625 64.515625 \nQ 19.53125 74.21875 31.78125 74.21875 \nz\n\" id=\"DejaVuSans-48\"/>\n      </defs>\n      <g transform=\"translate(57.621875 333.716562)scale(0.1 -0.1)\">\n       <use xlink:href=\"#DejaVuSans-48\"/>\n      </g>\n     </g>\n    </g>\n    <g id=\"xtick_2\">\n     <g id=\"line2d_3\">\n      <path clip-path=\"url(#pd15dd0e28c)\" d=\"M 148.517411 319.118125 \nL 148.517411 22.318125 \n\" style=\"fill:none;stroke:#b0b0b0;stroke-linecap:square;stroke-width:0.8;\"/>\n     </g>\n     <g id=\"line2d_4\">\n      <g>\n       <use style=\"stroke:#000000;stroke-width:0.8;\" x=\"148.517411\" xlink:href=\"#md6832575a5\" y=\"319.118125\"/>\n      </g>\n     </g>\n     <g id=\"text_2\">\n      <!-- 2 -->\n      <defs>\n       <path d=\"M 19.1875 8.296875 \nL 53.609375 8.296875 \nL 53.609375 0 \nL 7.328125 0 \nL 7.328125 8.296875 \nQ 12.9375 14.109375 22.625 23.890625 \nQ 32.328125 33.6875 34.8125 36.53125 \nQ 39.546875 41.84375 41.421875 45.53125 \nQ 43.3125 49.21875 43.3125 52.78125 \nQ 43.3125 58.59375 39.234375 62.25 \nQ 35.15625 65.921875 28.609375 65.921875 \nQ 23.96875 65.921875 18.8125 64.3125 \nQ 13.671875 62.703125 7.8125 59.421875 \nL 7.8125 69.390625 \nQ 13.765625 71.78125 18.9375 73 \nQ 24.125 74.21875 28.421875 74.21875 \nQ 39.75 74.21875 46.484375 68.546875 \nQ 53.21875 62.890625 53.21875 53.421875 \nQ 53.21875 48.921875 51.53125 44.890625 \nQ 49.859375 40.875 45.40625 35.40625 \nQ 44.1875 33.984375 37.640625 27.21875 \nQ 31.109375 20.453125 19.1875 8.296875 \nz\n\" id=\"DejaVuSans-50\"/>\n      </defs>\n      <g transform=\"translate(145.336161 333.716562)scale(0.1 -0.1)\">\n       <use xlink:href=\"#DejaVuSans-50\"/>\n      </g>\n     </g>\n    </g>\n    <g id=\"xtick_3\">\n     <g id=\"line2d_5\">\n      <path clip-path=\"url(#pd15dd0e28c)\" d=\"M 236.231696 319.118125 \nL 236.231696 22.318125 \n\" style=\"fill:none;stroke:#b0b0b0;stroke-linecap:square;stroke-width:0.8;\"/>\n     </g>\n     <g id=\"line2d_6\">\n      <g>\n       <use style=\"stroke:#000000;stroke-width:0.8;\" x=\"236.231696\" xlink:href=\"#md6832575a5\" y=\"319.118125\"/>\n      </g>\n     </g>\n     <g id=\"text_3\">\n      <!-- 4 -->\n      <defs>\n       <path d=\"M 37.796875 64.3125 \nL 12.890625 25.390625 \nL 37.796875 25.390625 \nz\nM 35.203125 72.90625 \nL 47.609375 72.90625 \nL 47.609375 25.390625 \nL 58.015625 25.390625 \nL 58.015625 17.1875 \nL 47.609375 17.1875 \nL 47.609375 0 \nL 37.796875 0 \nL 37.796875 17.1875 \nL 4.890625 17.1875 \nL 4.890625 26.703125 \nz\n\" id=\"DejaVuSans-52\"/>\n      </defs>\n      <g transform=\"translate(233.050446 333.716562)scale(0.1 -0.1)\">\n       <use xlink:href=\"#DejaVuSans-52\"/>\n      </g>\n     </g>\n    </g>\n    <g id=\"xtick_4\">\n     <g id=\"line2d_7\">\n      <path clip-path=\"url(#pd15dd0e28c)\" d=\"M 323.945982 319.118125 \nL 323.945982 22.318125 \n\" style=\"fill:none;stroke:#b0b0b0;stroke-linecap:square;stroke-width:0.8;\"/>\n     </g>\n     <g id=\"line2d_8\">\n      <g>\n       <use style=\"stroke:#000000;stroke-width:0.8;\" x=\"323.945982\" xlink:href=\"#md6832575a5\" y=\"319.118125\"/>\n      </g>\n     </g>\n     <g id=\"text_4\">\n      <!-- 6 -->\n      <defs>\n       <path d=\"M 33.015625 40.375 \nQ 26.375 40.375 22.484375 35.828125 \nQ 18.609375 31.296875 18.609375 23.390625 \nQ 18.609375 15.53125 22.484375 10.953125 \nQ 26.375 6.390625 33.015625 6.390625 \nQ 39.65625 6.390625 43.53125 10.953125 \nQ 47.40625 15.53125 47.40625 23.390625 \nQ 47.40625 31.296875 43.53125 35.828125 \nQ 39.65625 40.375 33.015625 40.375 \nz\nM 52.59375 71.296875 \nL 52.59375 62.3125 \nQ 48.875 64.0625 45.09375 64.984375 \nQ 41.3125 65.921875 37.59375 65.921875 \nQ 27.828125 65.921875 22.671875 59.328125 \nQ 17.53125 52.734375 16.796875 39.40625 \nQ 19.671875 43.65625 24.015625 45.921875 \nQ 28.375 48.1875 33.59375 48.1875 \nQ 44.578125 48.1875 50.953125 41.515625 \nQ 57.328125 34.859375 57.328125 23.390625 \nQ 57.328125 12.15625 50.6875 5.359375 \nQ 44.046875 -1.421875 33.015625 -1.421875 \nQ 20.359375 -1.421875 13.671875 8.265625 \nQ 6.984375 17.96875 6.984375 36.375 \nQ 6.984375 53.65625 15.1875 63.9375 \nQ 23.390625 74.21875 37.203125 74.21875 \nQ 40.921875 74.21875 44.703125 73.484375 \nQ 48.484375 72.75 52.59375 71.296875 \nz\n\" id=\"DejaVuSans-54\"/>\n      </defs>\n      <g transform=\"translate(320.764732 333.716562)scale(0.1 -0.1)\">\n       <use xlink:href=\"#DejaVuSans-54\"/>\n      </g>\n     </g>\n    </g>\n    <g id=\"xtick_5\">\n     <g id=\"line2d_9\">\n      <path clip-path=\"url(#pd15dd0e28c)\" d=\"M 411.660268 319.118125 \nL 411.660268 22.318125 \n\" style=\"fill:none;stroke:#b0b0b0;stroke-linecap:square;stroke-width:0.8;\"/>\n     </g>\n     <g id=\"line2d_10\">\n      <g>\n       <use style=\"stroke:#000000;stroke-width:0.8;\" x=\"411.660268\" xlink:href=\"#md6832575a5\" y=\"319.118125\"/>\n      </g>\n     </g>\n     <g id=\"text_5\">\n      <!-- 8 -->\n      <defs>\n       <path d=\"M 31.78125 34.625 \nQ 24.75 34.625 20.71875 30.859375 \nQ 16.703125 27.09375 16.703125 20.515625 \nQ 16.703125 13.921875 20.71875 10.15625 \nQ 24.75 6.390625 31.78125 6.390625 \nQ 38.8125 6.390625 42.859375 10.171875 \nQ 46.921875 13.96875 46.921875 20.515625 \nQ 46.921875 27.09375 42.890625 30.859375 \nQ 38.875 34.625 31.78125 34.625 \nz\nM 21.921875 38.8125 \nQ 15.578125 40.375 12.03125 44.71875 \nQ 8.5 49.078125 8.5 55.328125 \nQ 8.5 64.0625 14.71875 69.140625 \nQ 20.953125 74.21875 31.78125 74.21875 \nQ 42.671875 74.21875 48.875 69.140625 \nQ 55.078125 64.0625 55.078125 55.328125 \nQ 55.078125 49.078125 51.53125 44.71875 \nQ 48 40.375 41.703125 38.8125 \nQ 48.828125 37.15625 52.796875 32.3125 \nQ 56.78125 27.484375 56.78125 20.515625 \nQ 56.78125 9.90625 50.3125 4.234375 \nQ 43.84375 -1.421875 31.78125 -1.421875 \nQ 19.734375 -1.421875 13.25 4.234375 \nQ 6.78125 9.90625 6.78125 20.515625 \nQ 6.78125 27.484375 10.78125 32.3125 \nQ 14.796875 37.15625 21.921875 38.8125 \nz\nM 18.3125 54.390625 \nQ 18.3125 48.734375 21.84375 45.5625 \nQ 25.390625 42.390625 31.78125 42.390625 \nQ 38.140625 42.390625 41.71875 45.5625 \nQ 45.3125 48.734375 45.3125 54.390625 \nQ 45.3125 60.0625 41.71875 63.234375 \nQ 38.140625 66.40625 31.78125 66.40625 \nQ 25.390625 66.40625 21.84375 63.234375 \nQ 18.3125 60.0625 18.3125 54.390625 \nz\n\" id=\"DejaVuSans-56\"/>\n      </defs>\n      <g transform=\"translate(408.479018 333.716562)scale(0.1 -0.1)\">\n       <use xlink:href=\"#DejaVuSans-56\"/>\n      </g>\n     </g>\n    </g>\n    <g id=\"xtick_6\">\n     <g id=\"line2d_11\">\n      <path clip-path=\"url(#pd15dd0e28c)\" d=\"M 499.374554 319.118125 \nL 499.374554 22.318125 \n\" style=\"fill:none;stroke:#b0b0b0;stroke-linecap:square;stroke-width:0.8;\"/>\n     </g>\n     <g id=\"line2d_12\">\n      <g>\n       <use style=\"stroke:#000000;stroke-width:0.8;\" x=\"499.374554\" xlink:href=\"#md6832575a5\" y=\"319.118125\"/>\n      </g>\n     </g>\n     <g id=\"text_6\">\n      <!-- 10 -->\n      <defs>\n       <path d=\"M 12.40625 8.296875 \nL 28.515625 8.296875 \nL 28.515625 63.921875 \nL 10.984375 60.40625 \nL 10.984375 69.390625 \nL 28.421875 72.90625 \nL 38.28125 72.90625 \nL 38.28125 8.296875 \nL 54.390625 8.296875 \nL 54.390625 0 \nL 12.40625 0 \nz\n\" id=\"DejaVuSans-49\"/>\n      </defs>\n      <g transform=\"translate(493.012054 333.716562)scale(0.1 -0.1)\">\n       <use xlink:href=\"#DejaVuSans-49\"/>\n       <use x=\"63.623047\" xlink:href=\"#DejaVuSans-48\"/>\n      </g>\n     </g>\n    </g>\n    <g id=\"xtick_7\">\n     <g id=\"line2d_13\">\n      <path clip-path=\"url(#pd15dd0e28c)\" d=\"M 587.088839 319.118125 \nL 587.088839 22.318125 \n\" style=\"fill:none;stroke:#b0b0b0;stroke-linecap:square;stroke-width:0.8;\"/>\n     </g>\n     <g id=\"line2d_14\">\n      <g>\n       <use style=\"stroke:#000000;stroke-width:0.8;\" x=\"587.088839\" xlink:href=\"#md6832575a5\" y=\"319.118125\"/>\n      </g>\n     </g>\n     <g id=\"text_7\">\n      <!-- 12 -->\n      <g transform=\"translate(580.726339 333.716562)scale(0.1 -0.1)\">\n       <use xlink:href=\"#DejaVuSans-49\"/>\n       <use x=\"63.623047\" xlink:href=\"#DejaVuSans-50\"/>\n      </g>\n     </g>\n    </g>\n    <g id=\"xtick_8\">\n     <g id=\"line2d_15\">\n      <path clip-path=\"url(#pd15dd0e28c)\" d=\"M 674.803125 319.118125 \nL 674.803125 22.318125 \n\" style=\"fill:none;stroke:#b0b0b0;stroke-linecap:square;stroke-width:0.8;\"/>\n     </g>\n     <g id=\"line2d_16\">\n      <g>\n       <use style=\"stroke:#000000;stroke-width:0.8;\" x=\"674.803125\" xlink:href=\"#md6832575a5\" y=\"319.118125\"/>\n      </g>\n     </g>\n     <g id=\"text_8\">\n      <!-- 14 -->\n      <g transform=\"translate(668.440625 333.716562)scale(0.1 -0.1)\">\n       <use xlink:href=\"#DejaVuSans-49\"/>\n       <use x=\"63.623047\" xlink:href=\"#DejaVuSans-52\"/>\n      </g>\n     </g>\n    </g>\n    <g id=\"text_9\">\n     <!-- Epoch -->\n     <defs>\n      <path d=\"M 9.8125 72.90625 \nL 55.90625 72.90625 \nL 55.90625 64.59375 \nL 19.671875 64.59375 \nL 19.671875 43.015625 \nL 54.390625 43.015625 \nL 54.390625 34.71875 \nL 19.671875 34.71875 \nL 19.671875 8.296875 \nL 56.78125 8.296875 \nL 56.78125 0 \nL 9.8125 0 \nz\n\" id=\"DejaVuSans-69\"/>\n      <path d=\"M 18.109375 8.203125 \nL 18.109375 -20.796875 \nL 9.078125 -20.796875 \nL 9.078125 54.6875 \nL 18.109375 54.6875 \nL 18.109375 46.390625 \nQ 20.953125 51.265625 25.265625 53.625 \nQ 29.59375 56 35.59375 56 \nQ 45.5625 56 51.78125 48.09375 \nQ 58.015625 40.1875 58.015625 27.296875 \nQ 58.015625 14.40625 51.78125 6.484375 \nQ 45.5625 -1.421875 35.59375 -1.421875 \nQ 29.59375 -1.421875 25.265625 0.953125 \nQ 20.953125 3.328125 18.109375 8.203125 \nz\nM 48.6875 27.296875 \nQ 48.6875 37.203125 44.609375 42.84375 \nQ 40.53125 48.484375 33.40625 48.484375 \nQ 26.265625 48.484375 22.1875 42.84375 \nQ 18.109375 37.203125 18.109375 27.296875 \nQ 18.109375 17.390625 22.1875 11.75 \nQ 26.265625 6.109375 33.40625 6.109375 \nQ 40.53125 6.109375 44.609375 11.75 \nQ 48.6875 17.390625 48.6875 27.296875 \nz\n\" id=\"DejaVuSans-112\"/>\n      <path d=\"M 30.609375 48.390625 \nQ 23.390625 48.390625 19.1875 42.75 \nQ 14.984375 37.109375 14.984375 27.296875 \nQ 14.984375 17.484375 19.15625 11.84375 \nQ 23.34375 6.203125 30.609375 6.203125 \nQ 37.796875 6.203125 41.984375 11.859375 \nQ 46.1875 17.53125 46.1875 27.296875 \nQ 46.1875 37.015625 41.984375 42.703125 \nQ 37.796875 48.390625 30.609375 48.390625 \nz\nM 30.609375 56 \nQ 42.328125 56 49.015625 48.375 \nQ 55.71875 40.765625 55.71875 27.296875 \nQ 55.71875 13.875 49.015625 6.21875 \nQ 42.328125 -1.421875 30.609375 -1.421875 \nQ 18.84375 -1.421875 12.171875 6.21875 \nQ 5.515625 13.875 5.515625 27.296875 \nQ 5.515625 40.765625 12.171875 48.375 \nQ 18.84375 56 30.609375 56 \nz\n\" id=\"DejaVuSans-111\"/>\n      <path d=\"M 48.78125 52.59375 \nL 48.78125 44.1875 \nQ 44.96875 46.296875 41.140625 47.34375 \nQ 37.3125 48.390625 33.40625 48.390625 \nQ 24.65625 48.390625 19.8125 42.84375 \nQ 14.984375 37.3125 14.984375 27.296875 \nQ 14.984375 17.28125 19.8125 11.734375 \nQ 24.65625 6.203125 33.40625 6.203125 \nQ 37.3125 6.203125 41.140625 7.25 \nQ 44.96875 8.296875 48.78125 10.40625 \nL 48.78125 2.09375 \nQ 45.015625 0.34375 40.984375 -0.53125 \nQ 36.96875 -1.421875 32.421875 -1.421875 \nQ 20.0625 -1.421875 12.78125 6.34375 \nQ 5.515625 14.109375 5.515625 27.296875 \nQ 5.515625 40.671875 12.859375 48.328125 \nQ 20.21875 56 33.015625 56 \nQ 37.15625 56 41.109375 55.140625 \nQ 45.0625 54.296875 48.78125 52.59375 \nz\n\" id=\"DejaVuSans-99\"/>\n      <path d=\"M 54.890625 33.015625 \nL 54.890625 0 \nL 45.90625 0 \nL 45.90625 32.71875 \nQ 45.90625 40.484375 42.875 44.328125 \nQ 39.84375 48.1875 33.796875 48.1875 \nQ 26.515625 48.1875 22.3125 43.546875 \nQ 18.109375 38.921875 18.109375 30.90625 \nL 18.109375 0 \nL 9.078125 0 \nL 9.078125 75.984375 \nL 18.109375 75.984375 \nL 18.109375 46.1875 \nQ 21.34375 51.125 25.703125 53.5625 \nQ 30.078125 56 35.796875 56 \nQ 45.21875 56 50.046875 50.171875 \nQ 54.890625 44.34375 54.890625 33.015625 \nz\n\" id=\"DejaVuSans-104\"/>\n     </defs>\n     <g transform=\"translate(352.492187 347.394687)scale(0.1 -0.1)\">\n      <use xlink:href=\"#DejaVuSans-69\"/>\n      <use x=\"63.183594\" xlink:href=\"#DejaVuSans-112\"/>\n      <use x=\"126.660156\" xlink:href=\"#DejaVuSans-111\"/>\n      <use x=\"187.841797\" xlink:href=\"#DejaVuSans-99\"/>\n      <use x=\"242.822266\" xlink:href=\"#DejaVuSans-104\"/>\n     </g>\n    </g>\n   </g>\n   <g id=\"matplotlib.axis_2\">\n    <g id=\"ytick_1\">\n     <g id=\"line2d_17\">\n      <path clip-path=\"url(#pd15dd0e28c)\" d=\"M 30.103125 288.8778 \nL 705.503125 288.8778 \n\" style=\"fill:none;stroke:#b0b0b0;stroke-linecap:square;stroke-width:0.8;\"/>\n     </g>\n     <g id=\"line2d_18\">\n      <defs>\n       <path d=\"M 0 0 \nL -3.5 0 \n\" id=\"mf75eb7e7ee\" style=\"stroke:#000000;stroke-width:0.8;\"/>\n      </defs>\n      <g>\n       <use style=\"stroke:#000000;stroke-width:0.8;\" x=\"30.103125\" xlink:href=\"#mf75eb7e7ee\" y=\"288.8778\"/>\n      </g>\n     </g>\n     <g id=\"text_10\">\n      <!-- 0.8 -->\n      <defs>\n       <path d=\"M 10.6875 12.40625 \nL 21 12.40625 \nL 21 0 \nL 10.6875 0 \nz\n\" id=\"DejaVuSans-46\"/>\n      </defs>\n      <g transform=\"translate(7.2 292.677019)scale(0.1 -0.1)\">\n       <use xlink:href=\"#DejaVuSans-48\"/>\n       <use x=\"63.623047\" xlink:href=\"#DejaVuSans-46\"/>\n       <use x=\"95.410156\" xlink:href=\"#DejaVuSans-56\"/>\n      </g>\n     </g>\n    </g>\n    <g id=\"ytick_2\">\n     <g id=\"line2d_19\">\n      <path clip-path=\"url(#pd15dd0e28c)\" d=\"M 30.103125 250.108714 \nL 705.503125 250.108714 \n\" style=\"fill:none;stroke:#b0b0b0;stroke-linecap:square;stroke-width:0.8;\"/>\n     </g>\n     <g id=\"line2d_20\">\n      <g>\n       <use style=\"stroke:#000000;stroke-width:0.8;\" x=\"30.103125\" xlink:href=\"#mf75eb7e7ee\" y=\"250.108714\"/>\n      </g>\n     </g>\n     <g id=\"text_11\">\n      <!-- 1.0 -->\n      <g transform=\"translate(7.2 253.907932)scale(0.1 -0.1)\">\n       <use xlink:href=\"#DejaVuSans-49\"/>\n       <use x=\"63.623047\" xlink:href=\"#DejaVuSans-46\"/>\n       <use x=\"95.410156\" xlink:href=\"#DejaVuSans-48\"/>\n      </g>\n     </g>\n    </g>\n    <g id=\"ytick_3\">\n     <g id=\"line2d_21\">\n      <path clip-path=\"url(#pd15dd0e28c)\" d=\"M 30.103125 211.339627 \nL 705.503125 211.339627 \n\" style=\"fill:none;stroke:#b0b0b0;stroke-linecap:square;stroke-width:0.8;\"/>\n     </g>\n     <g id=\"line2d_22\">\n      <g>\n       <use style=\"stroke:#000000;stroke-width:0.8;\" x=\"30.103125\" xlink:href=\"#mf75eb7e7ee\" y=\"211.339627\"/>\n      </g>\n     </g>\n     <g id=\"text_12\">\n      <!-- 1.2 -->\n      <g transform=\"translate(7.2 215.138846)scale(0.1 -0.1)\">\n       <use xlink:href=\"#DejaVuSans-49\"/>\n       <use x=\"63.623047\" xlink:href=\"#DejaVuSans-46\"/>\n       <use x=\"95.410156\" xlink:href=\"#DejaVuSans-50\"/>\n      </g>\n     </g>\n    </g>\n    <g id=\"ytick_4\">\n     <g id=\"line2d_23\">\n      <path clip-path=\"url(#pd15dd0e28c)\" d=\"M 30.103125 172.570541 \nL 705.503125 172.570541 \n\" style=\"fill:none;stroke:#b0b0b0;stroke-linecap:square;stroke-width:0.8;\"/>\n     </g>\n     <g id=\"line2d_24\">\n      <g>\n       <use style=\"stroke:#000000;stroke-width:0.8;\" x=\"30.103125\" xlink:href=\"#mf75eb7e7ee\" y=\"172.570541\"/>\n      </g>\n     </g>\n     <g id=\"text_13\">\n      <!-- 1.4 -->\n      <g transform=\"translate(7.2 176.36976)scale(0.1 -0.1)\">\n       <use xlink:href=\"#DejaVuSans-49\"/>\n       <use x=\"63.623047\" xlink:href=\"#DejaVuSans-46\"/>\n       <use x=\"95.410156\" xlink:href=\"#DejaVuSans-52\"/>\n      </g>\n     </g>\n    </g>\n    <g id=\"ytick_5\">\n     <g id=\"line2d_25\">\n      <path clip-path=\"url(#pd15dd0e28c)\" d=\"M 30.103125 133.801455 \nL 705.503125 133.801455 \n\" style=\"fill:none;stroke:#b0b0b0;stroke-linecap:square;stroke-width:0.8;\"/>\n     </g>\n     <g id=\"line2d_26\">\n      <g>\n       <use style=\"stroke:#000000;stroke-width:0.8;\" x=\"30.103125\" xlink:href=\"#mf75eb7e7ee\" y=\"133.801455\"/>\n      </g>\n     </g>\n     <g id=\"text_14\">\n      <!-- 1.6 -->\n      <g transform=\"translate(7.2 137.600674)scale(0.1 -0.1)\">\n       <use xlink:href=\"#DejaVuSans-49\"/>\n       <use x=\"63.623047\" xlink:href=\"#DejaVuSans-46\"/>\n       <use x=\"95.410156\" xlink:href=\"#DejaVuSans-54\"/>\n      </g>\n     </g>\n    </g>\n    <g id=\"ytick_6\">\n     <g id=\"line2d_27\">\n      <path clip-path=\"url(#pd15dd0e28c)\" d=\"M 30.103125 95.032369 \nL 705.503125 95.032369 \n\" style=\"fill:none;stroke:#b0b0b0;stroke-linecap:square;stroke-width:0.8;\"/>\n     </g>\n     <g id=\"line2d_28\">\n      <g>\n       <use style=\"stroke:#000000;stroke-width:0.8;\" x=\"30.103125\" xlink:href=\"#mf75eb7e7ee\" y=\"95.032369\"/>\n      </g>\n     </g>\n     <g id=\"text_15\">\n      <!-- 1.8 -->\n      <g transform=\"translate(7.2 98.831587)scale(0.1 -0.1)\">\n       <use xlink:href=\"#DejaVuSans-49\"/>\n       <use x=\"63.623047\" xlink:href=\"#DejaVuSans-46\"/>\n       <use x=\"95.410156\" xlink:href=\"#DejaVuSans-56\"/>\n      </g>\n     </g>\n    </g>\n    <g id=\"ytick_7\">\n     <g id=\"line2d_29\">\n      <path clip-path=\"url(#pd15dd0e28c)\" d=\"M 30.103125 56.263282 \nL 705.503125 56.263282 \n\" style=\"fill:none;stroke:#b0b0b0;stroke-linecap:square;stroke-width:0.8;\"/>\n     </g>\n     <g id=\"line2d_30\">\n      <g>\n       <use style=\"stroke:#000000;stroke-width:0.8;\" x=\"30.103125\" xlink:href=\"#mf75eb7e7ee\" y=\"56.263282\"/>\n      </g>\n     </g>\n     <g id=\"text_16\">\n      <!-- 2.0 -->\n      <g transform=\"translate(7.2 60.062501)scale(0.1 -0.1)\">\n       <use xlink:href=\"#DejaVuSans-50\"/>\n       <use x=\"63.623047\" xlink:href=\"#DejaVuSans-46\"/>\n       <use x=\"95.410156\" xlink:href=\"#DejaVuSans-48\"/>\n      </g>\n     </g>\n    </g>\n   </g>\n   <g id=\"line2d_31\">\n    <path clip-path=\"url(#pd15dd0e28c)\" d=\"M 60.803125 56.7144 \nL 104.660268 107.924452 \nL 148.517411 131.190943 \nL 192.374554 147.920477 \nL 236.231696 162.998284 \nL 280.088839 174.583961 \nL 323.945982 184.705111 \nL 367.803125 193.004135 \nL 411.660268 205.721443 \nL 455.517411 217.021064 \nL 499.374554 229.270269 \nL 543.231696 242.220183 \nL 587.088839 256.382479 \nL 630.945982 276.835122 \nL 674.803125 291.638196 \n\" style=\"fill:none;stroke:#000000;stroke-linecap:square;stroke-width:1.5;\"/>\n   </g>\n   <g id=\"line2d_32\">\n    <path clip-path=\"url(#pd15dd0e28c)\" d=\"M 60.803125 54.132893 \nL 104.660268 98.954205 \nL 148.517411 116.259202 \nL 192.374554 125.546794 \nL 236.231696 132.886205 \nL 280.088839 137.975988 \nL 323.945982 134.750087 \nL 367.803125 136.279895 \nL 411.660268 129.777254 \nL 455.517411 128.965464 \nL 499.374554 118.768634 \nL 543.231696 103.25838 \nL 587.088839 91.540686 \nL 630.945982 73.329364 \nL 674.803125 60.513777 \n\" style=\"fill:none;stroke:#000000;stroke-dasharray:5.55,2.4;stroke-dashoffset:0;stroke-width:1.5;\"/>\n   </g>\n   <g id=\"line2d_33\">\n    <path clip-path=\"url(#pd15dd0e28c)\" d=\"M 60.803125 65.537009 \nL 104.660268 102.334261 \nL 148.517411 131.284207 \nL 192.374554 150.955874 \nL 236.231696 157.06325 \nL 280.088839 174.911982 \nL 323.945982 177.489884 \nL 367.803125 196.11891 \nL 411.660268 205.791345 \nL 455.517411 217.938943 \nL 499.374554 230.676494 \nL 543.231696 244.074106 \nL 587.088839 256.831125 \nL 630.945982 275.017386 \nL 674.803125 291.618843 \n\" style=\"fill:none;stroke:#ff0000;stroke-linecap:square;stroke-width:1.5;\"/>\n   </g>\n   <g id=\"line2d_34\">\n    <path clip-path=\"url(#pd15dd0e28c)\" d=\"M 60.803125 61.04203 \nL 104.660268 92.223741 \nL 148.517411 114.457712 \nL 192.374554 127.637991 \nL 236.231696 129.263004 \nL 280.088839 136.710261 \nL 323.945982 124.324672 \nL 367.803125 130.614278 \nL 411.660268 128.818912 \nL 455.517411 127.386158 \nL 499.374554 115.270334 \nL 543.231696 108.167805 \nL 587.088839 89.379332 \nL 630.945982 78.181087 \nL 674.803125 60.858366 \n\" style=\"fill:none;stroke:#ff0000;stroke-dasharray:5.55,2.4;stroke-dashoffset:0;stroke-width:1.5;\"/>\n   </g>\n   <g id=\"line2d_35\">\n    <path clip-path=\"url(#pd15dd0e28c)\" d=\"M 60.803125 54.281063 \nL 104.660268 81.391806 \nL 148.517411 108.124939 \nL 192.374554 125.921031 \nL 236.231696 135.252436 \nL 280.088839 144.045929 \nL 323.945982 149.982465 \nL 367.803125 156.220679 \nL 411.660268 160.895579 \nL 455.517411 166.821902 \nL 499.374554 171.570978 \nL 543.231696 175.713027 \nL 587.088839 176.814039 \nL 630.945982 182.516397 \nL 674.803125 186.218743 \n\" style=\"fill:none;stroke:#0000ff;stroke-linecap:square;stroke-width:1.5;\"/>\n   </g>\n   <g id=\"line2d_36\">\n    <path clip-path=\"url(#pd15dd0e28c)\" d=\"M 60.803125 52.402415 \nL 104.660268 76.497703 \nL 148.517411 99.076563 \nL 192.374554 112.658347 \nL 236.231696 120.717924 \nL 280.088839 127.487881 \nL 323.945982 129.944881 \nL 367.803125 134.150938 \nL 411.660268 136.122643 \nL 455.517411 139.947416 \nL 499.374554 142.719935 \nL 543.231696 144.704489 \nL 587.088839 142.224588 \nL 630.945982 146.090193 \nL 674.803125 144.829642 \n\" style=\"fill:none;stroke:#0000ff;stroke-dasharray:5.55,2.4;stroke-dashoffset:0;stroke-width:1.5;\"/>\n   </g>\n   <g id=\"line2d_37\">\n    <path clip-path=\"url(#pd15dd0e28c)\" d=\"M 60.803125 68.55087 \nL 104.660268 120.723447 \nL 148.517411 141.635931 \nL 192.374554 158.808679 \nL 236.231696 170.302432 \nL 280.088839 179.361761 \nL 323.945982 190.316608 \nL 367.803125 201.613687 \nL 411.660268 211.567164 \nL 455.517411 225.495641 \nL 499.374554 234.958832 \nL 543.231696 248.843079 \nL 587.088839 265.955041 \nL 630.945982 279.876862 \nL 674.803125 294.404233 \n\" style=\"fill:none;stroke:#008000;stroke-linecap:square;stroke-width:1.5;\"/>\n   </g>\n   <g id=\"line2d_38\">\n    <path clip-path=\"url(#pd15dd0e28c)\" d=\"M 60.803125 64.64813 \nL 104.660268 108.319048 \nL 148.517411 124.447145 \nL 192.374554 133.456861 \nL 236.231696 136.1476 \nL 280.088839 136.137872 \nL 323.945982 136.113701 \nL 367.803125 134.022965 \nL 411.660268 125.278415 \nL 455.517411 119.181947 \nL 499.374554 109.601228 \nL 543.231696 93.265319 \nL 587.088839 77.228037 \nL 630.945982 67.542245 \nL 674.803125 35.809034 \n\" style=\"fill:none;stroke:#008000;stroke-dasharray:5.55,2.4;stroke-dashoffset:0;stroke-width:1.5;\"/>\n   </g>\n   <g id=\"line2d_39\">\n    <path clip-path=\"url(#pd15dd0e28c)\" d=\"M 60.803125 55.411053 \nL 104.660268 88.913217 \nL 148.517411 121.19118 \nL 192.374554 137.209305 \nL 236.231696 145.928829 \nL 280.088839 156.730746 \nL 323.945982 161.553168 \nL 367.803125 167.862047 \nL 411.660268 174.188072 \nL 455.517411 180.837773 \nL 499.374554 183.893945 \nL 543.231696 189.648458 \nL 587.088839 193.529222 \nL 630.945982 197.127628 \nL 674.803125 200.694213 \n\" style=\"fill:none;stroke:#ffa500;stroke-linecap:square;stroke-width:1.5;\"/>\n   </g>\n   <g id=\"line2d_40\">\n    <path clip-path=\"url(#pd15dd0e28c)\" d=\"M 60.803125 53.456286 \nL 104.660268 81.994329 \nL 148.517411 111.588254 \nL 192.374554 123.127668 \nL 236.231696 129.786012 \nL 280.088839 135.919014 \nL 323.945982 136.182494 \nL 367.803125 140.96108 \nL 411.660268 143.537133 \nL 455.517411 145.360275 \nL 499.374554 144.686996 \nL 543.231696 146.821267 \nL 587.088839 146.175832 \nL 630.945982 146.663253 \nL 674.803125 146.362154 \n\" style=\"fill:none;stroke:#ffa500;stroke-dasharray:5.55,2.4;stroke-dashoffset:0;stroke-width:1.5;\"/>\n   </g>\n   <g id=\"line2d_41\">\n    <path clip-path=\"url(#pd15dd0e28c)\" d=\"M 60.803125 66.585196 \nL 104.660268 115.334505 \nL 148.517411 139.397511 \nL 192.374554 157.117092 \nL 236.231696 163.5728 \nL 280.088839 179.329271 \nL 323.945982 189.283927 \nL 367.803125 199.268623 \nL 411.660268 212.746351 \nL 455.517411 227.13126 \nL 499.374554 238.868596 \nL 543.231696 255.275332 \nL 587.088839 271.933069 \nL 630.945982 289.075765 \nL 674.803125 305.627216 \n\" style=\"fill:none;stroke:#bf00bf;stroke-linecap:square;stroke-width:1.5;\"/>\n   </g>\n   <g id=\"line2d_42\">\n    <path clip-path=\"url(#pd15dd0e28c)\" d=\"M 60.803125 63.743907 \nL 104.660268 105.462831 \nL 148.517411 123.712074 \nL 192.374554 134.254671 \nL 236.231696 134.436856 \nL 280.088839 139.055348 \nL 323.945982 140.507027 \nL 367.803125 136.672156 \nL 411.660268 126.889656 \nL 455.517411 122.404567 \nL 499.374554 111.013322 \nL 543.231696 98.773129 \nL 587.088839 78.1284 \nL 630.945982 57.076505 \nL 674.803125 38.907147 \n\" style=\"fill:none;stroke:#bf00bf;stroke-dasharray:5.55,2.4;stroke-dashoffset:0;stroke-width:1.5;\"/>\n   </g>\n   <g id=\"line2d_43\">\n    <path clip-path=\"url(#pd15dd0e28c)\" d=\"M 60.803125 53.705854 \nL 104.660268 80.649826 \nL 148.517411 100.708716 \nL 192.374554 125.099743 \nL 236.231696 136.749938 \nL 280.088839 144.009949 \nL 323.945982 154.54804 \nL 367.803125 159.043805 \nL 411.660268 163.106823 \nL 455.517411 168.602502 \nL 499.374554 171.303686 \nL 543.231696 176.758394 \nL 587.088839 182.026411 \nL 630.945982 186.485042 \nL 674.803125 188.641658 \n\" style=\"fill:none;stroke:#00ffff;stroke-linecap:square;stroke-width:1.5;\"/>\n   </g>\n   <g id=\"line2d_44\">\n    <path clip-path=\"url(#pd15dd0e28c)\" d=\"M 60.803125 52.253737 \nL 104.660268 74.052765 \nL 148.517411 90.740034 \nL 192.374554 113.9204 \nL 236.231696 122.449351 \nL 280.088839 125.421501 \nL 323.945982 135.243077 \nL 367.803125 135.683542 \nL 411.660268 138.118728 \nL 455.517411 139.520724 \nL 499.374554 139.677605 \nL 543.231696 144.397543 \nL 587.088839 142.957141 \nL 630.945982 146.240281 \nL 674.803125 142.268841 \n\" style=\"fill:none;stroke:#00ffff;stroke-dasharray:5.55,2.4;stroke-dashoffset:0;stroke-width:1.5;\"/>\n   </g>\n   <g id=\"patch_3\">\n    <path d=\"M 30.103125 319.118125 \nL 30.103125 22.318125 \n\" style=\"fill:none;stroke:#000000;stroke-linecap:square;stroke-linejoin:miter;stroke-width:0.8;\"/>\n   </g>\n   <g id=\"patch_4\">\n    <path d=\"M 705.503125 319.118125 \nL 705.503125 22.318125 \n\" style=\"fill:none;stroke:#000000;stroke-linecap:square;stroke-linejoin:miter;stroke-width:0.8;\"/>\n   </g>\n   <g id=\"patch_5\">\n    <path d=\"M 30.103125 319.118125 \nL 705.503125 319.118125 \n\" style=\"fill:none;stroke:#000000;stroke-linecap:square;stroke-linejoin:miter;stroke-width:0.8;\"/>\n   </g>\n   <g id=\"patch_6\">\n    <path d=\"M 30.103125 22.318125 \nL 705.503125 22.318125 \n\" style=\"fill:none;stroke:#000000;stroke-linecap:square;stroke-linejoin:miter;stroke-width:0.8;\"/>\n   </g>\n   <g id=\"text_17\">\n    <!-- CrossEntropy Loss -->\n    <defs>\n     <path d=\"M 64.40625 67.28125 \nL 64.40625 56.890625 \nQ 59.421875 61.53125 53.78125 63.8125 \nQ 48.140625 66.109375 41.796875 66.109375 \nQ 29.296875 66.109375 22.65625 58.46875 \nQ 16.015625 50.828125 16.015625 36.375 \nQ 16.015625 21.96875 22.65625 14.328125 \nQ 29.296875 6.6875 41.796875 6.6875 \nQ 48.140625 6.6875 53.78125 8.984375 \nQ 59.421875 11.28125 64.40625 15.921875 \nL 64.40625 5.609375 \nQ 59.234375 2.09375 53.4375 0.328125 \nQ 47.65625 -1.421875 41.21875 -1.421875 \nQ 24.65625 -1.421875 15.125 8.703125 \nQ 5.609375 18.84375 5.609375 36.375 \nQ 5.609375 53.953125 15.125 64.078125 \nQ 24.65625 74.21875 41.21875 74.21875 \nQ 47.75 74.21875 53.53125 72.484375 \nQ 59.328125 70.75 64.40625 67.28125 \nz\n\" id=\"DejaVuSans-67\"/>\n     <path d=\"M 41.109375 46.296875 \nQ 39.59375 47.171875 37.8125 47.578125 \nQ 36.03125 48 33.890625 48 \nQ 26.265625 48 22.1875 43.046875 \nQ 18.109375 38.09375 18.109375 28.8125 \nL 18.109375 0 \nL 9.078125 0 \nL 9.078125 54.6875 \nL 18.109375 54.6875 \nL 18.109375 46.1875 \nQ 20.953125 51.171875 25.484375 53.578125 \nQ 30.03125 56 36.53125 56 \nQ 37.453125 56 38.578125 55.875 \nQ 39.703125 55.765625 41.0625 55.515625 \nz\n\" id=\"DejaVuSans-114\"/>\n     <path d=\"M 44.28125 53.078125 \nL 44.28125 44.578125 \nQ 40.484375 46.53125 36.375 47.5 \nQ 32.28125 48.484375 27.875 48.484375 \nQ 21.1875 48.484375 17.84375 46.4375 \nQ 14.5 44.390625 14.5 40.28125 \nQ 14.5 37.15625 16.890625 35.375 \nQ 19.28125 33.59375 26.515625 31.984375 \nL 29.59375 31.296875 \nQ 39.15625 29.25 43.1875 25.515625 \nQ 47.21875 21.78125 47.21875 15.09375 \nQ 47.21875 7.46875 41.1875 3.015625 \nQ 35.15625 -1.421875 24.609375 -1.421875 \nQ 20.21875 -1.421875 15.453125 -0.5625 \nQ 10.6875 0.296875 5.421875 2 \nL 5.421875 11.28125 \nQ 10.40625 8.6875 15.234375 7.390625 \nQ 20.0625 6.109375 24.8125 6.109375 \nQ 31.15625 6.109375 34.5625 8.28125 \nQ 37.984375 10.453125 37.984375 14.40625 \nQ 37.984375 18.0625 35.515625 20.015625 \nQ 33.0625 21.96875 24.703125 23.78125 \nL 21.578125 24.515625 \nQ 13.234375 26.265625 9.515625 29.90625 \nQ 5.8125 33.546875 5.8125 39.890625 \nQ 5.8125 47.609375 11.28125 51.796875 \nQ 16.75 56 26.8125 56 \nQ 31.78125 56 36.171875 55.265625 \nQ 40.578125 54.546875 44.28125 53.078125 \nz\n\" id=\"DejaVuSans-115\"/>\n     <path d=\"M 54.890625 33.015625 \nL 54.890625 0 \nL 45.90625 0 \nL 45.90625 32.71875 \nQ 45.90625 40.484375 42.875 44.328125 \nQ 39.84375 48.1875 33.796875 48.1875 \nQ 26.515625 48.1875 22.3125 43.546875 \nQ 18.109375 38.921875 18.109375 30.90625 \nL 18.109375 0 \nL 9.078125 0 \nL 9.078125 54.6875 \nL 18.109375 54.6875 \nL 18.109375 46.1875 \nQ 21.34375 51.125 25.703125 53.5625 \nQ 30.078125 56 35.796875 56 \nQ 45.21875 56 50.046875 50.171875 \nQ 54.890625 44.34375 54.890625 33.015625 \nz\n\" id=\"DejaVuSans-110\"/>\n     <path d=\"M 18.3125 70.21875 \nL 18.3125 54.6875 \nL 36.8125 54.6875 \nL 36.8125 47.703125 \nL 18.3125 47.703125 \nL 18.3125 18.015625 \nQ 18.3125 11.328125 20.140625 9.421875 \nQ 21.96875 7.515625 27.59375 7.515625 \nL 36.8125 7.515625 \nL 36.8125 0 \nL 27.59375 0 \nQ 17.1875 0 13.234375 3.875 \nQ 9.28125 7.765625 9.28125 18.015625 \nL 9.28125 47.703125 \nL 2.6875 47.703125 \nL 2.6875 54.6875 \nL 9.28125 54.6875 \nL 9.28125 70.21875 \nz\n\" id=\"DejaVuSans-116\"/>\n     <path d=\"M 32.171875 -5.078125 \nQ 28.375 -14.84375 24.75 -17.8125 \nQ 21.140625 -20.796875 15.09375 -20.796875 \nL 7.90625 -20.796875 \nL 7.90625 -13.28125 \nL 13.1875 -13.28125 \nQ 16.890625 -13.28125 18.9375 -11.515625 \nQ 21 -9.765625 23.484375 -3.21875 \nL 25.09375 0.875 \nL 2.984375 54.6875 \nL 12.5 54.6875 \nL 29.59375 11.921875 \nL 46.6875 54.6875 \nL 56.203125 54.6875 \nz\n\" id=\"DejaVuSans-121\"/>\n     <path id=\"DejaVuSans-32\"/>\n     <path d=\"M 9.8125 72.90625 \nL 19.671875 72.90625 \nL 19.671875 8.296875 \nL 55.171875 8.296875 \nL 55.171875 0 \nL 9.8125 0 \nz\n\" id=\"DejaVuSans-76\"/>\n    </defs>\n    <g transform=\"translate(312.982812 16.318125)scale(0.12 -0.12)\">\n     <use xlink:href=\"#DejaVuSans-67\"/>\n     <use x=\"69.824219\" xlink:href=\"#DejaVuSans-114\"/>\n     <use x=\"108.6875\" xlink:href=\"#DejaVuSans-111\"/>\n     <use x=\"169.869141\" xlink:href=\"#DejaVuSans-115\"/>\n     <use x=\"221.96875\" xlink:href=\"#DejaVuSans-115\"/>\n     <use x=\"274.068359\" xlink:href=\"#DejaVuSans-69\"/>\n     <use x=\"337.251953\" xlink:href=\"#DejaVuSans-110\"/>\n     <use x=\"400.630859\" xlink:href=\"#DejaVuSans-116\"/>\n     <use x=\"439.839844\" xlink:href=\"#DejaVuSans-114\"/>\n     <use x=\"478.703125\" xlink:href=\"#DejaVuSans-111\"/>\n     <use x=\"539.884766\" xlink:href=\"#DejaVuSans-112\"/>\n     <use x=\"603.361328\" xlink:href=\"#DejaVuSans-121\"/>\n     <use x=\"662.541016\" xlink:href=\"#DejaVuSans-32\"/>\n     <use x=\"694.328125\" xlink:href=\"#DejaVuSans-76\"/>\n     <use x=\"748.291016\" xlink:href=\"#DejaVuSans-111\"/>\n     <use x=\"809.472656\" xlink:href=\"#DejaVuSans-115\"/>\n     <use x=\"861.572266\" xlink:href=\"#DejaVuSans-115\"/>\n    </g>\n   </g>\n   <g id=\"legend_1\">\n    <g id=\"patch_7\">\n     <path d=\"M 37.103125 314.118125 \nL 160.320313 314.118125 \nQ 162.320313 314.118125 162.320313 312.118125 \nL 162.320313 107.624375 \nQ 162.320313 105.624375 160.320313 105.624375 \nL 37.103125 105.624375 \nQ 35.103125 105.624375 35.103125 107.624375 \nL 35.103125 312.118125 \nQ 35.103125 314.118125 37.103125 314.118125 \nz\n\" style=\"fill:#ffffff;opacity:0.8;stroke:#cccccc;stroke-linejoin:miter;\"/>\n    </g>\n    <g id=\"line2d_45\">\n     <path d=\"M 39.103125 113.722812 \nL 59.103125 113.722812 \n\" style=\"fill:none;stroke:#000000;stroke-linecap:square;stroke-width:1.5;\"/>\n    </g>\n    <g id=\"line2d_46\"/>\n    <g id=\"text_18\">\n     <!-- Base -->\n     <defs>\n      <path d=\"M 19.671875 34.8125 \nL 19.671875 8.109375 \nL 35.5 8.109375 \nQ 43.453125 8.109375 47.28125 11.40625 \nQ 51.125 14.703125 51.125 21.484375 \nQ 51.125 28.328125 47.28125 31.5625 \nQ 43.453125 34.8125 35.5 34.8125 \nz\nM 19.671875 64.796875 \nL 19.671875 42.828125 \nL 34.28125 42.828125 \nQ 41.5 42.828125 45.03125 45.53125 \nQ 48.578125 48.25 48.578125 53.8125 \nQ 48.578125 59.328125 45.03125 62.0625 \nQ 41.5 64.796875 34.28125 64.796875 \nz\nM 9.8125 72.90625 \nL 35.015625 72.90625 \nQ 46.296875 72.90625 52.390625 68.21875 \nQ 58.5 63.53125 58.5 54.890625 \nQ 58.5 48.1875 55.375 44.234375 \nQ 52.25 40.28125 46.1875 39.3125 \nQ 53.46875 37.75 57.5 32.78125 \nQ 61.53125 27.828125 61.53125 20.40625 \nQ 61.53125 10.640625 54.890625 5.3125 \nQ 48.25 0 35.984375 0 \nL 9.8125 0 \nz\n\" id=\"DejaVuSans-66\"/>\n      <path d=\"M 34.28125 27.484375 \nQ 23.390625 27.484375 19.1875 25 \nQ 14.984375 22.515625 14.984375 16.5 \nQ 14.984375 11.71875 18.140625 8.90625 \nQ 21.296875 6.109375 26.703125 6.109375 \nQ 34.1875 6.109375 38.703125 11.40625 \nQ 43.21875 16.703125 43.21875 25.484375 \nL 43.21875 27.484375 \nz\nM 52.203125 31.203125 \nL 52.203125 0 \nL 43.21875 0 \nL 43.21875 8.296875 \nQ 40.140625 3.328125 35.546875 0.953125 \nQ 30.953125 -1.421875 24.3125 -1.421875 \nQ 15.921875 -1.421875 10.953125 3.296875 \nQ 6 8.015625 6 15.921875 \nQ 6 25.140625 12.171875 29.828125 \nQ 18.359375 34.515625 30.609375 34.515625 \nL 43.21875 34.515625 \nL 43.21875 35.40625 \nQ 43.21875 41.609375 39.140625 45 \nQ 35.0625 48.390625 27.6875 48.390625 \nQ 23 48.390625 18.546875 47.265625 \nQ 14.109375 46.140625 10.015625 43.890625 \nL 10.015625 52.203125 \nQ 14.9375 54.109375 19.578125 55.046875 \nQ 24.21875 56 28.609375 56 \nQ 40.484375 56 46.34375 49.84375 \nQ 52.203125 43.703125 52.203125 31.203125 \nz\n\" id=\"DejaVuSans-97\"/>\n      <path d=\"M 56.203125 29.59375 \nL 56.203125 25.203125 \nL 14.890625 25.203125 \nQ 15.484375 15.921875 20.484375 11.0625 \nQ 25.484375 6.203125 34.421875 6.203125 \nQ 39.59375 6.203125 44.453125 7.46875 \nQ 49.3125 8.734375 54.109375 11.28125 \nL 54.109375 2.78125 \nQ 49.265625 0.734375 44.1875 -0.34375 \nQ 39.109375 -1.421875 33.890625 -1.421875 \nQ 20.796875 -1.421875 13.15625 6.1875 \nQ 5.515625 13.8125 5.515625 26.8125 \nQ 5.515625 40.234375 12.765625 48.109375 \nQ 20.015625 56 32.328125 56 \nQ 43.359375 56 49.78125 48.890625 \nQ 56.203125 41.796875 56.203125 29.59375 \nz\nM 47.21875 32.234375 \nQ 47.125 39.59375 43.09375 43.984375 \nQ 39.0625 48.390625 32.421875 48.390625 \nQ 24.90625 48.390625 20.390625 44.140625 \nQ 15.875 39.890625 15.1875 32.171875 \nz\n\" id=\"DejaVuSans-101\"/>\n     </defs>\n     <g transform=\"translate(67.103125 117.222812)scale(0.1 -0.1)\">\n      <use xlink:href=\"#DejaVuSans-66\"/>\n      <use x=\"68.603516\" xlink:href=\"#DejaVuSans-97\"/>\n      <use x=\"129.882812\" xlink:href=\"#DejaVuSans-115\"/>\n      <use x=\"181.982422\" xlink:href=\"#DejaVuSans-101\"/>\n     </g>\n    </g>\n    <g id=\"line2d_47\">\n     <path d=\"M 39.103125 128.400937 \nL 59.103125 128.400937 \n\" style=\"fill:none;stroke:#000000;stroke-dasharray:5.55,2.4;stroke-dashoffset:0;stroke-width:1.5;\"/>\n    </g>\n    <g id=\"line2d_48\"/>\n    <g id=\"text_19\">\n     <!-- Base -->\n     <g transform=\"translate(67.103125 131.900937)scale(0.1 -0.1)\">\n      <use xlink:href=\"#DejaVuSans-66\"/>\n      <use x=\"68.603516\" xlink:href=\"#DejaVuSans-97\"/>\n      <use x=\"129.882812\" xlink:href=\"#DejaVuSans-115\"/>\n      <use x=\"181.982422\" xlink:href=\"#DejaVuSans-101\"/>\n     </g>\n    </g>\n    <g id=\"line2d_49\">\n     <path d=\"M 39.103125 143.079062 \nL 59.103125 143.079062 \n\" style=\"fill:none;stroke:#ff0000;stroke-linecap:square;stroke-width:1.5;\"/>\n    </g>\n    <g id=\"line2d_50\"/>\n    <g id=\"text_20\">\n     <!-- VarDropCheck -->\n     <defs>\n      <path d=\"M 28.609375 0 \nL 0.78125 72.90625 \nL 11.078125 72.90625 \nL 34.1875 11.53125 \nL 57.328125 72.90625 \nL 67.578125 72.90625 \nL 39.796875 0 \nz\n\" id=\"DejaVuSans-86\"/>\n      <path d=\"M 19.671875 64.796875 \nL 19.671875 8.109375 \nL 31.59375 8.109375 \nQ 46.6875 8.109375 53.6875 14.9375 \nQ 60.6875 21.78125 60.6875 36.53125 \nQ 60.6875 51.171875 53.6875 57.984375 \nQ 46.6875 64.796875 31.59375 64.796875 \nz\nM 9.8125 72.90625 \nL 30.078125 72.90625 \nQ 51.265625 72.90625 61.171875 64.09375 \nQ 71.09375 55.28125 71.09375 36.53125 \nQ 71.09375 17.671875 61.125 8.828125 \nQ 51.171875 0 30.078125 0 \nL 9.8125 0 \nz\n\" id=\"DejaVuSans-68\"/>\n      <path d=\"M 9.078125 75.984375 \nL 18.109375 75.984375 \nL 18.109375 31.109375 \nL 44.921875 54.6875 \nL 56.390625 54.6875 \nL 27.390625 29.109375 \nL 57.625 0 \nL 45.90625 0 \nL 18.109375 26.703125 \nL 18.109375 0 \nL 9.078125 0 \nz\n\" id=\"DejaVuSans-107\"/>\n     </defs>\n     <g transform=\"translate(67.103125 146.579062)scale(0.1 -0.1)\">\n      <use xlink:href=\"#DejaVuSans-86\"/>\n      <use x=\"60.658203\" xlink:href=\"#DejaVuSans-97\"/>\n      <use x=\"121.9375\" xlink:href=\"#DejaVuSans-114\"/>\n      <use x=\"163.050781\" xlink:href=\"#DejaVuSans-68\"/>\n      <use x=\"240.052734\" xlink:href=\"#DejaVuSans-114\"/>\n      <use x=\"278.916016\" xlink:href=\"#DejaVuSans-111\"/>\n      <use x=\"340.097656\" xlink:href=\"#DejaVuSans-112\"/>\n      <use x=\"403.574219\" xlink:href=\"#DejaVuSans-67\"/>\n      <use x=\"473.398438\" xlink:href=\"#DejaVuSans-104\"/>\n      <use x=\"536.777344\" xlink:href=\"#DejaVuSans-101\"/>\n      <use x=\"598.300781\" xlink:href=\"#DejaVuSans-99\"/>\n      <use x=\"653.28125\" xlink:href=\"#DejaVuSans-107\"/>\n     </g>\n    </g>\n    <g id=\"line2d_51\">\n     <path d=\"M 39.103125 157.757187 \nL 59.103125 157.757187 \n\" style=\"fill:none;stroke:#ff0000;stroke-dasharray:5.55,2.4;stroke-dashoffset:0;stroke-width:1.5;\"/>\n    </g>\n    <g id=\"line2d_52\"/>\n    <g id=\"text_21\">\n     <!-- VarDropCheck -->\n     <g transform=\"translate(67.103125 161.257187)scale(0.1 -0.1)\">\n      <use xlink:href=\"#DejaVuSans-86\"/>\n      <use x=\"60.658203\" xlink:href=\"#DejaVuSans-97\"/>\n      <use x=\"121.9375\" xlink:href=\"#DejaVuSans-114\"/>\n      <use x=\"163.050781\" xlink:href=\"#DejaVuSans-68\"/>\n      <use x=\"240.052734\" xlink:href=\"#DejaVuSans-114\"/>\n      <use x=\"278.916016\" xlink:href=\"#DejaVuSans-111\"/>\n      <use x=\"340.097656\" xlink:href=\"#DejaVuSans-112\"/>\n      <use x=\"403.574219\" xlink:href=\"#DejaVuSans-67\"/>\n      <use x=\"473.398438\" xlink:href=\"#DejaVuSans-104\"/>\n      <use x=\"536.777344\" xlink:href=\"#DejaVuSans-101\"/>\n      <use x=\"598.300781\" xlink:href=\"#DejaVuSans-99\"/>\n      <use x=\"653.28125\" xlink:href=\"#DejaVuSans-107\"/>\n     </g>\n    </g>\n    <g id=\"line2d_53\">\n     <path d=\"M 39.103125 172.435312 \nL 59.103125 172.435312 \n\" style=\"fill:none;stroke:#0000ff;stroke-linecap:square;stroke-width:1.5;\"/>\n    </g>\n    <g id=\"line2d_54\"/>\n    <g id=\"text_22\">\n     <!-- VarDrop -->\n     <g transform=\"translate(67.103125 175.935312)scale(0.1 -0.1)\">\n      <use xlink:href=\"#DejaVuSans-86\"/>\n      <use x=\"60.658203\" xlink:href=\"#DejaVuSans-97\"/>\n      <use x=\"121.9375\" xlink:href=\"#DejaVuSans-114\"/>\n      <use x=\"163.050781\" xlink:href=\"#DejaVuSans-68\"/>\n      <use x=\"240.052734\" xlink:href=\"#DejaVuSans-114\"/>\n      <use x=\"278.916016\" xlink:href=\"#DejaVuSans-111\"/>\n      <use x=\"340.097656\" xlink:href=\"#DejaVuSans-112\"/>\n     </g>\n    </g>\n    <g id=\"line2d_55\">\n     <path d=\"M 39.103125 187.113437 \nL 59.103125 187.113437 \n\" style=\"fill:none;stroke:#0000ff;stroke-dasharray:5.55,2.4;stroke-dashoffset:0;stroke-width:1.5;\"/>\n    </g>\n    <g id=\"line2d_56\"/>\n    <g id=\"text_23\">\n     <!-- VarDrop -->\n     <g transform=\"translate(67.103125 190.613437)scale(0.1 -0.1)\">\n      <use xlink:href=\"#DejaVuSans-86\"/>\n      <use x=\"60.658203\" xlink:href=\"#DejaVuSans-97\"/>\n      <use x=\"121.9375\" xlink:href=\"#DejaVuSans-114\"/>\n      <use x=\"163.050781\" xlink:href=\"#DejaVuSans-68\"/>\n      <use x=\"240.052734\" xlink:href=\"#DejaVuSans-114\"/>\n      <use x=\"278.916016\" xlink:href=\"#DejaVuSans-111\"/>\n      <use x=\"340.097656\" xlink:href=\"#DejaVuSans-112\"/>\n     </g>\n    </g>\n    <g id=\"line2d_57\">\n     <path d=\"M 39.103125 201.791562 \nL 59.103125 201.791562 \n\" style=\"fill:none;stroke:#008000;stroke-linecap:square;stroke-width:1.5;\"/>\n    </g>\n    <g id=\"line2d_58\"/>\n    <g id=\"text_24\">\n     <!-- FastVarDropCheck -->\n     <defs>\n      <path d=\"M 9.8125 72.90625 \nL 51.703125 72.90625 \nL 51.703125 64.59375 \nL 19.671875 64.59375 \nL 19.671875 43.109375 \nL 48.578125 43.109375 \nL 48.578125 34.8125 \nL 19.671875 34.8125 \nL 19.671875 0 \nL 9.8125 0 \nz\n\" id=\"DejaVuSans-70\"/>\n     </defs>\n     <g transform=\"translate(67.103125 205.291562)scale(0.1 -0.1)\">\n      <use xlink:href=\"#DejaVuSans-70\"/>\n      <use x=\"48.394531\" xlink:href=\"#DejaVuSans-97\"/>\n      <use x=\"109.673828\" xlink:href=\"#DejaVuSans-115\"/>\n      <use x=\"161.773438\" xlink:href=\"#DejaVuSans-116\"/>\n      <use x=\"200.982422\" xlink:href=\"#DejaVuSans-86\"/>\n      <use x=\"261.640625\" xlink:href=\"#DejaVuSans-97\"/>\n      <use x=\"322.919922\" xlink:href=\"#DejaVuSans-114\"/>\n      <use x=\"364.033203\" xlink:href=\"#DejaVuSans-68\"/>\n      <use x=\"441.035156\" xlink:href=\"#DejaVuSans-114\"/>\n      <use x=\"479.898438\" xlink:href=\"#DejaVuSans-111\"/>\n      <use x=\"541.080078\" xlink:href=\"#DejaVuSans-112\"/>\n      <use x=\"604.556641\" xlink:href=\"#DejaVuSans-67\"/>\n      <use x=\"674.380859\" xlink:href=\"#DejaVuSans-104\"/>\n      <use x=\"737.759766\" xlink:href=\"#DejaVuSans-101\"/>\n      <use x=\"799.283203\" xlink:href=\"#DejaVuSans-99\"/>\n      <use x=\"854.263672\" xlink:href=\"#DejaVuSans-107\"/>\n     </g>\n    </g>\n    <g id=\"line2d_59\">\n     <path d=\"M 39.103125 216.469687 \nL 59.103125 216.469687 \n\" style=\"fill:none;stroke:#008000;stroke-dasharray:5.55,2.4;stroke-dashoffset:0;stroke-width:1.5;\"/>\n    </g>\n    <g id=\"line2d_60\"/>\n    <g id=\"text_25\">\n     <!-- FastVarDropCheck -->\n     <g transform=\"translate(67.103125 219.969687)scale(0.1 -0.1)\">\n      <use xlink:href=\"#DejaVuSans-70\"/>\n      <use x=\"48.394531\" xlink:href=\"#DejaVuSans-97\"/>\n      <use x=\"109.673828\" xlink:href=\"#DejaVuSans-115\"/>\n      <use x=\"161.773438\" xlink:href=\"#DejaVuSans-116\"/>\n      <use x=\"200.982422\" xlink:href=\"#DejaVuSans-86\"/>\n      <use x=\"261.640625\" xlink:href=\"#DejaVuSans-97\"/>\n      <use x=\"322.919922\" xlink:href=\"#DejaVuSans-114\"/>\n      <use x=\"364.033203\" xlink:href=\"#DejaVuSans-68\"/>\n      <use x=\"441.035156\" xlink:href=\"#DejaVuSans-114\"/>\n      <use x=\"479.898438\" xlink:href=\"#DejaVuSans-111\"/>\n      <use x=\"541.080078\" xlink:href=\"#DejaVuSans-112\"/>\n      <use x=\"604.556641\" xlink:href=\"#DejaVuSans-67\"/>\n      <use x=\"674.380859\" xlink:href=\"#DejaVuSans-104\"/>\n      <use x=\"737.759766\" xlink:href=\"#DejaVuSans-101\"/>\n      <use x=\"799.283203\" xlink:href=\"#DejaVuSans-99\"/>\n      <use x=\"854.263672\" xlink:href=\"#DejaVuSans-107\"/>\n     </g>\n    </g>\n    <g id=\"line2d_61\">\n     <path d=\"M 39.103125 231.147812 \nL 59.103125 231.147812 \n\" style=\"fill:none;stroke:#ffa500;stroke-linecap:square;stroke-width:1.5;\"/>\n    </g>\n    <g id=\"line2d_62\"/>\n    <g id=\"text_26\">\n     <!-- FastVarDrop -->\n     <g transform=\"translate(67.103125 234.647812)scale(0.1 -0.1)\">\n      <use xlink:href=\"#DejaVuSans-70\"/>\n      <use x=\"48.394531\" xlink:href=\"#DejaVuSans-97\"/>\n      <use x=\"109.673828\" xlink:href=\"#DejaVuSans-115\"/>\n      <use x=\"161.773438\" xlink:href=\"#DejaVuSans-116\"/>\n      <use x=\"200.982422\" xlink:href=\"#DejaVuSans-86\"/>\n      <use x=\"261.640625\" xlink:href=\"#DejaVuSans-97\"/>\n      <use x=\"322.919922\" xlink:href=\"#DejaVuSans-114\"/>\n      <use x=\"364.033203\" xlink:href=\"#DejaVuSans-68\"/>\n      <use x=\"441.035156\" xlink:href=\"#DejaVuSans-114\"/>\n      <use x=\"479.898438\" xlink:href=\"#DejaVuSans-111\"/>\n      <use x=\"541.080078\" xlink:href=\"#DejaVuSans-112\"/>\n     </g>\n    </g>\n    <g id=\"line2d_63\">\n     <path d=\"M 39.103125 245.825937 \nL 59.103125 245.825937 \n\" style=\"fill:none;stroke:#ffa500;stroke-dasharray:5.55,2.4;stroke-dashoffset:0;stroke-width:1.5;\"/>\n    </g>\n    <g id=\"line2d_64\"/>\n    <g id=\"text_27\">\n     <!-- FastVarDrop -->\n     <g transform=\"translate(67.103125 249.325937)scale(0.1 -0.1)\">\n      <use xlink:href=\"#DejaVuSans-70\"/>\n      <use x=\"48.394531\" xlink:href=\"#DejaVuSans-97\"/>\n      <use x=\"109.673828\" xlink:href=\"#DejaVuSans-115\"/>\n      <use x=\"161.773438\" xlink:href=\"#DejaVuSans-116\"/>\n      <use x=\"200.982422\" xlink:href=\"#DejaVuSans-86\"/>\n      <use x=\"261.640625\" xlink:href=\"#DejaVuSans-97\"/>\n      <use x=\"322.919922\" xlink:href=\"#DejaVuSans-114\"/>\n      <use x=\"364.033203\" xlink:href=\"#DejaVuSans-68\"/>\n      <use x=\"441.035156\" xlink:href=\"#DejaVuSans-114\"/>\n      <use x=\"479.898438\" xlink:href=\"#DejaVuSans-111\"/>\n      <use x=\"541.080078\" xlink:href=\"#DejaVuSans-112\"/>\n     </g>\n    </g>\n    <g id=\"line2d_65\">\n     <path d=\"M 39.103125 260.504062 \nL 59.103125 260.504062 \n\" style=\"fill:none;stroke:#bf00bf;stroke-linecap:square;stroke-width:1.5;\"/>\n    </g>\n    <g id=\"line2d_66\"/>\n    <g id=\"text_28\">\n     <!-- HandmadeCheck -->\n     <defs>\n      <path d=\"M 9.8125 72.90625 \nL 19.671875 72.90625 \nL 19.671875 43.015625 \nL 55.515625 43.015625 \nL 55.515625 72.90625 \nL 65.375 72.90625 \nL 65.375 0 \nL 55.515625 0 \nL 55.515625 34.71875 \nL 19.671875 34.71875 \nL 19.671875 0 \nL 9.8125 0 \nz\n\" id=\"DejaVuSans-72\"/>\n      <path d=\"M 45.40625 46.390625 \nL 45.40625 75.984375 \nL 54.390625 75.984375 \nL 54.390625 0 \nL 45.40625 0 \nL 45.40625 8.203125 \nQ 42.578125 3.328125 38.25 0.953125 \nQ 33.9375 -1.421875 27.875 -1.421875 \nQ 17.96875 -1.421875 11.734375 6.484375 \nQ 5.515625 14.40625 5.515625 27.296875 \nQ 5.515625 40.1875 11.734375 48.09375 \nQ 17.96875 56 27.875 56 \nQ 33.9375 56 38.25 53.625 \nQ 42.578125 51.265625 45.40625 46.390625 \nz\nM 14.796875 27.296875 \nQ 14.796875 17.390625 18.875 11.75 \nQ 22.953125 6.109375 30.078125 6.109375 \nQ 37.203125 6.109375 41.296875 11.75 \nQ 45.40625 17.390625 45.40625 27.296875 \nQ 45.40625 37.203125 41.296875 42.84375 \nQ 37.203125 48.484375 30.078125 48.484375 \nQ 22.953125 48.484375 18.875 42.84375 \nQ 14.796875 37.203125 14.796875 27.296875 \nz\n\" id=\"DejaVuSans-100\"/>\n      <path d=\"M 52 44.1875 \nQ 55.375 50.25 60.0625 53.125 \nQ 64.75 56 71.09375 56 \nQ 79.640625 56 84.28125 50.015625 \nQ 88.921875 44.046875 88.921875 33.015625 \nL 88.921875 0 \nL 79.890625 0 \nL 79.890625 32.71875 \nQ 79.890625 40.578125 77.09375 44.375 \nQ 74.3125 48.1875 68.609375 48.1875 \nQ 61.625 48.1875 57.5625 43.546875 \nQ 53.515625 38.921875 53.515625 30.90625 \nL 53.515625 0 \nL 44.484375 0 \nL 44.484375 32.71875 \nQ 44.484375 40.625 41.703125 44.40625 \nQ 38.921875 48.1875 33.109375 48.1875 \nQ 26.21875 48.1875 22.15625 43.53125 \nQ 18.109375 38.875 18.109375 30.90625 \nL 18.109375 0 \nL 9.078125 0 \nL 9.078125 54.6875 \nL 18.109375 54.6875 \nL 18.109375 46.1875 \nQ 21.1875 51.21875 25.484375 53.609375 \nQ 29.78125 56 35.6875 56 \nQ 41.65625 56 45.828125 52.96875 \nQ 50 49.953125 52 44.1875 \nz\n\" id=\"DejaVuSans-109\"/>\n     </defs>\n     <g transform=\"translate(67.103125 264.004062)scale(0.1 -0.1)\">\n      <use xlink:href=\"#DejaVuSans-72\"/>\n      <use x=\"75.195312\" xlink:href=\"#DejaVuSans-97\"/>\n      <use x=\"136.474609\" xlink:href=\"#DejaVuSans-110\"/>\n      <use x=\"199.853516\" xlink:href=\"#DejaVuSans-100\"/>\n      <use x=\"263.330078\" xlink:href=\"#DejaVuSans-109\"/>\n      <use x=\"360.742188\" xlink:href=\"#DejaVuSans-97\"/>\n      <use x=\"422.021484\" xlink:href=\"#DejaVuSans-100\"/>\n      <use x=\"485.498047\" xlink:href=\"#DejaVuSans-101\"/>\n      <use x=\"547.021484\" xlink:href=\"#DejaVuSans-67\"/>\n      <use x=\"616.845703\" xlink:href=\"#DejaVuSans-104\"/>\n      <use x=\"680.224609\" xlink:href=\"#DejaVuSans-101\"/>\n      <use x=\"741.748047\" xlink:href=\"#DejaVuSans-99\"/>\n      <use x=\"796.728516\" xlink:href=\"#DejaVuSans-107\"/>\n     </g>\n    </g>\n    <g id=\"line2d_67\">\n     <path d=\"M 39.103125 275.182187 \nL 59.103125 275.182187 \n\" style=\"fill:none;stroke:#bf00bf;stroke-dasharray:5.55,2.4;stroke-dashoffset:0;stroke-width:1.5;\"/>\n    </g>\n    <g id=\"line2d_68\"/>\n    <g id=\"text_29\">\n     <!-- HandmadeCheck -->\n     <g transform=\"translate(67.103125 278.682187)scale(0.1 -0.1)\">\n      <use xlink:href=\"#DejaVuSans-72\"/>\n      <use x=\"75.195312\" xlink:href=\"#DejaVuSans-97\"/>\n      <use x=\"136.474609\" xlink:href=\"#DejaVuSans-110\"/>\n      <use x=\"199.853516\" xlink:href=\"#DejaVuSans-100\"/>\n      <use x=\"263.330078\" xlink:href=\"#DejaVuSans-109\"/>\n      <use x=\"360.742188\" xlink:href=\"#DejaVuSans-97\"/>\n      <use x=\"422.021484\" xlink:href=\"#DejaVuSans-100\"/>\n      <use x=\"485.498047\" xlink:href=\"#DejaVuSans-101\"/>\n      <use x=\"547.021484\" xlink:href=\"#DejaVuSans-67\"/>\n      <use x=\"616.845703\" xlink:href=\"#DejaVuSans-104\"/>\n      <use x=\"680.224609\" xlink:href=\"#DejaVuSans-101\"/>\n      <use x=\"741.748047\" xlink:href=\"#DejaVuSans-99\"/>\n      <use x=\"796.728516\" xlink:href=\"#DejaVuSans-107\"/>\n     </g>\n    </g>\n    <g id=\"line2d_69\">\n     <path d=\"M 39.103125 289.860312 \nL 59.103125 289.860312 \n\" style=\"fill:none;stroke:#00ffff;stroke-linecap:square;stroke-width:1.5;\"/>\n    </g>\n    <g id=\"line2d_70\"/>\n    <g id=\"text_30\">\n     <!-- Handmade -->\n     <g transform=\"translate(67.103125 293.360312)scale(0.1 -0.1)\">\n      <use xlink:href=\"#DejaVuSans-72\"/>\n      <use x=\"75.195312\" xlink:href=\"#DejaVuSans-97\"/>\n      <use x=\"136.474609\" xlink:href=\"#DejaVuSans-110\"/>\n      <use x=\"199.853516\" xlink:href=\"#DejaVuSans-100\"/>\n      <use x=\"263.330078\" xlink:href=\"#DejaVuSans-109\"/>\n      <use x=\"360.742188\" xlink:href=\"#DejaVuSans-97\"/>\n      <use x=\"422.021484\" xlink:href=\"#DejaVuSans-100\"/>\n      <use x=\"485.498047\" xlink:href=\"#DejaVuSans-101\"/>\n     </g>\n    </g>\n    <g id=\"line2d_71\">\n     <path d=\"M 39.103125 304.538437 \nL 59.103125 304.538437 \n\" style=\"fill:none;stroke:#00ffff;stroke-dasharray:5.55,2.4;stroke-dashoffset:0;stroke-width:1.5;\"/>\n    </g>\n    <g id=\"line2d_72\"/>\n    <g id=\"text_31\">\n     <!-- Handmade -->\n     <g transform=\"translate(67.103125 308.038437)scale(0.1 -0.1)\">\n      <use xlink:href=\"#DejaVuSans-72\"/>\n      <use x=\"75.195312\" xlink:href=\"#DejaVuSans-97\"/>\n      <use x=\"136.474609\" xlink:href=\"#DejaVuSans-110\"/>\n      <use x=\"199.853516\" xlink:href=\"#DejaVuSans-100\"/>\n      <use x=\"263.330078\" xlink:href=\"#DejaVuSans-109\"/>\n      <use x=\"360.742188\" xlink:href=\"#DejaVuSans-97\"/>\n      <use x=\"422.021484\" xlink:href=\"#DejaVuSans-100\"/>\n      <use x=\"485.498047\" xlink:href=\"#DejaVuSans-101\"/>\n     </g>\n    </g>\n   </g>\n  </g>\n  <g id=\"axes_2\">\n   <g id=\"patch_8\">\n    <path d=\"M 30.103125 673.718125 \nL 705.503125 673.718125 \nL 705.503125 376.918125 \nL 30.103125 376.918125 \nz\n\" style=\"fill:#ffffff;\"/>\n   </g>\n   <g id=\"matplotlib.axis_3\">\n    <g id=\"xtick_9\">\n     <g id=\"line2d_73\">\n      <path clip-path=\"url(#p78056a5735)\" d=\"M 60.803125 673.718125 \nL 60.803125 376.918125 \n\" style=\"fill:none;stroke:#b0b0b0;stroke-linecap:square;stroke-width:0.8;\"/>\n     </g>\n     <g id=\"line2d_74\">\n      <g>\n       <use style=\"stroke:#000000;stroke-width:0.8;\" x=\"60.803125\" xlink:href=\"#md6832575a5\" y=\"673.718125\"/>\n      </g>\n     </g>\n     <g id=\"text_32\">\n      <!-- 0 -->\n      <g transform=\"translate(57.621875 688.316562)scale(0.1 -0.1)\">\n       <use xlink:href=\"#DejaVuSans-48\"/>\n      </g>\n     </g>\n    </g>\n    <g id=\"xtick_10\">\n     <g id=\"line2d_75\">\n      <path clip-path=\"url(#p78056a5735)\" d=\"M 148.517411 673.718125 \nL 148.517411 376.918125 \n\" style=\"fill:none;stroke:#b0b0b0;stroke-linecap:square;stroke-width:0.8;\"/>\n     </g>\n     <g id=\"line2d_76\">\n      <g>\n       <use style=\"stroke:#000000;stroke-width:0.8;\" x=\"148.517411\" xlink:href=\"#md6832575a5\" y=\"673.718125\"/>\n      </g>\n     </g>\n     <g id=\"text_33\">\n      <!-- 2 -->\n      <g transform=\"translate(145.336161 688.316562)scale(0.1 -0.1)\">\n       <use xlink:href=\"#DejaVuSans-50\"/>\n      </g>\n     </g>\n    </g>\n    <g id=\"xtick_11\">\n     <g id=\"line2d_77\">\n      <path clip-path=\"url(#p78056a5735)\" d=\"M 236.231696 673.718125 \nL 236.231696 376.918125 \n\" style=\"fill:none;stroke:#b0b0b0;stroke-linecap:square;stroke-width:0.8;\"/>\n     </g>\n     <g id=\"line2d_78\">\n      <g>\n       <use style=\"stroke:#000000;stroke-width:0.8;\" x=\"236.231696\" xlink:href=\"#md6832575a5\" y=\"673.718125\"/>\n      </g>\n     </g>\n     <g id=\"text_34\">\n      <!-- 4 -->\n      <g transform=\"translate(233.050446 688.316562)scale(0.1 -0.1)\">\n       <use xlink:href=\"#DejaVuSans-52\"/>\n      </g>\n     </g>\n    </g>\n    <g id=\"xtick_12\">\n     <g id=\"line2d_79\">\n      <path clip-path=\"url(#p78056a5735)\" d=\"M 323.945982 673.718125 \nL 323.945982 376.918125 \n\" style=\"fill:none;stroke:#b0b0b0;stroke-linecap:square;stroke-width:0.8;\"/>\n     </g>\n     <g id=\"line2d_80\">\n      <g>\n       <use style=\"stroke:#000000;stroke-width:0.8;\" x=\"323.945982\" xlink:href=\"#md6832575a5\" y=\"673.718125\"/>\n      </g>\n     </g>\n     <g id=\"text_35\">\n      <!-- 6 -->\n      <g transform=\"translate(320.764732 688.316562)scale(0.1 -0.1)\">\n       <use xlink:href=\"#DejaVuSans-54\"/>\n      </g>\n     </g>\n    </g>\n    <g id=\"xtick_13\">\n     <g id=\"line2d_81\">\n      <path clip-path=\"url(#p78056a5735)\" d=\"M 411.660268 673.718125 \nL 411.660268 376.918125 \n\" style=\"fill:none;stroke:#b0b0b0;stroke-linecap:square;stroke-width:0.8;\"/>\n     </g>\n     <g id=\"line2d_82\">\n      <g>\n       <use style=\"stroke:#000000;stroke-width:0.8;\" x=\"411.660268\" xlink:href=\"#md6832575a5\" y=\"673.718125\"/>\n      </g>\n     </g>\n     <g id=\"text_36\">\n      <!-- 8 -->\n      <g transform=\"translate(408.479018 688.316562)scale(0.1 -0.1)\">\n       <use xlink:href=\"#DejaVuSans-56\"/>\n      </g>\n     </g>\n    </g>\n    <g id=\"xtick_14\">\n     <g id=\"line2d_83\">\n      <path clip-path=\"url(#p78056a5735)\" d=\"M 499.374554 673.718125 \nL 499.374554 376.918125 \n\" style=\"fill:none;stroke:#b0b0b0;stroke-linecap:square;stroke-width:0.8;\"/>\n     </g>\n     <g id=\"line2d_84\">\n      <g>\n       <use style=\"stroke:#000000;stroke-width:0.8;\" x=\"499.374554\" xlink:href=\"#md6832575a5\" y=\"673.718125\"/>\n      </g>\n     </g>\n     <g id=\"text_37\">\n      <!-- 10 -->\n      <g transform=\"translate(493.012054 688.316562)scale(0.1 -0.1)\">\n       <use xlink:href=\"#DejaVuSans-49\"/>\n       <use x=\"63.623047\" xlink:href=\"#DejaVuSans-48\"/>\n      </g>\n     </g>\n    </g>\n    <g id=\"xtick_15\">\n     <g id=\"line2d_85\">\n      <path clip-path=\"url(#p78056a5735)\" d=\"M 587.088839 673.718125 \nL 587.088839 376.918125 \n\" style=\"fill:none;stroke:#b0b0b0;stroke-linecap:square;stroke-width:0.8;\"/>\n     </g>\n     <g id=\"line2d_86\">\n      <g>\n       <use style=\"stroke:#000000;stroke-width:0.8;\" x=\"587.088839\" xlink:href=\"#md6832575a5\" y=\"673.718125\"/>\n      </g>\n     </g>\n     <g id=\"text_38\">\n      <!-- 12 -->\n      <g transform=\"translate(580.726339 688.316562)scale(0.1 -0.1)\">\n       <use xlink:href=\"#DejaVuSans-49\"/>\n       <use x=\"63.623047\" xlink:href=\"#DejaVuSans-50\"/>\n      </g>\n     </g>\n    </g>\n    <g id=\"xtick_16\">\n     <g id=\"line2d_87\">\n      <path clip-path=\"url(#p78056a5735)\" d=\"M 674.803125 673.718125 \nL 674.803125 376.918125 \n\" style=\"fill:none;stroke:#b0b0b0;stroke-linecap:square;stroke-width:0.8;\"/>\n     </g>\n     <g id=\"line2d_88\">\n      <g>\n       <use style=\"stroke:#000000;stroke-width:0.8;\" x=\"674.803125\" xlink:href=\"#md6832575a5\" y=\"673.718125\"/>\n      </g>\n     </g>\n     <g id=\"text_39\">\n      <!-- 14 -->\n      <g transform=\"translate(668.440625 688.316562)scale(0.1 -0.1)\">\n       <use xlink:href=\"#DejaVuSans-49\"/>\n       <use x=\"63.623047\" xlink:href=\"#DejaVuSans-52\"/>\n      </g>\n     </g>\n    </g>\n    <g id=\"text_40\">\n     <!-- Epoch -->\n     <g transform=\"translate(352.492187 701.994687)scale(0.1 -0.1)\">\n      <use xlink:href=\"#DejaVuSans-69\"/>\n      <use x=\"63.183594\" xlink:href=\"#DejaVuSans-112\"/>\n      <use x=\"126.660156\" xlink:href=\"#DejaVuSans-111\"/>\n      <use x=\"187.841797\" xlink:href=\"#DejaVuSans-99\"/>\n      <use x=\"242.822266\" xlink:href=\"#DejaVuSans-104\"/>\n     </g>\n    </g>\n   </g>\n   <g id=\"matplotlib.axis_4\">\n    <g id=\"ytick_8\">\n     <g id=\"line2d_89\">\n      <path clip-path=\"url(#p78056a5735)\" d=\"M 30.103125 671.174347 \nL 705.503125 671.174347 \n\" style=\"fill:none;stroke:#b0b0b0;stroke-linecap:square;stroke-width:0.8;\"/>\n     </g>\n     <g id=\"line2d_90\">\n      <g>\n       <use style=\"stroke:#000000;stroke-width:0.8;\" x=\"30.103125\" xlink:href=\"#mf75eb7e7ee\" y=\"671.174347\"/>\n      </g>\n     </g>\n     <g id=\"text_41\">\n      <!-- 0.2 -->\n      <g transform=\"translate(7.2 674.973565)scale(0.1 -0.1)\">\n       <use xlink:href=\"#DejaVuSans-48\"/>\n       <use x=\"63.623047\" xlink:href=\"#DejaVuSans-46\"/>\n       <use x=\"95.410156\" xlink:href=\"#DejaVuSans-50\"/>\n      </g>\n     </g>\n    </g>\n    <g id=\"ytick_9\">\n     <g id=\"line2d_91\">\n      <path clip-path=\"url(#p78056a5735)\" d=\"M 30.103125 620.114968 \nL 705.503125 620.114968 \n\" style=\"fill:none;stroke:#b0b0b0;stroke-linecap:square;stroke-width:0.8;\"/>\n     </g>\n     <g id=\"line2d_92\">\n      <g>\n       <use style=\"stroke:#000000;stroke-width:0.8;\" x=\"30.103125\" xlink:href=\"#mf75eb7e7ee\" y=\"620.114968\"/>\n      </g>\n     </g>\n     <g id=\"text_42\">\n      <!-- 0.3 -->\n      <defs>\n       <path d=\"M 40.578125 39.3125 \nQ 47.65625 37.796875 51.625 33 \nQ 55.609375 28.21875 55.609375 21.1875 \nQ 55.609375 10.40625 48.1875 4.484375 \nQ 40.765625 -1.421875 27.09375 -1.421875 \nQ 22.515625 -1.421875 17.65625 -0.515625 \nQ 12.796875 0.390625 7.625 2.203125 \nL 7.625 11.71875 \nQ 11.71875 9.328125 16.59375 8.109375 \nQ 21.484375 6.890625 26.8125 6.890625 \nQ 36.078125 6.890625 40.9375 10.546875 \nQ 45.796875 14.203125 45.796875 21.1875 \nQ 45.796875 27.640625 41.28125 31.265625 \nQ 36.765625 34.90625 28.71875 34.90625 \nL 20.21875 34.90625 \nL 20.21875 43.015625 \nL 29.109375 43.015625 \nQ 36.375 43.015625 40.234375 45.921875 \nQ 44.09375 48.828125 44.09375 54.296875 \nQ 44.09375 59.90625 40.109375 62.90625 \nQ 36.140625 65.921875 28.71875 65.921875 \nQ 24.65625 65.921875 20.015625 65.03125 \nQ 15.375 64.15625 9.8125 62.3125 \nL 9.8125 71.09375 \nQ 15.4375 72.65625 20.34375 73.4375 \nQ 25.25 74.21875 29.59375 74.21875 \nQ 40.828125 74.21875 47.359375 69.109375 \nQ 53.90625 64.015625 53.90625 55.328125 \nQ 53.90625 49.265625 50.4375 45.09375 \nQ 46.96875 40.921875 40.578125 39.3125 \nz\n\" id=\"DejaVuSans-51\"/>\n      </defs>\n      <g transform=\"translate(7.2 623.914187)scale(0.1 -0.1)\">\n       <use xlink:href=\"#DejaVuSans-48\"/>\n       <use x=\"63.623047\" xlink:href=\"#DejaVuSans-46\"/>\n       <use x=\"95.410156\" xlink:href=\"#DejaVuSans-51\"/>\n      </g>\n     </g>\n    </g>\n    <g id=\"ytick_10\">\n     <g id=\"line2d_93\">\n      <path clip-path=\"url(#p78056a5735)\" d=\"M 30.103125 569.055589 \nL 705.503125 569.055589 \n\" style=\"fill:none;stroke:#b0b0b0;stroke-linecap:square;stroke-width:0.8;\"/>\n     </g>\n     <g id=\"line2d_94\">\n      <g>\n       <use style=\"stroke:#000000;stroke-width:0.8;\" x=\"30.103125\" xlink:href=\"#mf75eb7e7ee\" y=\"569.055589\"/>\n      </g>\n     </g>\n     <g id=\"text_43\">\n      <!-- 0.4 -->\n      <g transform=\"translate(7.2 572.854808)scale(0.1 -0.1)\">\n       <use xlink:href=\"#DejaVuSans-48\"/>\n       <use x=\"63.623047\" xlink:href=\"#DejaVuSans-46\"/>\n       <use x=\"95.410156\" xlink:href=\"#DejaVuSans-52\"/>\n      </g>\n     </g>\n    </g>\n    <g id=\"ytick_11\">\n     <g id=\"line2d_95\">\n      <path clip-path=\"url(#p78056a5735)\" d=\"M 30.103125 517.99621 \nL 705.503125 517.99621 \n\" style=\"fill:none;stroke:#b0b0b0;stroke-linecap:square;stroke-width:0.8;\"/>\n     </g>\n     <g id=\"line2d_96\">\n      <g>\n       <use style=\"stroke:#000000;stroke-width:0.8;\" x=\"30.103125\" xlink:href=\"#mf75eb7e7ee\" y=\"517.99621\"/>\n      </g>\n     </g>\n     <g id=\"text_44\">\n      <!-- 0.5 -->\n      <defs>\n       <path d=\"M 10.796875 72.90625 \nL 49.515625 72.90625 \nL 49.515625 64.59375 \nL 19.828125 64.59375 \nL 19.828125 46.734375 \nQ 21.96875 47.46875 24.109375 47.828125 \nQ 26.265625 48.1875 28.421875 48.1875 \nQ 40.625 48.1875 47.75 41.5 \nQ 54.890625 34.8125 54.890625 23.390625 \nQ 54.890625 11.625 47.5625 5.09375 \nQ 40.234375 -1.421875 26.90625 -1.421875 \nQ 22.3125 -1.421875 17.546875 -0.640625 \nQ 12.796875 0.140625 7.71875 1.703125 \nL 7.71875 11.625 \nQ 12.109375 9.234375 16.796875 8.0625 \nQ 21.484375 6.890625 26.703125 6.890625 \nQ 35.15625 6.890625 40.078125 11.328125 \nQ 45.015625 15.765625 45.015625 23.390625 \nQ 45.015625 31 40.078125 35.4375 \nQ 35.15625 39.890625 26.703125 39.890625 \nQ 22.75 39.890625 18.8125 39.015625 \nQ 14.890625 38.140625 10.796875 36.28125 \nz\n\" id=\"DejaVuSans-53\"/>\n      </defs>\n      <g transform=\"translate(7.2 521.795429)scale(0.1 -0.1)\">\n       <use xlink:href=\"#DejaVuSans-48\"/>\n       <use x=\"63.623047\" xlink:href=\"#DejaVuSans-46\"/>\n       <use x=\"95.410156\" xlink:href=\"#DejaVuSans-53\"/>\n      </g>\n     </g>\n    </g>\n    <g id=\"ytick_12\">\n     <g id=\"line2d_97\">\n      <path clip-path=\"url(#p78056a5735)\" d=\"M 30.103125 466.936831 \nL 705.503125 466.936831 \n\" style=\"fill:none;stroke:#b0b0b0;stroke-linecap:square;stroke-width:0.8;\"/>\n     </g>\n     <g id=\"line2d_98\">\n      <g>\n       <use style=\"stroke:#000000;stroke-width:0.8;\" x=\"30.103125\" xlink:href=\"#mf75eb7e7ee\" y=\"466.936831\"/>\n      </g>\n     </g>\n     <g id=\"text_45\">\n      <!-- 0.6 -->\n      <g transform=\"translate(7.2 470.73605)scale(0.1 -0.1)\">\n       <use xlink:href=\"#DejaVuSans-48\"/>\n       <use x=\"63.623047\" xlink:href=\"#DejaVuSans-46\"/>\n       <use x=\"95.410156\" xlink:href=\"#DejaVuSans-54\"/>\n      </g>\n     </g>\n    </g>\n    <g id=\"ytick_13\">\n     <g id=\"line2d_99\">\n      <path clip-path=\"url(#p78056a5735)\" d=\"M 30.103125 415.877452 \nL 705.503125 415.877452 \n\" style=\"fill:none;stroke:#b0b0b0;stroke-linecap:square;stroke-width:0.8;\"/>\n     </g>\n     <g id=\"line2d_100\">\n      <g>\n       <use style=\"stroke:#000000;stroke-width:0.8;\" x=\"30.103125\" xlink:href=\"#mf75eb7e7ee\" y=\"415.877452\"/>\n      </g>\n     </g>\n     <g id=\"text_46\">\n      <!-- 0.7 -->\n      <defs>\n       <path d=\"M 8.203125 72.90625 \nL 55.078125 72.90625 \nL 55.078125 68.703125 \nL 28.609375 0 \nL 18.3125 0 \nL 43.21875 64.59375 \nL 8.203125 64.59375 \nz\n\" id=\"DejaVuSans-55\"/>\n      </defs>\n      <g transform=\"translate(7.2 419.676671)scale(0.1 -0.1)\">\n       <use xlink:href=\"#DejaVuSans-48\"/>\n       <use x=\"63.623047\" xlink:href=\"#DejaVuSans-46\"/>\n       <use x=\"95.410156\" xlink:href=\"#DejaVuSans-55\"/>\n      </g>\n     </g>\n    </g>\n   </g>\n   <g id=\"line2d_101\">\n    <path clip-path=\"url(#p78056a5735)\" d=\"M 60.803125 652.241529 \nL 104.660268 596.341721 \nL 148.517411 583.025435 \nL 192.374554 569.096436 \nL 236.231696 554.411759 \nL 280.088839 541.749033 \nL 323.945982 535.846569 \nL 367.803125 524.470539 \nL 411.660268 513.42129 \nL 455.517411 496.673813 \nL 499.374554 485.073123 \nL 543.231696 466.201576 \nL 587.088839 452.293001 \nL 630.945982 425.680853 \nL 674.803125 411.179989 \n\" style=\"fill:none;stroke:#000000;stroke-linecap:square;stroke-width:1.5;\"/>\n   </g>\n   <g id=\"line2d_102\">\n    <path clip-path=\"url(#p78056a5735)\" d=\"M 60.803125 655.100854 \nL 104.660268 606.043003 \nL 148.517411 595.545195 \nL 192.374554 586.742558 \nL 236.231696 578.981532 \nL 280.088839 575.223562 \nL 323.945982 574.386188 \nL 367.803125 574.896782 \nL 411.660268 572.588898 \nL 455.517411 576.387716 \nL 499.374554 578.552633 \nL 543.231696 584.189589 \nL 587.088839 587.273575 \nL 630.945982 587.253152 \nL 674.803125 587.498237 \n\" style=\"fill:none;stroke:#000000;stroke-dasharray:5.55,2.4;stroke-dashoffset:0;stroke-width:1.5;\"/>\n   </g>\n   <g id=\"line2d_103\">\n    <path clip-path=\"url(#p78056a5735)\" d=\"M 60.803125 631.817777 \nL 104.660268 598.363672 \nL 148.517411 579.287888 \nL 192.374554 561.948123 \nL 236.231696 554.758963 \nL 280.088839 541.646914 \nL 323.945982 539.318607 \nL 367.803125 520.671722 \nL 411.660268 511.869085 \nL 455.517411 495.489236 \nL 499.374554 482.724391 \nL 543.231696 463.219708 \nL 587.088839 447.738505 \nL 630.945982 428.621873 \nL 674.803125 407.115663 \n\" style=\"fill:none;stroke:#ff0000;stroke-linecap:square;stroke-width:1.5;\"/>\n   </g>\n   <g id=\"line2d_104\">\n    <path clip-path=\"url(#p78056a5735)\" d=\"M 60.803125 638.047022 \nL 104.660268 607.595208 \nL 148.517411 591.950614 \nL 192.374554 583.5973 \nL 236.231696 582.331027 \nL 280.088839 574.529154 \nL 323.945982 577.674412 \nL 367.803125 577.368056 \nL 411.660268 572.915678 \nL 455.517411 574.488307 \nL 499.374554 577.694836 \nL 543.231696 579.900601 \nL 587.088839 588.356034 \nL 630.945982 585.455861 \nL 674.803125 587.436965 \n\" style=\"fill:none;stroke:#ff0000;stroke-dasharray:5.55,2.4;stroke-dashoffset:0;stroke-width:1.5;\"/>\n   </g>\n   <g id=\"line2d_105\">\n    <path clip-path=\"url(#p78056a5735)\" d=\"M 60.803125 650.219578 \nL 104.660268 613.620215 \nL 148.517411 595.912822 \nL 192.374554 587.947559 \nL 236.231696 580.206957 \nL 280.088839 571.833219 \nL 323.945982 571.853643 \nL 367.803125 563.704566 \nL 411.660268 559.619816 \nL 455.517411 549.367092 \nL 499.374554 545.792936 \nL 543.231696 543.158272 \nL 587.088839 543.056153 \nL 630.945982 536.540976 \nL 674.803125 535.009195 \n\" style=\"fill:none;stroke:#0000ff;stroke-linecap:square;stroke-width:1.5;\"/>\n   </g>\n   <g id=\"line2d_106\">\n    <path clip-path=\"url(#p78056a5735)\" d=\"M 60.803125 656.469246 \nL 104.660268 619.25717 \nL 148.517411 603.612577 \nL 192.374554 596.77062 \nL 236.231696 592.645022 \nL 280.088839 587.35527 \nL 323.945982 586.558744 \nL 367.803125 581.942976 \nL 411.660268 577.245513 \nL 455.517411 575.121443 \nL 499.374554 571.89449 \nL 543.231696 570.526099 \nL 587.088839 570.873303 \nL 630.945982 567.871011 \nL 674.803125 566.768129 \n\" style=\"fill:none;stroke:#0000ff;stroke-dasharray:5.55,2.4;stroke-dashoffset:0;stroke-width:1.5;\"/>\n   </g>\n   <g id=\"line2d_107\">\n    <path clip-path=\"url(#p78056a5735)\" d=\"M 60.803125 627.099891 \nL 104.660268 589.070865 \nL 148.517411 572.54805 \nL 192.374554 557.618288 \nL 236.231696 547.93743 \nL 280.088839 540.033438 \nL 323.945982 526.329101 \nL 367.803125 517.710278 \nL 411.660268 509.499929 \nL 455.517411 489.954399 \nL 499.374554 478.129047 \nL 543.231696 468.121409 \nL 587.088839 442.428329 \nL 630.945982 423.27085 \nL 674.803125 406.99312 \n\" style=\"fill:none;stroke:#008000;stroke-linecap:square;stroke-width:1.5;\"/>\n   </g>\n   <g id=\"line2d_108\">\n    <path clip-path=\"url(#p78056a5735)\" d=\"M 60.803125 632.675575 \nL 104.660268 598.302401 \nL 148.517411 586.395354 \nL 192.374554 580.288652 \nL 236.231696 574.631273 \nL 280.088839 574.753816 \nL 323.945982 574.774239 \nL 367.803125 576.530682 \nL 411.660268 574.529154 \nL 455.517411 575.019324 \nL 499.374554 581.126026 \nL 543.231696 575.713732 \nL 587.088839 583.617724 \nL 630.945982 590.030782 \nL 674.803125 590.643494 \n\" style=\"fill:none;stroke:#008000;stroke-dasharray:5.55,2.4;stroke-dashoffset:0;stroke-width:1.5;\"/>\n   </g>\n   <g id=\"line2d_109\">\n    <path clip-path=\"url(#p78056a5735)\" d=\"M 60.803125 658.797553 \nL 104.660268 607.207157 \nL 148.517411 584.74103 \nL 192.374554 575.386952 \nL 236.231696 564.950415 \nL 280.088839 557.495746 \nL 323.945982 553.125063 \nL 367.803125 548.938194 \nL 411.660268 541.994118 \nL 455.517411 535.948688 \nL 499.374554 534.416906 \nL 543.231696 527.57495 \nL 587.088839 523.204267 \nL 630.945982 520.181551 \nL 674.803125 517.403921 \n\" style=\"fill:none;stroke:#ffa500;stroke-linecap:square;stroke-width:1.5;\"/>\n   </g>\n   <g id=\"line2d_110\">\n    <path clip-path=\"url(#p78056a5735)\" d=\"M 60.803125 660.227216 \nL 104.660268 614.539284 \nL 148.517411 596.893162 \nL 192.374554 588.356034 \nL 236.231696 582.45357 \nL 280.088839 577.000428 \nL 323.945982 576.060936 \nL 367.803125 571.812795 \nL 411.660268 569.872539 \nL 455.517411 568.647114 \nL 499.374554 566.686434 \nL 543.231696 566.33923 \nL 587.088839 567.401265 \nL 630.945982 565.154652 \nL 674.803125 565.665246 \n\" style=\"fill:none;stroke:#ffa500;stroke-dasharray:5.55,2.4;stroke-dashoffset:0;stroke-width:1.5;\"/>\n   </g>\n   <g id=\"line2d_111\">\n    <path clip-path=\"url(#p78056a5735)\" d=\"M 60.803125 631.960744 \nL 104.660268 591.868919 \nL 148.517411 576.653225 \nL 192.374554 557.087271 \nL 236.231696 550.143195 \nL 280.088839 536.72479 \nL 323.945982 526.839694 \nL 367.803125 511.664847 \nL 411.660268 504.210178 \nL 455.517411 484.419563 \nL 499.374554 471.307514 \nL 543.231696 449.740032 \nL 587.088839 429.214162 \nL 630.945982 412.630076 \nL 674.803125 390.409034 \n\" style=\"fill:none;stroke:#bf00bf;stroke-linecap:square;stroke-width:1.5;\"/>\n   </g>\n   <g id=\"line2d_112\">\n    <path clip-path=\"url(#p78056a5735)\" d=\"M 60.803125 636.270155 \nL 104.660268 600.875794 \nL 148.517411 588.294763 \nL 192.374554 576.918733 \nL 236.231696 575.775003 \nL 280.088839 570.75076 \nL 323.945982 570.505675 \nL 367.803125 576.183478 \nL 411.660268 570.035929 \nL 455.517411 574.018561 \nL 499.374554 576.530682 \nL 543.231696 581.881705 \nL 587.088839 587.661627 \nL 630.945982 586.783405 \nL 674.803125 588.437729 \n\" style=\"fill:none;stroke:#bf00bf;stroke-dasharray:5.55,2.4;stroke-dashoffset:0;stroke-width:1.5;\"/>\n   </g>\n   <g id=\"line2d_113\">\n    <path clip-path=\"url(#p78056a5735)\" d=\"M 60.803125 650.444239 \nL 104.660268 615.029454 \nL 148.517411 604.511222 \nL 192.374554 586.272812 \nL 236.231696 576.346868 \nL 280.088839 571.874067 \nL 323.945982 564.398974 \nL 367.803125 558.251424 \nL 411.660268 555.024472 \nL 455.517411 552.737011 \nL 499.374554 545.731665 \nL 543.231696 541.177168 \nL 587.088839 536.826909 \nL 630.945982 532.987244 \nL 674.803125 532.211141 \n\" style=\"fill:none;stroke:#00ffff;stroke-linecap:square;stroke-width:1.5;\"/>\n   </g>\n   <g id=\"line2d_114\">\n    <path clip-path=\"url(#p78056a5735)\" d=\"M 60.803125 656.122042 \nL 104.660268 621.748868 \nL 148.517411 612.905384 \nL 192.374554 596.464264 \nL 236.231696 588.356034 \nL 280.088839 585.537556 \nL 323.945982 579.247041 \nL 367.803125 577.511022 \nL 411.660268 576.877886 \nL 455.517411 574.570002 \nL 499.374554 572.466355 \nL 543.231696 569.055589 \nL 587.088839 567.728045 \nL 630.945982 566.523044 \nL 674.803125 564.889144 \n\" style=\"fill:none;stroke:#00ffff;stroke-dasharray:5.55,2.4;stroke-dashoffset:0;stroke-width:1.5;\"/>\n   </g>\n   <g id=\"patch_9\">\n    <path d=\"M 30.103125 673.718125 \nL 30.103125 376.918125 \n\" style=\"fill:none;stroke:#000000;stroke-linecap:square;stroke-linejoin:miter;stroke-width:0.8;\"/>\n   </g>\n   <g id=\"patch_10\">\n    <path d=\"M 705.503125 673.718125 \nL 705.503125 376.918125 \n\" style=\"fill:none;stroke:#000000;stroke-linecap:square;stroke-linejoin:miter;stroke-width:0.8;\"/>\n   </g>\n   <g id=\"patch_11\">\n    <path d=\"M 30.103125 673.718125 \nL 705.503125 673.718125 \n\" style=\"fill:none;stroke:#000000;stroke-linecap:square;stroke-linejoin:miter;stroke-width:0.8;\"/>\n   </g>\n   <g id=\"patch_12\">\n    <path d=\"M 30.103125 376.918125 \nL 705.503125 376.918125 \n\" style=\"fill:none;stroke:#000000;stroke-linecap:square;stroke-linejoin:miter;stroke-width:0.8;\"/>\n   </g>\n   <g id=\"text_47\">\n    <!-- Accuracy -->\n    <defs>\n     <path d=\"M 34.1875 63.1875 \nL 20.796875 26.90625 \nL 47.609375 26.90625 \nz\nM 28.609375 72.90625 \nL 39.796875 72.90625 \nL 67.578125 0 \nL 57.328125 0 \nL 50.6875 18.703125 \nL 17.828125 18.703125 \nL 11.1875 0 \nL 0.78125 0 \nz\n\" id=\"DejaVuSans-65\"/>\n     <path d=\"M 8.5 21.578125 \nL 8.5 54.6875 \nL 17.484375 54.6875 \nL 17.484375 21.921875 \nQ 17.484375 14.15625 20.5 10.265625 \nQ 23.53125 6.390625 29.59375 6.390625 \nQ 36.859375 6.390625 41.078125 11.03125 \nQ 45.3125 15.671875 45.3125 23.6875 \nL 45.3125 54.6875 \nL 54.296875 54.6875 \nL 54.296875 0 \nL 45.3125 0 \nL 45.3125 8.40625 \nQ 42.046875 3.421875 37.71875 1 \nQ 33.40625 -1.421875 27.6875 -1.421875 \nQ 18.265625 -1.421875 13.375 4.4375 \nQ 8.5 10.296875 8.5 21.578125 \nz\nM 31.109375 56 \nz\n\" id=\"DejaVuSans-117\"/>\n    </defs>\n    <g transform=\"translate(340.409375 370.918125)scale(0.12 -0.12)\">\n     <use xlink:href=\"#DejaVuSans-65\"/>\n     <use x=\"66.658203\" xlink:href=\"#DejaVuSans-99\"/>\n     <use x=\"121.638672\" xlink:href=\"#DejaVuSans-99\"/>\n     <use x=\"176.619141\" xlink:href=\"#DejaVuSans-117\"/>\n     <use x=\"239.998047\" xlink:href=\"#DejaVuSans-114\"/>\n     <use x=\"281.111328\" xlink:href=\"#DejaVuSans-97\"/>\n     <use x=\"342.390625\" xlink:href=\"#DejaVuSans-99\"/>\n     <use x=\"397.371094\" xlink:href=\"#DejaVuSans-121\"/>\n    </g>\n   </g>\n   <g id=\"legend_2\">\n    <g id=\"patch_13\">\n     <path d=\"M 37.103125 590.411875 \nL 160.320313 590.411875 \nQ 162.320313 590.411875 162.320313 588.411875 \nL 162.320313 383.918125 \nQ 162.320313 381.918125 160.320313 381.918125 \nL 37.103125 381.918125 \nQ 35.103125 381.918125 35.103125 383.918125 \nL 35.103125 588.411875 \nQ 35.103125 590.411875 37.103125 590.411875 \nz\n\" style=\"fill:#ffffff;opacity:0.8;stroke:#cccccc;stroke-linejoin:miter;\"/>\n    </g>\n    <g id=\"line2d_115\">\n     <path d=\"M 39.103125 390.016562 \nL 59.103125 390.016562 \n\" style=\"fill:none;stroke:#000000;stroke-linecap:square;stroke-width:1.5;\"/>\n    </g>\n    <g id=\"line2d_116\"/>\n    <g id=\"text_48\">\n     <!-- Base -->\n     <g transform=\"translate(67.103125 393.516562)scale(0.1 -0.1)\">\n      <use xlink:href=\"#DejaVuSans-66\"/>\n      <use x=\"68.603516\" xlink:href=\"#DejaVuSans-97\"/>\n      <use x=\"129.882812\" xlink:href=\"#DejaVuSans-115\"/>\n      <use x=\"181.982422\" xlink:href=\"#DejaVuSans-101\"/>\n     </g>\n    </g>\n    <g id=\"line2d_117\">\n     <path d=\"M 39.103125 404.694687 \nL 59.103125 404.694687 \n\" style=\"fill:none;stroke:#000000;stroke-dasharray:5.55,2.4;stroke-dashoffset:0;stroke-width:1.5;\"/>\n    </g>\n    <g id=\"line2d_118\"/>\n    <g id=\"text_49\">\n     <!-- Base -->\n     <g transform=\"translate(67.103125 408.194687)scale(0.1 -0.1)\">\n      <use xlink:href=\"#DejaVuSans-66\"/>\n      <use x=\"68.603516\" xlink:href=\"#DejaVuSans-97\"/>\n      <use x=\"129.882812\" xlink:href=\"#DejaVuSans-115\"/>\n      <use x=\"181.982422\" xlink:href=\"#DejaVuSans-101\"/>\n     </g>\n    </g>\n    <g id=\"line2d_119\">\n     <path d=\"M 39.103125 419.372812 \nL 59.103125 419.372812 \n\" style=\"fill:none;stroke:#ff0000;stroke-linecap:square;stroke-width:1.5;\"/>\n    </g>\n    <g id=\"line2d_120\"/>\n    <g id=\"text_50\">\n     <!-- VarDropCheck -->\n     <g transform=\"translate(67.103125 422.872812)scale(0.1 -0.1)\">\n      <use xlink:href=\"#DejaVuSans-86\"/>\n      <use x=\"60.658203\" xlink:href=\"#DejaVuSans-97\"/>\n      <use x=\"121.9375\" xlink:href=\"#DejaVuSans-114\"/>\n      <use x=\"163.050781\" xlink:href=\"#DejaVuSans-68\"/>\n      <use x=\"240.052734\" xlink:href=\"#DejaVuSans-114\"/>\n      <use x=\"278.916016\" xlink:href=\"#DejaVuSans-111\"/>\n      <use x=\"340.097656\" xlink:href=\"#DejaVuSans-112\"/>\n      <use x=\"403.574219\" xlink:href=\"#DejaVuSans-67\"/>\n      <use x=\"473.398438\" xlink:href=\"#DejaVuSans-104\"/>\n      <use x=\"536.777344\" xlink:href=\"#DejaVuSans-101\"/>\n      <use x=\"598.300781\" xlink:href=\"#DejaVuSans-99\"/>\n      <use x=\"653.28125\" xlink:href=\"#DejaVuSans-107\"/>\n     </g>\n    </g>\n    <g id=\"line2d_121\">\n     <path d=\"M 39.103125 434.050937 \nL 59.103125 434.050937 \n\" style=\"fill:none;stroke:#ff0000;stroke-dasharray:5.55,2.4;stroke-dashoffset:0;stroke-width:1.5;\"/>\n    </g>\n    <g id=\"line2d_122\"/>\n    <g id=\"text_51\">\n     <!-- VarDropCheck -->\n     <g transform=\"translate(67.103125 437.550937)scale(0.1 -0.1)\">\n      <use xlink:href=\"#DejaVuSans-86\"/>\n      <use x=\"60.658203\" xlink:href=\"#DejaVuSans-97\"/>\n      <use x=\"121.9375\" xlink:href=\"#DejaVuSans-114\"/>\n      <use x=\"163.050781\" xlink:href=\"#DejaVuSans-68\"/>\n      <use x=\"240.052734\" xlink:href=\"#DejaVuSans-114\"/>\n      <use x=\"278.916016\" xlink:href=\"#DejaVuSans-111\"/>\n      <use x=\"340.097656\" xlink:href=\"#DejaVuSans-112\"/>\n      <use x=\"403.574219\" xlink:href=\"#DejaVuSans-67\"/>\n      <use x=\"473.398438\" xlink:href=\"#DejaVuSans-104\"/>\n      <use x=\"536.777344\" xlink:href=\"#DejaVuSans-101\"/>\n      <use x=\"598.300781\" xlink:href=\"#DejaVuSans-99\"/>\n      <use x=\"653.28125\" xlink:href=\"#DejaVuSans-107\"/>\n     </g>\n    </g>\n    <g id=\"line2d_123\">\n     <path d=\"M 39.103125 448.729062 \nL 59.103125 448.729062 \n\" style=\"fill:none;stroke:#0000ff;stroke-linecap:square;stroke-width:1.5;\"/>\n    </g>\n    <g id=\"line2d_124\"/>\n    <g id=\"text_52\">\n     <!-- VarDrop -->\n     <g transform=\"translate(67.103125 452.229062)scale(0.1 -0.1)\">\n      <use xlink:href=\"#DejaVuSans-86\"/>\n      <use x=\"60.658203\" xlink:href=\"#DejaVuSans-97\"/>\n      <use x=\"121.9375\" xlink:href=\"#DejaVuSans-114\"/>\n      <use x=\"163.050781\" xlink:href=\"#DejaVuSans-68\"/>\n      <use x=\"240.052734\" xlink:href=\"#DejaVuSans-114\"/>\n      <use x=\"278.916016\" xlink:href=\"#DejaVuSans-111\"/>\n      <use x=\"340.097656\" xlink:href=\"#DejaVuSans-112\"/>\n     </g>\n    </g>\n    <g id=\"line2d_125\">\n     <path d=\"M 39.103125 463.407187 \nL 59.103125 463.407187 \n\" style=\"fill:none;stroke:#0000ff;stroke-dasharray:5.55,2.4;stroke-dashoffset:0;stroke-width:1.5;\"/>\n    </g>\n    <g id=\"line2d_126\"/>\n    <g id=\"text_53\">\n     <!-- VarDrop -->\n     <g transform=\"translate(67.103125 466.907187)scale(0.1 -0.1)\">\n      <use xlink:href=\"#DejaVuSans-86\"/>\n      <use x=\"60.658203\" xlink:href=\"#DejaVuSans-97\"/>\n      <use x=\"121.9375\" xlink:href=\"#DejaVuSans-114\"/>\n      <use x=\"163.050781\" xlink:href=\"#DejaVuSans-68\"/>\n      <use x=\"240.052734\" xlink:href=\"#DejaVuSans-114\"/>\n      <use x=\"278.916016\" xlink:href=\"#DejaVuSans-111\"/>\n      <use x=\"340.097656\" xlink:href=\"#DejaVuSans-112\"/>\n     </g>\n    </g>\n    <g id=\"line2d_127\">\n     <path d=\"M 39.103125 478.085312 \nL 59.103125 478.085312 \n\" style=\"fill:none;stroke:#008000;stroke-linecap:square;stroke-width:1.5;\"/>\n    </g>\n    <g id=\"line2d_128\"/>\n    <g id=\"text_54\">\n     <!-- FastVarDropCheck -->\n     <g transform=\"translate(67.103125 481.585312)scale(0.1 -0.1)\">\n      <use xlink:href=\"#DejaVuSans-70\"/>\n      <use x=\"48.394531\" xlink:href=\"#DejaVuSans-97\"/>\n      <use x=\"109.673828\" xlink:href=\"#DejaVuSans-115\"/>\n      <use x=\"161.773438\" xlink:href=\"#DejaVuSans-116\"/>\n      <use x=\"200.982422\" xlink:href=\"#DejaVuSans-86\"/>\n      <use x=\"261.640625\" xlink:href=\"#DejaVuSans-97\"/>\n      <use x=\"322.919922\" xlink:href=\"#DejaVuSans-114\"/>\n      <use x=\"364.033203\" xlink:href=\"#DejaVuSans-68\"/>\n      <use x=\"441.035156\" xlink:href=\"#DejaVuSans-114\"/>\n      <use x=\"479.898438\" xlink:href=\"#DejaVuSans-111\"/>\n      <use x=\"541.080078\" xlink:href=\"#DejaVuSans-112\"/>\n      <use x=\"604.556641\" xlink:href=\"#DejaVuSans-67\"/>\n      <use x=\"674.380859\" xlink:href=\"#DejaVuSans-104\"/>\n      <use x=\"737.759766\" xlink:href=\"#DejaVuSans-101\"/>\n      <use x=\"799.283203\" xlink:href=\"#DejaVuSans-99\"/>\n      <use x=\"854.263672\" xlink:href=\"#DejaVuSans-107\"/>\n     </g>\n    </g>\n    <g id=\"line2d_129\">\n     <path d=\"M 39.103125 492.763437 \nL 59.103125 492.763437 \n\" style=\"fill:none;stroke:#008000;stroke-dasharray:5.55,2.4;stroke-dashoffset:0;stroke-width:1.5;\"/>\n    </g>\n    <g id=\"line2d_130\"/>\n    <g id=\"text_55\">\n     <!-- FastVarDropCheck -->\n     <g transform=\"translate(67.103125 496.263437)scale(0.1 -0.1)\">\n      <use xlink:href=\"#DejaVuSans-70\"/>\n      <use x=\"48.394531\" xlink:href=\"#DejaVuSans-97\"/>\n      <use x=\"109.673828\" xlink:href=\"#DejaVuSans-115\"/>\n      <use x=\"161.773438\" xlink:href=\"#DejaVuSans-116\"/>\n      <use x=\"200.982422\" xlink:href=\"#DejaVuSans-86\"/>\n      <use x=\"261.640625\" xlink:href=\"#DejaVuSans-97\"/>\n      <use x=\"322.919922\" xlink:href=\"#DejaVuSans-114\"/>\n      <use x=\"364.033203\" xlink:href=\"#DejaVuSans-68\"/>\n      <use x=\"441.035156\" xlink:href=\"#DejaVuSans-114\"/>\n      <use x=\"479.898438\" xlink:href=\"#DejaVuSans-111\"/>\n      <use x=\"541.080078\" xlink:href=\"#DejaVuSans-112\"/>\n      <use x=\"604.556641\" xlink:href=\"#DejaVuSans-67\"/>\n      <use x=\"674.380859\" xlink:href=\"#DejaVuSans-104\"/>\n      <use x=\"737.759766\" xlink:href=\"#DejaVuSans-101\"/>\n      <use x=\"799.283203\" xlink:href=\"#DejaVuSans-99\"/>\n      <use x=\"854.263672\" xlink:href=\"#DejaVuSans-107\"/>\n     </g>\n    </g>\n    <g id=\"line2d_131\">\n     <path d=\"M 39.103125 507.441562 \nL 59.103125 507.441562 \n\" style=\"fill:none;stroke:#ffa500;stroke-linecap:square;stroke-width:1.5;\"/>\n    </g>\n    <g id=\"line2d_132\"/>\n    <g id=\"text_56\">\n     <!-- FastVarDrop -->\n     <g transform=\"translate(67.103125 510.941562)scale(0.1 -0.1)\">\n      <use xlink:href=\"#DejaVuSans-70\"/>\n      <use x=\"48.394531\" xlink:href=\"#DejaVuSans-97\"/>\n      <use x=\"109.673828\" xlink:href=\"#DejaVuSans-115\"/>\n      <use x=\"161.773438\" xlink:href=\"#DejaVuSans-116\"/>\n      <use x=\"200.982422\" xlink:href=\"#DejaVuSans-86\"/>\n      <use x=\"261.640625\" xlink:href=\"#DejaVuSans-97\"/>\n      <use x=\"322.919922\" xlink:href=\"#DejaVuSans-114\"/>\n      <use x=\"364.033203\" xlink:href=\"#DejaVuSans-68\"/>\n      <use x=\"441.035156\" xlink:href=\"#DejaVuSans-114\"/>\n      <use x=\"479.898438\" xlink:href=\"#DejaVuSans-111\"/>\n      <use x=\"541.080078\" xlink:href=\"#DejaVuSans-112\"/>\n     </g>\n    </g>\n    <g id=\"line2d_133\">\n     <path d=\"M 39.103125 522.119687 \nL 59.103125 522.119687 \n\" style=\"fill:none;stroke:#ffa500;stroke-dasharray:5.55,2.4;stroke-dashoffset:0;stroke-width:1.5;\"/>\n    </g>\n    <g id=\"line2d_134\"/>\n    <g id=\"text_57\">\n     <!-- FastVarDrop -->\n     <g transform=\"translate(67.103125 525.619687)scale(0.1 -0.1)\">\n      <use xlink:href=\"#DejaVuSans-70\"/>\n      <use x=\"48.394531\" xlink:href=\"#DejaVuSans-97\"/>\n      <use x=\"109.673828\" xlink:href=\"#DejaVuSans-115\"/>\n      <use x=\"161.773438\" xlink:href=\"#DejaVuSans-116\"/>\n      <use x=\"200.982422\" xlink:href=\"#DejaVuSans-86\"/>\n      <use x=\"261.640625\" xlink:href=\"#DejaVuSans-97\"/>\n      <use x=\"322.919922\" xlink:href=\"#DejaVuSans-114\"/>\n      <use x=\"364.033203\" xlink:href=\"#DejaVuSans-68\"/>\n      <use x=\"441.035156\" xlink:href=\"#DejaVuSans-114\"/>\n      <use x=\"479.898438\" xlink:href=\"#DejaVuSans-111\"/>\n      <use x=\"541.080078\" xlink:href=\"#DejaVuSans-112\"/>\n     </g>\n    </g>\n    <g id=\"line2d_135\">\n     <path d=\"M 39.103125 536.797812 \nL 59.103125 536.797812 \n\" style=\"fill:none;stroke:#bf00bf;stroke-linecap:square;stroke-width:1.5;\"/>\n    </g>\n    <g id=\"line2d_136\"/>\n    <g id=\"text_58\">\n     <!-- HandmadeCheck -->\n     <g transform=\"translate(67.103125 540.297812)scale(0.1 -0.1)\">\n      <use xlink:href=\"#DejaVuSans-72\"/>\n      <use x=\"75.195312\" xlink:href=\"#DejaVuSans-97\"/>\n      <use x=\"136.474609\" xlink:href=\"#DejaVuSans-110\"/>\n      <use x=\"199.853516\" xlink:href=\"#DejaVuSans-100\"/>\n      <use x=\"263.330078\" xlink:href=\"#DejaVuSans-109\"/>\n      <use x=\"360.742188\" xlink:href=\"#DejaVuSans-97\"/>\n      <use x=\"422.021484\" xlink:href=\"#DejaVuSans-100\"/>\n      <use x=\"485.498047\" xlink:href=\"#DejaVuSans-101\"/>\n      <use x=\"547.021484\" xlink:href=\"#DejaVuSans-67\"/>\n      <use x=\"616.845703\" xlink:href=\"#DejaVuSans-104\"/>\n      <use x=\"680.224609\" xlink:href=\"#DejaVuSans-101\"/>\n      <use x=\"741.748047\" xlink:href=\"#DejaVuSans-99\"/>\n      <use x=\"796.728516\" xlink:href=\"#DejaVuSans-107\"/>\n     </g>\n    </g>\n    <g id=\"line2d_137\">\n     <path d=\"M 39.103125 551.475937 \nL 59.103125 551.475937 \n\" style=\"fill:none;stroke:#bf00bf;stroke-dasharray:5.55,2.4;stroke-dashoffset:0;stroke-width:1.5;\"/>\n    </g>\n    <g id=\"line2d_138\"/>\n    <g id=\"text_59\">\n     <!-- HandmadeCheck -->\n     <g transform=\"translate(67.103125 554.975937)scale(0.1 -0.1)\">\n      <use xlink:href=\"#DejaVuSans-72\"/>\n      <use x=\"75.195312\" xlink:href=\"#DejaVuSans-97\"/>\n      <use x=\"136.474609\" xlink:href=\"#DejaVuSans-110\"/>\n      <use x=\"199.853516\" xlink:href=\"#DejaVuSans-100\"/>\n      <use x=\"263.330078\" xlink:href=\"#DejaVuSans-109\"/>\n      <use x=\"360.742188\" xlink:href=\"#DejaVuSans-97\"/>\n      <use x=\"422.021484\" xlink:href=\"#DejaVuSans-100\"/>\n      <use x=\"485.498047\" xlink:href=\"#DejaVuSans-101\"/>\n      <use x=\"547.021484\" xlink:href=\"#DejaVuSans-67\"/>\n      <use x=\"616.845703\" xlink:href=\"#DejaVuSans-104\"/>\n      <use x=\"680.224609\" xlink:href=\"#DejaVuSans-101\"/>\n      <use x=\"741.748047\" xlink:href=\"#DejaVuSans-99\"/>\n      <use x=\"796.728516\" xlink:href=\"#DejaVuSans-107\"/>\n     </g>\n    </g>\n    <g id=\"line2d_139\">\n     <path d=\"M 39.103125 566.154062 \nL 59.103125 566.154062 \n\" style=\"fill:none;stroke:#00ffff;stroke-linecap:square;stroke-width:1.5;\"/>\n    </g>\n    <g id=\"line2d_140\"/>\n    <g id=\"text_60\">\n     <!-- Handmade -->\n     <g transform=\"translate(67.103125 569.654062)scale(0.1 -0.1)\">\n      <use xlink:href=\"#DejaVuSans-72\"/>\n      <use x=\"75.195312\" xlink:href=\"#DejaVuSans-97\"/>\n      <use x=\"136.474609\" xlink:href=\"#DejaVuSans-110\"/>\n      <use x=\"199.853516\" xlink:href=\"#DejaVuSans-100\"/>\n      <use x=\"263.330078\" xlink:href=\"#DejaVuSans-109\"/>\n      <use x=\"360.742188\" xlink:href=\"#DejaVuSans-97\"/>\n      <use x=\"422.021484\" xlink:href=\"#DejaVuSans-100\"/>\n      <use x=\"485.498047\" xlink:href=\"#DejaVuSans-101\"/>\n     </g>\n    </g>\n    <g id=\"line2d_141\">\n     <path d=\"M 39.103125 580.832187 \nL 59.103125 580.832187 \n\" style=\"fill:none;stroke:#00ffff;stroke-dasharray:5.55,2.4;stroke-dashoffset:0;stroke-width:1.5;\"/>\n    </g>\n    <g id=\"line2d_142\"/>\n    <g id=\"text_61\">\n     <!-- Handmade -->\n     <g transform=\"translate(67.103125 584.332187)scale(0.1 -0.1)\">\n      <use xlink:href=\"#DejaVuSans-72\"/>\n      <use x=\"75.195312\" xlink:href=\"#DejaVuSans-97\"/>\n      <use x=\"136.474609\" xlink:href=\"#DejaVuSans-110\"/>\n      <use x=\"199.853516\" xlink:href=\"#DejaVuSans-100\"/>\n      <use x=\"263.330078\" xlink:href=\"#DejaVuSans-109\"/>\n      <use x=\"360.742188\" xlink:href=\"#DejaVuSans-97\"/>\n      <use x=\"422.021484\" xlink:href=\"#DejaVuSans-100\"/>\n      <use x=\"485.498047\" xlink:href=\"#DejaVuSans-101\"/>\n     </g>\n    </g>\n   </g>\n  </g>\n </g>\n <defs>\n  <clipPath id=\"pd15dd0e28c\">\n   <rect height=\"296.8\" width=\"675.4\" x=\"30.103125\" y=\"22.318125\"/>\n  </clipPath>\n  <clipPath id=\"p78056a5735\">\n   <rect height=\"296.8\" width=\"675.4\" x=\"30.103125\" y=\"376.918125\"/>\n  </clipPath>\n </defs>\n</svg>\n",
            "application/pdf": "[encoded data removed]"
          },
          "metadata": {
            "needs_background": "light"
          }
        }
      ],
      "source": [
        "fig, axes = plt.subplots(2, 1, figsize=(10, 10))\n",
        "x = np.arange(num_epochs)\n",
        "\n",
        "axes[0].plot(x, [i.cpu() for i in metrics[0][0]], color=colors[0], label=titles[0])\n",
        "axes[0].plot(x, [i.cpu() for i in metrics[0][2]], color=colors[0], label=titles[0], linestyle='--')\n",
        "\n",
        "for color, metric, title in zip(colors[1:],metrics[1:],titles[1:]):\n",
        "  axes[0].plot(x, [i.cpu() for i in metric[0]], color=color, label=title)\n",
        "  axes[0].plot(x, [i.cpu() for i in metric[2]], color=color, label=title, linestyle='--')\n",
        "\n",
        "axes[0].legend()\n",
        "axes[0].grid(True)\n",
        "axes[0].set_xlabel('Epoch')\n",
        "axes[0].set_title('CrossEntropy Loss')\n",
        "\n",
        "\n",
        "axes[1].plot(x, metrics[0][1], color=colors[0], label=titles[0])\n",
        "axes[1].plot(x, metrics[0][3], color=colors[0], label=titles[0], linestyle='--')\n",
        "\n",
        "for color, metric, title in zip(colors[1:],metrics[1:],titles[1:]):\n",
        "  axes[1].plot(x, metric[1], color=color, label=title)\n",
        "  axes[1].plot(x, metric[3], color=color, label=title, linestyle='--')\n",
        "\n",
        "axes[1].legend()\n",
        "axes[1].grid(True)\n",
        "axes[1].set_xlabel('Epoch')\n",
        "axes[1].set_title('Accuracy')\n",
        "\n",
        "fig.tight_layout()\n",
        "plt.show()"
      ]
    },
    {
      "cell_type": "markdown",
      "metadata": {
        "id": "AML0QAsCrYQa"
      },
      "source": [
        "Сделайте итоговые выводы о качестве работы моделей с разными реализациями DropOut:"
      ]
    },
    {
      "cell_type": "markdown",
      "metadata": {
        "id": "zfsnL6GcrYQa"
      },
      "source": [
        "**Ответ:** можно заметить, что на трейне качество лучше без использования дропаута, однако на тесте качачество лучше с использованием дропаута, так как модели не переобучаются. Качество во всех трех моделях на тесте приблизительно одинаковое, поэтому если сравнивать модели, то лучше выбрать FastRNNLayer, так как по времени она самая быстрая."
      ]
    },
    {
      "cell_type": "markdown",
      "metadata": {
        "collapsed": true,
        "id": "PqWtrD9srYQa"
      },
      "source": [
        "## Бонус. Zoneout (2 балла)"
      ]
    },
    {
      "cell_type": "markdown",
      "metadata": {
        "collapsed": true,
        "id": "Fn4IzXxzrYQa"
      },
      "source": [
        "Это еще одна модификация идеи дропаута применительно к рекуррентным нейросетям. В Zoneout на каждом временном шаге с вероятностью p компонента скрытого состояния обновляется, а с вероятностью 1-p берется с предыдущего шага. \n",
        "В Виде формул (m^t_h - бинарная маска):\n",
        " \n",
        "(сначала обычный рекуррентный переход, например LSTM)\n",
        "$$\n",
        "i = \\sigma(h_{t-1}W^i + x_t U^i+b_i) \\quad\n",
        "o = \\sigma(h_{t-1}W^o + x_t U^o+b_o) \n",
        "$$\n",
        "$$\n",
        "f = \\sigma(h_{t-1}W^f + x_t U^f+b_f) \\quad \n",
        "g = tanh(h_{t-1} W^g + x_t U^g+b_g) \n",
        "$$\n",
        "$$\n",
        "c_t = f \\odot c_{t-1} +  i \\odot  g \\quad\n",
        "h_t =  o \\odot tanh(c_t) \\nonumber\n",
        "$$\n",
        "Затем Zoneout:\n",
        "$$\n",
        "h_t = h_t * m_h^t + h_{t-1}*(1-m_h^t)\n",
        "$$\n",
        "В этом методе маска уже должна быть разная во все моменты времени (иначе метод упрощается до дропаута Гала и Гарамани). На входы $x_t$ вновь можно накладывать маску до начала работы рекуррентного слоя.  \n",
        "\n",
        "Если у вас осталось время, вы можете реализовать этот метод. Выберите основу из трех рассмотренных случаев самостоятельно."
      ]
    },
    {
      "cell_type": "markdown",
      "source": [
        "За основу возьмем RNNLayer."
      ],
      "metadata": {
        "id": "O9qejldP8--K"
      }
    },
    {
      "cell_type": "code",
      "source": [
        "class Zoneout(torch.nn.Module):\n",
        "    def __init__(self, input_size, hidden_size, dropout=None):\n",
        "        super().__init__()\n",
        "\n",
        "        self.dropout = dropout\n",
        "        self.input_size = input_size\n",
        "        self.hidden_size = hidden_size\n",
        "        \n",
        "        self.rnn_cell = torch.nn.LSTMCell(self.input_size, self.hidden_size)\n",
        "        \n",
        "    def forward(self, x):\n",
        "        # Initialize h_0, c_0\n",
        "        h_0, c_0 = init_h0_c0(x.size()[1], self.hidden_size, x)\n",
        "        # batch_size = amount of objects in batch\n",
        "        # h_o.shape = (batch_size, hidden_size)\n",
        "        # c_o.shape = (batch_size, hidden_size)\n",
        "\n",
        "        # Gen masks for input and hidden state\n",
        "        if self.dropout > 0:\n",
        "          m_h, m_x = gen_dropout_mask(self.input_size,\n",
        "                                      self.hidden_size,\n",
        "                                      self.training, # self.training is from torch.nn.Module\n",
        "                                      self.dropout,\n",
        "                                      x)\n",
        "          # m_h.shape = (hidden_size)\n",
        "          # m_x.shape = (input_size)\n",
        "        \n",
        "        # Implement recurrent logic and return what nn.LSTM returns\n",
        "        # Do not forget to apply generated dropout masks!\n",
        "        if self.dropout == 0:\n",
        "          mask_x = x # mask_x.shape = (obj_len, batch_size, input_size)\n",
        "          flag = False\n",
        "        elif self.dropout > 0:\n",
        "          mask_x = x * m_x # mask_x.shape = (obj_len, batch_size, input_size)\n",
        "          flag = True\n",
        "        else:\n",
        "          raise Exception(\"Dropout value should be >= 0\")\n",
        "        \n",
        "        output = []\n",
        "        h = h_0 # h.shape = (batch_size, hidden_size)\n",
        "        c = c_0 # c.shape = (batch_size, hidden_size)\n",
        "        for i in range(mask_x.size()[0]):\n",
        "          h_t, c = self.rnn_cell(mask_x[i], (h, c))\n",
        "          if flag:\n",
        "            m_h, m_x = gen_dropout_mask(self.input_size,\n",
        "                                      self.hidden_size,\n",
        "                                      self.training, # self.training is from torch.nn.Module\n",
        "                                      self.dropout,\n",
        "                                      x)\n",
        "            h = h_t*m_h + h*(1 - m_h)\n",
        "          else:\n",
        "            h = h_t\n",
        "          output.append(h)\n",
        "        output = torch.stack(output)\n",
        "        return output, (h, c)"
      ],
      "metadata": {
        "id": "-vzEOccs9HPV"
      },
      "execution_count": null,
      "outputs": []
    },
    {
      "cell_type": "markdown",
      "source": [
        "Очевидно, что случай dropout = 0 эквивалентен случаю использования RNNLayer без дропаута. Так что сразу протестирует реализацию с дропаутом."
      ],
      "metadata": {
        "id": "_ROyVwD8_SSm"
      }
    },
    {
      "cell_type": "code",
      "source": [
        "model = RNNClassifier(\n",
        "    embedding_dim=embedding_dim, hidden_dim=hidden_dim, output_size=10, vocab=vocab,\n",
        "    rec_layer=Zoneout, dropout=0.25\n",
        ").to(device)\n",
        "optimizer = torch.optim.Adam(model.parameters(), lr=learning_rate)"
      ],
      "metadata": {
        "id": "KqnVg3nY_hD2"
      },
      "execution_count": null,
      "outputs": []
    },
    {
      "cell_type": "code",
      "source": [
        "start = time.time()\n",
        "Zoneout_metrics = train(train_dataloader, test_dataloader, model, loss_fn, optimizer, device, num_epochs)\n",
        "Zoneout_DO_time = time.time() - start"
      ],
      "metadata": {
        "colab": {
          "base_uri": "https://localhost:8080/"
        },
        "id": "V0lRYiH3_jU4",
        "outputId": "5c44f54c-1ac6-4447-a298-f3623ff3f619"
      },
      "execution_count": null,
      "outputs": [
        {
          "output_type": "stream",
          "name": "stdout",
          "text": [
            "Epoch: 1/15. Loss (Train/Test): 1.802/1.838. Accuracy (Train/Test): 0.328/0.312\n",
            "Epoch: 2/15. Loss (Train/Test): 1.664/1.726. Accuracy (Train/Test): 0.359/0.344\n",
            "Epoch: 3/15. Loss (Train/Test): 1.583/1.658. Accuracy (Train/Test): 0.381/0.359\n",
            "Epoch: 4/15. Loss (Train/Test): 1.535/1.616. Accuracy (Train/Test): 0.403/0.372\n",
            "Epoch: 5/15. Loss (Train/Test): 1.487/1.592. Accuracy (Train/Test): 0.414/0.384\n",
            "Epoch: 6/15. Loss (Train/Test): 1.471/1.599. Accuracy (Train/Test): 0.421/0.387\n",
            "Epoch: 7/15. Loss (Train/Test): 1.429/1.563. Accuracy (Train/Test): 0.430/0.393\n",
            "Epoch: 8/15. Loss (Train/Test): 1.385/1.541. Accuracy (Train/Test): 0.448/0.403\n",
            "Epoch: 9/15. Loss (Train/Test): 1.368/1.544. Accuracy (Train/Test): 0.456/0.402\n",
            "Epoch: 10/15. Loss (Train/Test): 1.342/1.530. Accuracy (Train/Test): 0.465/0.407\n",
            "Epoch: 11/15. Loss (Train/Test): 1.336/1.556. Accuracy (Train/Test): 0.464/0.404\n",
            "Epoch: 12/15. Loss (Train/Test): 1.308/1.536. Accuracy (Train/Test): 0.476/0.411\n",
            "Epoch: 13/15. Loss (Train/Test): 1.278/1.544. Accuracy (Train/Test): 0.485/0.413\n",
            "Epoch: 14/15. Loss (Train/Test): 1.272/1.547. Accuracy (Train/Test): 0.485/0.411\n",
            "Epoch: 15/15. Loss (Train/Test): 1.238/1.541. Accuracy (Train/Test): 0.506/0.410\n"
          ]
        }
      ]
    },
    {
      "cell_type": "markdown",
      "source": [
        "И качество и лосс схожи с предыдущими моделями при использовании дропаута. Переобучения нет."
      ],
      "metadata": {
        "id": "ybRNTL4pFG7Q"
      }
    },
    {
      "cell_type": "code",
      "source": [
        "print('Время работы RNNLayer с дропаутом - ', RNNLayer_DO_time)\n",
        "print('Время работы Zoneout с дропаутом - ', Zoneout_DO_time)"
      ],
      "metadata": {
        "colab": {
          "base_uri": "https://localhost:8080/"
        },
        "id": "xsLX7QDgFO_d",
        "outputId": "3c8e52ae-09e2-4845-856e-cb45290f406b"
      },
      "execution_count": null,
      "outputs": [
        {
          "output_type": "stream",
          "name": "stdout",
          "text": [
            "Время работы RNNLayer с дропаутом -  763.9747695922852\n",
            "Время работы Zoneout с дропаутом -  1222.434707403183\n"
          ]
        }
      ]
    },
    {
      "cell_type": "markdown",
      "source": [
        "Время работы по сравнению с RNNLayer увеличилось, и это ожидаемо, так как маска должна быть разная во все моменты времени."
      ],
      "metadata": {
        "id": "EBcGGfHAFder"
      }
    },
    {
      "cell_type": "markdown",
      "metadata": {
        "ExecuteTime": {
          "end_time": "2021-03-31T16:05:00.702763Z",
          "start_time": "2021-03-31T16:05:00.674835Z"
        },
        "id": "6D3UQXy6rYQa"
      },
      "source": [
        "# Часть 2. Language Modeling с помощью LSTM. (3 балла)"
      ]
    },
    {
      "cell_type": "markdown",
      "metadata": {
        "id": "IZZo7K6UrYQa"
      },
      "source": [
        "Во второй части мы попробуем обучить модель для генерации отзывов по их началу."
      ]
    },
    {
      "cell_type": "markdown",
      "metadata": {
        "id": "4BSJ69OKrYQa"
      },
      "source": [
        "Концептуально модель будет выглядеть следующим образом:\n",
        "    \n",
        "![image info](https://blog.feedly.com/wp-content/uploads/2019/03/Screen-Shot-2019-03-06-at-12.08.35-PM.png)"
      ]
    },
    {
      "cell_type": "markdown",
      "metadata": {
        "id": "TSCPkUa6rYQa"
      },
      "source": [
        "В процессе обучения будем тренировать сеть предсказывать вероятность следующего символа при условии всех предыдущих. Эту вероятность можно моделировать с помощью скрытого состояния $h^{(t)}$ пропуская его через линейный слой с выходной размерностью равной размерности словаря:\n",
        "$$\n",
        "p(x^{t}|x^{t-1}, ..., x^{1}) = SoftMax(Linear(h^{(t)}))\n",
        "$$"
      ]
    },
    {
      "cell_type": "markdown",
      "metadata": {
        "id": "AbnTiOFDrYQb"
      },
      "source": [
        "Обратите внимание, что для вычисления $p(x^{t}|x^{t-1}, ..., x^{1})$ для всех моментов времени достаточно сделать один проход по RNN, а затем применить линейное преобразование ко всем скрытым состояниям."
      ]
    },
    {
      "cell_type": "markdown",
      "metadata": {
        "ExecuteTime": {
          "end_time": "2021-04-02T00:37:56.100520Z",
          "start_time": "2021-04-02T00:37:56.072747Z"
        },
        "id": "RL2KRJS1rYQb"
      },
      "source": [
        "В качестве функции потерь необходимо использовать `CrossEntropy`."
      ]
    },
    {
      "cell_type": "markdown",
      "metadata": {
        "id": "W-37dvhorYQb"
      },
      "source": [
        "Рассмотрим другой важный момент. Для того, чтобы решить данную задачу, модель должна уметь определять момент начала генерации предложения и оповещать о завершении генерации -- конце предложения. Для этого добавим в словарь вспомогательные токены `<sos>`, `<eos>`. Добавив `<sos>` в начало каждого предложения и `<eos>` в конец.\n",
        "\n",
        "Модель сможет начинать генерацию как только ей будет передан токен `<sos>` и заканчивать генерацию, как только на очередном месте самым вероятным токеном оказывается `<eos>`."
      ]
    },
    {
      "cell_type": "markdown",
      "metadata": {
        "id": "IZcYOpg-rYQb"
      },
      "source": [
        "Для решения этой задачи мы воспользуемся уже реализованной LSTM с дропаутом `FastRNNLayer` и классом `RNNClassifier`, то есть архитектура сети принципиально не поменяется. "
      ]
    },
    {
      "cell_type": "markdown",
      "metadata": {
        "id": "Ys0USnt9rYQb"
      },
      "source": [
        "## Реализация модели и цикла обучения (1 балл)"
      ]
    },
    {
      "cell_type": "markdown",
      "metadata": {
        "id": "BvoGMG8erYQc"
      },
      "source": [
        "**Не используйте циклы в `RNNLM`, `LMCrossEntropyLoss`, `LMAccuracy`**"
      ]
    },
    {
      "cell_type": "code",
      "execution_count": 20,
      "metadata": {
        "ExecuteTime": {
          "end_time": "2021-04-02T02:07:02.815198Z",
          "start_time": "2021-04-02T02:07:02.787445Z"
        },
        "id": "qdiL0eYJrYQc"
      },
      "outputs": [],
      "source": [
        "class RNNLM(RNNClassifier):\n",
        "    def __init__(\n",
        "        self, embedding_dim, hidden_dim, vocab, dropout=0.5, layers_dropout=0.5, num_layers=1\n",
        "    ):\n",
        "        super().__init__(\n",
        "            embedding_dim=embedding_dim, hidden_dim=hidden_dim, output_size=len(vocab), vocab=vocab,\n",
        "            rec_layer=FastRNNLayer, dropout=dropout, layers_dropout=layers_dropout, num_layers=num_layers\n",
        "        )\n",
        "    \n",
        "    def forward(self, tokens, tokens_lens):\n",
        "        \"\"\"\n",
        "        :param torch.tensor(dtype=torch.long) tokens: Batch of texts represented with tokens. Shape: [T, B]\n",
        "        :param torch.tensor(dtype=torch.long) tokens_lens: Number of non-padding tokens for each object in batch. Shape: [B]\n",
        "        :return torch.tensor: Distribution of next token for each time step. Shape: [T, B, V], V -- size of vocabulary\n",
        "        \"\"\"\n",
        "        # Make embeddings for all tokens\n",
        "        embeddings = self.word_embeddings(tokens)\n",
        "        \n",
        "        # Forward pass embeddings through network\n",
        "        rnn_output = self.rnn(embeddings)[0]\n",
        "        \n",
        "        # Take all hidden states from the last layer of LSTM for each step and perform linear transformation\n",
        "        output = self.output(rnn_output)\n",
        "        return output"
      ]
    },
    {
      "cell_type": "markdown",
      "metadata": {
        "id": "3xEJJItBrYQc"
      },
      "source": [
        "Реализуем функцию потерь для данной задачи. \n",
        "\n",
        "Моменты на которые нужно обратить внимание:\n",
        "1. Распределение вероятности следующего токена для последнего токена в последовательности не участвует в подсчёте функции потерь.\n",
        "2. Необходимо учитывать, что в одном батче могут быть тексты разной длины."
      ]
    },
    {
      "cell_type": "markdown",
      "metadata": {
        "id": "WWYa49WCrYQd"
      },
      "source": [
        "Для решения второй проблемы можно воспользоваться функцией `torch.nn.utils.rnn.pack_padded_sequence`. \n",
        "\n",
        "Принимая на вход батч тензоров и длину каждого тензора без учёта паддинга эта функция позволяет получить все элементы в тензорах, которые не относятся к паддингу в виде плоского массива:"
      ]
    },
    {
      "cell_type": "code",
      "execution_count": null,
      "metadata": {
        "ExecuteTime": {
          "end_time": "2021-04-02T00:54:40.004897Z",
          "start_time": "2021-04-02T00:54:39.977287Z"
        },
        "id": "moPikbeDrYQd"
      },
      "outputs": [],
      "source": [
        "padded_tensors = torch.tensor([\n",
        "    [[1, 11, 111], [2, 22, 222], [3, 33, 333]],\n",
        "    [[4, 44, 444], [5, 55, 555], [6, 66, 666]],\n",
        "    [[7, 77, 777], [0, 0, 0], [8, 88, 888]],\n",
        "    [[9, 99, 999], [0, 0, 0], [0, 0, 0]]\n",
        "])\n",
        "tensors_lens = torch.tensor([4, 2, 3])"
      ]
    },
    {
      "cell_type": "markdown",
      "metadata": {
        "id": "KS3xpAKErYQd"
      },
      "source": [
        "Обратите внимание, что `torch.nn.utils.rnn.pack_padded_sequence` автоматически переупорядочивает тензоры в батче по убыванию их длины."
      ]
    },
    {
      "cell_type": "code",
      "execution_count": null,
      "metadata": {
        "ExecuteTime": {
          "end_time": "2021-04-02T00:54:24.517023Z",
          "start_time": "2021-04-02T00:54:24.490588Z"
        },
        "id": "GLsDbw63rYQd",
        "outputId": "7430209d-9c7f-4372-9175-9361cb1f1d67",
        "colab": {
          "base_uri": "https://localhost:8080/"
        }
      },
      "outputs": [
        {
          "output_type": "execute_result",
          "data": {
            "text/plain": [
              "PackedSequence(data=tensor([[  1,  11, 111],\n",
              "        [  3,  33, 333],\n",
              "        [  2,  22, 222],\n",
              "        [  4,  44, 444],\n",
              "        [  6,  66, 666],\n",
              "        [  5,  55, 555],\n",
              "        [  7,  77, 777],\n",
              "        [  8,  88, 888],\n",
              "        [  9,  99, 999]]), batch_sizes=tensor([3, 3, 2, 1]), sorted_indices=tensor([0, 2, 1]), unsorted_indices=tensor([0, 2, 1]))"
            ]
          },
          "metadata": {},
          "execution_count": 104
        }
      ],
      "source": [
        "torch.nn.utils.rnn.pack_padded_sequence(padded_tensors, tensors_lens, batch_first=False, enforce_sorted=False)"
      ]
    },
    {
      "cell_type": "code",
      "execution_count": 22,
      "metadata": {
        "ExecuteTime": {
          "end_time": "2021-04-02T02:07:06.289671Z",
          "start_time": "2021-04-02T02:07:06.262883Z"
        },
        "id": "zVod6H7YrYQd"
      },
      "outputs": [],
      "source": [
        "class LMCrossEntropyLoss(torch.nn.CrossEntropyLoss):\n",
        "    def __init__(self, *args, **kwargs):\n",
        "        super().__init__(*args, **kwargs)\n",
        "        \n",
        "    def forward(self, outputs, tokens, tokens_lens):\n",
        "        \"\"\"\n",
        "        :param torch.tensor outputs: Output from RNNLM.forward. Shape: [T, B, V]\n",
        "        :param torch.tensor tokens: Batch of tokens. Shape: [T, B]\n",
        "        :param torch.tensor tokens_lens: Length of each sequence in batch\n",
        "        :return torch.tensor: CrossEntropyLoss between corresponding logits and tokens\n",
        "        \"\"\"\n",
        "        # Use torch.nn.utils.rnn.pack_padded_sequence().data to remove padding and flatten logits and tokens\n",
        "        # Do not forget specify enforce_sorted=False and correct value of batch_first \n",
        "        packed_outputs = torch.nn.utils.rnn.pack_padded_sequence(outputs, tokens_lens.cpu(), batch_first=False, enforce_sorted=False).data\n",
        "        packed_tokens = torch.nn.utils.rnn.pack_padded_sequence(tokens[1:], tokens_lens.cpu(), batch_first=False, enforce_sorted=False).data\n",
        "        \n",
        "        # Use super().forward(..., ...) to compute CrossEntropyLoss\n",
        "        loss = super().forward(packed_outputs, packed_tokens)\n",
        "        return loss"
      ]
    },
    {
      "cell_type": "markdown",
      "metadata": {
        "id": "BThA8mNTrYQd"
      },
      "source": [
        "Для оценки качества нам также необходимо вычислять долю правильно предсказанных токенов. Реализуйте класс для вычисления точности."
      ]
    },
    {
      "cell_type": "code",
      "execution_count": 23,
      "metadata": {
        "ExecuteTime": {
          "end_time": "2021-04-02T02:07:07.335981Z",
          "start_time": "2021-04-02T02:07:07.309586Z"
        },
        "id": "RvAOK6BYrYQd"
      },
      "outputs": [],
      "source": [
        "class LMAccuracy(torch.nn.Module):\n",
        "    def __init__(self):\n",
        "        super().__init__()\n",
        "        \n",
        "    def forward(self, outputs, tokens, tokens_lens):\n",
        "        \"\"\"\n",
        "        :param torch.tensor outputs: Output from RNNLM.forward. Shape: [T, B, V]\n",
        "        :param torch.tensor tokens: Batch of tokens. Shape: [T, B]\n",
        "        :param torch.tensor tokens_lens: Length of each sequence in batch\n",
        "        :return torch.tensor: Accuracy for given logits and tokens\n",
        "        \"\"\"\n",
        "        # Use torch.nn.utils.rnn.pack_padded_sequence().data to remove padding and flatten logits and tokens\n",
        "        # Do not forget specify enforce_sorted=False and correct value of batch_first \n",
        "        packed_outputs = torch.nn.utils.rnn.pack_padded_sequence(outputs, tokens_lens.cpu(), batch_first=False, enforce_sorted=False).data\n",
        "        packed_tokens = torch.nn.utils.rnn.pack_padded_sequence(tokens[1:], tokens_lens.cpu(), batch_first=False, enforce_sorted=False).data\n",
        "        \n",
        "        return torch.sum(torch.argmax(packed_outputs, dim=1) == packed_tokens)"
      ]
    },
    {
      "cell_type": "markdown",
      "metadata": {
        "id": "ev_pCS8qrYQe"
      },
      "source": [
        "Модифицируйте функции `train_epoch`, `evaluate`, `train` для обучения LM.\n",
        "\n",
        "**При вычислении точности, обратите внимание на то, что мы не предсказываем первый токен в каждой последовательности и токены, относящиеся к паддингу.**"
      ]
    },
    {
      "cell_type": "code",
      "execution_count": 42,
      "metadata": {
        "ExecuteTime": {
          "end_time": "2021-04-02T02:07:31.492984Z",
          "start_time": "2021-04-02T02:07:31.459655Z"
        },
        "id": "jAS5QB8QrYQe"
      },
      "outputs": [],
      "source": [
        "def train_epoch_lm(dataloader, model, loss_fn, optimizer, device):\n",
        "    model.train()\n",
        "    for idx, data in enumerate(dataloader):\n",
        "        # 1. Take data from batch\n",
        "        tokens = data['tokens'].to(device)\n",
        "        tokens_lens = data['tokens_lens'].to(device)\n",
        "        # 2. Perform forward pass\n",
        "        model.zero_grad()\n",
        "        outputs = model(tokens, tokens_lens)\n",
        "        # 3. Evaluate loss\n",
        "        loss = loss_fn(outputs, tokens, tokens_lens+1)\n",
        "        loss.backward()\n",
        "        # 4. Make optimizer step\n",
        "        optimizer.step()\n",
        "    \n",
        "def evaluate_lm(dataloader, model, loss_fn, device):\n",
        "    model.eval()\n",
        "    \n",
        "    total_tokens = 0\n",
        "    total_loss = 0.0\n",
        "    total_accuracy = 0.0\n",
        "    \n",
        "    accuracy_fn = LMAccuracy()\n",
        "    with torch.no_grad():\n",
        "        for idx, data in enumerate(dataloader):\n",
        "            # 1. Take data from batch\n",
        "            tokens = data['tokens'].to(device)\n",
        "            tokens_lens = data['tokens_lens'].to(device)\n",
        "            n = torch.sum(tokens_lens+1).item()\n",
        "            # 2. Perform forward pass\n",
        "            outputs = model(tokens, tokens_lens)\n",
        "            # 3. Evaluate loss\n",
        "            loss = loss_fn(outputs, tokens, tokens_lens+1)\n",
        "            total_loss += loss.item() * n\n",
        "            # 4. Evaluate accuracy\n",
        "            accuracy = accuracy_fn(outputs, tokens, tokens_lens+1)\n",
        "            total_accuracy += accuracy.item()\n",
        "            \n",
        "            total_tokens += n\n",
        "\n",
        "    return total_loss / total_tokens, total_accuracy / total_tokens\n",
        "\n",
        "def train_lm(\n",
        "    train_loader, test_loader, model, loss_fn, optimizer, device, num_epochs\n",
        "):\n",
        "    test_losses = []\n",
        "    train_losses = []\n",
        "    test_accuracies = []\n",
        "    train_accuracies = []\n",
        "    for epoch in range(num_epochs):\n",
        "        train_epoch_lm(train_loader, model, loss_fn, optimizer, device)\n",
        "        \n",
        "        train_loss, train_acc = evaluate_lm(train_loader, model, loss_fn, device)\n",
        "        train_accuracies.append(train_acc)\n",
        "        train_losses.append(train_loss)\n",
        "        \n",
        "        test_loss, test_acc = evaluate_lm(test_loader, model, loss_fn, device)\n",
        "        test_accuracies.append(test_acc)\n",
        "        test_losses.append(test_loss)\n",
        "        \n",
        "        print(\n",
        "            'Epoch: {0:d}/{1:d}. Loss (Train/Test): {2:.3f}/{3:.3f}. Accuracy (Train/Test): {4:.3f}/{5:.3f}'.format(\n",
        "                epoch + 1, num_epochs, train_losses[-1], test_losses[-1], train_accuracies[-1], test_accuracies[-1]\n",
        "            )\n",
        "        )\n",
        "    return train_losses, train_accuracies, test_losses, test_accuracies"
      ]
    },
    {
      "cell_type": "markdown",
      "metadata": {
        "id": "xRZl2ax4rYQe"
      },
      "source": [
        "Теперь у нас всё готово для обучения модели."
      ]
    },
    {
      "cell_type": "markdown",
      "metadata": {
        "ExecuteTime": {
          "end_time": "2021-04-02T01:06:12.736180Z",
          "start_time": "2021-04-02T01:06:12.708814Z"
        },
        "id": "acTYXnXDrYQe"
      },
      "source": [
        "Создадим словарь с `<sos>`, `<eos>` токенами.\n",
        "\n",
        "Обратите внимание, что в отличие от классификации текстов нам необходимо значительно увеличить размер словаря, чтобы доля `<unk>` токенов была не велика.\n",
        "\n",
        "Так же, так как задача генерации значительно сложнее задачи классификации текстов будем обучать модель только на префиксах рецензий длины $20$. Это позволяет значительно ускорить обучение."
      ]
    },
    {
      "cell_type": "code",
      "execution_count": 25,
      "metadata": {
        "ExecuteTime": {
          "end_time": "2021-04-02T00:06:20.093645Z",
          "start_time": "2021-04-02T00:06:19.926668Z"
        },
        "id": "_Y5D-mFxrYQe"
      },
      "outputs": [],
      "source": [
        "specials = ['<pad>', '<unk>', '<sos>', '<eos>']\n",
        "for special in specials:\n",
        "    counter[special] = 0\n",
        "# lm_vocab = torchtext.vocab.Vocab(counter, specials=specials, specials_first=True, max_size=30000)\n",
        "lm_vocab = torchtext.vocab.vocab(counter, min_freq=9)"
      ]
    },
    {
      "cell_type": "code",
      "source": [
        "len(lm_vocab)"
      ],
      "metadata": {
        "colab": {
          "base_uri": "https://localhost:8080/"
        },
        "id": "GVGGyjJiOOyU",
        "outputId": "6425dbf3-b974-4056-f6ad-0b9d3de6d1f8"
      },
      "execution_count": 26,
      "outputs": [
        {
          "output_type": "execute_result",
          "data": {
            "text/plain": [
              "31145"
            ]
          },
          "metadata": {},
          "execution_count": 26
        }
      ]
    },
    {
      "cell_type": "code",
      "source": [
        "lm_vocab.insert_token('<pad>', 0)\n",
        "lm_vocab.insert_token('<unk>', 1)\n",
        "lm_vocab.insert_token('<sos>', 2)\n",
        "lm_vocab.insert_token('<eos>', 3)"
      ],
      "metadata": {
        "id": "uj-tsq9fOodR"
      },
      "execution_count": 27,
      "outputs": []
    },
    {
      "cell_type": "code",
      "source": [
        "lm_vocab.set_default_index(lm_vocab['<unk>'])"
      ],
      "metadata": {
        "id": "rsL9-VG2OnNr"
      },
      "execution_count": 28,
      "outputs": []
    },
    {
      "cell_type": "code",
      "execution_count": 29,
      "metadata": {
        "ExecuteTime": {
          "end_time": "2021-04-02T00:06:58.566893Z",
          "start_time": "2021-04-02T00:06:21.430692Z"
        },
        "id": "ylhWqO7arYQe"
      },
      "outputs": [],
      "source": [
        "lm_test_dataset = LargeMovieReviewDataset(test_data_path, lm_vocab, max_len=20, pad_sos=True, pad_eos=True)\n",
        "lm_train_dataset = LargeMovieReviewDataset(train_data_path, lm_vocab, max_len=20, pad_sos=True, pad_eos=True)"
      ]
    },
    {
      "cell_type": "markdown",
      "metadata": {
        "id": "laZ_6mcFrYQf"
      },
      "source": [
        "Создадим даталоадеры для тестовой и обучающей выборок:"
      ]
    },
    {
      "cell_type": "code",
      "execution_count": 30,
      "metadata": {
        "ExecuteTime": {
          "end_time": "2021-04-02T12:29:16.213723Z",
          "start_time": "2021-04-02T12:29:16.186954Z"
        },
        "id": "O_rIAVPBrYQf"
      },
      "outputs": [],
      "source": [
        "lm_test_dataloader = DataLoader(\n",
        "    lm_test_dataset, batch_size=96, shuffle=False, num_workers=0, # здесь num_worker = 0 вместо 3\n",
        "    collate_fn=partial(collate_fn, padding_value=lm_vocab.lookup_indices(['<pad>'])[0])\n",
        ")\n",
        "lm_train_dataloader = DataLoader(\n",
        "    lm_train_dataset, batch_size=96, shuffle=True, num_workers=0, # здесь num_worker = 0 вместо 3\n",
        "    collate_fn=partial(collate_fn, padding_value=lm_vocab.lookup_indices(['<pad>'])[0])\n",
        ")"
      ]
    },
    {
      "cell_type": "markdown",
      "metadata": {
        "id": "rA3l_kwIrYQf"
      },
      "source": [
        "Убедитесь, что все предложения имеют в начале `<sos>` токен, а в конце -- `<eos>` токен."
      ]
    },
    {
      "cell_type": "code",
      "source": [
        "batch = next(iter(lm_train_dataloader))\n",
        "batch['tokens'], batch['tokens_lens']"
      ],
      "metadata": {
        "colab": {
          "base_uri": "https://localhost:8080/"
        },
        "id": "95603r1NPRA8",
        "outputId": "6a1d1ad3-b291-4820-ba0d-2a8392145db9"
      },
      "execution_count": null,
      "outputs": [
        {
          "output_type": "execute_result",
          "data": {
            "text/plain": [
              "(tensor([[    2,     2,     2,  ...,     2,     2,     2],\n",
              "         [ 4125,   488,  1500,  ...,  1190,  2845,   229],\n",
              "         [ 9485,     1,   386,  ...,   700,   488,  6458],\n",
              "         ...,\n",
              "         [ 2160,   123,   391,  ..., 14357,    85,     1],\n",
              "         [10226,   721,  3305,  ...,   693,  4601,  1077],\n",
              "         [    3,     3,     3,  ...,     3,     3,     3]]),\n",
              " tensor([20, 20, 20, 20, 20, 20, 20, 20, 20, 20, 20, 20, 20, 20, 20, 20, 20, 20,\n",
              "         20, 20, 20, 20, 20, 20, 20, 20, 20, 20, 20, 20, 20, 20, 20, 20, 20, 20,\n",
              "         20, 20, 20, 20, 20, 20, 20, 20, 20, 20, 20, 20, 20, 20, 20, 20, 20, 20,\n",
              "         20, 20, 20, 20, 20, 20, 20, 20, 20, 20, 20, 20, 20, 20, 20, 16, 20, 20,\n",
              "         20, 20, 20, 20, 14, 20, 20, 20, 20, 20, 20, 20, 20, 20, 20, 20, 20, 20,\n",
              "         20, 20, 20, 20, 20, 20]))"
            ]
          },
          "metadata": {},
          "execution_count": 205
        }
      ]
    },
    {
      "cell_type": "markdown",
      "metadata": {
        "id": "uBZP-AqirYQi"
      },
      "source": [
        "Создадим модель, функцию потерь и оптимизатор: "
      ]
    },
    {
      "cell_type": "code",
      "execution_count": 43,
      "metadata": {
        "ExecuteTime": {
          "end_time": "2021-04-02T14:15:32.916424Z",
          "start_time": "2021-04-02T14:15:32.525452Z"
        },
        "id": "irwkU76yrYQi"
      },
      "outputs": [],
      "source": [
        "lm_model = RNNLM(\n",
        "    embedding_dim=512, hidden_dim=512, vocab=lm_vocab, dropout=0.6, layers_dropout=0.6, num_layers=2\n",
        ").to(device=device)"
      ]
    },
    {
      "cell_type": "code",
      "execution_count": 44,
      "metadata": {
        "ExecuteTime": {
          "end_time": "2021-04-02T14:15:33.332806Z",
          "start_time": "2021-04-02T14:15:33.307749Z"
        },
        "id": "cbAYUb-WrYQj"
      },
      "outputs": [],
      "source": [
        "lm_loss_fn = LMCrossEntropyLoss(reduction='mean')\n",
        "lm_optimizer = torch.optim.Adam(lm_model.parameters(), lr=0.005, weight_decay=1.2e-6)"
      ]
    },
    {
      "cell_type": "markdown",
      "metadata": {
        "id": "gvHnk2-nrYQj"
      },
      "source": [
        "Обучим модель:"
      ]
    },
    {
      "cell_type": "code",
      "execution_count": 45,
      "metadata": {
        "ExecuteTime": {
          "end_time": "2021-04-02T14:20:33.447251Z",
          "start_time": "2021-04-02T14:15:33.797444Z"
        },
        "scrolled": true,
        "id": "Hbdz7eiorYQj",
        "outputId": "bd6c3c76-ae6a-4281-995e-dc620ac5d3c6",
        "colab": {
          "base_uri": "https://localhost:8080/"
        }
      },
      "outputs": [
        {
          "output_type": "stream",
          "name": "stdout",
          "text": [
            "Epoch: 1/10. Loss (Train/Test): 7.525/7.650. Accuracy (Train/Test): 0.081/0.081\n",
            "Epoch: 2/10. Loss (Train/Test): 7.302/7.505. Accuracy (Train/Test): 0.090/0.090\n",
            "Epoch: 3/10. Loss (Train/Test): 7.069/7.376. Accuracy (Train/Test): 0.100/0.099\n",
            "Epoch: 4/10. Loss (Train/Test): 6.854/7.295. Accuracy (Train/Test): 0.102/0.101\n",
            "Epoch: 5/10. Loss (Train/Test): 6.650/7.248. Accuracy (Train/Test): 0.109/0.105\n",
            "Epoch: 6/10. Loss (Train/Test): 6.496/7.260. Accuracy (Train/Test): 0.113/0.107\n",
            "Epoch: 7/10. Loss (Train/Test): 6.305/7.254. Accuracy (Train/Test): 0.117/0.109\n",
            "Epoch: 8/10. Loss (Train/Test): 6.157/7.266. Accuracy (Train/Test): 0.121/0.110\n",
            "Epoch: 9/10. Loss (Train/Test): 6.005/7.296. Accuracy (Train/Test): 0.125/0.111\n",
            "Epoch: 10/10. Loss (Train/Test): 5.858/7.316. Accuracy (Train/Test): 0.130/0.111\n"
          ]
        }
      ],
      "source": [
        "lm_train_losses, lm_train_accuracies, lm_test_losses, lm_test_accuracies = train_lm(\n",
        "    lm_train_dataloader, lm_test_dataloader, lm_model, lm_loss_fn, lm_optimizer, device, 10\n",
        ")"
      ]
    },
    {
      "cell_type": "markdown",
      "metadata": {
        "id": "6hLsSzbWrYQj"
      },
      "source": [
        "## Реализация декодера. (2 балла)"
      ]
    },
    {
      "cell_type": "markdown",
      "metadata": {
        "id": "nss_VVFcrYQk"
      },
      "source": [
        "Теперь, реализуем последнюю деталь -- декодирование с использованием обученной модели.\n",
        "Есть несколько вариантов. Рассмотрим два самых простых:\n",
        "1. **Жадное декодирование.** На каждом шаге мы выбираем токен с максимальной вероятностью и используем его для обновления скрытого состояния RNN.\n",
        "2. **Top-k sampling.** На очередном шаге рассматриваются $k$ токенов с самыми большими вероятностями. Остальные токены игнорируются. Из выбранных токенов семплируется следующий токен пропорционально их вероятностям.\n",
        "\n",
        "Прочитать подробнее про разные варианты декодирования можно по ссылкам:\n",
        "1. [От huggingface](https://huggingface.co/blog/how-to-generate)\n",
        "2. [На towardsdatascience](https://towardsdatascience.com/decoding-strategies-that-you-need-to-know-for-response-generation-ba95ee0faadc)"
      ]
    },
    {
      "cell_type": "markdown",
      "metadata": {
        "id": "p-ECTP8brYQk"
      },
      "source": [
        "Существенным в процессе декодирования является критерий останова. Как только очередной самый вероятный символ оказался `<eos>`, то данная последовательность считается сгенерированной. Однако, может так оказаться, что `<eos>` никогда не будет выбран, тогда необходимо прекратить генерацию, как только длина последовательности перейдёт порог `max_generated_len`."
      ]
    },
    {
      "cell_type": "code",
      "execution_count": null,
      "metadata": {
        "ExecuteTime": {
          "end_time": "2021-04-02T14:28:21.578336Z",
          "start_time": "2021-04-02T14:28:21.547183Z"
        },
        "id": "_7MEBRJLrYQk"
      },
      "outputs": [],
      "source": [
        "def decode(model, start_tokens, start_tokens_lens, max_generated_len=20, top_k=None):\n",
        "    \"\"\"\n",
        "    :param RNNLM model: Model\n",
        "    :param torch.tensor start_tokens: Batch of seed tokens. Shape: [T, B]\n",
        "    :param torch.tensor start_tokens_lens: Length of each sequence in batch. Shape: [B]\n",
        "    :return Tuple[torch.tensor, torch.tensor]. Newly predicted tokens and length of generated part. Shape [T*, B], [B]\n",
        "    \"\"\"\n",
        "    # Get embedding for start_tokens\n",
        "    # YOUR CODE HERE\n",
        "    embedding = None\n",
        "    \n",
        "    # Pass embedding through rnn and collect hidden states and cell states for each time moment\n",
        "    all_h, all_c = [], []\n",
        "    h = embedding.new_zeros([model.rnn.num_layers, start_tokens.shape[1], model.hidden_dim])\n",
        "    c = embedding.new_zeros([model.rnn.num_layers, start_tokens.shape[1], model.hidden_dim])\n",
        "    for time_step in range(start_tokens.shape[0]):\n",
        "        # YOUR CODE HERE\n",
        "        pass\n",
        "    \n",
        "    all_h = torch.stack(all_h, dim=1)\n",
        "    all_c = torch.stack(all_c, dim=1)\n",
        "    # Take final hidden state and cell state for each start sequence in batch\n",
        "    # We will use them as h_0, c_0 for generation new tokens\n",
        "    h = all_h[:, start_tokens_lens - 1, torch.arange(start_tokens_lens.shape[0])]\n",
        "    c = all_c[:, start_tokens_lens - 1, torch.arange(start_tokens_lens.shape[0])]\n",
        "    \n",
        "    # List of predicted tokens for each time step\n",
        "    predicted_tokens = []\n",
        "    # Length of generated part for each object in the batch\n",
        "    decoded_lens = torch.zeros_like(start_tokens_lens, dtype=torch.long)\n",
        "    # Boolean mask where we store if the sequence has already generated\n",
        "    # i.e. `<eos>` was selected on any step\n",
        "    is_finished_decoding = torch.zeros_like(start_tokens_lens, dtype=torch.bool)\n",
        "    \n",
        "    # Stop when all sequences in the batch are finished\n",
        "    while not torch.all(is_finished_decoding) and torch.max(decoded_lens) < max_generated_len:\n",
        "        # Evaluate next token distribution using hidden state h.\n",
        "        # Note. Over first dimension h has hidden states for each layer of LSTM.\n",
        "        #     We must use hidden state from the last layer\n",
        "        # YOUR CODE HERE\n",
        "        logits = None\n",
        "        \n",
        "        if top_k is not None:\n",
        "            # Top-k sampling. Use only top-k most probable logits to sample next token\n",
        "            indices_to_remove = logits < torch.topk(logits, top_k)[0][..., -1, None]\n",
        "            # Mask non top-k logits\n",
        "            logits[indices_to_remove] = -1e10\n",
        "            # Sample next_token. \n",
        "            # YOUR CODE HERE\n",
        "            next_token = None\n",
        "        else:\n",
        "            # Select most probable token\n",
        "            # YOUR CODE HERE\n",
        "            next_token = None\n",
        "            \n",
        "        predicted_tokens.append(next_token)\n",
        "        \n",
        "        decoded_lens += (~is_finished_decoding)\n",
        "        is_finished_decoding |= (next_token == torch.tensor(model.vocab.lookup_indices(['<eos>'])[0]))\n",
        "\n",
        "        # Evaluate embedding for next token\n",
        "        # YOUR CODE HERE\n",
        "\n",
        "        # Update hidden and cell states\n",
        "        # YOUR CODE HERE\n",
        "\n",
        "    return torch.stack(predicted_tokens), decoded_lens"
      ]
    },
    {
      "cell_type": "markdown",
      "metadata": {
        "ExecuteTime": {
          "end_time": "2021-04-02T01:38:06.232189Z",
          "start_time": "2021-04-02T01:38:06.205413Z"
        },
        "id": "RvYhZQ74rYQk"
      },
      "source": [
        "Попробуем сгенерировать продолжения для нескольких префиксов:"
      ]
    },
    {
      "cell_type": "code",
      "execution_count": null,
      "metadata": {
        "ExecuteTime": {
          "end_time": "2021-04-02T14:28:22.568613Z",
          "start_time": "2021-04-02T14:28:22.545810Z"
        },
        "id": "r03V3b9QrYQk"
      },
      "outputs": [],
      "source": [
        "start_tokens = torch.tensor([\n",
        "    lm_model.vocab.lookup_indices(['<sos>', '<pad>', '<pad>', '<pad>']),\n",
        "    lm_model.vocab.lookup_indices(['<sos>', 'my', 'favorite', 'movie']),\n",
        "    lm_model.vocab.lookup_indices(['<sos>', 'the', 'best', 'movie']),\n",
        "    lm_model.vocab.lookup_indices(['<sos>', 'the', 'worst', 'movie']),\n",
        "]).T\n",
        "\n",
        "start_tokens_lens = torch.tensor([1, 4, 4, 4])"
      ]
    },
    {
      "cell_type": "code",
      "execution_count": null,
      "metadata": {
        "ExecuteTime": {
          "end_time": "2021-04-02T14:28:28.222137Z",
          "start_time": "2021-04-02T14:28:27.930196Z"
        },
        "id": "On5pEo52rYQk"
      },
      "outputs": [],
      "source": [
        "lm_model = lm_model.cpu()\n",
        "lm_model.eval()\n",
        "decoded_tokens, decoded_lens = decode(lm_model, start_tokens, start_tokens_lens, max_generated_len=20, top_k=5)"
      ]
    },
    {
      "cell_type": "code",
      "execution_count": null,
      "metadata": {
        "ExecuteTime": {
          "end_time": "2021-04-02T14:28:28.751380Z",
          "start_time": "2021-04-02T14:28:28.708461Z"
        },
        "id": "yQ4jC03vrYQl",
        "outputId": "5f140c34-bdcc-4e60-93bb-73e2e4e8fec6"
      },
      "outputs": [
        {
          "name": "stdout",
          "output_type": "stream",
          "text": [
            "<sos> first saw movie first time really disappointed really disappointed movie even one funniest films ever seen movie seen life <eos>\n",
            "<sos> <unk> favorite movie ever seen movie really enjoyed first saw movie years ago thought would good movie <eos>\n",
            "<sos> <unk> best movie ever seen movie ever made one thing bad acting bad acting bad effects bad bad script bad script bad acting\n",
            "<sos> <unk> worst movie ever seen life life <unk> one best movies ever seen bad movies bad acting bad acting bad <eos>\n"
          ]
        }
      ],
      "source": [
        "for text_idx in range(start_tokens.shape[1]):\n",
        "    decoded_text_tokens = decoded_tokens[:decoded_lens[text_idx], text_idx]\n",
        "    tokens = start_tokens[:start_tokens_lens[text_idx], text_idx].tolist() + decoded_text_tokens.tolist()\n",
        "    words = np.array(lm_model.vocab.itos)[np.array(tokens)]\n",
        "    print(' '.join(words))"
      ]
    },
    {
      "cell_type": "markdown",
      "metadata": {
        "id": "HMaBY_FFrYQm"
      },
      "source": [
        "Попробуйте выполнить семплирование для разных $k$. Сравните результаты top-k семплирования с жадным декодированием. Опишите ваши наблюдения."
      ]
    },
    {
      "cell_type": "code",
      "execution_count": null,
      "metadata": {
        "ExecuteTime": {
          "end_time": "2021-04-02T17:06:36.404126Z",
          "start_time": "2021-04-02T17:06:36.399654Z"
        },
        "id": "9YsjPnrGrYQn"
      },
      "outputs": [],
      "source": [
        "# YOUR CODE HERE"
      ]
    },
    {
      "cell_type": "markdown",
      "metadata": {
        "id": "Ngb68qKZrYQn"
      },
      "source": [
        "**Ответ:**"
      ]
    },
    {
      "cell_type": "markdown",
      "metadata": {
        "ExecuteTime": {
          "end_time": "2021-04-02T15:04:51.678260Z",
          "start_time": "2021-04-02T15:04:51.673587Z"
        },
        "id": "8TREpVm9rYQn"
      },
      "source": [
        "## Бонус. Cущественное улучшение качества. (до 3 баллов)"
      ]
    },
    {
      "cell_type": "markdown",
      "metadata": {
        "id": "2H7p43-ErYQn"
      },
      "source": [
        "Та модель, которая использовалась в предыдущей части во многом заимствует улучшения LSTM из статьи [Regularizing and Optimizing LSTM Language Models](https://arxiv.org/pdf/1708.02182.pdf). Вы можете попробовать применить другие варианты регуляризации из данной статьи для существенного улучшения качества LM.\n",
        "\n",
        "Например:\n",
        "1. Dropout для эмбеддингов\n",
        "2. Dropout входов и выходов RNN\n",
        "3. Регуляризация активаций (AR/TAR)\n",
        "4. NT-ASGD\n",
        "5. Tied веса эмбеддингов и софтмакса"
      ]
    }
  ],
  "metadata": {
    "kernelspec": {
      "display_name": "Python 3",
      "language": "python",
      "name": "python3"
    },
    "language_info": {
      "codemirror_mode": {
        "name": "ipython",
        "version": 3
      },
      "file_extension": ".py",
      "mimetype": "text/x-python",
      "name": "python",
      "nbconvert_exporter": "python",
      "pygments_lexer": "ipython3",
      "version": "3.7.0"
    },
    "varInspector": {
      "cols": {
        "lenName": 16,
        "lenType": 16,
        "lenVar": 40
      },
      "kernels_config": {
        "python": {
          "delete_cmd_postfix": "",
          "delete_cmd_prefix": "del ",
          "library": "var_list.py",
          "varRefreshCmd": "print(var_dic_list())"
        },
        "r": {
          "delete_cmd_postfix": ") ",
          "delete_cmd_prefix": "rm(",
          "library": "var_list.r",
          "varRefreshCmd": "cat(var_dic_list()) "
        }
      },
      "position": {
        "height": "313px",
        "left": "926px",
        "right": "27px",
        "top": "120px",
        "width": "343px"
      },
      "types_to_exclude": [
        "module",
        "function",
        "builtin_function_or_method",
        "instance",
        "_Feature"
      ],
      "window_display": false
    },
    "colab": {
      "name": "lab_03.ipynb",
      "provenance": [],
      "collapsed_sections": [
        "6hLsSzbWrYQj",
        "8TREpVm9rYQn"
      ]
    },
    "accelerator": "GPU"
  },
  "nbformat": 4,
  "nbformat_minor": 0
}
